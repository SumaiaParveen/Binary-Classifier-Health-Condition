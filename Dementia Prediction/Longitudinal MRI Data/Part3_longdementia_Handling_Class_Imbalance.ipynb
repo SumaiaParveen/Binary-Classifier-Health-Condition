{
 "cells": [
  {
   "cell_type": "markdown",
   "metadata": {},
   "source": [
    "# Part 3: Handling Imbalanced Class"
   ]
  },
  {
   "cell_type": "markdown",
   "metadata": {},
   "source": [
    "## Import Libraries"
   ]
  },
  {
   "cell_type": "code",
   "execution_count": 1,
   "metadata": {},
   "outputs": [
    {
     "name": "stderr",
     "output_type": "stream",
     "text": [
      "\n",
      "Bad key \"text.kerning_factor\" on line 4 in\n",
      "C:\\Users\\sumai\\Anaconda3\\lib\\site-packages\\matplotlib\\mpl-data\\stylelib\\_classic_test_patch.mplstyle.\n",
      "You probably need to get an updated matplotlibrc file from\n",
      "https://github.com/matplotlib/matplotlib/blob/v3.1.3/matplotlibrc.template\n",
      "or from the matplotlib source distribution\n"
     ]
    }
   ],
   "source": [
    "import warnings\n",
    "warnings.filterwarnings('ignore')\n",
    "\n",
    "import pandas as pd\n",
    "import numpy as np\n",
    "import missingno as msno\n",
    "import matplotlib.pyplot as plt\n",
    "import seaborn as sns\n",
    "from scipy import stats\n",
    "from catboost import CatBoostClassifier\n",
    "from sklearn.metrics import f1_score,accuracy_score, precision_score, recall_score, roc_curve, roc_auc_score, precision_recall_curve, auc\n",
    "from sklearn.metrics import accuracy_score, confusion_matrix, classification_report"
   ]
  },
  {
   "cell_type": "markdown",
   "metadata": {},
   "source": [
    "## Load Dataset\n",
    "Please see the link to know more about the dataset: https://www.kaggle.com/jboysen/mri-and-alzheimers"
   ]
  },
  {
   "cell_type": "code",
   "execution_count": 2,
   "metadata": {},
   "outputs": [
    {
     "data": {
      "text/html": [
       "<div>\n",
       "<style scoped>\n",
       "    .dataframe tbody tr th:only-of-type {\n",
       "        vertical-align: middle;\n",
       "    }\n",
       "\n",
       "    .dataframe tbody tr th {\n",
       "        vertical-align: top;\n",
       "    }\n",
       "\n",
       "    .dataframe thead th {\n",
       "        text-align: right;\n",
       "    }\n",
       "</style>\n",
       "<table border=\"1\" class=\"dataframe\">\n",
       "  <thead>\n",
       "    <tr style=\"text-align: right;\">\n",
       "      <th></th>\n",
       "      <th>Visit</th>\n",
       "      <th>Gender</th>\n",
       "      <th>Age</th>\n",
       "      <th>EDUC</th>\n",
       "      <th>SES</th>\n",
       "      <th>MMSE</th>\n",
       "      <th>CDR</th>\n",
       "      <th>eTIV</th>\n",
       "      <th>nWBV</th>\n",
       "      <th>ASF</th>\n",
       "    </tr>\n",
       "  </thead>\n",
       "  <tbody>\n",
       "    <tr>\n",
       "      <th>0</th>\n",
       "      <td>1</td>\n",
       "      <td>2</td>\n",
       "      <td>87</td>\n",
       "      <td>14</td>\n",
       "      <td>2.0</td>\n",
       "      <td>27.0</td>\n",
       "      <td>0</td>\n",
       "      <td>1987</td>\n",
       "      <td>0.696</td>\n",
       "      <td>0.883</td>\n",
       "    </tr>\n",
       "    <tr>\n",
       "      <th>1</th>\n",
       "      <td>2</td>\n",
       "      <td>2</td>\n",
       "      <td>88</td>\n",
       "      <td>14</td>\n",
       "      <td>2.0</td>\n",
       "      <td>30.0</td>\n",
       "      <td>0</td>\n",
       "      <td>2004</td>\n",
       "      <td>0.681</td>\n",
       "      <td>0.876</td>\n",
       "    </tr>\n",
       "    <tr>\n",
       "      <th>2</th>\n",
       "      <td>1</td>\n",
       "      <td>2</td>\n",
       "      <td>75</td>\n",
       "      <td>12</td>\n",
       "      <td>0.0</td>\n",
       "      <td>23.0</td>\n",
       "      <td>1</td>\n",
       "      <td>1678</td>\n",
       "      <td>0.736</td>\n",
       "      <td>1.046</td>\n",
       "    </tr>\n",
       "    <tr>\n",
       "      <th>3</th>\n",
       "      <td>2</td>\n",
       "      <td>2</td>\n",
       "      <td>76</td>\n",
       "      <td>12</td>\n",
       "      <td>0.0</td>\n",
       "      <td>28.0</td>\n",
       "      <td>1</td>\n",
       "      <td>1738</td>\n",
       "      <td>0.713</td>\n",
       "      <td>1.010</td>\n",
       "    </tr>\n",
       "    <tr>\n",
       "      <th>4</th>\n",
       "      <td>3</td>\n",
       "      <td>2</td>\n",
       "      <td>80</td>\n",
       "      <td>12</td>\n",
       "      <td>0.0</td>\n",
       "      <td>22.0</td>\n",
       "      <td>1</td>\n",
       "      <td>1698</td>\n",
       "      <td>0.701</td>\n",
       "      <td>1.034</td>\n",
       "    </tr>\n",
       "  </tbody>\n",
       "</table>\n",
       "</div>"
      ],
      "text/plain": [
       "   Visit  Gender  Age  EDUC  SES  MMSE  CDR  eTIV   nWBV    ASF\n",
       "0      1       2   87    14  2.0  27.0    0  1987  0.696  0.883\n",
       "1      2       2   88    14  2.0  30.0    0  2004  0.681  0.876\n",
       "2      1       2   75    12  0.0  23.0    1  1678  0.736  1.046\n",
       "3      2       2   76    12  0.0  28.0    1  1738  0.713  1.010\n",
       "4      3       2   80    12  0.0  22.0    1  1698  0.701  1.034"
      ]
     },
     "execution_count": 2,
     "metadata": {},
     "output_type": "execute_result"
    }
   ],
   "source": [
    "df = pd.read_csv('preprocessed_oasis_longitudinal.csv')\n",
    "df = df. drop('Unnamed: 0', axis=1)\n",
    "df.head()"
   ]
  },
  {
   "cell_type": "code",
   "execution_count": 3,
   "metadata": {},
   "outputs": [],
   "source": [
    "features = df.columns.to_list()"
   ]
  },
  {
   "cell_type": "markdown",
   "metadata": {},
   "source": [
    "## Split Input and Traget Variables"
   ]
  },
  {
   "cell_type": "code",
   "execution_count": 4,
   "metadata": {},
   "outputs": [],
   "source": [
    "X = df.drop('CDR', axis = 1) \n",
    "y = df['CDR']"
   ]
  },
  {
   "cell_type": "code",
   "execution_count": 5,
   "metadata": {},
   "outputs": [
    {
     "data": {
      "text/plain": [
       "Index(['Visit', 'Gender', 'Age', 'EDUC', 'SES', 'MMSE', 'eTIV', 'nWBV', 'ASF'], dtype='object')"
      ]
     },
     "execution_count": 5,
     "metadata": {},
     "output_type": "execute_result"
    }
   ],
   "source": [
    "X.columns"
   ]
  },
  {
   "cell_type": "markdown",
   "metadata": {},
   "source": [
    "## Train Test Split"
   ]
  },
  {
   "cell_type": "code",
   "execution_count": 6,
   "metadata": {},
   "outputs": [
    {
     "name": "stdout",
     "output_type": "stream",
     "text": [
      "Original shape of dataset: (373, 10)\n",
      "Shape of training dataset: (279, 9)\n",
      "Shape of testing dataset: (94, 9)\n"
     ]
    }
   ],
   "source": [
    "# train_test_split is used to split the dataset into test set and train set\n",
    "from sklearn.model_selection import train_test_split\n",
    "X_train, X_test, y_train, y_test = train_test_split(X, y, test_size=0.25, random_state =0)\n",
    "\n",
    "print(\"Original shape of dataset: {}\".format(df.shape))         # shape of original dataset\n",
    "print(\"Shape of training dataset: {}\".format(X_train.shape))      # shape of training dataset after split\n",
    "print(\"Shape of testing dataset: {}\".format(X_test.shape))        # shape of testing dataset after split"
   ]
  },
  {
   "cell_type": "markdown",
   "metadata": {},
   "source": [
    "### Defining function for later use"
   ]
  },
  {
   "cell_type": "code",
   "execution_count": 7,
   "metadata": {},
   "outputs": [],
   "source": [
    "def macro_weighted(y_test, y_hat):\n",
    "    \n",
    "    rec = recall_score(y_test, y_hat)\n",
    "    print (\"Recall Score:\", round(rec, 4))\n",
    "\n",
    "    rec_mac = recall_score(y_test, y_hat, average = 'macro')\n",
    "    print (\"Macro Average of Recall Score:\", round(rec_mac, 4))\n",
    "\n",
    "    rec_wei = recall_score(y_test, y_hat, average = 'weighted')\n",
    "    print (\"Weighted Average of Recall Score:\", round(rec_wei, 4))\n",
    "    \n",
    "    print ('------------------------------------------------------')\n",
    "    \n",
    "    prec_mac = precision_score(y_test, y_hat, average = 'macro')\n",
    "    print (\"Macro Average of Precision Score:\", round(prec_mac, 4))\n",
    "\n",
    "    prec_wei = precision_score(y_test, y_hat, average = 'weighted')\n",
    "    print (\"Weighted Average of Precision Score:\", round(prec_wei, 4))\n",
    "    \n",
    "    print ('------------------------------------------------------')\n",
    "\n",
    "    f1_mac = f1_score(y_test, y_hat, average = 'macro')\n",
    "    print (\"Macro Average of F1 Score:\", round(f1_mac, 4))\n",
    "\n",
    "    f1_wei = f1_score(y_test, y_hat, average = 'weighted')\n",
    "    print (\"Weighted Average of F1 Score:\", round(f1_wei, 4))"
   ]
  },
  {
   "cell_type": "code",
   "execution_count": 8,
   "metadata": {},
   "outputs": [],
   "source": [
    "def cm():  \n",
    "    \n",
    "        print('---------------------------------------------------------------')\n",
    "        \n",
    "        data = confusion_matrix(y_test, y_hat)\n",
    "        df_cm = pd.DataFrame(data, columns=np.unique(y_test), index = np.unique(y_test))\n",
    "        df_cm.index.name = 'Actual'\n",
    "        df_cm.columns.name = 'Predicted'\n",
    "        plt.figure(figsize = (6, 4))\n",
    "        #sns.set(font_scale=1.4) #for label size\n",
    "        sns.heatmap(df_cm, cmap=\"Blues\", annot=True,annot_kws={\"size\": 12})# font size\n",
    "        plt.show()\n",
    "        \n",
    "        tn, fp, fn, tp = confusion_matrix(y_test, y_hat).ravel()\n",
    "        print (\"TP: {}, FP: {}, TN: {}, FN: {}\".format(tp, fp, tn, fn))"
   ]
  },
  {
   "cell_type": "code",
   "execution_count": 9,
   "metadata": {},
   "outputs": [],
   "source": [
    "def class_rep():\n",
    "        \n",
    "        # Print the precision and recall, among other metrics\n",
    "        print('---------------------------------------------------------------')\n",
    "        print(classification_report(y_test, y_hat, digits=3))"
   ]
  },
  {
   "cell_type": "markdown",
   "metadata": {},
   "source": [
    "### Handling Imbalanced Dataset"
   ]
  },
  {
   "cell_type": "code",
   "execution_count": 10,
   "metadata": {},
   "outputs": [
    {
     "data": {
      "text/plain": [
       "<matplotlib.axes._subplots.AxesSubplot at 0x23e671d6948>"
      ]
     },
     "execution_count": 10,
     "metadata": {},
     "output_type": "execute_result"
    },
    {
     "data": {
      "image/png": "[encoded data removed]",
      "text/plain": [
       "<Figure size 432x288 with 1 Axes>"
      ]
     },
     "metadata": {
      "needs_background": "light"
     },
     "output_type": "display_data"
    }
   ],
   "source": [
    "sns.countplot(df['CDR'], palette = \"Set3\")"
   ]
  },
  {
   "cell_type": "markdown",
   "metadata": {},
   "source": [
    "#### Resampling Techniques - Oversample Minority Class\n",
    "\n",
    "Oversampling can be defined as adding more copies of the minority class. In other words, we are creating artificial/synthetic data of the minority class (or group). Oversampling could be a good choice when you don’t have a lot of data to work with. We will use the resampling module from Scikit-Learn library to randomly create artificial samples of data from the minority class."
   ]
  },
  {
   "cell_type": "code",
   "execution_count": 11,
   "metadata": {},
   "outputs": [
    {
     "name": "stdout",
     "output_type": "stream",
     "text": [
      "Recall Score: 0.7805\n",
      "Macro Average of Recall Score: 0.8336\n",
      "Weighted Average of Recall Score: 0.8404\n",
      "------------------------------------------------------\n",
      "Macro Average of Precision Score: 0.8407\n",
      "Weighted Average of Precision Score: 0.8405\n",
      "------------------------------------------------------\n",
      "Macro Average of F1 Score: 0.8363\n",
      "Weighted Average of F1 Score: 0.8396\n",
      "---------------------------------------------------------------\n"
     ]
    },
    {
     "data": {
      "image/png": "[encoded data removed]",
      "text/plain": [
       "<Figure size 432x288 with 1 Axes>"
      ]
     },
     "metadata": {
      "needs_background": "light"
     },
     "output_type": "display_data"
    },
    {
     "data": {
      "image/png": "[encoded data removed]",
      "text/plain": [
       "<Figure size 432x288 with 2 Axes>"
      ]
     },
     "metadata": {
      "needs_background": "light"
     },
     "output_type": "display_data"
    },
    {
     "name": "stdout",
     "output_type": "stream",
     "text": [
      "TP: 32, FP: 6, TN: 47, FN: 9\n",
      "---------------------------------------------------------------\n",
      "              precision    recall  f1-score   support\n",
      "\n",
      "           0      0.839     0.887     0.862        53\n",
      "           1      0.842     0.780     0.810        41\n",
      "\n",
      "    accuracy                          0.840        94\n",
      "   macro avg      0.841     0.834     0.836        94\n",
      "weighted avg      0.841     0.840     0.840        94\n",
      "\n"
     ]
    }
   ],
   "source": [
    "# 'resample' is located under sklearn.utils\n",
    "from sklearn.utils import resample\n",
    "\n",
    "# concatenate training data back together\n",
    "train_data = pd.concat([X_train, y_train], axis = 1)\n",
    "\n",
    "# separate minority and majority class\n",
    "not_dem = train_data[train_data['CDR']==0]\n",
    "dem = train_data[train_data['CDR']==1]\n",
    "\n",
    "# we are oversampling the minority class to match the number of majority classs\n",
    "dem_oversampled = resample(dem,\n",
    "                           replace = True, # Sample with replacement\n",
    "                           n_samples = len(not_dem), # Match number in majority class\n",
    "                           random_state=27)\n",
    "\n",
    "# combine majority and upsampled minority\n",
    "oversampled = pd.concat([not_dem, dem_oversampled])\n",
    "sns.countplot(oversampled['CDR'], palette = \"Set2\")\n",
    "\n",
    "X_train = oversampled.drop('CDR', axis = 1) \n",
    "y_train = oversampled['CDR']\n",
    "\n",
    "from sklearn.preprocessing import StandardScaler\n",
    "sc = StandardScaler()\n",
    "X_train = sc.fit_transform(X_train)\n",
    "X_test = sc.transform(X_test)\n",
    "\n",
    "model = CatBoostClassifier(logging_level='Silent', random_state = 42)\n",
    "model.fit(X_train, y_train)\n",
    "y_hat = model.predict(X_test)\n",
    "\n",
    "macro_weighted(y_test, y_hat)\n",
    "cm()\n",
    "class_rep()"
   ]
  },
  {
   "cell_type": "markdown",
   "metadata": {},
   "source": [
    "#### Generate Synthetic Samples: SMOTE\n",
    "\n",
    "Here we will use imblearn’s SMOTE or Synthetic Minority Oversampling Technique. SMOTE uses a nearest neighbors algorithm to generate new and synthetic data we can use for training our model. It’s important to generate the new samples only in the training set to ensure our model generalizes well to unseen data."
   ]
  },
  {
   "cell_type": "code",
   "execution_count": 12,
   "metadata": {},
   "outputs": [
    {
     "data": {
      "text/plain": [
       "<matplotlib.axes._subplots.AxesSubplot at 0x23e66fe6248>"
      ]
     },
     "execution_count": 12,
     "metadata": {},
     "output_type": "execute_result"
    },
    {
     "data": {
      "image/png": "[encoded data removed]",
      "text/plain": [
       "<Figure size 432x288 with 1 Axes>"
      ]
     },
     "metadata": {
      "needs_background": "light"
     },
     "output_type": "display_data"
    }
   ],
   "source": [
    "df = pd.read_csv('preprocessed_oasis_longitudinal.csv')\n",
    "df = df. drop('Unnamed: 0', axis=1)\n",
    "\n",
    "X = df.drop('CDR', axis = 1) \n",
    "y = df['CDR']\n",
    "\n",
    "X_train, X_test, y_train, y_test = train_test_split(X, y, test_size=0.25, random_state =0)\n",
    "\n",
    "# import SMOTE \n",
    "from imblearn.over_sampling import SMOTE\n",
    "sm = SMOTE(random_state = 25, sampling_strategy='auto')   # again we are eqalizing both the classes\n",
    "\n",
    "# fit the sampling\n",
    "X_train, y_train = sm.fit_sample(X_train, y_train)\n",
    "np.unique(y_train, return_counts=True)     # Y_train is numpy array, so unique() functions returns the count of all the unique elements in the array\n",
    "\n",
    "from sklearn.preprocessing import StandardScaler\n",
    "sc = StandardScaler()\n",
    "X_train = sc.fit_transform(X_train)\n",
    "X_test = sc.transform(X_test)\n",
    "\n",
    "sns.countplot(y_train, palette = \"Set2\")"
   ]
  },
  {
   "cell_type": "code",
   "execution_count": 13,
   "metadata": {},
   "outputs": [
    {
     "name": "stdout",
     "output_type": "stream",
     "text": [
      "Recall Score: 0.8049\n",
      "Macro Average of Recall Score: 0.8553\n",
      "Weighted Average of Recall Score: 0.8617\n",
      "------------------------------------------------------\n",
      "Macro Average of Precision Score: 0.8628\n",
      "Weighted Average of Precision Score: 0.8621\n",
      "------------------------------------------------------\n",
      "Macro Average of F1 Score: 0.8581\n",
      "Weighted Average of F1 Score: 0.861\n",
      "---------------------------------------------------------------\n"
     ]
    },
    {
     "data": {
      "image/png": "[encoded data removed]",
      "text/plain": [
       "<Figure size 432x288 with 2 Axes>"
      ]
     },
     "metadata": {
      "needs_background": "light"
     },
     "output_type": "display_data"
    },
    {
     "name": "stdout",
     "output_type": "stream",
     "text": [
      "TP: 33, FP: 5, TN: 48, FN: 8\n",
      "---------------------------------------------------------------\n",
      "              precision    recall  f1-score   support\n",
      "\n",
      "           0      0.857     0.906     0.881        53\n",
      "           1      0.868     0.805     0.835        41\n",
      "\n",
      "    accuracy                          0.862        94\n",
      "   macro avg      0.863     0.855     0.858        94\n",
      "weighted avg      0.862     0.862     0.861        94\n",
      "\n"
     ]
    }
   ],
   "source": [
    "model = CatBoostClassifier(logging_level='Silent', random_state = 42)\n",
    "model.fit(X_train, y_train)\n",
    "y_hat = model.predict(X_test)\n",
    "\n",
    "macro_weighted(y_test, y_hat)\n",
    "cm()\n",
    "class_rep()"
   ]
  },
  {
   "cell_type": "markdown",
   "metadata": {},
   "source": [
    "#### SMOTETomek"
   ]
  },
  {
   "cell_type": "code",
   "execution_count": 14,
   "metadata": {},
   "outputs": [],
   "source": [
    "df = pd.read_csv('preprocessed_oasis_longitudinal.csv')\n",
    "df = df. drop('Unnamed: 0', axis=1)\n",
    "\n",
    "X = df.drop('CDR', axis = 1) \n",
    "y = df['CDR']\n",
    "\n",
    "X_train, X_test, y_train, y_test = train_test_split(X, y, test_size=0.25, random_state =0)\n",
    "\n",
    "from sklearn.preprocessing import StandardScaler\n",
    "sc = StandardScaler()\n",
    "X_train = sc.fit_transform(X_train)\n",
    "X_test = sc.transform(X_test)"
   ]
  },
  {
   "cell_type": "code",
   "execution_count": 15,
   "metadata": {},
   "outputs": [
    {
     "name": "stdout",
     "output_type": "stream",
     "text": [
      "The number of classes before fit Counter({0: 153, 1: 126})\n",
      "The number of classes after fit Counter({0: 140, 1: 136})\n"
     ]
    },
    {
     "data": {
      "text/plain": [
       "<matplotlib.axes._subplots.AxesSubplot at 0x23e68049348>"
      ]
     },
     "execution_count": 15,
     "metadata": {},
     "output_type": "execute_result"
    },
    {
     "data": {
      "image/png": "[encoded data removed]",
      "text/plain": [
       "<Figure size 432x288 with 1 Axes>"
      ]
     },
     "metadata": {
      "needs_background": "light"
     },
     "output_type": "display_data"
    }
   ],
   "source": [
    "from imblearn.combine import SMOTETomek\n",
    "from collections import Counter\n",
    "\n",
    "smot = SMOTETomek(0.98)\n",
    "X_train_ns, y_train_ns = smot.fit_sample(X_train, y_train)\n",
    "print(\"The number of classes before fit {}\".format(Counter(y_train)))\n",
    "print(\"The number of classes after fit {}\".format(Counter(y_train_ns)))\n",
    "\n",
    "sns.countplot(y_train_ns, palette = \"Set1\")"
   ]
  },
  {
   "cell_type": "code",
   "execution_count": 16,
   "metadata": {},
   "outputs": [
    {
     "name": "stdout",
     "output_type": "stream",
     "text": [
      "Recall Score: 0.8049\n",
      "Macro Average of Recall Score: 0.8553\n",
      "Weighted Average of Recall Score: 0.8617\n",
      "------------------------------------------------------\n",
      "Macro Average of Precision Score: 0.8628\n",
      "Weighted Average of Precision Score: 0.8621\n",
      "------------------------------------------------------\n",
      "Macro Average of F1 Score: 0.8581\n",
      "Weighted Average of F1 Score: 0.861\n",
      "---------------------------------------------------------------\n"
     ]
    },
    {
     "data": {
      "image/png": "[encoded data removed]",
      "text/plain": [
       "<Figure size 432x288 with 2 Axes>"
      ]
     },
     "metadata": {
      "needs_background": "light"
     },
     "output_type": "display_data"
    },
    {
     "name": "stdout",
     "output_type": "stream",
     "text": [
      "TP: 33, FP: 5, TN: 48, FN: 8\n",
      "---------------------------------------------------------------\n",
      "              precision    recall  f1-score   support\n",
      "\n",
      "           0      0.857     0.906     0.881        53\n",
      "           1      0.868     0.805     0.835        41\n",
      "\n",
      "    accuracy                          0.862        94\n",
      "   macro avg      0.863     0.855     0.858        94\n",
      "weighted avg      0.862     0.862     0.861        94\n",
      "\n"
     ]
    }
   ],
   "source": [
    "model = CatBoostClassifier(logging_level='Silent', random_state = 42)\n",
    "model.fit(X_train, y_train)\n",
    "y_hat = model.predict(X_test)\n",
    "\n",
    "macro_weighted(y_test, y_hat)\n",
    "cm()\n",
    "class_rep()"
   ]
  },
  {
   "cell_type": "markdown",
   "metadata": {},
   "source": [
    "### We will not create synthetic data in this dataset. Let's find out the best test size."
   ]
  },
  {
   "cell_type": "code",
   "execution_count": 17,
   "metadata": {},
   "outputs": [],
   "source": [
    "df = pd.read_csv('preprocessed_oasis_longitudinal.csv')\n",
    "df = df. drop('Unnamed: 0', axis=1)\n",
    "\n",
    "X = df.drop('CDR', axis = 1) \n",
    "y = df['CDR']"
   ]
  },
  {
   "cell_type": "markdown",
   "metadata": {},
   "source": [
    "##### Let's try to find the threshold that corresponds to highest f1 score and thus find the best model. Please refer to https://towardsdatascience.com/beyond-accuracy-precision-and-recall-3da06bea9f6c."
   ]
  },
  {
   "cell_type": "code",
   "execution_count": 18,
   "metadata": {},
   "outputs": [],
   "source": [
    "# Let's change test size and see the difference\n",
    "test_size = list(np.arange(0.15, 0.41, 0.01))\n",
    "\n",
    "# Let's create a list of threshold value ranging from 0 to 1.\n",
    "threshold = list(np.arange(0.0, 1, 0.039))"
   ]
  },
  {
   "cell_type": "code",
   "execution_count": 19,
   "metadata": {},
   "outputs": [
    {
     "data": {
      "text/html": [
       "<div>\n",
       "<style scoped>\n",
       "    .dataframe tbody tr th:only-of-type {\n",
       "        vertical-align: middle;\n",
       "    }\n",
       "\n",
       "    .dataframe tbody tr th {\n",
       "        vertical-align: top;\n",
       "    }\n",
       "\n",
       "    .dataframe thead th {\n",
       "        text-align: right;\n",
       "    }\n",
       "</style>\n",
       "<table border=\"1\" class=\"dataframe\">\n",
       "  <thead>\n",
       "    <tr style=\"text-align: right;\">\n",
       "      <th></th>\n",
       "      <th>threshold</th>\n",
       "      <th>tp</th>\n",
       "      <th>fp</th>\n",
       "      <th>tn</th>\n",
       "      <th>fn</th>\n",
       "    </tr>\n",
       "  </thead>\n",
       "  <tbody>\n",
       "    <tr>\n",
       "      <th>0</th>\n",
       "      <td>0.000</td>\n",
       "      <td>21</td>\n",
       "      <td>4</td>\n",
       "      <td>24</td>\n",
       "      <td>7</td>\n",
       "    </tr>\n",
       "    <tr>\n",
       "      <th>1</th>\n",
       "      <td>0.039</td>\n",
       "      <td>22</td>\n",
       "      <td>4</td>\n",
       "      <td>27</td>\n",
       "      <td>7</td>\n",
       "    </tr>\n",
       "    <tr>\n",
       "      <th>2</th>\n",
       "      <td>0.078</td>\n",
       "      <td>24</td>\n",
       "      <td>4</td>\n",
       "      <td>29</td>\n",
       "      <td>7</td>\n",
       "    </tr>\n",
       "    <tr>\n",
       "      <th>3</th>\n",
       "      <td>0.117</td>\n",
       "      <td>23</td>\n",
       "      <td>4</td>\n",
       "      <td>32</td>\n",
       "      <td>9</td>\n",
       "    </tr>\n",
       "    <tr>\n",
       "      <th>4</th>\n",
       "      <td>0.156</td>\n",
       "      <td>25</td>\n",
       "      <td>4</td>\n",
       "      <td>34</td>\n",
       "      <td>8</td>\n",
       "    </tr>\n",
       "    <tr>\n",
       "      <th>5</th>\n",
       "      <td>0.195</td>\n",
       "      <td>27</td>\n",
       "      <td>2</td>\n",
       "      <td>37</td>\n",
       "      <td>9</td>\n",
       "    </tr>\n",
       "    <tr>\n",
       "      <th>6</th>\n",
       "      <td>0.234</td>\n",
       "      <td>27</td>\n",
       "      <td>3</td>\n",
       "      <td>40</td>\n",
       "      <td>9</td>\n",
       "    </tr>\n",
       "    <tr>\n",
       "      <th>7</th>\n",
       "      <td>0.273</td>\n",
       "      <td>30</td>\n",
       "      <td>4</td>\n",
       "      <td>40</td>\n",
       "      <td>9</td>\n",
       "    </tr>\n",
       "    <tr>\n",
       "      <th>8</th>\n",
       "      <td>0.312</td>\n",
       "      <td>30</td>\n",
       "      <td>4</td>\n",
       "      <td>43</td>\n",
       "      <td>9</td>\n",
       "    </tr>\n",
       "    <tr>\n",
       "      <th>9</th>\n",
       "      <td>0.351</td>\n",
       "      <td>32</td>\n",
       "      <td>4</td>\n",
       "      <td>46</td>\n",
       "      <td>8</td>\n",
       "    </tr>\n",
       "    <tr>\n",
       "      <th>10</th>\n",
       "      <td>0.390</td>\n",
       "      <td>33</td>\n",
       "      <td>5</td>\n",
       "      <td>48</td>\n",
       "      <td>8</td>\n",
       "    </tr>\n",
       "    <tr>\n",
       "      <th>11</th>\n",
       "      <td>0.429</td>\n",
       "      <td>35</td>\n",
       "      <td>5</td>\n",
       "      <td>50</td>\n",
       "      <td>7</td>\n",
       "    </tr>\n",
       "    <tr>\n",
       "      <th>12</th>\n",
       "      <td>0.468</td>\n",
       "      <td>33</td>\n",
       "      <td>7</td>\n",
       "      <td>51</td>\n",
       "      <td>10</td>\n",
       "    </tr>\n",
       "    <tr>\n",
       "      <th>13</th>\n",
       "      <td>0.507</td>\n",
       "      <td>34</td>\n",
       "      <td>8</td>\n",
       "      <td>52</td>\n",
       "      <td>11</td>\n",
       "    </tr>\n",
       "    <tr>\n",
       "      <th>14</th>\n",
       "      <td>0.546</td>\n",
       "      <td>36</td>\n",
       "      <td>8</td>\n",
       "      <td>55</td>\n",
       "      <td>10</td>\n",
       "    </tr>\n",
       "    <tr>\n",
       "      <th>15</th>\n",
       "      <td>0.585</td>\n",
       "      <td>36</td>\n",
       "      <td>7</td>\n",
       "      <td>56</td>\n",
       "      <td>13</td>\n",
       "    </tr>\n",
       "    <tr>\n",
       "      <th>16</th>\n",
       "      <td>0.624</td>\n",
       "      <td>38</td>\n",
       "      <td>8</td>\n",
       "      <td>58</td>\n",
       "      <td>12</td>\n",
       "    </tr>\n",
       "    <tr>\n",
       "      <th>17</th>\n",
       "      <td>0.663</td>\n",
       "      <td>38</td>\n",
       "      <td>8</td>\n",
       "      <td>62</td>\n",
       "      <td>12</td>\n",
       "    </tr>\n",
       "    <tr>\n",
       "      <th>18</th>\n",
       "      <td>0.702</td>\n",
       "      <td>38</td>\n",
       "      <td>8</td>\n",
       "      <td>64</td>\n",
       "      <td>14</td>\n",
       "    </tr>\n",
       "    <tr>\n",
       "      <th>19</th>\n",
       "      <td>0.741</td>\n",
       "      <td>37</td>\n",
       "      <td>8</td>\n",
       "      <td>66</td>\n",
       "      <td>16</td>\n",
       "    </tr>\n",
       "    <tr>\n",
       "      <th>20</th>\n",
       "      <td>0.780</td>\n",
       "      <td>40</td>\n",
       "      <td>9</td>\n",
       "      <td>67</td>\n",
       "      <td>15</td>\n",
       "    </tr>\n",
       "    <tr>\n",
       "      <th>21</th>\n",
       "      <td>0.819</td>\n",
       "      <td>39</td>\n",
       "      <td>10</td>\n",
       "      <td>69</td>\n",
       "      <td>17</td>\n",
       "    </tr>\n",
       "    <tr>\n",
       "      <th>22</th>\n",
       "      <td>0.858</td>\n",
       "      <td>40</td>\n",
       "      <td>10</td>\n",
       "      <td>73</td>\n",
       "      <td>16</td>\n",
       "    </tr>\n",
       "    <tr>\n",
       "      <th>23</th>\n",
       "      <td>0.897</td>\n",
       "      <td>41</td>\n",
       "      <td>10</td>\n",
       "      <td>75</td>\n",
       "      <td>16</td>\n",
       "    </tr>\n",
       "    <tr>\n",
       "      <th>24</th>\n",
       "      <td>0.936</td>\n",
       "      <td>44</td>\n",
       "      <td>9</td>\n",
       "      <td>78</td>\n",
       "      <td>15</td>\n",
       "    </tr>\n",
       "    <tr>\n",
       "      <th>25</th>\n",
       "      <td>0.975</td>\n",
       "      <td>44</td>\n",
       "      <td>11</td>\n",
       "      <td>77</td>\n",
       "      <td>18</td>\n",
       "    </tr>\n",
       "  </tbody>\n",
       "</table>\n",
       "</div>"
      ],
      "text/plain": [
       "    threshold  tp  fp  tn  fn\n",
       "0       0.000  21   4  24   7\n",
       "1       0.039  22   4  27   7\n",
       "2       0.078  24   4  29   7\n",
       "3       0.117  23   4  32   9\n",
       "4       0.156  25   4  34   8\n",
       "5       0.195  27   2  37   9\n",
       "6       0.234  27   3  40   9\n",
       "7       0.273  30   4  40   9\n",
       "8       0.312  30   4  43   9\n",
       "9       0.351  32   4  46   8\n",
       "10      0.390  33   5  48   8\n",
       "11      0.429  35   5  50   7\n",
       "12      0.468  33   7  51  10\n",
       "13      0.507  34   8  52  11\n",
       "14      0.546  36   8  55  10\n",
       "15      0.585  36   7  56  13\n",
       "16      0.624  38   8  58  12\n",
       "17      0.663  38   8  62  12\n",
       "18      0.702  38   8  64  14\n",
       "19      0.741  37   8  66  16\n",
       "20      0.780  40   9  67  15\n",
       "21      0.819  39  10  69  17\n",
       "22      0.858  40  10  73  16\n",
       "23      0.897  41  10  75  16\n",
       "24      0.936  44   9  78  15\n",
       "25      0.975  44  11  77  18"
      ]
     },
     "execution_count": 19,
     "metadata": {},
     "output_type": "execute_result"
    }
   ],
   "source": [
    "# Now, let's append the threshol and tp, tn, fp, fn values in a DataFrame\n",
    "\n",
    "tp = []\n",
    "fp = []\n",
    "tn = []\n",
    "fn = []\n",
    "    \n",
    "for tt in test_size:\n",
    "\n",
    "    X_train, X_test, y_train, y_test = train_test_split(X, y, test_size= tt, random_state =0)\n",
    "    \n",
    "    sc = StandardScaler()\n",
    "    X_train = sc.fit_transform(X_train)\n",
    "    X_test = sc.transform(X_test)\n",
    "    \n",
    "    model = CatBoostClassifier(logging_level='Silent', random_state = 42)\n",
    "    model.fit(X_train, y_train)\n",
    "    y_hat = model.predict(X_test)\n",
    "        \n",
    "    tn.append(confusion_matrix(y_test, y_hat).ravel()[0]) \n",
    "    fp.append(confusion_matrix(y_test, y_hat).ravel()[1])\n",
    "    fn.append(confusion_matrix(y_test, y_hat).ravel()[2])\n",
    "    tp.append(confusion_matrix(y_test, y_hat).ravel()[3])\n",
    "    \n",
    "results = pd.DataFrame({'threshold': threshold, 'tp' : tp , 'fp': fp, 'tn': tn, 'fn': fn})\n",
    "results"
   ]
  },
  {
   "cell_type": "code",
   "execution_count": 20,
   "metadata": {},
   "outputs": [],
   "source": [
    "def calculate_metrics(results):\n",
    "    roc = pd.DataFrame(index = results['threshold'], columns=['recall', 'precision', 'f1', 'tpr', 'fpr'])\n",
    "    \n",
    "    for i in results.iterrows():\n",
    "        t, tp, fp, tn, fn = i[1]\n",
    "        tp + fp + tn + fn == 129\n",
    "        \n",
    "        recall = tp / (tp + fn)\n",
    "        \n",
    "        if tp == fp == 0:\n",
    "            precision = 0\n",
    "            true_positive_rate = 0\n",
    "        \n",
    "        else:\n",
    "            precision = tp / (tp + fp)\n",
    "            true_positive_rate = tp / (tp + fn)\n",
    "            \n",
    "        if precision == recall == 0:\n",
    "            f1 = 0\n",
    "        else:\n",
    "            f1 = 2 * (precision * recall) / (precision + recall)\n",
    "        \n",
    "        \n",
    "        false_positive_rate = fp / (fp + tn)\n",
    "        \n",
    "        roc.loc[t, 'recall'] = recall\n",
    "        roc.loc[t, 'precision'] = precision\n",
    "        roc.loc[t, 'f1'] = f1\n",
    "        roc.loc[t, 'tpr'] = true_positive_rate\n",
    "        roc.loc[t, 'fpr'] = false_positive_rate\n",
    "    \n",
    "    return roc"
   ]
  },
  {
   "cell_type": "code",
   "execution_count": 21,
   "metadata": {},
   "outputs": [
    {
     "data": {
      "text/html": [
       "<div>\n",
       "<style scoped>\n",
       "    .dataframe tbody tr th:only-of-type {\n",
       "        vertical-align: middle;\n",
       "    }\n",
       "\n",
       "    .dataframe tbody tr th {\n",
       "        vertical-align: top;\n",
       "    }\n",
       "\n",
       "    .dataframe thead th {\n",
       "        text-align: right;\n",
       "    }\n",
       "</style>\n",
       "<table border=\"1\" class=\"dataframe\">\n",
       "  <thead>\n",
       "    <tr style=\"text-align: right;\">\n",
       "      <th></th>\n",
       "      <th>threshold</th>\n",
       "      <th>recall</th>\n",
       "      <th>precision</th>\n",
       "      <th>f1</th>\n",
       "      <th>tpr</th>\n",
       "      <th>fpr</th>\n",
       "    </tr>\n",
       "  </thead>\n",
       "  <tbody>\n",
       "    <tr>\n",
       "      <th>0</th>\n",
       "      <td>0.000</td>\n",
       "      <td>0.75</td>\n",
       "      <td>0.84</td>\n",
       "      <td>0.792453</td>\n",
       "      <td>0.75</td>\n",
       "      <td>0.142857</td>\n",
       "    </tr>\n",
       "    <tr>\n",
       "      <th>1</th>\n",
       "      <td>0.039</td>\n",
       "      <td>0.758621</td>\n",
       "      <td>0.846154</td>\n",
       "      <td>0.8</td>\n",
       "      <td>0.758621</td>\n",
       "      <td>0.129032</td>\n",
       "    </tr>\n",
       "    <tr>\n",
       "      <th>2</th>\n",
       "      <td>0.078</td>\n",
       "      <td>0.774194</td>\n",
       "      <td>0.857143</td>\n",
       "      <td>0.813559</td>\n",
       "      <td>0.774194</td>\n",
       "      <td>0.121212</td>\n",
       "    </tr>\n",
       "    <tr>\n",
       "      <th>3</th>\n",
       "      <td>0.117</td>\n",
       "      <td>0.71875</td>\n",
       "      <td>0.851852</td>\n",
       "      <td>0.779661</td>\n",
       "      <td>0.71875</td>\n",
       "      <td>0.111111</td>\n",
       "    </tr>\n",
       "    <tr>\n",
       "      <th>4</th>\n",
       "      <td>0.156</td>\n",
       "      <td>0.757576</td>\n",
       "      <td>0.862069</td>\n",
       "      <td>0.806452</td>\n",
       "      <td>0.757576</td>\n",
       "      <td>0.105263</td>\n",
       "    </tr>\n",
       "    <tr>\n",
       "      <th>5</th>\n",
       "      <td>0.195</td>\n",
       "      <td>0.75</td>\n",
       "      <td>0.931034</td>\n",
       "      <td>0.830769</td>\n",
       "      <td>0.75</td>\n",
       "      <td>0.0512821</td>\n",
       "    </tr>\n",
       "    <tr>\n",
       "      <th>6</th>\n",
       "      <td>0.234</td>\n",
       "      <td>0.75</td>\n",
       "      <td>0.9</td>\n",
       "      <td>0.818182</td>\n",
       "      <td>0.75</td>\n",
       "      <td>0.0697674</td>\n",
       "    </tr>\n",
       "    <tr>\n",
       "      <th>7</th>\n",
       "      <td>0.273</td>\n",
       "      <td>0.769231</td>\n",
       "      <td>0.882353</td>\n",
       "      <td>0.821918</td>\n",
       "      <td>0.769231</td>\n",
       "      <td>0.0909091</td>\n",
       "    </tr>\n",
       "    <tr>\n",
       "      <th>8</th>\n",
       "      <td>0.312</td>\n",
       "      <td>0.769231</td>\n",
       "      <td>0.882353</td>\n",
       "      <td>0.821918</td>\n",
       "      <td>0.769231</td>\n",
       "      <td>0.0851064</td>\n",
       "    </tr>\n",
       "    <tr>\n",
       "      <th>9</th>\n",
       "      <td>0.351</td>\n",
       "      <td>0.8</td>\n",
       "      <td>0.888889</td>\n",
       "      <td>0.842105</td>\n",
       "      <td>0.8</td>\n",
       "      <td>0.08</td>\n",
       "    </tr>\n",
       "    <tr>\n",
       "      <th>10</th>\n",
       "      <td>0.390</td>\n",
       "      <td>0.804878</td>\n",
       "      <td>0.868421</td>\n",
       "      <td>0.835443</td>\n",
       "      <td>0.804878</td>\n",
       "      <td>0.0943396</td>\n",
       "    </tr>\n",
       "    <tr>\n",
       "      <th>11</th>\n",
       "      <td>0.429</td>\n",
       "      <td>0.833333</td>\n",
       "      <td>0.875</td>\n",
       "      <td>0.853659</td>\n",
       "      <td>0.833333</td>\n",
       "      <td>0.0909091</td>\n",
       "    </tr>\n",
       "    <tr>\n",
       "      <th>12</th>\n",
       "      <td>0.468</td>\n",
       "      <td>0.767442</td>\n",
       "      <td>0.825</td>\n",
       "      <td>0.795181</td>\n",
       "      <td>0.767442</td>\n",
       "      <td>0.12069</td>\n",
       "    </tr>\n",
       "    <tr>\n",
       "      <th>13</th>\n",
       "      <td>0.507</td>\n",
       "      <td>0.755556</td>\n",
       "      <td>0.809524</td>\n",
       "      <td>0.781609</td>\n",
       "      <td>0.755556</td>\n",
       "      <td>0.133333</td>\n",
       "    </tr>\n",
       "    <tr>\n",
       "      <th>14</th>\n",
       "      <td>0.546</td>\n",
       "      <td>0.782609</td>\n",
       "      <td>0.818182</td>\n",
       "      <td>0.8</td>\n",
       "      <td>0.782609</td>\n",
       "      <td>0.126984</td>\n",
       "    </tr>\n",
       "    <tr>\n",
       "      <th>15</th>\n",
       "      <td>0.585</td>\n",
       "      <td>0.734694</td>\n",
       "      <td>0.837209</td>\n",
       "      <td>0.782609</td>\n",
       "      <td>0.734694</td>\n",
       "      <td>0.111111</td>\n",
       "    </tr>\n",
       "    <tr>\n",
       "      <th>16</th>\n",
       "      <td>0.624</td>\n",
       "      <td>0.76</td>\n",
       "      <td>0.826087</td>\n",
       "      <td>0.791667</td>\n",
       "      <td>0.76</td>\n",
       "      <td>0.121212</td>\n",
       "    </tr>\n",
       "    <tr>\n",
       "      <th>17</th>\n",
       "      <td>0.663</td>\n",
       "      <td>0.76</td>\n",
       "      <td>0.826087</td>\n",
       "      <td>0.791667</td>\n",
       "      <td>0.76</td>\n",
       "      <td>0.114286</td>\n",
       "    </tr>\n",
       "    <tr>\n",
       "      <th>18</th>\n",
       "      <td>0.702</td>\n",
       "      <td>0.730769</td>\n",
       "      <td>0.826087</td>\n",
       "      <td>0.77551</td>\n",
       "      <td>0.730769</td>\n",
       "      <td>0.111111</td>\n",
       "    </tr>\n",
       "    <tr>\n",
       "      <th>19</th>\n",
       "      <td>0.741</td>\n",
       "      <td>0.698113</td>\n",
       "      <td>0.822222</td>\n",
       "      <td>0.755102</td>\n",
       "      <td>0.698113</td>\n",
       "      <td>0.108108</td>\n",
       "    </tr>\n",
       "    <tr>\n",
       "      <th>20</th>\n",
       "      <td>0.780</td>\n",
       "      <td>0.727273</td>\n",
       "      <td>0.816327</td>\n",
       "      <td>0.769231</td>\n",
       "      <td>0.727273</td>\n",
       "      <td>0.118421</td>\n",
       "    </tr>\n",
       "    <tr>\n",
       "      <th>21</th>\n",
       "      <td>0.819</td>\n",
       "      <td>0.696429</td>\n",
       "      <td>0.795918</td>\n",
       "      <td>0.742857</td>\n",
       "      <td>0.696429</td>\n",
       "      <td>0.126582</td>\n",
       "    </tr>\n",
       "    <tr>\n",
       "      <th>22</th>\n",
       "      <td>0.858</td>\n",
       "      <td>0.714286</td>\n",
       "      <td>0.8</td>\n",
       "      <td>0.754717</td>\n",
       "      <td>0.714286</td>\n",
       "      <td>0.120482</td>\n",
       "    </tr>\n",
       "    <tr>\n",
       "      <th>23</th>\n",
       "      <td>0.897</td>\n",
       "      <td>0.719298</td>\n",
       "      <td>0.803922</td>\n",
       "      <td>0.759259</td>\n",
       "      <td>0.719298</td>\n",
       "      <td>0.117647</td>\n",
       "    </tr>\n",
       "    <tr>\n",
       "      <th>24</th>\n",
       "      <td>0.936</td>\n",
       "      <td>0.745763</td>\n",
       "      <td>0.830189</td>\n",
       "      <td>0.785714</td>\n",
       "      <td>0.745763</td>\n",
       "      <td>0.103448</td>\n",
       "    </tr>\n",
       "    <tr>\n",
       "      <th>25</th>\n",
       "      <td>0.975</td>\n",
       "      <td>0.709677</td>\n",
       "      <td>0.8</td>\n",
       "      <td>0.752137</td>\n",
       "      <td>0.709677</td>\n",
       "      <td>0.125</td>\n",
       "    </tr>\n",
       "  </tbody>\n",
       "</table>\n",
       "</div>"
      ],
      "text/plain": [
       "    threshold    recall precision        f1       tpr        fpr\n",
       "0       0.000      0.75      0.84  0.792453      0.75   0.142857\n",
       "1       0.039  0.758621  0.846154       0.8  0.758621   0.129032\n",
       "2       0.078  0.774194  0.857143  0.813559  0.774194   0.121212\n",
       "3       0.117   0.71875  0.851852  0.779661   0.71875   0.111111\n",
       "4       0.156  0.757576  0.862069  0.806452  0.757576   0.105263\n",
       "5       0.195      0.75  0.931034  0.830769      0.75  0.0512821\n",
       "6       0.234      0.75       0.9  0.818182      0.75  0.0697674\n",
       "7       0.273  0.769231  0.882353  0.821918  0.769231  0.0909091\n",
       "8       0.312  0.769231  0.882353  0.821918  0.769231  0.0851064\n",
       "9       0.351       0.8  0.888889  0.842105       0.8       0.08\n",
       "10      0.390  0.804878  0.868421  0.835443  0.804878  0.0943396\n",
       "11      0.429  0.833333     0.875  0.853659  0.833333  0.0909091\n",
       "12      0.468  0.767442     0.825  0.795181  0.767442    0.12069\n",
       "13      0.507  0.755556  0.809524  0.781609  0.755556   0.133333\n",
       "14      0.546  0.782609  0.818182       0.8  0.782609   0.126984\n",
       "15      0.585  0.734694  0.837209  0.782609  0.734694   0.111111\n",
       "16      0.624      0.76  0.826087  0.791667      0.76   0.121212\n",
       "17      0.663      0.76  0.826087  0.791667      0.76   0.114286\n",
       "18      0.702  0.730769  0.826087   0.77551  0.730769   0.111111\n",
       "19      0.741  0.698113  0.822222  0.755102  0.698113   0.108108\n",
       "20      0.780  0.727273  0.816327  0.769231  0.727273   0.118421\n",
       "21      0.819  0.696429  0.795918  0.742857  0.696429   0.126582\n",
       "22      0.858  0.714286       0.8  0.754717  0.714286   0.120482\n",
       "23      0.897  0.719298  0.803922  0.759259  0.719298   0.117647\n",
       "24      0.936  0.745763  0.830189  0.785714  0.745763   0.103448\n",
       "25      0.975  0.709677       0.8  0.752137  0.709677      0.125"
      ]
     },
     "execution_count": 21,
     "metadata": {},
     "output_type": "execute_result"
    }
   ],
   "source": [
    "roc = calculate_metrics(results)\n",
    "roc.reset_index()"
   ]
  },
  {
   "cell_type": "markdown",
   "metadata": {},
   "source": [
    "#### Best F1 score: 0.853659 and 0.842105; thus, test size could be either 0.26 or 0.24.\n",
    "### Let's check.."
   ]
  },
  {
   "cell_type": "code",
   "execution_count": 22,
   "metadata": {},
   "outputs": [
    {
     "name": "stdout",
     "output_type": "stream",
     "text": [
      "-----------------------------------------------------------\n",
      "test_size: 0.24\n",
      "-----------------------------------------------------------\n",
      "Recall Score: 0.8\n",
      "Macro Average of Recall Score: 0.86\n",
      "Weighted Average of Recall Score: 0.8667\n",
      "------------------------------------------------------\n",
      "Macro Average of Precision Score: 0.8704\n",
      "Weighted Average of Precision Score: 0.8683\n",
      "------------------------------------------------------\n",
      "Macro Average of F1 Score: 0.8634\n",
      "Weighted Average of F1 Score: 0.8657\n",
      "---------------------------------------------------------------\n"
     ]
    },
    {
     "data": {
      "image/png": "[encoded data removed]",
      "text/plain": [
       "<Figure size 432x288 with 2 Axes>"
      ]
     },
     "metadata": {
      "needs_background": "light"
     },
     "output_type": "display_data"
    },
    {
     "name": "stdout",
     "output_type": "stream",
     "text": [
      "TP: 32, FP: 4, TN: 46, FN: 8\n",
      "---------------------------------------------------------------\n",
      "              precision    recall  f1-score   support\n",
      "\n",
      "           0      0.852     0.920     0.885        50\n",
      "           1      0.889     0.800     0.842        40\n",
      "\n",
      "    accuracy                          0.867        90\n",
      "   macro avg      0.870     0.860     0.863        90\n",
      "weighted avg      0.868     0.867     0.866        90\n",
      "\n",
      "-----------------------------------------------------------\n",
      "test_size: 0.26\n",
      "-----------------------------------------------------------\n",
      "Recall Score: 0.8333\n",
      "Macro Average of Recall Score: 0.8712\n",
      "Weighted Average of Recall Score: 0.8763\n",
      "------------------------------------------------------\n",
      "Macro Average of Precision Score: 0.8761\n",
      "Weighted Average of Precision Score: 0.8762\n",
      "------------------------------------------------------\n",
      "Macro Average of F1 Score: 0.8733\n",
      "Weighted Average of F1 Score: 0.8759\n",
      "---------------------------------------------------------------\n"
     ]
    },
    {
     "data": {
      "image/png": "[encoded data removed]",
      "text/plain": [
       "<Figure size 432x288 with 2 Axes>"
      ]
     },
     "metadata": {
      "needs_background": "light"
     },
     "output_type": "display_data"
    },
    {
     "name": "stdout",
     "output_type": "stream",
     "text": [
      "TP: 35, FP: 5, TN: 50, FN: 7\n",
      "---------------------------------------------------------------\n",
      "              precision    recall  f1-score   support\n",
      "\n",
      "           0      0.877     0.909     0.893        55\n",
      "           1      0.875     0.833     0.854        42\n",
      "\n",
      "    accuracy                          0.876        97\n",
      "   macro avg      0.876     0.871     0.873        97\n",
      "weighted avg      0.876     0.876     0.876        97\n",
      "\n"
     ]
    }
   ],
   "source": [
    "test_size = [0.24, 0.26]\n",
    "\n",
    "for t in test_size:\n",
    "    \n",
    "    df = pd.read_csv('preprocessed_oasis_longitudinal.csv')\n",
    "    df = df. drop('Unnamed: 0', axis=1)\n",
    "\n",
    "    X = df.drop('CDR', axis = 1) \n",
    "    y = df['CDR']\n",
    "\n",
    "    X_train, X_test, y_train, y_test = train_test_split(X, y, test_size = t, random_state = 0)\n",
    "    \n",
    "    # standardizing the data\n",
    "    \n",
    "    from sklearn.preprocessing import StandardScaler\n",
    "    sc = StandardScaler()\n",
    "    X_train = sc.fit_transform(X_train)\n",
    "    X_test = sc.transform(X_test)\n",
    "    \n",
    "    model = CatBoostClassifier(logging_level='Silent', random_state = 42)\n",
    "    model.fit(X_train, y_train)\n",
    "    y_hat = model.predict(X_test)\n",
    "    \n",
    "    print ('-----------------------------------------------------------')\n",
    "    print ('test_size: {}'.format(t))\n",
    "    print ('-----------------------------------------------------------')\n",
    "\n",
    "    macro_weighted(y_test, y_hat)\n",
    "    cm()\n",
    "    class_rep()"
   ]
  },
  {
   "cell_type": "markdown",
   "metadata": {},
   "source": [
    "### We choose test_size  = 0.26"
   ]
  }
 ],
 "metadata": {
  "kernelspec": {
   "display_name": "Python 3",
   "language": "python",
   "name": "python3"
  },
  "language_info": {
   "codemirror_mode": {
    "name": "ipython",
    "version": 3
   },
   "file_extension": ".py",
   "mimetype": "text/x-python",
   "name": "python",
   "nbconvert_exporter": "python",
   "pygments_lexer": "ipython3",
   "version": "3.7.6"
  }
 },
 "nbformat": 4,
 "nbformat_minor": 4
}
