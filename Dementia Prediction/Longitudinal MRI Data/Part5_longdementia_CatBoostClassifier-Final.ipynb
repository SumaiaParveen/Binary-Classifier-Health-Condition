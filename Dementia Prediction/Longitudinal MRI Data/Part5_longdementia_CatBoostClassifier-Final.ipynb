{
 "cells": [
  {
   "cell_type": "markdown",
   "metadata": {},
   "source": [
    "# Part 5: CatBoostClassifier Model"
   ]
  },
  {
   "cell_type": "markdown",
   "metadata": {},
   "source": [
    "### Import Libraries"
   ]
  },
  {
   "cell_type": "code",
   "execution_count": 2,
   "metadata": {},
   "outputs": [
    {
     "name": "stderr",
     "output_type": "stream",
     "text": [
      "\n",
      "Bad key \"text.kerning_factor\" on line 4 in\n",
      "C:\\Users\\sumai\\Anaconda3\\lib\\site-packages\\matplotlib\\mpl-data\\stylelib\\_classic_test_patch.mplstyle.\n",
      "You probably need to get an updated matplotlibrc file from\n",
      "https://github.com/matplotlib/matplotlib/blob/v3.1.3/matplotlibrc.template\n",
      "or from the matplotlib source distribution\n"
     ]
    }
   ],
   "source": [
    "import warnings\n",
    "warnings.filterwarnings('ignore')\n",
    "\n",
    "import pandas as pd\n",
    "import numpy as np\n",
    "import missingno as msno\n",
    "import matplotlib.pyplot as plt\n",
    "import seaborn as sns\n",
    "from scipy import stats \n",
    "\n",
    "from catboost import CatBoostClassifier\n",
    "\n",
    "from sklearn.metrics import f1_score,accuracy_score, precision_score, recall_score, roc_curve, roc_auc_score, precision_recall_curve, auc\n",
    "from sklearn import metrics\n",
    "from sklearn.metrics import precision_recall_curve\n",
    "from sklearn.metrics import plot_precision_recall_curve\n",
    "from sklearn.metrics import average_precision_score, confusion_matrix\n",
    "import matplotlib.pyplot as plt"
   ]
  },
  {
   "cell_type": "markdown",
   "metadata": {},
   "source": [
    "## Load Dataset\n",
    "Please see the link to know more about the dataset: https://www.kaggle.com/jboysen/mri-and-alzheimers"
   ]
  },
  {
   "cell_type": "code",
   "execution_count": 3,
   "metadata": {},
   "outputs": [
    {
     "data": {
      "text/html": [
       "<div>\n",
       "<style scoped>\n",
       "    .dataframe tbody tr th:only-of-type {\n",
       "        vertical-align: middle;\n",
       "    }\n",
       "\n",
       "    .dataframe tbody tr th {\n",
       "        vertical-align: top;\n",
       "    }\n",
       "\n",
       "    .dataframe thead th {\n",
       "        text-align: right;\n",
       "    }\n",
       "</style>\n",
       "<table border=\"1\" class=\"dataframe\">\n",
       "  <thead>\n",
       "    <tr style=\"text-align: right;\">\n",
       "      <th></th>\n",
       "      <th>Visit</th>\n",
       "      <th>Gender</th>\n",
       "      <th>Age</th>\n",
       "      <th>EDUC</th>\n",
       "      <th>SES</th>\n",
       "      <th>MMSE</th>\n",
       "      <th>CDR</th>\n",
       "      <th>eTIV</th>\n",
       "      <th>nWBV</th>\n",
       "      <th>ASF</th>\n",
       "    </tr>\n",
       "  </thead>\n",
       "  <tbody>\n",
       "    <tr>\n",
       "      <th>0</th>\n",
       "      <td>1</td>\n",
       "      <td>2</td>\n",
       "      <td>87</td>\n",
       "      <td>14</td>\n",
       "      <td>2.0</td>\n",
       "      <td>27.0</td>\n",
       "      <td>0</td>\n",
       "      <td>1987</td>\n",
       "      <td>0.696</td>\n",
       "      <td>0.883</td>\n",
       "    </tr>\n",
       "    <tr>\n",
       "      <th>1</th>\n",
       "      <td>2</td>\n",
       "      <td>2</td>\n",
       "      <td>88</td>\n",
       "      <td>14</td>\n",
       "      <td>2.0</td>\n",
       "      <td>30.0</td>\n",
       "      <td>0</td>\n",
       "      <td>2004</td>\n",
       "      <td>0.681</td>\n",
       "      <td>0.876</td>\n",
       "    </tr>\n",
       "    <tr>\n",
       "      <th>2</th>\n",
       "      <td>1</td>\n",
       "      <td>2</td>\n",
       "      <td>75</td>\n",
       "      <td>12</td>\n",
       "      <td>0.0</td>\n",
       "      <td>23.0</td>\n",
       "      <td>1</td>\n",
       "      <td>1678</td>\n",
       "      <td>0.736</td>\n",
       "      <td>1.046</td>\n",
       "    </tr>\n",
       "    <tr>\n",
       "      <th>3</th>\n",
       "      <td>2</td>\n",
       "      <td>2</td>\n",
       "      <td>76</td>\n",
       "      <td>12</td>\n",
       "      <td>0.0</td>\n",
       "      <td>28.0</td>\n",
       "      <td>1</td>\n",
       "      <td>1738</td>\n",
       "      <td>0.713</td>\n",
       "      <td>1.010</td>\n",
       "    </tr>\n",
       "    <tr>\n",
       "      <th>4</th>\n",
       "      <td>3</td>\n",
       "      <td>2</td>\n",
       "      <td>80</td>\n",
       "      <td>12</td>\n",
       "      <td>0.0</td>\n",
       "      <td>22.0</td>\n",
       "      <td>1</td>\n",
       "      <td>1698</td>\n",
       "      <td>0.701</td>\n",
       "      <td>1.034</td>\n",
       "    </tr>\n",
       "  </tbody>\n",
       "</table>\n",
       "</div>"
      ],
      "text/plain": [
       "   Visit  Gender  Age  EDUC  SES  MMSE  CDR  eTIV   nWBV    ASF\n",
       "0      1       2   87    14  2.0  27.0    0  1987  0.696  0.883\n",
       "1      2       2   88    14  2.0  30.0    0  2004  0.681  0.876\n",
       "2      1       2   75    12  0.0  23.0    1  1678  0.736  1.046\n",
       "3      2       2   76    12  0.0  28.0    1  1738  0.713  1.010\n",
       "4      3       2   80    12  0.0  22.0    1  1698  0.701  1.034"
      ]
     },
     "execution_count": 3,
     "metadata": {},
     "output_type": "execute_result"
    }
   ],
   "source": [
    "df = pd.read_csv('preprocessed_oasis_longitudinal.csv')\n",
    "df = df. drop('Unnamed: 0', axis=1)\n",
    "df.head()"
   ]
  },
  {
   "cell_type": "code",
   "execution_count": 4,
   "metadata": {},
   "outputs": [
    {
     "data": {
      "text/plain": [
       "<matplotlib.axes._subplots.AxesSubplot at 0x209185d4e48>"
      ]
     },
     "execution_count": 4,
     "metadata": {},
     "output_type": "execute_result"
    },
    {
     "data": {
      "image/png": "[encoded data removed]",
      "text/plain": [
       "<Figure size 432x288 with 1 Axes>"
      ]
     },
     "metadata": {
      "needs_background": "light"
     },
     "output_type": "display_data"
    }
   ],
   "source": [
    "sns.countplot(df['CDR'], palette = 'Set2')"
   ]
  },
  {
   "cell_type": "markdown",
   "metadata": {},
   "source": [
    "### Split Input and Traget Variables"
   ]
  },
  {
   "cell_type": "code",
   "execution_count": 5,
   "metadata": {},
   "outputs": [],
   "source": [
    "X = df.drop('CDR', axis = 1) \n",
    "y = df['CDR']"
   ]
  },
  {
   "cell_type": "code",
   "execution_count": 6,
   "metadata": {},
   "outputs": [
    {
     "data": {
      "text/plain": [
       "Index(['Visit', 'Gender', 'Age', 'EDUC', 'SES', 'MMSE', 'eTIV', 'nWBV', 'ASF'], dtype='object')"
      ]
     },
     "execution_count": 6,
     "metadata": {},
     "output_type": "execute_result"
    }
   ],
   "source": [
    "X.columns"
   ]
  },
  {
   "cell_type": "markdown",
   "metadata": {},
   "source": [
    "### Train Test Split"
   ]
  },
  {
   "cell_type": "code",
   "execution_count": 7,
   "metadata": {},
   "outputs": [
    {
     "name": "stdout",
     "output_type": "stream",
     "text": [
      "Original shape of dataset: (373, 10)\n",
      "Shape of training dataset: (276, 9)\n",
      "Shape of testing dataset: (97, 9)\n"
     ]
    }
   ],
   "source": [
    "# train_test_split is used to split the dataset into test set and train set\n",
    "from sklearn.model_selection import train_test_split\n",
    "X_train, X_test, y_train, y_test = train_test_split(X, y, test_size=0.26, random_state =0)\n",
    "\n",
    "print(\"Original shape of dataset: {}\".format(df.shape))         # shape of original dataset\n",
    "print(\"Shape of training dataset: {}\".format(X_train.shape))      # shape of training dataset after split\n",
    "print(\"Shape of testing dataset: {}\".format(X_test.shape))        # shape of testing dataset after split"
   ]
  },
  {
   "cell_type": "markdown",
   "metadata": {},
   "source": [
    "## Feature Scaling"
   ]
  },
  {
   "cell_type": "code",
   "execution_count": 8,
   "metadata": {},
   "outputs": [],
   "source": [
    "from sklearn.preprocessing import StandardScaler\n",
    "sc = StandardScaler()\n",
    "X_train = sc.fit_transform(X_train)\n",
    "X_test = sc.transform(X_test)"
   ]
  },
  {
   "cell_type": "markdown",
   "metadata": {},
   "source": [
    "## Defining all the functions"
   ]
  },
  {
   "cell_type": "markdown",
   "metadata": {},
   "source": [
    "#### Writing a function that returns the evaluation metrics as a DataFrame"
   ]
  },
  {
   "cell_type": "code",
   "execution_count": 9,
   "metadata": {},
   "outputs": [],
   "source": [
    "def model_comparison(models =[], model_names= []):\n",
    "    \n",
    "    acc = []\n",
    "    prec = []\n",
    "    recal = []\n",
    "    f1_train = []\n",
    "    f1_test = []\n",
    "    roc_auc = []\n",
    "    pr_auc = []\n",
    "    \n",
    "    for model in range(len(models)):\n",
    "        clf = models[model]\n",
    "        clf.fit(X_train, y_train)\n",
    "        y_hat = clf.predict(X_test)\n",
    "        y_hat_train = clf.predict(X_train) \n",
    "        pred_prob = clf.predict_proba(X_test)\n",
    "        precision, recall, _ = precision_recall_curve(y_test, pred_prob[:, 1], pos_label=1)\n",
    "\n",
    "        \n",
    "        f1_train.append(f1_score(y_hat_train, y_train))\n",
    "        f1_test.append(f1_score(y_hat, y_test))\n",
    "        acc.append(accuracy_score(y_hat, y_test))\n",
    "        prec.append(precision_score(y_hat, y_test))\n",
    "        recal.append(recall_score(y_hat, y_test))\n",
    "        roc_auc.append(roc_auc_score(y_test, y_hat))\n",
    "        pr_auc.append(auc(recall, precision))\n",
    "        \n",
    "    compare = pd.DataFrame({'Algorithm' : model_names , 'ROC_AUC': roc_auc, 'PR_AUC': pr_auc, 'Precision': prec, 'Recall': recal, 'F1_Train': f1_train, 'F1_Test': f1_test, 'Accuracy' : acc, })\n",
    "    return compare"
   ]
  },
  {
   "cell_type": "markdown",
   "metadata": {},
   "source": [
    "#### Writing a function returns Macro and Weighted average of Recall Score"
   ]
  },
  {
   "cell_type": "code",
   "execution_count": 10,
   "metadata": {},
   "outputs": [],
   "source": [
    "def macro_weighted(y_test, y_hat):\n",
    "    \n",
    "    rec = metrics.recall_score(y_test, y_hat)\n",
    "    print (\"Recall Score:\", rec)\n",
    "\n",
    "    rec_mac = metrics.recall_score(y_test, y_hat, average = 'macro')\n",
    "    print (\"Macro Average of Recall Score:\", rec_mac)\n",
    "\n",
    "    rec_wei = metrics.recall_score(y_test, y_hat, average = 'weighted')\n",
    "    print (\"Weighted Average of Recall Score:\", rec_wei)"
   ]
  },
  {
   "cell_type": "markdown",
   "metadata": {},
   "source": [
    "#### Writing a function returns Macro and Weighted average of Recall Score, Precision, and F1 Score"
   ]
  },
  {
   "cell_type": "code",
   "execution_count": 11,
   "metadata": {},
   "outputs": [],
   "source": [
    "def macro_weighted_prec_rec(y_test, y_hat):\n",
    "    \n",
    "    rec = metrics.recall_score(y_test, y_hat)\n",
    "    print (\"Recall Score:\", rec)\n",
    "    \n",
    "    rec_mac = metrics.recall_score(y_test, y_hat, average = 'macro')\n",
    "    print (\"Macro Average of Recall Score:\", rec_mac)\n",
    "\n",
    "    rec_wei = metrics.recall_score(y_test, y_hat, average = 'weighted')\n",
    "    print (\"Weighted Average of Recall Score:\", rec_wei)\n",
    "    \n",
    "    print ('.')\n",
    "    \n",
    "    prec_mac = metrics.precision_score(y_test, y_hat, average = 'macro')\n",
    "    print (\"Macro Average of Precision Score:\", prec_mac)\n",
    "\n",
    "    prec_wei = metrics.precision_score(y_test, y_hat, average = 'weighted')\n",
    "    print (\"Weighted Average of Precision Score:\", prec_wei)\n",
    "\n",
    "    f1_mac = metrics.f1_score(y_test, y_hat, average = 'macro')\n",
    "    print (\"Macro Average of F1 Score:\", f1_mac)\n",
    "\n",
    "    f1_wei = metrics.f1_score(y_test, y_hat, average = 'weighted')\n",
    "    print (\"Weighted Average of F1 Score:\", f1_wei)\n",
    "    \n",
    "    print ('.')"
   ]
  },
  {
   "cell_type": "markdown",
   "metadata": {},
   "source": [
    "#### Performance of the Tarining & Test Set"
   ]
  },
  {
   "cell_type": "code",
   "execution_count": 12,
   "metadata": {},
   "outputs": [],
   "source": [
    "def f1_acc(y_test, y_hat, y_train, y_hat_train): \n",
    "    \n",
    "    acc_train = metrics.accuracy_score(y_train, y_hat_train)\n",
    "    print (\"Accuracy Score of Train Set:\", acc_train)\n",
    "    \n",
    "    acc_test = metrics.accuracy_score(y_test, y_hat)\n",
    "    print (\"Accuracy Score of Test Set:\", acc_test)\n",
    "    \n",
    "    print ('.')\n",
    "    \n",
    "    f1_train = metrics.f1_score(y_train, y_hat_train, average = 'macro')\n",
    "    print (\"F1 Score of Train Set:\", f1_train)\n",
    "    \n",
    "    f1_test = metrics.f1_score(y_test, y_hat, average = 'macro')\n",
    "    print (\"F1 Score of Test Set:\", f1_test)\n",
    "    \n",
    "    ax1 = sns.distplot(y_train, hist=False, color='pink', kde_kws={'bw':0.1}, label = 'Train Data')\n",
    "    sns.distplot(y_hat_train, hist=False, ax=ax1, color='lightblue', kde_kws={'bw':0.1}, label = 'Predicted Data')\n",
    "    \n",
    "    plt.title('Actual vs Predicted Values for Diagnosis (Training Set)')\n",
    "    plt.xlabel('Diagnosis')\n",
    "    plt.ylabel('Proportion of Results')\n",
    "    plt.legend()\n",
    "    plt.show()\n",
    "    \n",
    "    ax2 = sns.distplot(y_test, hist=False, color='salmon', kde_kws={'bw':0.1}, label = 'Test Data')\n",
    "    sns.distplot(y_hat, hist=False, ax=ax2, color='lightblue', kde_kws={'bw':0.1}, label = 'Predicted Result')\n",
    "    plt.title('Actual vs Predicted Values for Diagnosis (Test Set)')\n",
    "    plt.xlabel('Diagnosis')\n",
    "    plt.ylabel('Proportion of Results')\n",
    "    plt.legend()\n",
    "    plt.show()"
   ]
  },
  {
   "cell_type": "markdown",
   "metadata": {},
   "source": [
    "#### ROC_AUC, Precision Recall AUC and the Confusion Matrices"
   ]
  },
  {
   "cell_type": "code",
   "execution_count": 13,
   "metadata": {},
   "outputs": [],
   "source": [
    "def roc_pr_cm(models=[]):\n",
    "    \n",
    "    roc_auc = []\n",
    "    pr_auc = []\n",
    "\n",
    "    for model in range(len(models)):\n",
    "        clf = models[model]\n",
    "        clf.fit(X_train, y_train)\n",
    "        y_hat = clf.predict(X_test)\n",
    "        y_hat_train = clf.predict(X_train) \n",
    "    \n",
    "        # predict probabilities\n",
    "        pred_prob = clf.predict_proba(X_test)\n",
    "    \n",
    "        # Print the confusion matrix\n",
    "        print('---------------------------------------------------------------')\n",
    "        \n",
    "        data = confusion_matrix(y_test, y_hat)\n",
    "        df_cm = pd.DataFrame(data, columns=np.unique(y_test), index = np.unique(y_test))\n",
    "        df_cm.index.name = 'Actual'\n",
    "        df_cm.columns.name = 'Predicted'\n",
    "        plt.figure(figsize = (6, 4))\n",
    "        #sns.set(font_scale=1.4) #for label size\n",
    "        sns.heatmap(df_cm, cmap=\"Blues\", annot=True,annot_kws={\"size\": 12})# font size\n",
    "        plt.show()\n",
    "        \n",
    "        tn, fp, fn, tp = confusion_matrix(y_test, y_hat).ravel()\n",
    "        print (\"TP: {}, FP: {}, TN: {}, FN: {}\".format(tp, fp, tn, fn))\n",
    "\n",
    "        # Print the precision and recall, among other metrics\n",
    "        print('---------------------------------------------------------------')\n",
    "        print(metrics.classification_report(y_test, y_hat, digits=3))\n",
    "        \n",
    "        print('---------------------------------------------------------------')\n",
    "        \n",
    "        macro_weighted(y_test, y_hat)\n",
    "        \n",
    "        print('---------------------------------------------------------------')\n",
    "     \n",
    "        fpr, tpr, thresh = roc_curve(y_test, pred_prob[:, 1], pos_label=1)\n",
    "        roc_auc.append(roc_auc_score(y_test, y_hat))\n",
    "    \n",
    "        plt.style.use('seaborn')\n",
    "        plt.figure(figsize=(8, 4))\n",
    "        # plot roc curves\n",
    "        plt.plot(fpr, tpr, label = models[model])\n",
    "    \n",
    "        plt.title('ROC curve where AUC= {}'.format(roc_auc[model]))\n",
    "        plt.xlabel('False Positive Rate')\n",
    "        plt.ylabel('True Positive rate')\n",
    "\n",
    "        plt.legend(loc='best')\n",
    "        plt.savefig('ROC', dpi=300)\n",
    "        plt.show();\n",
    "    \n",
    "        # calculate model precision-recall curve\n",
    "        # precision, recall, _ = precision_recall_curve(y_hat , y_test)\n",
    "        precision, recall, _ = precision_recall_curve(y_test, pred_prob[:, 1], pos_label=1)\n",
    "        pr_auc.append(auc(recall, precision))\n",
    "    \n",
    "        # plot the model precision-recall curve\n",
    "        plt.style.use('seaborn')\n",
    "        plt.figure(figsize=(8, 4))\n",
    "        plt.plot(recall, precision, marker='.', label = models[model])\n",
    "        plt.title('Precision Recall curve AUC= {}'.format(pr_auc[model]))\n",
    "        plt.xlabel('Recall')\n",
    "        plt.ylabel('Precision')\n",
    "        plt.legend(loc='best')\n",
    "        plt.show()"
   ]
  },
  {
   "cell_type": "markdown",
   "metadata": {},
   "source": [
    "## Final Model"
   ]
  },
  {
   "cell_type": "code",
   "execution_count": 14,
   "metadata": {},
   "outputs": [
    {
     "data": {
      "text/html": [
       "<div>\n",
       "<style scoped>\n",
       "    .dataframe tbody tr th:only-of-type {\n",
       "        vertical-align: middle;\n",
       "    }\n",
       "\n",
       "    .dataframe tbody tr th {\n",
       "        vertical-align: top;\n",
       "    }\n",
       "\n",
       "    .dataframe thead th {\n",
       "        text-align: right;\n",
       "    }\n",
       "</style>\n",
       "<table border=\"1\" class=\"dataframe\">\n",
       "  <thead>\n",
       "    <tr style=\"text-align: right;\">\n",
       "      <th></th>\n",
       "      <th>Algorithm</th>\n",
       "      <th>ROC_AUC</th>\n",
       "      <th>PR_AUC</th>\n",
       "      <th>Precision</th>\n",
       "      <th>Recall</th>\n",
       "      <th>F1_Train</th>\n",
       "      <th>F1_Test</th>\n",
       "      <th>Accuracy</th>\n",
       "    </tr>\n",
       "  </thead>\n",
       "  <tbody>\n",
       "    <tr>\n",
       "      <th>0</th>\n",
       "      <td>CatBoostClassifier</td>\n",
       "      <td>0.892208</td>\n",
       "      <td>0.939147</td>\n",
       "      <td>0.857143</td>\n",
       "      <td>0.9</td>\n",
       "      <td>1.0</td>\n",
       "      <td>0.878049</td>\n",
       "      <td>0.896907</td>\n",
       "    </tr>\n",
       "  </tbody>\n",
       "</table>\n",
       "</div>"
      ],
      "text/plain": [
       "            Algorithm   ROC_AUC    PR_AUC  Precision  Recall  F1_Train  \\\n",
       "0  CatBoostClassifier  0.892208  0.939147   0.857143     0.9       1.0   \n",
       "\n",
       "    F1_Test  Accuracy  \n",
       "0  0.878049  0.896907  "
      ]
     },
     "execution_count": 14,
     "metadata": {},
     "output_type": "execute_result"
    }
   ],
   "source": [
    "models = [CatBoostClassifier(random_seed=18,logging_level='Silent',\n",
    "iterations=1000,learning_rate=0.015,depth=6,\n",
    "l2_leaf_reg=5,loss_function='Logloss',\n",
    "leaf_estimation_iterations=10)]\n",
    "model_names=['CatBoostClassifier']\n",
    "model_comparison(models, model_names)"
   ]
  },
  {
   "cell_type": "code",
   "execution_count": 15,
   "metadata": {},
   "outputs": [
    {
     "name": "stdout",
     "output_type": "stream",
     "text": [
      "---------------------------------------------------------------\n"
     ]
    },
    {
     "data": {
      "image/png": "[encoded data removed]",
      "text/plain": [
       "<Figure size 432x288 with 2 Axes>"
      ]
     },
     "metadata": {
      "needs_background": "light"
     },
     "output_type": "display_data"
    },
    {
     "name": "stdout",
     "output_type": "stream",
     "text": [
      "TP: 36, FP: 4, TN: 51, FN: 6\n",
      "---------------------------------------------------------------\n",
      "              precision    recall  f1-score   support\n",
      "\n",
      "           0      0.895     0.927     0.911        55\n",
      "           1      0.900     0.857     0.878        42\n",
      "\n",
      "    accuracy                          0.897        97\n",
      "   macro avg      0.897     0.892     0.894        97\n",
      "weighted avg      0.897     0.897     0.897        97\n",
      "\n",
      "---------------------------------------------------------------\n",
      "Recall Score: 0.8571428571428571\n",
      "Macro Average of Recall Score: 0.8922077922077922\n",
      "Weighted Average of Recall Score: 0.8969072164948454\n",
      "---------------------------------------------------------------\n"
     ]
    },
    {
     "data": {
      "image/png": "[encoded data removed]",
      "text/plain": [
       "<Figure size 576x288 with 1 Axes>"
      ]
     },
     "metadata": {},
     "output_type": "display_data"
    },
    {
     "data": {
      "image/png": "[encoded data removed]",
      "text/plain": [
       "<Figure size 576x288 with 1 Axes>"
      ]
     },
     "metadata": {},
     "output_type": "display_data"
    }
   ],
   "source": [
    "models = [CatBoostClassifier(random_seed=18,logging_level='Silent',\n",
    "iterations=1000,learning_rate=0.015,depth=6,\n",
    "l2_leaf_reg=5,loss_function='Logloss',\n",
    "leaf_estimation_iterations=10)]\n",
    "roc_pr_cm(models)"
   ]
  },
  {
   "cell_type": "code",
   "execution_count": 16,
   "metadata": {},
   "outputs": [
    {
     "name": "stdout",
     "output_type": "stream",
     "text": [
      "Recall Score: 0.8571428571428571\n",
      "Macro Average of Recall Score: 0.8922077922077922\n",
      "Weighted Average of Recall Score: 0.8969072164948454\n",
      ".\n",
      "Macro Average of Precision Score: 0.8973684210526316\n",
      "Weighted Average of Precision Score: 0.8970157352143245\n",
      "Macro Average of F1 Score: 0.8943815331010452\n",
      "Weighted Average of F1 Score: 0.8965704587090053\n",
      ".\n",
      "Accuracy Score of Train Set: 1.0\n",
      "Accuracy Score of Test Set: 0.8969072164948454\n",
      ".\n",
      "F1 Score of Train Set: 1.0\n",
      "F1 Score of Test Set: 0.8943815331010452\n"
     ]
    },
    {
     "data": {
      "image/png": "[encoded data removed]",
      "text/plain": [
       "<Figure size 576x396 with 1 Axes>"
      ]
     },
     "metadata": {},
     "output_type": "display_data"
    },
    {
     "data": {
      "image/png": "[encoded data removed]",
      "text/plain": [
       "<Figure size 576x396 with 1 Axes>"
      ]
     },
     "metadata": {},
     "output_type": "display_data"
    }
   ],
   "source": [
    "from sklearn import model_selection\n",
    "from pprint import pprint\n",
    "\n",
    "model = CatBoostClassifier(random_seed=18,logging_level='Silent',\n",
    "iterations=1000,learning_rate=0.015,depth=6,\n",
    "l2_leaf_reg=5,loss_function='Logloss',\n",
    "leaf_estimation_iterations=10)\n",
    "\n",
    "model.fit(X_train, y_train)\n",
    "y_hat = model.predict(X_test)\n",
    "y_hat_train = model.predict(X_train)\n",
    "\n",
    "macro_weighted_prec_rec(y_test, y_hat)\n",
    "\n",
    "f1_acc(y_test, y_hat, y_train, y_hat_train)"
   ]
  },
  {
   "cell_type": "markdown",
   "metadata": {},
   "source": [
    "### Let's fit the whole data now to predict result from user input."
   ]
  },
  {
   "cell_type": "code",
   "execution_count": 16,
   "metadata": {},
   "outputs": [],
   "source": [
    "df = pd.read_csv('preprocessed_oasis_longitudinal.csv')\n",
    "df = df. drop('Unnamed: 0', axis=1)\n",
    "\n",
    "X = df.drop('CDR', axis = 1) \n",
    "y = df['CDR']"
   ]
  },
  {
   "cell_type": "code",
   "execution_count": 17,
   "metadata": {},
   "outputs": [],
   "source": [
    "from sklearn.preprocessing import StandardScaler\n",
    "sc = StandardScaler()\n",
    "X_std = sc.fit_transform(X)"
   ]
  },
  {
   "cell_type": "code",
   "execution_count": 18,
   "metadata": {},
   "outputs": [
    {
     "data": {
      "text/plain": [
       "<catboost.core.CatBoostClassifier at 0x26f27b0f188>"
      ]
     },
     "execution_count": 18,
     "metadata": {},
     "output_type": "execute_result"
    }
   ],
   "source": [
    "cat = CatBoostClassifier(logging_level='Silent', random_state = 42)\n",
    "cat.fit(X, y)"
   ]
  },
  {
   "cell_type": "code",
   "execution_count": 19,
   "metadata": {},
   "outputs": [],
   "source": [
    "import pickle \n",
    "# open a file, where you ant to store the data\n",
    "file = open('cat_longdementia.pkl', 'wb')\n",
    "\n",
    "# dump information to that file\n",
    "pickle.dump(cat, file)"
   ]
  }
 ],
 "metadata": {
  "kernelspec": {
   "display_name": "Python 3",
   "language": "python",
   "name": "python3"
  },
  "language_info": {
   "codemirror_mode": {
    "name": "ipython",
    "version": 3
   },
   "file_extension": ".py",
   "mimetype": "text/x-python",
   "name": "python",
   "nbconvert_exporter": "python",
   "pygments_lexer": "ipython3",
   "version": "3.7.6"
  }
 },
 "nbformat": 4,
 "nbformat_minor": 4
}
