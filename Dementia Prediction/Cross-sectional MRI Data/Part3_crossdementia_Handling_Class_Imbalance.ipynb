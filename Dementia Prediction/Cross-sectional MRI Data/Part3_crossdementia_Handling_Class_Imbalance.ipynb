{
 "cells": [
  {
   "cell_type": "markdown",
   "metadata": {},
   "source": [
    "# Part 3: Handling Imbalanced Class"
   ]
  },
  {
   "cell_type": "markdown",
   "metadata": {},
   "source": [
    "## Import Libraries"
   ]
  },
  {
   "cell_type": "code",
   "execution_count": 1,
   "metadata": {},
   "outputs": [
    {
     "name": "stderr",
     "output_type": "stream",
     "text": [
      "\n",
      "Bad key \"text.kerning_factor\" on line 4 in\n",
      "C:\\Users\\sumai\\Anaconda3\\lib\\site-packages\\matplotlib\\mpl-data\\stylelib\\_classic_test_patch.mplstyle.\n",
      "You probably need to get an updated matplotlibrc file from\n",
      "https://github.com/matplotlib/matplotlib/blob/v3.1.3/matplotlibrc.template\n",
      "or from the matplotlib source distribution\n"
     ]
    }
   ],
   "source": [
    "import warnings\n",
    "warnings.filterwarnings('ignore')\n",
    "\n",
    "import pandas as pd\n",
    "import numpy as np\n",
    "import missingno as msno\n",
    "import matplotlib.pyplot as plt\n",
    "import seaborn as sns\n",
    "from scipy import stats\n",
    "from catboost import CatBoostClassifier\n",
    "from sklearn.metrics import f1_score,accuracy_score, precision_score, recall_score, roc_curve, roc_auc_score, precision_recall_curve, auc\n",
    "from sklearn.metrics import accuracy_score, confusion_matrix, classification_report"
   ]
  },
  {
   "cell_type": "markdown",
   "metadata": {},
   "source": [
    "## Load Dataset\n",
    "Please see the link to know more about the dataset: https://www.kaggle.com/jboysen/mri-and-alzheimers"
   ]
  },
  {
   "cell_type": "code",
   "execution_count": 2,
   "metadata": {},
   "outputs": [
    {
     "data": {
      "text/html": [
       "<div>\n",
       "<style scoped>\n",
       "    .dataframe tbody tr th:only-of-type {\n",
       "        vertical-align: middle;\n",
       "    }\n",
       "\n",
       "    .dataframe tbody tr th {\n",
       "        vertical-align: top;\n",
       "    }\n",
       "\n",
       "    .dataframe thead th {\n",
       "        text-align: right;\n",
       "    }\n",
       "</style>\n",
       "<table border=\"1\" class=\"dataframe\">\n",
       "  <thead>\n",
       "    <tr style=\"text-align: right;\">\n",
       "      <th></th>\n",
       "      <th>Gender</th>\n",
       "      <th>Age</th>\n",
       "      <th>Educ</th>\n",
       "      <th>SES</th>\n",
       "      <th>MMSE</th>\n",
       "      <th>CDR</th>\n",
       "      <th>eTIV</th>\n",
       "      <th>nWBV</th>\n",
       "      <th>ASF</th>\n",
       "    </tr>\n",
       "  </thead>\n",
       "  <tbody>\n",
       "    <tr>\n",
       "      <th>0</th>\n",
       "      <td>1</td>\n",
       "      <td>74</td>\n",
       "      <td>2.0</td>\n",
       "      <td>3.0</td>\n",
       "      <td>29.0</td>\n",
       "      <td>0</td>\n",
       "      <td>1344</td>\n",
       "      <td>0.743</td>\n",
       "      <td>1.306</td>\n",
       "    </tr>\n",
       "    <tr>\n",
       "      <th>1</th>\n",
       "      <td>1</td>\n",
       "      <td>55</td>\n",
       "      <td>4.0</td>\n",
       "      <td>1.0</td>\n",
       "      <td>29.0</td>\n",
       "      <td>0</td>\n",
       "      <td>1147</td>\n",
       "      <td>0.810</td>\n",
       "      <td>1.531</td>\n",
       "    </tr>\n",
       "    <tr>\n",
       "      <th>2</th>\n",
       "      <td>1</td>\n",
       "      <td>73</td>\n",
       "      <td>4.0</td>\n",
       "      <td>3.0</td>\n",
       "      <td>27.0</td>\n",
       "      <td>1</td>\n",
       "      <td>1454</td>\n",
       "      <td>0.708</td>\n",
       "      <td>1.207</td>\n",
       "    </tr>\n",
       "    <tr>\n",
       "      <th>3</th>\n",
       "      <td>2</td>\n",
       "      <td>74</td>\n",
       "      <td>5.0</td>\n",
       "      <td>2.0</td>\n",
       "      <td>30.0</td>\n",
       "      <td>0</td>\n",
       "      <td>1636</td>\n",
       "      <td>0.689</td>\n",
       "      <td>1.073</td>\n",
       "    </tr>\n",
       "    <tr>\n",
       "      <th>4</th>\n",
       "      <td>1</td>\n",
       "      <td>52</td>\n",
       "      <td>3.0</td>\n",
       "      <td>2.0</td>\n",
       "      <td>30.0</td>\n",
       "      <td>0</td>\n",
       "      <td>1321</td>\n",
       "      <td>0.827</td>\n",
       "      <td>1.329</td>\n",
       "    </tr>\n",
       "  </tbody>\n",
       "</table>\n",
       "</div>"
      ],
      "text/plain": [
       "   Gender  Age  Educ  SES  MMSE  CDR  eTIV   nWBV    ASF\n",
       "0       1   74   2.0  3.0  29.0    0  1344  0.743  1.306\n",
       "1       1   55   4.0  1.0  29.0    0  1147  0.810  1.531\n",
       "2       1   73   4.0  3.0  27.0    1  1454  0.708  1.207\n",
       "3       2   74   5.0  2.0  30.0    0  1636  0.689  1.073\n",
       "4       1   52   3.0  2.0  30.0    0  1321  0.827  1.329"
      ]
     },
     "execution_count": 2,
     "metadata": {},
     "output_type": "execute_result"
    }
   ],
   "source": [
    "df = pd.read_csv('preprocessed_oasis_cross-sectional.csv')\n",
    "df = df. drop('Unnamed: 0', axis=1)\n",
    "df.head()"
   ]
  },
  {
   "cell_type": "code",
   "execution_count": 3,
   "metadata": {},
   "outputs": [],
   "source": [
    "features = df.columns.to_list()"
   ]
  },
  {
   "cell_type": "markdown",
   "metadata": {},
   "source": [
    "## Split Input and Traget Variables"
   ]
  },
  {
   "cell_type": "code",
   "execution_count": 4,
   "metadata": {},
   "outputs": [],
   "source": [
    "X = df.drop('CDR', axis = 1) \n",
    "y = df['CDR']"
   ]
  },
  {
   "cell_type": "code",
   "execution_count": 5,
   "metadata": {},
   "outputs": [
    {
     "data": {
      "text/plain": [
       "Index(['Gender', 'Age', 'Educ', 'SES', 'MMSE', 'eTIV', 'nWBV', 'ASF'], dtype='object')"
      ]
     },
     "execution_count": 5,
     "metadata": {},
     "output_type": "execute_result"
    }
   ],
   "source": [
    "X.columns"
   ]
  },
  {
   "cell_type": "markdown",
   "metadata": {},
   "source": [
    "## Train Test Split"
   ]
  },
  {
   "cell_type": "code",
   "execution_count": 6,
   "metadata": {},
   "outputs": [
    {
     "name": "stdout",
     "output_type": "stream",
     "text": [
      "Original shape of dataset: (235, 9)\n",
      "Shape of training dataset: (176, 8)\n",
      "Shape of testing dataset: (59, 8)\n"
     ]
    }
   ],
   "source": [
    "# train_test_split is used to split the dataset into test set and train set\n",
    "from sklearn.model_selection import train_test_split\n",
    "X_train, X_test, y_train, y_test = train_test_split(X, y, test_size=0.25, random_state =0)\n",
    "\n",
    "print(\"Original shape of dataset: {}\".format(df.shape))         # shape of original dataset\n",
    "print(\"Shape of training dataset: {}\".format(X_train.shape))      # shape of training dataset after split\n",
    "print(\"Shape of testing dataset: {}\".format(X_test.shape))        # shape of testing dataset after split"
   ]
  },
  {
   "cell_type": "markdown",
   "metadata": {},
   "source": [
    "### Defining function for later use"
   ]
  },
  {
   "cell_type": "code",
   "execution_count": 7,
   "metadata": {},
   "outputs": [],
   "source": [
    "def macro_weighted(y_test, y_hat):\n",
    "    \n",
    "    rec = recall_score(y_test, y_hat)\n",
    "    print (\"Recall Score:\", round(rec, 4))\n",
    "\n",
    "    rec_mac = recall_score(y_test, y_hat, average = 'macro')\n",
    "    print (\"Macro Average of Recall Score:\", round(rec_mac, 4))\n",
    "\n",
    "    rec_wei = recall_score(y_test, y_hat, average = 'weighted')\n",
    "    print (\"Weighted Average of Recall Score:\", round(rec_wei, 4))\n",
    "    \n",
    "    print ('------------------------------------------------------')\n",
    "    \n",
    "    prec_mac = precision_score(y_test, y_hat, average = 'macro')\n",
    "    print (\"Macro Average of Precision Score:\", round(prec_mac, 4))\n",
    "\n",
    "    prec_wei = precision_score(y_test, y_hat, average = 'weighted')\n",
    "    print (\"Weighted Average of Precision Score:\", round(prec_wei, 4))\n",
    "    \n",
    "    print ('------------------------------------------------------')\n",
    "\n",
    "    f1_mac = f1_score(y_test, y_hat, average = 'macro')\n",
    "    print (\"Macro Average of F1 Score:\", round(f1_mac, 4))\n",
    "\n",
    "    f1_wei = f1_score(y_test, y_hat, average = 'weighted')\n",
    "    print (\"Weighted Average of F1 Score:\", round(f1_wei, 4))"
   ]
  },
  {
   "cell_type": "code",
   "execution_count": 8,
   "metadata": {},
   "outputs": [],
   "source": [
    "def cm():  \n",
    "    \n",
    "        print('---------------------------------------------------------------')\n",
    "        \n",
    "        data = confusion_matrix(y_test, y_hat)\n",
    "        df_cm = pd.DataFrame(data, columns=np.unique(y_test), index = np.unique(y_test))\n",
    "        df_cm.index.name = 'Actual'\n",
    "        df_cm.columns.name = 'Predicted'\n",
    "        plt.figure(figsize = (6, 4))\n",
    "        #sns.set(font_scale=1.4) #for label size\n",
    "        sns.heatmap(df_cm, cmap=\"Blues\", annot=True,annot_kws={\"size\": 12})# font size\n",
    "        plt.show()\n",
    "        \n",
    "        tn, fp, fn, tp = confusion_matrix(y_test, y_hat).ravel()\n",
    "        print (\"TP: {}, FP: {}, TN: {}, FN: {}\".format(tp, fp, tn, fn))"
   ]
  },
  {
   "cell_type": "code",
   "execution_count": 9,
   "metadata": {},
   "outputs": [],
   "source": [
    "def class_rep():\n",
    "        \n",
    "        # Print the precision and recall, among other metrics\n",
    "        print('---------------------------------------------------------------')\n",
    "        print(classification_report(y_test, y_hat, digits=3))"
   ]
  },
  {
   "cell_type": "markdown",
   "metadata": {},
   "source": [
    "### Handling Imbalanced Dataset"
   ]
  },
  {
   "cell_type": "code",
   "execution_count": 10,
   "metadata": {},
   "outputs": [
    {
     "data": {
      "text/plain": [
       "<matplotlib.axes._subplots.AxesSubplot at 0x211b56e12c8>"
      ]
     },
     "execution_count": 10,
     "metadata": {},
     "output_type": "execute_result"
    },
    {
     "data": {
      "image/png": "[encoded data removed]",
      "text/plain": [
       "<Figure size 432x288 with 1 Axes>"
      ]
     },
     "metadata": {
      "needs_background": "light"
     },
     "output_type": "display_data"
    }
   ],
   "source": [
    "sns.countplot(df['CDR'], palette = \"Set3\")"
   ]
  },
  {
   "cell_type": "markdown",
   "metadata": {},
   "source": [
    "#### Resampling Techniques - Oversample Minority Class\n",
    "\n",
    "Oversampling can be defined as adding more copies of the minority class. In other words, we are creating artificial/synthetic data of the minority class (or group). Oversampling could be a good choice when you don’t have a lot of data to work with. We will use the resampling module from Scikit-Learn library to randomly create artificial samples of data from the minority class."
   ]
  },
  {
   "cell_type": "code",
   "execution_count": 11,
   "metadata": {},
   "outputs": [
    {
     "name": "stdout",
     "output_type": "stream",
     "text": [
      "Recall Score: 0.9286\n",
      "Macro Average of Recall Score: 0.8836\n",
      "Weighted Average of Recall Score: 0.8814\n",
      "------------------------------------------------------\n",
      "Macro Average of Precision Score: 0.8836\n",
      "Weighted Average of Precision Score: 0.8859\n",
      "------------------------------------------------------\n",
      "Macro Average of F1 Score: 0.8814\n",
      "Weighted Average of F1 Score: 0.8814\n",
      "---------------------------------------------------------------\n"
     ]
    },
    {
     "data": {
      "image/png": "[encoded data removed]",
      "text/plain": [
       "<Figure size 432x288 with 1 Axes>"
      ]
     },
     "metadata": {
      "needs_background": "light"
     },
     "output_type": "display_data"
    },
    {
     "data": {
      "image/png": "[encoded data removed]",
      "text/plain": [
       "<Figure size 432x288 with 2 Axes>"
      ]
     },
     "metadata": {
      "needs_background": "light"
     },
     "output_type": "display_data"
    },
    {
     "name": "stdout",
     "output_type": "stream",
     "text": [
      "TP: 26, FP: 5, TN: 26, FN: 2\n",
      "---------------------------------------------------------------\n",
      "              precision    recall  f1-score   support\n",
      "\n",
      "           0      0.929     0.839     0.881        31\n",
      "           1      0.839     0.929     0.881        28\n",
      "\n",
      "    accuracy                          0.881        59\n",
      "   macro avg      0.884     0.884     0.881        59\n",
      "weighted avg      0.886     0.881     0.881        59\n",
      "\n"
     ]
    }
   ],
   "source": [
    "# 'resample' is located under sklearn.utils\n",
    "from sklearn.utils import resample\n",
    "\n",
    "# concatenate training data back together\n",
    "train_data = pd.concat([X_train, y_train], axis = 1)\n",
    "\n",
    "# separate minority and majority class\n",
    "not_dem = train_data[train_data['CDR']==0]\n",
    "dem = train_data[train_data['CDR']==1]\n",
    "\n",
    "# we are oversampling the minority class to match the number of majority classs\n",
    "dem_oversampled = resample(dem,\n",
    "                           replace = True, # Sample with replacement\n",
    "                           n_samples = len(not_dem), # Match number in majority class\n",
    "                           random_state=27)\n",
    "\n",
    "# combine majority and upsampled minority\n",
    "oversampled = pd.concat([not_dem, dem_oversampled])\n",
    "sns.countplot(oversampled['CDR'], palette = \"Set2\")\n",
    "\n",
    "X_train = oversampled.drop('CDR', axis = 1) \n",
    "y_train = oversampled['CDR']\n",
    "\n",
    "from sklearn.preprocessing import StandardScaler\n",
    "sc = StandardScaler()\n",
    "X_train = sc.fit_transform(X_train)\n",
    "X_test = sc.transform(X_test)\n",
    "\n",
    "model = CatBoostClassifier(logging_level='Silent', random_state = 42)\n",
    "model.fit(X_train, y_train)\n",
    "y_hat = model.predict(X_test)\n",
    "\n",
    "macro_weighted(y_test, y_hat)\n",
    "cm()\n",
    "class_rep()"
   ]
  },
  {
   "cell_type": "markdown",
   "metadata": {},
   "source": [
    "#### Generate Synthetic Samples: SMOTE\n",
    "\n",
    "Here we will use imblearn’s SMOTE or Synthetic Minority Oversampling Technique. SMOTE uses a nearest neighbors algorithm to generate new and synthetic data we can use for training our model. It’s important to generate the new samples only in the training set to ensure our model generalizes well to unseen data."
   ]
  },
  {
   "cell_type": "code",
   "execution_count": 12,
   "metadata": {},
   "outputs": [
    {
     "data": {
      "text/plain": [
       "<matplotlib.axes._subplots.AxesSubplot at 0x211b54da588>"
      ]
     },
     "execution_count": 12,
     "metadata": {},
     "output_type": "execute_result"
    },
    {
     "data": {
      "image/png": "[encoded data removed]",
      "text/plain": [
       "<Figure size 432x288 with 1 Axes>"
      ]
     },
     "metadata": {
      "needs_background": "light"
     },
     "output_type": "display_data"
    }
   ],
   "source": [
    "df = pd.read_csv('preprocessed_oasis_cross-sectional.csv')\n",
    "df = df. drop('Unnamed: 0', axis=1)\n",
    "\n",
    "X = df.drop('CDR', axis = 1) \n",
    "y = df['CDR']\n",
    "\n",
    "X_train, X_test, y_train, y_test = train_test_split(X, y, test_size=0.25, random_state =0)\n",
    "\n",
    "# import SMOTE \n",
    "from imblearn.over_sampling import SMOTE\n",
    "sm = SMOTE(random_state = 25, sampling_strategy='auto')   # again we are eqalizing both the classes\n",
    "\n",
    "# fit the sampling\n",
    "X_train, y_train = sm.fit_sample(X_train, y_train)\n",
    "np.unique(y_train, return_counts=True)     # Y_train is numpy array, so unique() functions returns the count of all the unique elements in the array\n",
    "\n",
    "from sklearn.preprocessing import StandardScaler\n",
    "sc = StandardScaler()\n",
    "X_train = sc.fit_transform(X_train)\n",
    "X_test = sc.transform(X_test)\n",
    "\n",
    "sns.countplot(y_train, palette = \"Set2\")"
   ]
  },
  {
   "cell_type": "code",
   "execution_count": 13,
   "metadata": {},
   "outputs": [
    {
     "name": "stdout",
     "output_type": "stream",
     "text": [
      "Recall Score: 0.8929\n",
      "Macro Average of Recall Score: 0.8497\n",
      "Weighted Average of Recall Score: 0.8475\n",
      "------------------------------------------------------\n",
      "Macro Average of Precision Score: 0.8497\n",
      "Weighted Average of Precision Score: 0.8519\n",
      "------------------------------------------------------\n",
      "Macro Average of F1 Score: 0.8475\n",
      "Weighted Average of F1 Score: 0.8475\n",
      "---------------------------------------------------------------\n"
     ]
    },
    {
     "data": {
      "image/png": "[encoded data removed]",
      "text/plain": [
       "<Figure size 432x288 with 2 Axes>"
      ]
     },
     "metadata": {
      "needs_background": "light"
     },
     "output_type": "display_data"
    },
    {
     "name": "stdout",
     "output_type": "stream",
     "text": [
      "TP: 25, FP: 6, TN: 25, FN: 3\n",
      "---------------------------------------------------------------\n",
      "              precision    recall  f1-score   support\n",
      "\n",
      "           0      0.893     0.806     0.847        31\n",
      "           1      0.806     0.893     0.847        28\n",
      "\n",
      "    accuracy                          0.847        59\n",
      "   macro avg      0.850     0.850     0.847        59\n",
      "weighted avg      0.852     0.847     0.847        59\n",
      "\n"
     ]
    }
   ],
   "source": [
    "model = CatBoostClassifier(logging_level='Silent', random_state = 42)\n",
    "model.fit(X_train, y_train)\n",
    "y_hat = model.predict(X_test)\n",
    "\n",
    "macro_weighted(y_test, y_hat)\n",
    "cm()\n",
    "class_rep()"
   ]
  },
  {
   "cell_type": "markdown",
   "metadata": {},
   "source": [
    "#### SMOTETomek"
   ]
  },
  {
   "cell_type": "code",
   "execution_count": 14,
   "metadata": {},
   "outputs": [],
   "source": [
    "df = pd.read_csv('preprocessed_oasis_cross-sectional.csv')\n",
    "df = df. drop('Unnamed: 0', axis=1)\n",
    "\n",
    "X = df.drop('CDR', axis = 1) \n",
    "y = df['CDR']\n",
    "\n",
    "X_train, X_test, y_train, y_test = train_test_split(X, y, test_size=0.25, random_state =0)\n",
    "\n",
    "from sklearn.preprocessing import StandardScaler\n",
    "sc = StandardScaler()\n",
    "X_train = sc.fit_transform(X_train)\n",
    "X_test = sc.transform(X_test)"
   ]
  },
  {
   "cell_type": "code",
   "execution_count": 15,
   "metadata": {},
   "outputs": [
    {
     "name": "stdout",
     "output_type": "stream",
     "text": [
      "The number of classes before fit Counter({0: 104, 1: 72})\n",
      "The number of classes after fit Counter({0: 98, 1: 92})\n"
     ]
    },
    {
     "data": {
      "text/plain": [
       "<matplotlib.axes._subplots.AxesSubplot at 0x211b6552e48>"
      ]
     },
     "execution_count": 15,
     "metadata": {},
     "output_type": "execute_result"
    },
    {
     "data": {
      "image/png": "[encoded data removed]",
      "text/plain": [
       "<Figure size 432x288 with 1 Axes>"
      ]
     },
     "metadata": {
      "needs_background": "light"
     },
     "output_type": "display_data"
    }
   ],
   "source": [
    "from imblearn.combine import SMOTETomek\n",
    "from collections import Counter\n",
    "\n",
    "smot = SMOTETomek(0.95)\n",
    "X_train_ns, y_train_ns = smot.fit_sample(X_train, y_train)\n",
    "print(\"The number of classes before fit {}\".format(Counter(y_train)))\n",
    "print(\"The number of classes after fit {}\".format(Counter(y_train_ns)))\n",
    "\n",
    "sns.countplot(y_train_ns, palette = \"Set1\")"
   ]
  },
  {
   "cell_type": "code",
   "execution_count": 16,
   "metadata": {},
   "outputs": [
    {
     "name": "stdout",
     "output_type": "stream",
     "text": [
      "Recall Score: 0.8929\n",
      "Macro Average of Recall Score: 0.8658\n",
      "Weighted Average of Recall Score: 0.8644\n",
      "------------------------------------------------------\n",
      "Macro Average of Precision Score: 0.8649\n",
      "Weighted Average of Precision Score: 0.8665\n",
      "------------------------------------------------------\n",
      "Macro Average of F1 Score: 0.8644\n",
      "Weighted Average of F1 Score: 0.8645\n",
      "---------------------------------------------------------------\n"
     ]
    },
    {
     "data": {
      "image/png": "[encoded data removed]",
      "text/plain": [
       "<Figure size 432x288 with 2 Axes>"
      ]
     },
     "metadata": {
      "needs_background": "light"
     },
     "output_type": "display_data"
    },
    {
     "name": "stdout",
     "output_type": "stream",
     "text": [
      "TP: 25, FP: 5, TN: 26, FN: 3\n",
      "---------------------------------------------------------------\n",
      "              precision    recall  f1-score   support\n",
      "\n",
      "           0      0.897     0.839     0.867        31\n",
      "           1      0.833     0.893     0.862        28\n",
      "\n",
      "    accuracy                          0.864        59\n",
      "   macro avg      0.865     0.866     0.864        59\n",
      "weighted avg      0.867     0.864     0.864        59\n",
      "\n"
     ]
    }
   ],
   "source": [
    "model = CatBoostClassifier(logging_level='Silent', random_state = 42)\n",
    "model.fit(X_train, y_train)\n",
    "y_hat = model.predict(X_test)\n",
    "\n",
    "macro_weighted(y_test, y_hat)\n",
    "cm()\n",
    "class_rep()"
   ]
  },
  {
   "cell_type": "markdown",
   "metadata": {},
   "source": [
    "### We will oversample the minority class in this dataset "
   ]
  },
  {
   "cell_type": "code",
   "execution_count": 17,
   "metadata": {},
   "outputs": [],
   "source": [
    "def ovsample(X_train, y_train):\n",
    "    \n",
    "    # 'resample' is located under sklearn.utils\n",
    "    from sklearn.utils import resample\n",
    "\n",
    "    # concatenate training data back together\n",
    "    train_data = pd.concat([X_train, y_train], axis = 1)\n",
    "\n",
    "    # separate minority and majority class\n",
    "    not_dem = train_data[train_data['CDR']==0]\n",
    "    dem = train_data[train_data['CDR']==1]\n",
    "\n",
    "    # we are oversampling the minority class to match the number of majority classs\n",
    "    dem_oversampled = resample(dem,\n",
    "                           replace = True, # Sample with replacement\n",
    "                           n_samples = len(not_dem), # Match number in majority class\n",
    "                           random_state=27)\n",
    "\n",
    "    # combine majority and upsampled minority\n",
    "    oversampled = pd.concat([not_dem, dem_oversampled])\n",
    "    sns.countplot(oversampled['CDR'], palette = \"Set2\")\n",
    "\n",
    "    X_train_ov = oversampled.drop('CDR', axis = 1) \n",
    "    y_train_ov = oversampled['CDR']\n",
    "    \n",
    "    return X_train_ov, y_train_ov"
   ]
  },
  {
   "cell_type": "code",
   "execution_count": 18,
   "metadata": {},
   "outputs": [],
   "source": [
    "df = pd.read_csv('preprocessed_oasis_cross-sectional.csv')\n",
    "df = df. drop('Unnamed: 0', axis=1)\n",
    "\n",
    "X = df.drop('CDR', axis = 1) \n",
    "y = df['CDR']"
   ]
  },
  {
   "cell_type": "markdown",
   "metadata": {},
   "source": [
    "##### Let's try to find the threshold that corresponds to highest f1 score and thus find the best model. Please refer to https://towardsdatascience.com/beyond-accuracy-precision-and-recall-3da06bea9f6c."
   ]
  },
  {
   "cell_type": "code",
   "execution_count": 19,
   "metadata": {},
   "outputs": [],
   "source": [
    "# Let's change test size and see the difference\n",
    "test_size = list(np.arange(0.15, 0.41, 0.01))\n",
    "\n",
    "# Let's create a list of threshold value ranging from 0 to 1.\n",
    "threshold = list(np.arange(0.0, 1, 0.039))"
   ]
  },
  {
   "cell_type": "code",
   "execution_count": 20,
   "metadata": {},
   "outputs": [
    {
     "data": {
      "text/html": [
       "<div>\n",
       "<style scoped>\n",
       "    .dataframe tbody tr th:only-of-type {\n",
       "        vertical-align: middle;\n",
       "    }\n",
       "\n",
       "    .dataframe tbody tr th {\n",
       "        vertical-align: top;\n",
       "    }\n",
       "\n",
       "    .dataframe thead th {\n",
       "        text-align: right;\n",
       "    }\n",
       "</style>\n",
       "<table border=\"1\" class=\"dataframe\">\n",
       "  <thead>\n",
       "    <tr style=\"text-align: right;\">\n",
       "      <th></th>\n",
       "      <th>threshold</th>\n",
       "      <th>tp</th>\n",
       "      <th>fp</th>\n",
       "      <th>tn</th>\n",
       "      <th>fn</th>\n",
       "    </tr>\n",
       "  </thead>\n",
       "  <tbody>\n",
       "    <tr>\n",
       "      <th>0</th>\n",
       "      <td>0.000</td>\n",
       "      <td>15</td>\n",
       "      <td>2</td>\n",
       "      <td>17</td>\n",
       "      <td>2</td>\n",
       "    </tr>\n",
       "    <tr>\n",
       "      <th>1</th>\n",
       "      <td>0.039</td>\n",
       "      <td>15</td>\n",
       "      <td>2</td>\n",
       "      <td>19</td>\n",
       "      <td>2</td>\n",
       "    </tr>\n",
       "    <tr>\n",
       "      <th>2</th>\n",
       "      <td>0.078</td>\n",
       "      <td>16</td>\n",
       "      <td>2</td>\n",
       "      <td>20</td>\n",
       "      <td>2</td>\n",
       "    </tr>\n",
       "    <tr>\n",
       "      <th>3</th>\n",
       "      <td>0.117</td>\n",
       "      <td>18</td>\n",
       "      <td>4</td>\n",
       "      <td>19</td>\n",
       "      <td>2</td>\n",
       "    </tr>\n",
       "    <tr>\n",
       "      <th>4</th>\n",
       "      <td>0.156</td>\n",
       "      <td>18</td>\n",
       "      <td>3</td>\n",
       "      <td>22</td>\n",
       "      <td>2</td>\n",
       "    </tr>\n",
       "    <tr>\n",
       "      <th>5</th>\n",
       "      <td>0.195</td>\n",
       "      <td>19</td>\n",
       "      <td>6</td>\n",
       "      <td>20</td>\n",
       "      <td>3</td>\n",
       "    </tr>\n",
       "    <tr>\n",
       "      <th>6</th>\n",
       "      <td>0.234</td>\n",
       "      <td>19</td>\n",
       "      <td>4</td>\n",
       "      <td>23</td>\n",
       "      <td>4</td>\n",
       "    </tr>\n",
       "    <tr>\n",
       "      <th>7</th>\n",
       "      <td>0.273</td>\n",
       "      <td>21</td>\n",
       "      <td>5</td>\n",
       "      <td>22</td>\n",
       "      <td>4</td>\n",
       "    </tr>\n",
       "    <tr>\n",
       "      <th>8</th>\n",
       "      <td>0.312</td>\n",
       "      <td>22</td>\n",
       "      <td>4</td>\n",
       "      <td>24</td>\n",
       "      <td>5</td>\n",
       "    </tr>\n",
       "    <tr>\n",
       "      <th>9</th>\n",
       "      <td>0.351</td>\n",
       "      <td>23</td>\n",
       "      <td>6</td>\n",
       "      <td>24</td>\n",
       "      <td>4</td>\n",
       "    </tr>\n",
       "    <tr>\n",
       "      <th>10</th>\n",
       "      <td>0.390</td>\n",
       "      <td>26</td>\n",
       "      <td>5</td>\n",
       "      <td>26</td>\n",
       "      <td>2</td>\n",
       "    </tr>\n",
       "    <tr>\n",
       "      <th>11</th>\n",
       "      <td>0.429</td>\n",
       "      <td>27</td>\n",
       "      <td>5</td>\n",
       "      <td>27</td>\n",
       "      <td>3</td>\n",
       "    </tr>\n",
       "    <tr>\n",
       "      <th>12</th>\n",
       "      <td>0.468</td>\n",
       "      <td>25</td>\n",
       "      <td>4</td>\n",
       "      <td>29</td>\n",
       "      <td>6</td>\n",
       "    </tr>\n",
       "    <tr>\n",
       "      <th>13</th>\n",
       "      <td>0.507</td>\n",
       "      <td>28</td>\n",
       "      <td>6</td>\n",
       "      <td>28</td>\n",
       "      <td>4</td>\n",
       "    </tr>\n",
       "    <tr>\n",
       "      <th>14</th>\n",
       "      <td>0.546</td>\n",
       "      <td>26</td>\n",
       "      <td>6</td>\n",
       "      <td>31</td>\n",
       "      <td>6</td>\n",
       "    </tr>\n",
       "    <tr>\n",
       "      <th>15</th>\n",
       "      <td>0.585</td>\n",
       "      <td>28</td>\n",
       "      <td>7</td>\n",
       "      <td>32</td>\n",
       "      <td>4</td>\n",
       "    </tr>\n",
       "    <tr>\n",
       "      <th>16</th>\n",
       "      <td>0.624</td>\n",
       "      <td>28</td>\n",
       "      <td>6</td>\n",
       "      <td>33</td>\n",
       "      <td>6</td>\n",
       "    </tr>\n",
       "    <tr>\n",
       "      <th>17</th>\n",
       "      <td>0.663</td>\n",
       "      <td>29</td>\n",
       "      <td>6</td>\n",
       "      <td>35</td>\n",
       "      <td>6</td>\n",
       "    </tr>\n",
       "    <tr>\n",
       "      <th>18</th>\n",
       "      <td>0.702</td>\n",
       "      <td>31</td>\n",
       "      <td>6</td>\n",
       "      <td>36</td>\n",
       "      <td>5</td>\n",
       "    </tr>\n",
       "    <tr>\n",
       "      <th>19</th>\n",
       "      <td>0.741</td>\n",
       "      <td>27</td>\n",
       "      <td>5</td>\n",
       "      <td>37</td>\n",
       "      <td>11</td>\n",
       "    </tr>\n",
       "    <tr>\n",
       "      <th>20</th>\n",
       "      <td>0.780</td>\n",
       "      <td>28</td>\n",
       "      <td>4</td>\n",
       "      <td>39</td>\n",
       "      <td>12</td>\n",
       "    </tr>\n",
       "    <tr>\n",
       "      <th>21</th>\n",
       "      <td>0.819</td>\n",
       "      <td>31</td>\n",
       "      <td>8</td>\n",
       "      <td>36</td>\n",
       "      <td>10</td>\n",
       "    </tr>\n",
       "    <tr>\n",
       "      <th>22</th>\n",
       "      <td>0.858</td>\n",
       "      <td>32</td>\n",
       "      <td>5</td>\n",
       "      <td>40</td>\n",
       "      <td>10</td>\n",
       "    </tr>\n",
       "    <tr>\n",
       "      <th>23</th>\n",
       "      <td>0.897</td>\n",
       "      <td>32</td>\n",
       "      <td>6</td>\n",
       "      <td>42</td>\n",
       "      <td>10</td>\n",
       "    </tr>\n",
       "    <tr>\n",
       "      <th>24</th>\n",
       "      <td>0.936</td>\n",
       "      <td>34</td>\n",
       "      <td>6</td>\n",
       "      <td>43</td>\n",
       "      <td>9</td>\n",
       "    </tr>\n",
       "    <tr>\n",
       "      <th>25</th>\n",
       "      <td>0.975</td>\n",
       "      <td>33</td>\n",
       "      <td>6</td>\n",
       "      <td>44</td>\n",
       "      <td>12</td>\n",
       "    </tr>\n",
       "  </tbody>\n",
       "</table>\n",
       "</div>"
      ],
      "text/plain": [
       "    threshold  tp  fp  tn  fn\n",
       "0       0.000  15   2  17   2\n",
       "1       0.039  15   2  19   2\n",
       "2       0.078  16   2  20   2\n",
       "3       0.117  18   4  19   2\n",
       "4       0.156  18   3  22   2\n",
       "5       0.195  19   6  20   3\n",
       "6       0.234  19   4  23   4\n",
       "7       0.273  21   5  22   4\n",
       "8       0.312  22   4  24   5\n",
       "9       0.351  23   6  24   4\n",
       "10      0.390  26   5  26   2\n",
       "11      0.429  27   5  27   3\n",
       "12      0.468  25   4  29   6\n",
       "13      0.507  28   6  28   4\n",
       "14      0.546  26   6  31   6\n",
       "15      0.585  28   7  32   4\n",
       "16      0.624  28   6  33   6\n",
       "17      0.663  29   6  35   6\n",
       "18      0.702  31   6  36   5\n",
       "19      0.741  27   5  37  11\n",
       "20      0.780  28   4  39  12\n",
       "21      0.819  31   8  36  10\n",
       "22      0.858  32   5  40  10\n",
       "23      0.897  32   6  42  10\n",
       "24      0.936  34   6  43   9\n",
       "25      0.975  33   6  44  12"
      ]
     },
     "execution_count": 20,
     "metadata": {},
     "output_type": "execute_result"
    },
    {
     "data": {
      "image/png": "[encoded data removed]",
      "text/plain": [
       "<Figure size 432x288 with 1 Axes>"
      ]
     },
     "metadata": {
      "needs_background": "light"
     },
     "output_type": "display_data"
    }
   ],
   "source": [
    "# Now, let's append the threshol and tp, tn, fp, fn values in a DataFrame\n",
    "\n",
    "tp = []\n",
    "fp = []\n",
    "tn = []\n",
    "fn = []\n",
    "    \n",
    "for tt in test_size:\n",
    "\n",
    "    X_train, X_test, y_train, y_test = train_test_split(X, y, test_size= tt, random_state =0)\n",
    "    X_train, y_train = ovsample(X_train, y_train)\n",
    "    \n",
    "    sc = StandardScaler()\n",
    "    X_train = sc.fit_transform(X_train)\n",
    "    X_test = sc.transform(X_test)\n",
    "    \n",
    "    model = CatBoostClassifier(logging_level='Silent', random_state = 42)\n",
    "    model.fit(X_train, y_train)\n",
    "    y_hat = model.predict(X_test)\n",
    "        \n",
    "    tn.append(confusion_matrix(y_test, y_hat).ravel()[0]) \n",
    "    fp.append(confusion_matrix(y_test, y_hat).ravel()[1])\n",
    "    fn.append(confusion_matrix(y_test, y_hat).ravel()[2])\n",
    "    tp.append(confusion_matrix(y_test, y_hat).ravel()[3])\n",
    "    \n",
    "results = pd.DataFrame({'threshold': threshold, 'tp' : tp , 'fp': fp, 'tn': tn, 'fn': fn})\n",
    "results"
   ]
  },
  {
   "cell_type": "code",
   "execution_count": 21,
   "metadata": {},
   "outputs": [],
   "source": [
    "def calculate_metrics(results):\n",
    "    roc = pd.DataFrame(index = results['threshold'], columns=['recall', 'precision', 'f1', 'tpr', 'fpr'])\n",
    "    \n",
    "    for i in results.iterrows():\n",
    "        t, tp, fp, tn, fn = i[1]\n",
    "        tp + fp + tn + fn == 129\n",
    "        \n",
    "        recall = tp / (tp + fn)\n",
    "        \n",
    "        if tp == fp == 0:\n",
    "            precision = 0\n",
    "            true_positive_rate = 0\n",
    "        \n",
    "        else:\n",
    "            precision = tp / (tp + fp)\n",
    "            true_positive_rate = tp / (tp + fn)\n",
    "            \n",
    "        if precision == recall == 0:\n",
    "            f1 = 0\n",
    "        else:\n",
    "            f1 = 2 * (precision * recall) / (precision + recall)\n",
    "        \n",
    "        \n",
    "        false_positive_rate = fp / (fp + tn)\n",
    "        \n",
    "        roc.loc[t, 'recall'] = recall\n",
    "        roc.loc[t, 'precision'] = precision\n",
    "        roc.loc[t, 'f1'] = f1\n",
    "        roc.loc[t, 'tpr'] = true_positive_rate\n",
    "        roc.loc[t, 'fpr'] = false_positive_rate\n",
    "    \n",
    "    return roc"
   ]
  },
  {
   "cell_type": "code",
   "execution_count": 22,
   "metadata": {},
   "outputs": [
    {
     "data": {
      "text/html": [
       "<div>\n",
       "<style scoped>\n",
       "    .dataframe tbody tr th:only-of-type {\n",
       "        vertical-align: middle;\n",
       "    }\n",
       "\n",
       "    .dataframe tbody tr th {\n",
       "        vertical-align: top;\n",
       "    }\n",
       "\n",
       "    .dataframe thead th {\n",
       "        text-align: right;\n",
       "    }\n",
       "</style>\n",
       "<table border=\"1\" class=\"dataframe\">\n",
       "  <thead>\n",
       "    <tr style=\"text-align: right;\">\n",
       "      <th></th>\n",
       "      <th>threshold</th>\n",
       "      <th>recall</th>\n",
       "      <th>precision</th>\n",
       "      <th>f1</th>\n",
       "      <th>tpr</th>\n",
       "      <th>fpr</th>\n",
       "    </tr>\n",
       "  </thead>\n",
       "  <tbody>\n",
       "    <tr>\n",
       "      <th>0</th>\n",
       "      <td>0.000</td>\n",
       "      <td>0.882353</td>\n",
       "      <td>0.882353</td>\n",
       "      <td>0.882353</td>\n",
       "      <td>0.882353</td>\n",
       "      <td>0.105263</td>\n",
       "    </tr>\n",
       "    <tr>\n",
       "      <th>1</th>\n",
       "      <td>0.039</td>\n",
       "      <td>0.882353</td>\n",
       "      <td>0.882353</td>\n",
       "      <td>0.882353</td>\n",
       "      <td>0.882353</td>\n",
       "      <td>0.0952381</td>\n",
       "    </tr>\n",
       "    <tr>\n",
       "      <th>2</th>\n",
       "      <td>0.078</td>\n",
       "      <td>0.888889</td>\n",
       "      <td>0.888889</td>\n",
       "      <td>0.888889</td>\n",
       "      <td>0.888889</td>\n",
       "      <td>0.0909091</td>\n",
       "    </tr>\n",
       "    <tr>\n",
       "      <th>3</th>\n",
       "      <td>0.117</td>\n",
       "      <td>0.9</td>\n",
       "      <td>0.818182</td>\n",
       "      <td>0.857143</td>\n",
       "      <td>0.9</td>\n",
       "      <td>0.173913</td>\n",
       "    </tr>\n",
       "    <tr>\n",
       "      <th>4</th>\n",
       "      <td>0.156</td>\n",
       "      <td>0.9</td>\n",
       "      <td>0.857143</td>\n",
       "      <td>0.878049</td>\n",
       "      <td>0.9</td>\n",
       "      <td>0.12</td>\n",
       "    </tr>\n",
       "    <tr>\n",
       "      <th>5</th>\n",
       "      <td>0.195</td>\n",
       "      <td>0.863636</td>\n",
       "      <td>0.76</td>\n",
       "      <td>0.808511</td>\n",
       "      <td>0.863636</td>\n",
       "      <td>0.230769</td>\n",
       "    </tr>\n",
       "    <tr>\n",
       "      <th>6</th>\n",
       "      <td>0.234</td>\n",
       "      <td>0.826087</td>\n",
       "      <td>0.826087</td>\n",
       "      <td>0.826087</td>\n",
       "      <td>0.826087</td>\n",
       "      <td>0.148148</td>\n",
       "    </tr>\n",
       "    <tr>\n",
       "      <th>7</th>\n",
       "      <td>0.273</td>\n",
       "      <td>0.84</td>\n",
       "      <td>0.807692</td>\n",
       "      <td>0.823529</td>\n",
       "      <td>0.84</td>\n",
       "      <td>0.185185</td>\n",
       "    </tr>\n",
       "    <tr>\n",
       "      <th>8</th>\n",
       "      <td>0.312</td>\n",
       "      <td>0.814815</td>\n",
       "      <td>0.846154</td>\n",
       "      <td>0.830189</td>\n",
       "      <td>0.814815</td>\n",
       "      <td>0.142857</td>\n",
       "    </tr>\n",
       "    <tr>\n",
       "      <th>9</th>\n",
       "      <td>0.351</td>\n",
       "      <td>0.851852</td>\n",
       "      <td>0.793103</td>\n",
       "      <td>0.821429</td>\n",
       "      <td>0.851852</td>\n",
       "      <td>0.2</td>\n",
       "    </tr>\n",
       "    <tr>\n",
       "      <th>10</th>\n",
       "      <td>0.390</td>\n",
       "      <td>0.928571</td>\n",
       "      <td>0.83871</td>\n",
       "      <td>0.881356</td>\n",
       "      <td>0.928571</td>\n",
       "      <td>0.16129</td>\n",
       "    </tr>\n",
       "    <tr>\n",
       "      <th>11</th>\n",
       "      <td>0.429</td>\n",
       "      <td>0.9</td>\n",
       "      <td>0.84375</td>\n",
       "      <td>0.870968</td>\n",
       "      <td>0.9</td>\n",
       "      <td>0.15625</td>\n",
       "    </tr>\n",
       "    <tr>\n",
       "      <th>12</th>\n",
       "      <td>0.468</td>\n",
       "      <td>0.806452</td>\n",
       "      <td>0.862069</td>\n",
       "      <td>0.833333</td>\n",
       "      <td>0.806452</td>\n",
       "      <td>0.121212</td>\n",
       "    </tr>\n",
       "    <tr>\n",
       "      <th>13</th>\n",
       "      <td>0.507</td>\n",
       "      <td>0.875</td>\n",
       "      <td>0.823529</td>\n",
       "      <td>0.848485</td>\n",
       "      <td>0.875</td>\n",
       "      <td>0.176471</td>\n",
       "    </tr>\n",
       "    <tr>\n",
       "      <th>14</th>\n",
       "      <td>0.546</td>\n",
       "      <td>0.8125</td>\n",
       "      <td>0.8125</td>\n",
       "      <td>0.8125</td>\n",
       "      <td>0.8125</td>\n",
       "      <td>0.162162</td>\n",
       "    </tr>\n",
       "    <tr>\n",
       "      <th>15</th>\n",
       "      <td>0.585</td>\n",
       "      <td>0.875</td>\n",
       "      <td>0.8</td>\n",
       "      <td>0.835821</td>\n",
       "      <td>0.875</td>\n",
       "      <td>0.179487</td>\n",
       "    </tr>\n",
       "    <tr>\n",
       "      <th>16</th>\n",
       "      <td>0.624</td>\n",
       "      <td>0.823529</td>\n",
       "      <td>0.823529</td>\n",
       "      <td>0.823529</td>\n",
       "      <td>0.823529</td>\n",
       "      <td>0.153846</td>\n",
       "    </tr>\n",
       "    <tr>\n",
       "      <th>17</th>\n",
       "      <td>0.663</td>\n",
       "      <td>0.828571</td>\n",
       "      <td>0.828571</td>\n",
       "      <td>0.828571</td>\n",
       "      <td>0.828571</td>\n",
       "      <td>0.146341</td>\n",
       "    </tr>\n",
       "    <tr>\n",
       "      <th>18</th>\n",
       "      <td>0.702</td>\n",
       "      <td>0.861111</td>\n",
       "      <td>0.837838</td>\n",
       "      <td>0.849315</td>\n",
       "      <td>0.861111</td>\n",
       "      <td>0.142857</td>\n",
       "    </tr>\n",
       "    <tr>\n",
       "      <th>19</th>\n",
       "      <td>0.741</td>\n",
       "      <td>0.710526</td>\n",
       "      <td>0.84375</td>\n",
       "      <td>0.771429</td>\n",
       "      <td>0.710526</td>\n",
       "      <td>0.119048</td>\n",
       "    </tr>\n",
       "    <tr>\n",
       "      <th>20</th>\n",
       "      <td>0.780</td>\n",
       "      <td>0.7</td>\n",
       "      <td>0.875</td>\n",
       "      <td>0.777778</td>\n",
       "      <td>0.7</td>\n",
       "      <td>0.0930233</td>\n",
       "    </tr>\n",
       "    <tr>\n",
       "      <th>21</th>\n",
       "      <td>0.819</td>\n",
       "      <td>0.756098</td>\n",
       "      <td>0.794872</td>\n",
       "      <td>0.775</td>\n",
       "      <td>0.756098</td>\n",
       "      <td>0.181818</td>\n",
       "    </tr>\n",
       "    <tr>\n",
       "      <th>22</th>\n",
       "      <td>0.858</td>\n",
       "      <td>0.761905</td>\n",
       "      <td>0.864865</td>\n",
       "      <td>0.810127</td>\n",
       "      <td>0.761905</td>\n",
       "      <td>0.111111</td>\n",
       "    </tr>\n",
       "    <tr>\n",
       "      <th>23</th>\n",
       "      <td>0.897</td>\n",
       "      <td>0.761905</td>\n",
       "      <td>0.842105</td>\n",
       "      <td>0.8</td>\n",
       "      <td>0.761905</td>\n",
       "      <td>0.125</td>\n",
       "    </tr>\n",
       "    <tr>\n",
       "      <th>24</th>\n",
       "      <td>0.936</td>\n",
       "      <td>0.790698</td>\n",
       "      <td>0.85</td>\n",
       "      <td>0.819277</td>\n",
       "      <td>0.790698</td>\n",
       "      <td>0.122449</td>\n",
       "    </tr>\n",
       "    <tr>\n",
       "      <th>25</th>\n",
       "      <td>0.975</td>\n",
       "      <td>0.733333</td>\n",
       "      <td>0.846154</td>\n",
       "      <td>0.785714</td>\n",
       "      <td>0.733333</td>\n",
       "      <td>0.12</td>\n",
       "    </tr>\n",
       "  </tbody>\n",
       "</table>\n",
       "</div>"
      ],
      "text/plain": [
       "    threshold    recall precision        f1       tpr        fpr\n",
       "0       0.000  0.882353  0.882353  0.882353  0.882353   0.105263\n",
       "1       0.039  0.882353  0.882353  0.882353  0.882353  0.0952381\n",
       "2       0.078  0.888889  0.888889  0.888889  0.888889  0.0909091\n",
       "3       0.117       0.9  0.818182  0.857143       0.9   0.173913\n",
       "4       0.156       0.9  0.857143  0.878049       0.9       0.12\n",
       "5       0.195  0.863636      0.76  0.808511  0.863636   0.230769\n",
       "6       0.234  0.826087  0.826087  0.826087  0.826087   0.148148\n",
       "7       0.273      0.84  0.807692  0.823529      0.84   0.185185\n",
       "8       0.312  0.814815  0.846154  0.830189  0.814815   0.142857\n",
       "9       0.351  0.851852  0.793103  0.821429  0.851852        0.2\n",
       "10      0.390  0.928571   0.83871  0.881356  0.928571    0.16129\n",
       "11      0.429       0.9   0.84375  0.870968       0.9    0.15625\n",
       "12      0.468  0.806452  0.862069  0.833333  0.806452   0.121212\n",
       "13      0.507     0.875  0.823529  0.848485     0.875   0.176471\n",
       "14      0.546    0.8125    0.8125    0.8125    0.8125   0.162162\n",
       "15      0.585     0.875       0.8  0.835821     0.875   0.179487\n",
       "16      0.624  0.823529  0.823529  0.823529  0.823529   0.153846\n",
       "17      0.663  0.828571  0.828571  0.828571  0.828571   0.146341\n",
       "18      0.702  0.861111  0.837838  0.849315  0.861111   0.142857\n",
       "19      0.741  0.710526   0.84375  0.771429  0.710526   0.119048\n",
       "20      0.780       0.7     0.875  0.777778       0.7  0.0930233\n",
       "21      0.819  0.756098  0.794872     0.775  0.756098   0.181818\n",
       "22      0.858  0.761905  0.864865  0.810127  0.761905   0.111111\n",
       "23      0.897  0.761905  0.842105       0.8  0.761905      0.125\n",
       "24      0.936  0.790698      0.85  0.819277  0.790698   0.122449\n",
       "25      0.975  0.733333  0.846154  0.785714  0.733333       0.12"
      ]
     },
     "execution_count": 22,
     "metadata": {},
     "output_type": "execute_result"
    }
   ],
   "source": [
    "roc = calculate_metrics(results)\n",
    "roc.reset_index()"
   ]
  },
  {
   "cell_type": "markdown",
   "metadata": {},
   "source": [
    "#### Best F1 score: 0.888889 and 0.882353; thus, test size could be either 0.17 or 0.16.\n",
    "### Let's check.."
   ]
  },
  {
   "cell_type": "code",
   "execution_count": 23,
   "metadata": {},
   "outputs": [
    {
     "name": "stdout",
     "output_type": "stream",
     "text": [
      "-----------------------------------------------------------\n",
      "test_size: 0.15\n",
      "-----------------------------------------------------------\n",
      "Recall Score: 0.8824\n",
      "Macro Average of Recall Score: 0.8885\n",
      "Weighted Average of Recall Score: 0.8889\n",
      "------------------------------------------------------\n",
      "Macro Average of Precision Score: 0.8885\n",
      "Weighted Average of Precision Score: 0.8889\n",
      "------------------------------------------------------\n",
      "Macro Average of F1 Score: 0.8885\n",
      "Weighted Average of F1 Score: 0.8889\n",
      "---------------------------------------------------------------\n"
     ]
    },
    {
     "data": {
      "image/png": "[encoded data removed]",
      "text/plain": [
       "<Figure size 432x288 with 1 Axes>"
      ]
     },
     "metadata": {
      "needs_background": "light"
     },
     "output_type": "display_data"
    },
    {
     "data": {
      "image/png": "[encoded data removed]",
      "text/plain": [
       "<Figure size 432x288 with 2 Axes>"
      ]
     },
     "metadata": {
      "needs_background": "light"
     },
     "output_type": "display_data"
    },
    {
     "name": "stdout",
     "output_type": "stream",
     "text": [
      "TP: 15, FP: 2, TN: 17, FN: 2\n",
      "---------------------------------------------------------------\n",
      "              precision    recall  f1-score   support\n",
      "\n",
      "           0      0.895     0.895     0.895        19\n",
      "           1      0.882     0.882     0.882        17\n",
      "\n",
      "    accuracy                          0.889        36\n",
      "   macro avg      0.889     0.889     0.889        36\n",
      "weighted avg      0.889     0.889     0.889        36\n",
      "\n",
      "-----------------------------------------------------------\n",
      "test_size: 0.16\n",
      "-----------------------------------------------------------\n",
      "Recall Score: 0.8824\n",
      "Macro Average of Recall Score: 0.8936\n",
      "Weighted Average of Recall Score: 0.8947\n",
      "------------------------------------------------------\n",
      "Macro Average of Precision Score: 0.8936\n",
      "Weighted Average of Precision Score: 0.8947\n",
      "------------------------------------------------------\n",
      "Macro Average of F1 Score: 0.8936\n",
      "Weighted Average of F1 Score: 0.8947\n",
      "---------------------------------------------------------------\n"
     ]
    },
    {
     "data": {
      "image/png": "[encoded data removed]",
      "text/plain": [
       "<Figure size 432x288 with 1 Axes>"
      ]
     },
     "metadata": {
      "needs_background": "light"
     },
     "output_type": "display_data"
    },
    {
     "data": {
      "image/png": "[encoded data removed]",
      "text/plain": [
       "<Figure size 432x288 with 2 Axes>"
      ]
     },
     "metadata": {
      "needs_background": "light"
     },
     "output_type": "display_data"
    },
    {
     "name": "stdout",
     "output_type": "stream",
     "text": [
      "TP: 15, FP: 2, TN: 19, FN: 2\n",
      "---------------------------------------------------------------\n",
      "              precision    recall  f1-score   support\n",
      "\n",
      "           0      0.905     0.905     0.905        21\n",
      "           1      0.882     0.882     0.882        17\n",
      "\n",
      "    accuracy                          0.895        38\n",
      "   macro avg      0.894     0.894     0.894        38\n",
      "weighted avg      0.895     0.895     0.895        38\n",
      "\n",
      "-----------------------------------------------------------\n",
      "test_size: 0.17\n",
      "-----------------------------------------------------------\n",
      "Recall Score: 0.8889\n",
      "Macro Average of Recall Score: 0.899\n",
      "Weighted Average of Recall Score: 0.9\n",
      "------------------------------------------------------\n",
      "Macro Average of Precision Score: 0.899\n",
      "Weighted Average of Precision Score: 0.9\n",
      "------------------------------------------------------\n",
      "Macro Average of F1 Score: 0.899\n",
      "Weighted Average of F1 Score: 0.9\n",
      "---------------------------------------------------------------\n"
     ]
    },
    {
     "data": {
      "image/png": "[encoded data removed]",
      "text/plain": [
       "<Figure size 432x288 with 1 Axes>"
      ]
     },
     "metadata": {
      "needs_background": "light"
     },
     "output_type": "display_data"
    },
    {
     "data": {
      "image/png": "[encoded data removed]",
      "text/plain": [
       "<Figure size 432x288 with 2 Axes>"
      ]
     },
     "metadata": {
      "needs_background": "light"
     },
     "output_type": "display_data"
    },
    {
     "name": "stdout",
     "output_type": "stream",
     "text": [
      "TP: 16, FP: 2, TN: 20, FN: 2\n",
      "---------------------------------------------------------------\n",
      "              precision    recall  f1-score   support\n",
      "\n",
      "           0      0.909     0.909     0.909        22\n",
      "           1      0.889     0.889     0.889        18\n",
      "\n",
      "    accuracy                          0.900        40\n",
      "   macro avg      0.899     0.899     0.899        40\n",
      "weighted avg      0.900     0.900     0.900        40\n",
      "\n"
     ]
    }
   ],
   "source": [
    "test_size = [0.15, 0.16, 0.17]\n",
    "\n",
    "for t in test_size:\n",
    "    \n",
    "    df = pd.read_csv('preprocessed_oasis_cross-sectional.csv')\n",
    "    df = df. drop('Unnamed: 0', axis=1)\n",
    "\n",
    "    X = df.drop('CDR', axis = 1) \n",
    "    y = df['CDR']\n",
    "\n",
    "    X_train, X_test, y_train, y_test = train_test_split(X, y, test_size = t, random_state = 0)\n",
    "    \n",
    "    ## Oversampling the minor class\n",
    "    \n",
    "    X_train, y_train = ovsample(X_train, y_train)\n",
    "    \n",
    "    # standardizing the data\n",
    "    \n",
    "    from sklearn.preprocessing import StandardScaler\n",
    "    sc = StandardScaler()\n",
    "    X_train = sc.fit_transform(X_train)\n",
    "    X_test = sc.transform(X_test)\n",
    "    \n",
    "    model = CatBoostClassifier(logging_level='Silent', random_state = 42)\n",
    "    model.fit(X_train, y_train)\n",
    "    y_hat = model.predict(X_test)\n",
    "    \n",
    "    print ('-----------------------------------------------------------')\n",
    "    print ('test_size: {}'.format(t))\n",
    "    print ('-----------------------------------------------------------')\n",
    "\n",
    "    macro_weighted(y_test, y_hat)\n",
    "    cm()\n",
    "    class_rep()"
   ]
  },
  {
   "cell_type": "markdown",
   "metadata": {},
   "source": [
    "### We choose test_size  = 0.17"
   ]
  }
 ],
 "metadata": {
  "kernelspec": {
   "display_name": "Python 3",
   "language": "python",
   "name": "python3"
  },
  "language_info": {
   "codemirror_mode": {
    "name": "ipython",
    "version": 3
   },
   "file_extension": ".py",
   "mimetype": "text/x-python",
   "name": "python",
   "nbconvert_exporter": "python",
   "pygments_lexer": "ipython3",
   "version": "3.7.6"
  }
 },
 "nbformat": 4,
 "nbformat_minor": 4
}
