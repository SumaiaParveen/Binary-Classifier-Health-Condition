{
 "cells": [
  {
   "cell_type": "markdown",
   "metadata": {},
   "source": [
    "# Part 4: Feature Selection"
   ]
  },
  {
   "cell_type": "markdown",
   "metadata": {},
   "source": [
    "## Import Libraries"
   ]
  },
  {
   "cell_type": "code",
   "execution_count": 1,
   "metadata": {},
   "outputs": [
    {
     "name": "stderr",
     "output_type": "stream",
     "text": [
      "\n",
      "Bad key \"text.kerning_factor\" on line 4 in\n",
      "C:\\Users\\sumai\\Anaconda3\\lib\\site-packages\\matplotlib\\mpl-data\\stylelib\\_classic_test_patch.mplstyle.\n",
      "You probably need to get an updated matplotlibrc file from\n",
      "https://github.com/matplotlib/matplotlib/blob/v3.1.3/matplotlibrc.template\n",
      "or from the matplotlib source distribution\n"
     ]
    }
   ],
   "source": [
    "import warnings\n",
    "warnings.filterwarnings('ignore')\n",
    "\n",
    "import pandas as pd\n",
    "import numpy as np\n",
    "import missingno as msno\n",
    "import matplotlib.pyplot as plt\n",
    "import seaborn as sns\n",
    "from scipy import stats \n",
    "\n",
    "# Modelling Algorithms\n",
    "from sklearn.tree import DecisionTreeClassifier\n",
    "from sklearn.ensemble import AdaBoostClassifier\n",
    "from sklearn.ensemble import BaggingClassifier \n",
    "from xgboost import XGBClassifier\n",
    "from catboost import CatBoostClassifier\n",
    "from sklearn.linear_model import LogisticRegression\n",
    "from sklearn.neighbors import KNeighborsClassifier\n",
    "from sklearn.naive_bayes import GaussianNB\n",
    "from sklearn.svm import SVC, LinearSVC\n",
    "from sklearn.ensemble import RandomForestClassifier , GradientBoostingClassifier\n",
    "from sklearn.discriminant_analysis import LinearDiscriminantAnalysis , QuadraticDiscriminantAnalysis\n",
    "from sklearn.ensemble import BaggingClassifier, RandomForestClassifier\n",
    "from catboost import CatBoostClassifier\n",
    "from sklearn.tree import ExtraTreeClassifier\n",
    "from lightgbm.sklearn import LGBMClassifier\n",
    "from sklearn.metrics import f1_score,accuracy_score, precision_score, recall_score, roc_curve, roc_auc_score, precision_recall_curve, auc\n",
    "from sklearn import metrics\n",
    "from sklearn.metrics import precision_recall_curve\n",
    "from sklearn.metrics import plot_precision_recall_curve\n",
    "from sklearn.metrics import average_precision_score, confusion_matrix\n",
    "import matplotlib.pyplot as plt\n",
    "from imblearn.ensemble import EasyEnsembleClassifier"
   ]
  },
  {
   "cell_type": "markdown",
   "metadata": {},
   "source": [
    "## Load Dataset\n",
    "Please see the link to know more about the dataset: https://archive.ics.uci.edu/ml/datasets/Chronic_Kidney_Disease"
   ]
  },
  {
   "cell_type": "code",
   "execution_count": 2,
   "metadata": {},
   "outputs": [
    {
     "data": {
      "text/html": [
       "<div>\n",
       "<style scoped>\n",
       "    .dataframe tbody tr th:only-of-type {\n",
       "        vertical-align: middle;\n",
       "    }\n",
       "\n",
       "    .dataframe tbody tr th {\n",
       "        vertical-align: top;\n",
       "    }\n",
       "\n",
       "    .dataframe thead th {\n",
       "        text-align: right;\n",
       "    }\n",
       "</style>\n",
       "<table border=\"1\" class=\"dataframe\">\n",
       "  <thead>\n",
       "    <tr style=\"text-align: right;\">\n",
       "      <th></th>\n",
       "      <th>age</th>\n",
       "      <th>blood_pressure</th>\n",
       "      <th>specific_gravity</th>\n",
       "      <th>albumin</th>\n",
       "      <th>sugar</th>\n",
       "      <th>red_blood_cells</th>\n",
       "      <th>pus_cell</th>\n",
       "      <th>pus_cell_clumps</th>\n",
       "      <th>bacteria</th>\n",
       "      <th>blood_glucose_random</th>\n",
       "      <th>...</th>\n",
       "      <th>packed_cell_volume</th>\n",
       "      <th>white_blood_cell_count</th>\n",
       "      <th>red_blood_cell_count</th>\n",
       "      <th>hypertension</th>\n",
       "      <th>diabetes_mellitus</th>\n",
       "      <th>coronary_artery_disease</th>\n",
       "      <th>appetite</th>\n",
       "      <th>pedal_edema</th>\n",
       "      <th>anemia</th>\n",
       "      <th>classification</th>\n",
       "    </tr>\n",
       "  </thead>\n",
       "  <tbody>\n",
       "    <tr>\n",
       "      <th>0</th>\n",
       "      <td>48.0</td>\n",
       "      <td>80.0</td>\n",
       "      <td>1.020</td>\n",
       "      <td>1.0</td>\n",
       "      <td>0.0</td>\n",
       "      <td>0.0</td>\n",
       "      <td>0.0</td>\n",
       "      <td>0.0</td>\n",
       "      <td>0.0</td>\n",
       "      <td>121.0</td>\n",
       "      <td>...</td>\n",
       "      <td>44.0</td>\n",
       "      <td>7800.0</td>\n",
       "      <td>5.2</td>\n",
       "      <td>1.0</td>\n",
       "      <td>1.0</td>\n",
       "      <td>0.0</td>\n",
       "      <td>1.0</td>\n",
       "      <td>0.0</td>\n",
       "      <td>0.0</td>\n",
       "      <td>1</td>\n",
       "    </tr>\n",
       "    <tr>\n",
       "      <th>1</th>\n",
       "      <td>7.0</td>\n",
       "      <td>50.0</td>\n",
       "      <td>1.020</td>\n",
       "      <td>4.0</td>\n",
       "      <td>0.0</td>\n",
       "      <td>0.0</td>\n",
       "      <td>0.0</td>\n",
       "      <td>0.0</td>\n",
       "      <td>0.0</td>\n",
       "      <td>99.0</td>\n",
       "      <td>...</td>\n",
       "      <td>38.0</td>\n",
       "      <td>6000.0</td>\n",
       "      <td>5.2</td>\n",
       "      <td>0.0</td>\n",
       "      <td>0.0</td>\n",
       "      <td>0.0</td>\n",
       "      <td>1.0</td>\n",
       "      <td>0.0</td>\n",
       "      <td>0.0</td>\n",
       "      <td>1</td>\n",
       "    </tr>\n",
       "    <tr>\n",
       "      <th>2</th>\n",
       "      <td>62.0</td>\n",
       "      <td>80.0</td>\n",
       "      <td>1.010</td>\n",
       "      <td>2.0</td>\n",
       "      <td>3.0</td>\n",
       "      <td>0.0</td>\n",
       "      <td>0.0</td>\n",
       "      <td>0.0</td>\n",
       "      <td>0.0</td>\n",
       "      <td>423.0</td>\n",
       "      <td>...</td>\n",
       "      <td>31.0</td>\n",
       "      <td>7500.0</td>\n",
       "      <td>5.2</td>\n",
       "      <td>0.0</td>\n",
       "      <td>1.0</td>\n",
       "      <td>0.0</td>\n",
       "      <td>0.0</td>\n",
       "      <td>0.0</td>\n",
       "      <td>1.0</td>\n",
       "      <td>1</td>\n",
       "    </tr>\n",
       "    <tr>\n",
       "      <th>3</th>\n",
       "      <td>48.0</td>\n",
       "      <td>70.0</td>\n",
       "      <td>1.005</td>\n",
       "      <td>4.0</td>\n",
       "      <td>0.0</td>\n",
       "      <td>0.0</td>\n",
       "      <td>1.0</td>\n",
       "      <td>1.0</td>\n",
       "      <td>0.0</td>\n",
       "      <td>117.0</td>\n",
       "      <td>...</td>\n",
       "      <td>32.0</td>\n",
       "      <td>6700.0</td>\n",
       "      <td>3.9</td>\n",
       "      <td>1.0</td>\n",
       "      <td>0.0</td>\n",
       "      <td>0.0</td>\n",
       "      <td>0.0</td>\n",
       "      <td>1.0</td>\n",
       "      <td>1.0</td>\n",
       "      <td>1</td>\n",
       "    </tr>\n",
       "    <tr>\n",
       "      <th>4</th>\n",
       "      <td>51.0</td>\n",
       "      <td>80.0</td>\n",
       "      <td>1.010</td>\n",
       "      <td>2.0</td>\n",
       "      <td>0.0</td>\n",
       "      <td>0.0</td>\n",
       "      <td>0.0</td>\n",
       "      <td>0.0</td>\n",
       "      <td>0.0</td>\n",
       "      <td>106.0</td>\n",
       "      <td>...</td>\n",
       "      <td>35.0</td>\n",
       "      <td>7300.0</td>\n",
       "      <td>4.6</td>\n",
       "      <td>0.0</td>\n",
       "      <td>0.0</td>\n",
       "      <td>0.0</td>\n",
       "      <td>1.0</td>\n",
       "      <td>0.0</td>\n",
       "      <td>0.0</td>\n",
       "      <td>1</td>\n",
       "    </tr>\n",
       "  </tbody>\n",
       "</table>\n",
       "<p>5 rows × 25 columns</p>\n",
       "</div>"
      ],
      "text/plain": [
       "    age  blood_pressure  specific_gravity  albumin  sugar  red_blood_cells  \\\n",
       "0  48.0            80.0             1.020      1.0    0.0              0.0   \n",
       "1   7.0            50.0             1.020      4.0    0.0              0.0   \n",
       "2  62.0            80.0             1.010      2.0    3.0              0.0   \n",
       "3  48.0            70.0             1.005      4.0    0.0              0.0   \n",
       "4  51.0            80.0             1.010      2.0    0.0              0.0   \n",
       "\n",
       "   pus_cell  pus_cell_clumps  bacteria  blood_glucose_random  ...  \\\n",
       "0       0.0              0.0       0.0                 121.0  ...   \n",
       "1       0.0              0.0       0.0                  99.0  ...   \n",
       "2       0.0              0.0       0.0                 423.0  ...   \n",
       "3       1.0              1.0       0.0                 117.0  ...   \n",
       "4       0.0              0.0       0.0                 106.0  ...   \n",
       "\n",
       "   packed_cell_volume  white_blood_cell_count  red_blood_cell_count  \\\n",
       "0                44.0                  7800.0                   5.2   \n",
       "1                38.0                  6000.0                   5.2   \n",
       "2                31.0                  7500.0                   5.2   \n",
       "3                32.0                  6700.0                   3.9   \n",
       "4                35.0                  7300.0                   4.6   \n",
       "\n",
       "   hypertension  diabetes_mellitus  coronary_artery_disease  appetite  \\\n",
       "0           1.0                1.0                      0.0       1.0   \n",
       "1           0.0                0.0                      0.0       1.0   \n",
       "2           0.0                1.0                      0.0       0.0   \n",
       "3           1.0                0.0                      0.0       0.0   \n",
       "4           0.0                0.0                      0.0       1.0   \n",
       "\n",
       "   pedal_edema  anemia  classification  \n",
       "0          0.0     0.0               1  \n",
       "1          0.0     0.0               1  \n",
       "2          0.0     1.0               1  \n",
       "3          1.0     1.0               1  \n",
       "4          0.0     0.0               1  \n",
       "\n",
       "[5 rows x 25 columns]"
      ]
     },
     "execution_count": 2,
     "metadata": {},
     "output_type": "execute_result"
    }
   ],
   "source": [
    "df = pd.read_csv('preprocessed_kidney_disease.csv')\n",
    "df.drop('Unnamed: 0', axis=1, inplace = True)\n",
    "df.head()"
   ]
  },
  {
   "cell_type": "markdown",
   "metadata": {},
   "source": [
    "## Split Input and Traget Variables"
   ]
  },
  {
   "cell_type": "code",
   "execution_count": 3,
   "metadata": {},
   "outputs": [],
   "source": [
    "X = df.drop('classification', axis = 1) \n",
    "y = df['classification']"
   ]
  },
  {
   "cell_type": "code",
   "execution_count": 4,
   "metadata": {},
   "outputs": [
    {
     "data": {
      "text/plain": [
       "Index(['age', 'blood_pressure', 'specific_gravity', 'albumin', 'sugar',\n",
       "       'red_blood_cells', 'pus_cell', 'pus_cell_clumps', 'bacteria',\n",
       "       'blood_glucose_random', 'blood_urea', 'serum_creatinine', 'sodium',\n",
       "       'potassium', 'haemoglobin', 'packed_cell_volume',\n",
       "       'white_blood_cell_count', 'red_blood_cell_count', 'hypertension',\n",
       "       'diabetes_mellitus', 'coronary_artery_disease', 'appetite',\n",
       "       'pedal_edema', 'anemia'],\n",
       "      dtype='object')"
      ]
     },
     "execution_count": 4,
     "metadata": {},
     "output_type": "execute_result"
    }
   ],
   "source": [
    "X.columns"
   ]
  },
  {
   "cell_type": "markdown",
   "metadata": {},
   "source": [
    "## Train Test Split"
   ]
  },
  {
   "cell_type": "code",
   "execution_count": 5,
   "metadata": {},
   "outputs": [
    {
     "name": "stdout",
     "output_type": "stream",
     "text": [
      "Original shape of dataset: (400, 25)\n",
      "Shape of training dataset: (300, 24)\n",
      "Shape of testing dataset: (100, 24)\n"
     ]
    }
   ],
   "source": [
    "# train_test_split is used to split the dataset into test set and train set\n",
    "from sklearn.model_selection import train_test_split\n",
    "X_train, X_test, y_train, y_test = train_test_split(X, y, test_size=0.25, random_state =0)\n",
    "\n",
    "print(\"Original shape of dataset: {}\".format(df.shape))         # shape of original dataset\n",
    "print(\"Shape of training dataset: {}\".format(X_train.shape))      # shape of training dataset after split\n",
    "print(\"Shape of testing dataset: {}\".format(X_test.shape))        # shape of testing dataset after split"
   ]
  },
  {
   "cell_type": "markdown",
   "metadata": {},
   "source": [
    "## Defining all the functions"
   ]
  },
  {
   "cell_type": "markdown",
   "metadata": {},
   "source": [
    "#### Writing a function that returns the evaluation metrics as a DataFrame"
   ]
  },
  {
   "cell_type": "code",
   "execution_count": 6,
   "metadata": {},
   "outputs": [],
   "source": [
    "def model_comparison(models =[], model_names= []):\n",
    "    \n",
    "    acc = []\n",
    "    prec = []\n",
    "    recal = []\n",
    "    f1_train = []\n",
    "    f1_test = []\n",
    "    roc_auc = []\n",
    "    pr_auc = []\n",
    "    \n",
    "    for model in range(len(models)):\n",
    "        clf = models[model]\n",
    "        clf.fit(X_train, y_train)\n",
    "        y_hat = clf.predict(X_test)\n",
    "        y_hat_train = clf.predict(X_train) \n",
    "        pred_prob = clf.predict_proba(X_test)\n",
    "        precision, recall, _ = precision_recall_curve(y_test, pred_prob[:, 1], pos_label=1)\n",
    "\n",
    "        \n",
    "        f1_train.append(f1_score(y_hat_train, y_train))\n",
    "        f1_test.append(f1_score(y_hat, y_test))\n",
    "        acc.append(accuracy_score(y_hat, y_test))\n",
    "        prec.append(precision_score(y_hat, y_test))\n",
    "        recal.append(recall_score(y_hat, y_test))\n",
    "        roc_auc.append(roc_auc_score(y_test, y_hat))\n",
    "        pr_auc.append(auc(recall, precision))\n",
    "        \n",
    "    compare = pd.DataFrame({'Algorithm' : model_names , 'ROC_AUC': roc_auc, 'PR_AUC': pr_auc, 'Precision': prec, 'Recall': recal, 'F1_Train': f1_train, 'F1_Test': f1_test, 'Accuracy' : acc, })\n",
    "    return compare"
   ]
  },
  {
   "cell_type": "markdown",
   "metadata": {},
   "source": [
    "#### Writing a function returns Macro and Weighted average of Recall Score"
   ]
  },
  {
   "cell_type": "code",
   "execution_count": 7,
   "metadata": {},
   "outputs": [],
   "source": [
    "def macro_weighted(y_test, y_hat):\n",
    "    \n",
    "    rec = metrics.recall_score(y_test, y_hat)\n",
    "    print (\"Recall Score:\", round(rec, 4))\n",
    "    \n",
    "    print ('.')\n",
    "\n",
    "    rec_mac = metrics.recall_score(y_test, y_hat, average = 'macro')\n",
    "    print (\"Macro Average of Recall Score:\", round(rec_mac, 4))\n",
    "\n",
    "    rec_wei = metrics.recall_score(y_test, y_hat, average = 'weighted')\n",
    "    print (\"Weighted Average of Recall Score:\", round(rec_wei, 4))"
   ]
  },
  {
   "cell_type": "markdown",
   "metadata": {},
   "source": [
    "#### Writing a function returns Macro and Weighted average of Recall Score, Precision, and F1 Score"
   ]
  },
  {
   "cell_type": "code",
   "execution_count": 8,
   "metadata": {},
   "outputs": [],
   "source": [
    "def macro_weighted_prec_rec(y_test, y_hat):\n",
    "    \n",
    "    rec = metrics.recall_score(y_test, y_hat)\n",
    "    print (\"Recall Score:\", round(rec, 4))\n",
    "    \n",
    "    rec_mac = metrics.recall_score(y_test, y_hat, average = 'macro')\n",
    "    print (\"Macro Average of Recall Score:\", rec_mac)\n",
    "\n",
    "    rec_wei = metrics.recall_score(y_test, y_hat, average = 'weighted')\n",
    "    print (\"Weighted Average of Recall Score:\", rec_wei)\n",
    "    \n",
    "    prec_mac = metrics.precision_score(y_test, y_hat, average = 'macro')\n",
    "    print (\"Macro Average of Precision Score:\", prec_mac)\n",
    "\n",
    "    prec_wei = metrics.precision_score(y_test, y_hat, average = 'weighted')\n",
    "    print (\"Weighted Average of Precision Score:\", prec_wei)\n",
    "\n",
    "    f1_mac = metrics.f1_score(y_test, y_hat, average = 'macro')\n",
    "    print (\"Macro Average of F1 Score:\", f1_mac)\n",
    "\n",
    "    f1_wei = metrics.f1_score(y_test, y_hat, average = 'weighted')\n",
    "    print (\"Weighted Average of F1 Score:\", f1_wei)\n",
    "    \n",
    "    print ('.')\n",
    "    \n",
    "    acc = metrics.accuracy_score(y_test, y_hat)\n",
    "    print (\"Accuracy Score:\", acc) "
   ]
  },
  {
   "cell_type": "markdown",
   "metadata": {},
   "source": [
    "#### ROC_AUC, Precision Recall AUC and the Confusion Matrices"
   ]
  },
  {
   "cell_type": "code",
   "execution_count": 9,
   "metadata": {},
   "outputs": [],
   "source": [
    "def roc_pr_cm(models=[]):\n",
    "    \n",
    "    roc_auc = []\n",
    "    pr_auc = []\n",
    "\n",
    "    for model in range(len(models)):\n",
    "        clf = models[model]\n",
    "        clf.fit(X_train, y_train)\n",
    "        y_hat = clf.predict(X_test)\n",
    "        y_hat_train = clf.predict(X_train) \n",
    "    \n",
    "        # predict probabilities\n",
    "        pred_prob = clf.predict_proba(X_test)\n",
    "    \n",
    "        # Print the confusion matrix\n",
    "        print('---------------------------------------------------------------')\n",
    "        \n",
    "        data = confusion_matrix(y_test, y_hat)\n",
    "        df_cm = pd.DataFrame(data, columns=np.unique(y_test), index = np.unique(y_test))\n",
    "        df_cm.index.name = 'Actual'\n",
    "        df_cm.columns.name = 'Predicted'\n",
    "        plt.figure(figsize = (6, 4))\n",
    "        #sns.set(font_scale=1.4) #for label size\n",
    "        sns.heatmap(df_cm, cmap=\"Blues\", annot=True,annot_kws={\"size\": 12})# font size\n",
    "        plt.show()\n",
    "        \n",
    "        tn, fp, fn, tp = confusion_matrix(y_test, y_hat).ravel()\n",
    "        print (\"TP: {}, FP: {}, TN: {}, FN: {}\".format(tp, fp, tn, fn))\n",
    "\n",
    "        # Print the precision and recall, among other metrics\n",
    "        print('---------------------------------------------------------------')\n",
    "        print(metrics.classification_report(y_test, y_hat, digits=3))\n",
    "        \n",
    "        print('---------------------------------------------------------------')\n",
    "        \n",
    "        macro_weighted(y_test, y_hat)\n",
    "        \n",
    "        print('---------------------------------------------------------------')\n",
    "     \n",
    "        fpr, tpr, thresh = roc_curve(y_test, pred_prob[:, 1], pos_label=1)\n",
    "        roc_auc.append(roc_auc_score(y_test, y_hat))\n",
    "    \n",
    "        plt.style.use('seaborn')\n",
    "        plt.figure(figsize=(8, 4))\n",
    "        # plot roc curves\n",
    "        plt.plot(fpr, tpr, label = models[model])\n",
    "    \n",
    "        plt.title('ROC curve where AUC= {}'.format(roc_auc[model]))\n",
    "        plt.xlabel('False Positive Rate')\n",
    "        plt.ylabel('True Positive rate')\n",
    "\n",
    "        plt.legend(loc='best')\n",
    "        plt.savefig('ROC', dpi=300)\n",
    "        plt.show();\n",
    "    \n",
    "        # calculate model precision-recall curve\n",
    "        # precision, recall, _ = precision_recall_curve(y_hat , y_test)\n",
    "        precision, recall, _ = precision_recall_curve(y_test, pred_prob[:, 1], pos_label=1)\n",
    "        pr_auc.append(auc(recall, precision))\n",
    "    \n",
    "        # plot the model precision-recall curve\n",
    "        plt.style.use('seaborn')\n",
    "        plt.figure(figsize=(8, 4))\n",
    "        plt.plot(recall, precision, marker='.', label = models[model])\n",
    "        plt.title('Precision Recall curve AUC= {}'.format(pr_auc[model]))\n",
    "        plt.xlabel('Recall')\n",
    "        plt.ylabel('Precision')\n",
    "        plt.legend(loc='best')\n",
    "        plt.show()"
   ]
  },
  {
   "cell_type": "markdown",
   "metadata": {},
   "source": [
    "## (a) Feature selection using SelectFromModel and LassoCV"
   ]
  },
  {
   "cell_type": "code",
   "execution_count": 10,
   "metadata": {},
   "outputs": [],
   "source": [
    "df = pd.read_csv('preprocessed_kidney_disease.csv')\n",
    "df.drop('Unnamed: 0', axis=1, inplace = True)\n",
    "\n",
    "X = df.drop('classification', axis = 1) \n",
    "y = df['classification']\n",
    "\n",
    "X_train, X_test, y_train, y_test = train_test_split(X, y, test_size=0.25, random_state =0)\n",
    "\n",
    "from sklearn.preprocessing import StandardScaler\n",
    "sc = StandardScaler()\n",
    "X_train = sc.fit_transform(X_train)\n",
    "X_test = sc.transform(X_test)"
   ]
  },
  {
   "cell_type": "code",
   "execution_count": 11,
   "metadata": {},
   "outputs": [
    {
     "data": {
      "image/png": "[encoded data removed]",
      "text/plain": [
       "<Figure size 432x288 with 1 Axes>"
      ]
     },
     "metadata": {
      "needs_background": "light"
     },
     "output_type": "display_data"
    },
    {
     "name": "stdout",
     "output_type": "stream",
     "text": [
      "Selected features: ['specific_gravity' 'diabetes_mellitus' 'packed_cell_volume'\n",
      " 'hypertension' 'haemoglobin' 'albumin' 'appetite' 'sodium'\n",
      " 'white_blood_cell_count' 'blood_pressure' 'red_blood_cells' 'age'\n",
      " 'coronary_artery_disease' 'red_blood_cell_count' 'serum_creatinine']\n"
     ]
    }
   ],
   "source": [
    "from sklearn.linear_model import LassoCV\n",
    "import warnings\n",
    "warnings.filterwarnings('ignore')\n",
    "\n",
    "clf = LassoCV(random_state=42).fit(X_train, y_train)\n",
    "importance = np.abs(clf.coef_)\n",
    "\n",
    "idx_features = (-importance).argsort()[:15]\n",
    "name_features = np.array(X.columns.to_list())[idx_features]\n",
    "\n",
    "# plot feature importance\n",
    "plt.bar([x for x in range(len(importance))], importance)\n",
    "plt.xlabel('Features')\n",
    "plt.ylabel('Importance')\n",
    "plt.title(\"Feature selection using SelectFromModel and LassoCV \")\n",
    "plt.show()\n",
    "\n",
    "print('Selected features: {}'.format(name_features))"
   ]
  },
  {
   "cell_type": "code",
   "execution_count": 12,
   "metadata": {},
   "outputs": [],
   "source": [
    "df = pd.read_csv('preprocessed_kidney_disease.csv', usecols = ['specific_gravity', 'diabetes_mellitus', 'packed_cell_volume',\n",
    " 'hypertension', 'haemoglobin', 'albumin', 'appetite', 'sodium',\n",
    " 'white_blood_cell_count', 'blood_pressure', 'red_blood_cells', 'age',\n",
    " 'coronary_artery_disease', 'red_blood_cell_count', 'serum_creatinine', 'classification'])\n",
    "\n",
    "X = df.drop('classification', axis = 1) \n",
    "y = df['classification']\n",
    "\n",
    "X_train, X_test, y_train, y_test = train_test_split(X, y, test_size=0.25, random_state =0)\n",
    "\n",
    "from sklearn.preprocessing import StandardScaler\n",
    "sc = StandardScaler()\n",
    "X_train = sc.fit_transform(X_train)\n",
    "X_test = sc.transform(X_test)"
   ]
  },
  {
   "cell_type": "code",
   "execution_count": 13,
   "metadata": {},
   "outputs": [
    {
     "data": {
      "text/html": [
       "<div>\n",
       "<style scoped>\n",
       "    .dataframe tbody tr th:only-of-type {\n",
       "        vertical-align: middle;\n",
       "    }\n",
       "\n",
       "    .dataframe tbody tr th {\n",
       "        vertical-align: top;\n",
       "    }\n",
       "\n",
       "    .dataframe thead th {\n",
       "        text-align: right;\n",
       "    }\n",
       "</style>\n",
       "<table border=\"1\" class=\"dataframe\">\n",
       "  <thead>\n",
       "    <tr style=\"text-align: right;\">\n",
       "      <th></th>\n",
       "      <th>Algorithm</th>\n",
       "      <th>ROC_AUC</th>\n",
       "      <th>PR_AUC</th>\n",
       "      <th>Precision</th>\n",
       "      <th>Recall</th>\n",
       "      <th>F1_Train</th>\n",
       "      <th>F1_Test</th>\n",
       "      <th>Accuracy</th>\n",
       "    </tr>\n",
       "  </thead>\n",
       "  <tbody>\n",
       "    <tr>\n",
       "      <th>0</th>\n",
       "      <td>RandomForestClassifier</td>\n",
       "      <td>1.0</td>\n",
       "      <td>1.0</td>\n",
       "      <td>1.0</td>\n",
       "      <td>1.0</td>\n",
       "      <td>1.0</td>\n",
       "      <td>1.0</td>\n",
       "      <td>1.0</td>\n",
       "    </tr>\n",
       "  </tbody>\n",
       "</table>\n",
       "</div>"
      ],
      "text/plain": [
       "                Algorithm  ROC_AUC  PR_AUC  Precision  Recall  F1_Train  \\\n",
       "0  RandomForestClassifier      1.0     1.0        1.0     1.0       1.0   \n",
       "\n",
       "   F1_Test  Accuracy  \n",
       "0      1.0       1.0  "
      ]
     },
     "execution_count": 13,
     "metadata": {},
     "output_type": "execute_result"
    }
   ],
   "source": [
    "models = [RandomForestClassifier(random_state = 42)]\n",
    "model_names=['RandomForestClassifier']\n",
    "model_comparison(models, model_names)"
   ]
  },
  {
   "cell_type": "code",
   "execution_count": 14,
   "metadata": {},
   "outputs": [
    {
     "name": "stdout",
     "output_type": "stream",
     "text": [
      "---------------------------------------------------------------\n"
     ]
    },
    {
     "data": {
      "image/png": "[encoded data removed]",
      "text/plain": [
       "<Figure size 432x288 with 2 Axes>"
      ]
     },
     "metadata": {
      "needs_background": "light"
     },
     "output_type": "display_data"
    },
    {
     "name": "stdout",
     "output_type": "stream",
     "text": [
      "TP: 62, FP: 0, TN: 38, FN: 0\n",
      "---------------------------------------------------------------\n",
      "              precision    recall  f1-score   support\n",
      "\n",
      "           0      1.000     1.000     1.000        38\n",
      "           1      1.000     1.000     1.000        62\n",
      "\n",
      "    accuracy                          1.000       100\n",
      "   macro avg      1.000     1.000     1.000       100\n",
      "weighted avg      1.000     1.000     1.000       100\n",
      "\n",
      "---------------------------------------------------------------\n",
      "Recall Score: 1.0\n",
      ".\n",
      "Macro Average of Recall Score: 1.0\n",
      "Weighted Average of Recall Score: 1.0\n",
      "---------------------------------------------------------------\n"
     ]
    },
    {
     "data": {
      "image/png": "[encoded data removed]",
      "text/plain": [
       "<Figure size 576x288 with 1 Axes>"
      ]
     },
     "metadata": {},
     "output_type": "display_data"
    },
    {
     "data": {
      "image/png": "[encoded data removed]",
      "text/plain": [
       "<Figure size 576x288 with 1 Axes>"
      ]
     },
     "metadata": {},
     "output_type": "display_data"
    }
   ],
   "source": [
    "models = [RandomForestClassifier(random_state = 42)]\n",
    "roc_pr_cm(models)"
   ]
  },
  {
   "cell_type": "markdown",
   "metadata": {},
   "source": [
    "## (b) Feature Selection: RandomForest Recursive Feature Elimination"
   ]
  },
  {
   "cell_type": "code",
   "execution_count": 15,
   "metadata": {},
   "outputs": [],
   "source": [
    "df = pd.read_csv('preprocessed_kidney_disease.csv')\n",
    "df.drop('Unnamed: 0', axis=1, inplace = True)\n",
    "\n",
    "X = df.drop('classification', axis = 1) \n",
    "y = df['classification']\n",
    "\n",
    "X_train, X_test, y_train, y_test = train_test_split(X, y, test_size=0.25, random_state =0)\n",
    "\n",
    "from sklearn.preprocessing import StandardScaler\n",
    "sc = StandardScaler()\n",
    "X_train = sc.fit_transform(X_train)\n",
    "X_test = sc.transform(X_test)"
   ]
  },
  {
   "cell_type": "markdown",
   "metadata": {},
   "source": [
    "### sklearn.feature_selection.RFE"
   ]
  },
  {
   "cell_type": "code",
   "execution_count": 16,
   "metadata": {},
   "outputs": [
    {
     "name": "stdout",
     "output_type": "stream",
     "text": [
      "Num Features: 15\n",
      "-----------------------------------------------------------------------\n",
      "Selected Features: [False False  True  True False False False False False  True  True  True\n",
      "  True  True  True  True  True  True  True  True False  True  True False]\n",
      "-----------------------------------------------------------------------\n",
      "Feature Ranking: [ 3  4  1  1  2  6  5  8  9  1  1  1  1  1  1  1  1  1  1  1 10  1  1  7]\n"
     ]
    }
   ],
   "source": [
    "from sklearn.ensemble import RandomForestClassifier\n",
    "rf = RandomForestClassifier(random_state=42, n_estimators=100, criterion='entropy', max_depth=20, max_features='auto')\n",
    "\n",
    "from sklearn.feature_selection import RFE\n",
    "rfe = RFE(estimator=rf, n_features_to_select=15, step = 1)\n",
    "\n",
    "fit = rfe.fit(X_train, y_train)\n",
    "\n",
    "print(\"Num Features: %d\" % fit.n_features_)\n",
    "\n",
    "print('-----------------------------------------------------------------------')\n",
    "\n",
    "print(\"Selected Features: %s\" % fit.support_)\n",
    "\n",
    "print('-----------------------------------------------------------------------')\n",
    "\n",
    "print(\"Feature Ranking: %s\" % fit.ranking_)"
   ]
  },
  {
   "cell_type": "code",
   "execution_count": 17,
   "metadata": {},
   "outputs": [
    {
     "data": {
      "text/html": [
       "<div>\n",
       "<style scoped>\n",
       "    .dataframe tbody tr th:only-of-type {\n",
       "        vertical-align: middle;\n",
       "    }\n",
       "\n",
       "    .dataframe tbody tr th {\n",
       "        vertical-align: top;\n",
       "    }\n",
       "\n",
       "    .dataframe thead th {\n",
       "        text-align: right;\n",
       "    }\n",
       "</style>\n",
       "<table border=\"1\" class=\"dataframe\">\n",
       "  <thead>\n",
       "    <tr style=\"text-align: right;\">\n",
       "      <th></th>\n",
       "      <th>Feature</th>\n",
       "      <th>Ranking</th>\n",
       "    </tr>\n",
       "  </thead>\n",
       "  <tbody>\n",
       "    <tr>\n",
       "      <th>2</th>\n",
       "      <td>specific_gravity</td>\n",
       "      <td>1</td>\n",
       "    </tr>\n",
       "    <tr>\n",
       "      <th>3</th>\n",
       "      <td>albumin</td>\n",
       "      <td>1</td>\n",
       "    </tr>\n",
       "    <tr>\n",
       "      <th>9</th>\n",
       "      <td>blood_glucose_random</td>\n",
       "      <td>1</td>\n",
       "    </tr>\n",
       "    <tr>\n",
       "      <th>10</th>\n",
       "      <td>blood_urea</td>\n",
       "      <td>1</td>\n",
       "    </tr>\n",
       "    <tr>\n",
       "      <th>11</th>\n",
       "      <td>serum_creatinine</td>\n",
       "      <td>1</td>\n",
       "    </tr>\n",
       "    <tr>\n",
       "      <th>12</th>\n",
       "      <td>sodium</td>\n",
       "      <td>1</td>\n",
       "    </tr>\n",
       "    <tr>\n",
       "      <th>13</th>\n",
       "      <td>potassium</td>\n",
       "      <td>1</td>\n",
       "    </tr>\n",
       "    <tr>\n",
       "      <th>14</th>\n",
       "      <td>haemoglobin</td>\n",
       "      <td>1</td>\n",
       "    </tr>\n",
       "    <tr>\n",
       "      <th>15</th>\n",
       "      <td>packed_cell_volume</td>\n",
       "      <td>1</td>\n",
       "    </tr>\n",
       "    <tr>\n",
       "      <th>16</th>\n",
       "      <td>white_blood_cell_count</td>\n",
       "      <td>1</td>\n",
       "    </tr>\n",
       "    <tr>\n",
       "      <th>17</th>\n",
       "      <td>red_blood_cell_count</td>\n",
       "      <td>1</td>\n",
       "    </tr>\n",
       "    <tr>\n",
       "      <th>18</th>\n",
       "      <td>hypertension</td>\n",
       "      <td>1</td>\n",
       "    </tr>\n",
       "    <tr>\n",
       "      <th>19</th>\n",
       "      <td>diabetes_mellitus</td>\n",
       "      <td>1</td>\n",
       "    </tr>\n",
       "    <tr>\n",
       "      <th>21</th>\n",
       "      <td>appetite</td>\n",
       "      <td>1</td>\n",
       "    </tr>\n",
       "    <tr>\n",
       "      <th>22</th>\n",
       "      <td>pedal_edema</td>\n",
       "      <td>1</td>\n",
       "    </tr>\n",
       "  </tbody>\n",
       "</table>\n",
       "</div>"
      ],
      "text/plain": [
       "                   Feature  Ranking\n",
       "2         specific_gravity        1\n",
       "3                  albumin        1\n",
       "9     blood_glucose_random        1\n",
       "10              blood_urea        1\n",
       "11        serum_creatinine        1\n",
       "12                  sodium        1\n",
       "13               potassium        1\n",
       "14             haemoglobin        1\n",
       "15      packed_cell_volume        1\n",
       "16  white_blood_cell_count        1\n",
       "17    red_blood_cell_count        1\n",
       "18            hypertension        1\n",
       "19       diabetes_mellitus        1\n",
       "21                appetite        1\n",
       "22             pedal_edema        1"
      ]
     },
     "execution_count": 17,
     "metadata": {},
     "output_type": "execute_result"
    }
   ],
   "source": [
    "selected_rfe_features = pd.DataFrame({'Feature':list(X.columns),\n",
    "                                      'Ranking':rfe.ranking_})\n",
    "\n",
    "selected_rfe_features.sort_values(by='Ranking')\n",
    "selected_rfe_features = selected_rfe_features[selected_rfe_features['Ranking'] == 1]\n",
    "top15 = selected_rfe_features.nlargest(15,'Ranking')\n",
    "top15"
   ]
  },
  {
   "cell_type": "code",
   "execution_count": 18,
   "metadata": {},
   "outputs": [
    {
     "data": {
      "text/plain": [
       "array(['specific_gravity', 'albumin', 'blood_glucose_random',\n",
       "       'blood_urea', 'serum_creatinine', 'sodium', 'potassium',\n",
       "       'haemoglobin', 'packed_cell_volume', 'white_blood_cell_count',\n",
       "       'red_blood_cell_count', 'hypertension', 'diabetes_mellitus',\n",
       "       'appetite', 'pedal_edema'], dtype=object)"
      ]
     },
     "execution_count": 18,
     "metadata": {},
     "output_type": "execute_result"
    }
   ],
   "source": [
    "top15.Feature.values"
   ]
  },
  {
   "cell_type": "code",
   "execution_count": 19,
   "metadata": {},
   "outputs": [],
   "source": [
    "df = pd.read_csv('preprocessed_kidney_disease.csv', usecols = ['specific_gravity', 'albumin', 'blood_glucose_random',\n",
    "       'blood_urea', 'serum_creatinine', 'sodium', 'potassium',\n",
    "       'haemoglobin', 'packed_cell_volume', 'white_blood_cell_count',\n",
    "       'red_blood_cell_count', 'hypertension', 'diabetes_mellitus',\n",
    "       'appetite', 'pedal_edema', 'classification'])\n",
    "\n",
    "X = df.drop('classification', axis = 1) \n",
    "y = df['classification']\n",
    "\n",
    "X_train, X_test, y_train, y_test = train_test_split(X, y, test_size=0.25, random_state =0)\n",
    "\n",
    "from sklearn.preprocessing import StandardScaler\n",
    "sc = StandardScaler()\n",
    "X_train = sc.fit_transform(X_train)\n",
    "X_test = sc.transform(X_test)"
   ]
  },
  {
   "cell_type": "code",
   "execution_count": 20,
   "metadata": {},
   "outputs": [
    {
     "data": {
      "text/html": [
       "<div>\n",
       "<style scoped>\n",
       "    .dataframe tbody tr th:only-of-type {\n",
       "        vertical-align: middle;\n",
       "    }\n",
       "\n",
       "    .dataframe tbody tr th {\n",
       "        vertical-align: top;\n",
       "    }\n",
       "\n",
       "    .dataframe thead th {\n",
       "        text-align: right;\n",
       "    }\n",
       "</style>\n",
       "<table border=\"1\" class=\"dataframe\">\n",
       "  <thead>\n",
       "    <tr style=\"text-align: right;\">\n",
       "      <th></th>\n",
       "      <th>Algorithm</th>\n",
       "      <th>ROC_AUC</th>\n",
       "      <th>PR_AUC</th>\n",
       "      <th>Precision</th>\n",
       "      <th>Recall</th>\n",
       "      <th>F1_Train</th>\n",
       "      <th>F1_Test</th>\n",
       "      <th>Accuracy</th>\n",
       "    </tr>\n",
       "  </thead>\n",
       "  <tbody>\n",
       "    <tr>\n",
       "      <th>0</th>\n",
       "      <td>RandomForestClassifier</td>\n",
       "      <td>1.0</td>\n",
       "      <td>1.0</td>\n",
       "      <td>1.0</td>\n",
       "      <td>1.0</td>\n",
       "      <td>1.0</td>\n",
       "      <td>1.0</td>\n",
       "      <td>1.0</td>\n",
       "    </tr>\n",
       "  </tbody>\n",
       "</table>\n",
       "</div>"
      ],
      "text/plain": [
       "                Algorithm  ROC_AUC  PR_AUC  Precision  Recall  F1_Train  \\\n",
       "0  RandomForestClassifier      1.0     1.0        1.0     1.0       1.0   \n",
       "\n",
       "   F1_Test  Accuracy  \n",
       "0      1.0       1.0  "
      ]
     },
     "execution_count": 20,
     "metadata": {},
     "output_type": "execute_result"
    }
   ],
   "source": [
    "models = [RandomForestClassifier(random_state = 42)]\n",
    "model_names=['RandomForestClassifier']\n",
    "model_comparison(models, model_names)"
   ]
  },
  {
   "cell_type": "code",
   "execution_count": 21,
   "metadata": {},
   "outputs": [
    {
     "name": "stdout",
     "output_type": "stream",
     "text": [
      "---------------------------------------------------------------\n"
     ]
    },
    {
     "data": {
      "image/png": "[encoded data removed]",
      "text/plain": [
       "<Figure size 432x288 with 2 Axes>"
      ]
     },
     "metadata": {},
     "output_type": "display_data"
    },
    {
     "name": "stdout",
     "output_type": "stream",
     "text": [
      "TP: 62, FP: 0, TN: 38, FN: 0\n",
      "---------------------------------------------------------------\n",
      "              precision    recall  f1-score   support\n",
      "\n",
      "           0      1.000     1.000     1.000        38\n",
      "           1      1.000     1.000     1.000        62\n",
      "\n",
      "    accuracy                          1.000       100\n",
      "   macro avg      1.000     1.000     1.000       100\n",
      "weighted avg      1.000     1.000     1.000       100\n",
      "\n",
      "---------------------------------------------------------------\n",
      "Recall Score: 1.0\n",
      ".\n",
      "Macro Average of Recall Score: 1.0\n",
      "Weighted Average of Recall Score: 1.0\n",
      "---------------------------------------------------------------\n"
     ]
    },
    {
     "data": {
      "image/png": "[encoded data removed]",
      "text/plain": [
       "<Figure size 576x288 with 1 Axes>"
      ]
     },
     "metadata": {},
     "output_type": "display_data"
    },
    {
     "data": {
      "image/png": "[encoded data removed]",
      "text/plain": [
       "<Figure size 576x288 with 1 Axes>"
      ]
     },
     "metadata": {},
     "output_type": "display_data"
    }
   ],
   "source": [
    "models = [RandomForestClassifier(random_state = 42)]\n",
    "roc_pr_cm(models)"
   ]
  },
  {
   "cell_type": "markdown",
   "metadata": {},
   "source": [
    "## (c) Feature Selection: RandomForest Boruta"
   ]
  },
  {
   "cell_type": "code",
   "execution_count": 22,
   "metadata": {},
   "outputs": [],
   "source": [
    "df = pd.read_csv('preprocessed_kidney_disease.csv')\n",
    "df.drop('Unnamed: 0', axis=1, inplace = True)\n",
    "\n",
    "X = df.drop('classification', axis = 1) \n",
    "y = df['classification']\n",
    "\n",
    "X_train, X_test, y_train, y_test = train_test_split(X, y, test_size=0.25, random_state =0)\n",
    "\n",
    "from sklearn.preprocessing import StandardScaler\n",
    "sc = StandardScaler()\n",
    "X_train = sc.fit_transform(X_train)\n",
    "X_test = sc.transform(X_test)"
   ]
  },
  {
   "cell_type": "code",
   "execution_count": 23,
   "metadata": {},
   "outputs": [
    {
     "name": "stdout",
     "output_type": "stream",
     "text": [
      "Iteration: \t1 / 100\n",
      "Confirmed: \t0\n",
      "Tentative: \t24\n",
      "Rejected: \t0\n",
      "Iteration: \t2 / 100\n",
      "Confirmed: \t0\n",
      "Tentative: \t24\n",
      "Rejected: \t0\n",
      "Iteration: \t3 / 100\n",
      "Confirmed: \t0\n",
      "Tentative: \t24\n",
      "Rejected: \t0\n",
      "Iteration: \t4 / 100\n",
      "Confirmed: \t0\n",
      "Tentative: \t24\n",
      "Rejected: \t0\n",
      "Iteration: \t5 / 100\n",
      "Confirmed: \t0\n",
      "Tentative: \t24\n",
      "Rejected: \t0\n",
      "Iteration: \t6 / 100\n",
      "Confirmed: \t0\n",
      "Tentative: \t24\n",
      "Rejected: \t0\n",
      "Iteration: \t7 / 100\n",
      "Confirmed: \t0\n",
      "Tentative: \t24\n",
      "Rejected: \t0\n",
      "Iteration: \t8 / 100\n",
      "Confirmed: \t18\n",
      "Tentative: \t3\n",
      "Rejected: \t3\n",
      "Iteration: \t9 / 100\n",
      "Confirmed: \t18\n",
      "Tentative: \t3\n",
      "Rejected: \t3\n",
      "Iteration: \t10 / 100\n",
      "Confirmed: \t18\n",
      "Tentative: \t3\n",
      "Rejected: \t3\n",
      "Iteration: \t11 / 100\n",
      "Confirmed: \t18\n",
      "Tentative: \t3\n",
      "Rejected: \t3\n",
      "Iteration: \t12 / 100\n",
      "Confirmed: \t18\n",
      "Tentative: \t3\n",
      "Rejected: \t3\n",
      "Iteration: \t13 / 100\n",
      "Confirmed: \t18\n",
      "Tentative: \t3\n",
      "Rejected: \t3\n",
      "Iteration: \t14 / 100\n",
      "Confirmed: \t18\n",
      "Tentative: \t3\n",
      "Rejected: \t3\n",
      "Iteration: \t15 / 100\n",
      "Confirmed: \t18\n",
      "Tentative: \t3\n",
      "Rejected: \t3\n",
      "Iteration: \t16 / 100\n",
      "Confirmed: \t19\n",
      "Tentative: \t2\n",
      "Rejected: \t3\n",
      "Iteration: \t17 / 100\n",
      "Confirmed: \t19\n",
      "Tentative: \t2\n",
      "Rejected: \t3\n",
      "Iteration: \t18 / 100\n",
      "Confirmed: \t19\n",
      "Tentative: \t2\n",
      "Rejected: \t3\n",
      "Iteration: \t19 / 100\n",
      "Confirmed: \t20\n",
      "Tentative: \t1\n",
      "Rejected: \t3\n",
      "Iteration: \t20 / 100\n",
      "Confirmed: \t20\n",
      "Tentative: \t1\n",
      "Rejected: \t3\n",
      "Iteration: \t21 / 100\n",
      "Confirmed: \t20\n",
      "Tentative: \t1\n",
      "Rejected: \t3\n",
      "Iteration: \t22 / 100\n",
      "Confirmed: \t20\n",
      "Tentative: \t1\n",
      "Rejected: \t3\n",
      "Iteration: \t23 / 100\n",
      "Confirmed: \t20\n",
      "Tentative: \t1\n",
      "Rejected: \t3\n",
      "Iteration: \t24 / 100\n",
      "Confirmed: \t20\n",
      "Tentative: \t1\n",
      "Rejected: \t3\n",
      "Iteration: \t25 / 100\n",
      "Confirmed: \t20\n",
      "Tentative: \t1\n",
      "Rejected: \t3\n",
      "Iteration: \t26 / 100\n",
      "Confirmed: \t20\n",
      "Tentative: \t1\n",
      "Rejected: \t3\n",
      "Iteration: \t27 / 100\n",
      "Confirmed: \t20\n",
      "Tentative: \t1\n",
      "Rejected: \t3\n",
      "Iteration: \t28 / 100\n",
      "Confirmed: \t20\n",
      "Tentative: \t1\n",
      "Rejected: \t3\n",
      "Iteration: \t29 / 100\n",
      "Confirmed: \t20\n",
      "Tentative: \t1\n",
      "Rejected: \t3\n",
      "Iteration: \t30 / 100\n",
      "Confirmed: \t20\n",
      "Tentative: \t1\n",
      "Rejected: \t3\n",
      "Iteration: \t31 / 100\n",
      "Confirmed: \t20\n",
      "Tentative: \t1\n",
      "Rejected: \t3\n",
      "Iteration: \t32 / 100\n",
      "Confirmed: \t20\n",
      "Tentative: \t1\n",
      "Rejected: \t3\n",
      "Iteration: \t33 / 100\n",
      "Confirmed: \t20\n",
      "Tentative: \t1\n",
      "Rejected: \t3\n",
      "Iteration: \t34 / 100\n",
      "Confirmed: \t20\n",
      "Tentative: \t1\n",
      "Rejected: \t3\n",
      "Iteration: \t35 / 100\n",
      "Confirmed: \t20\n",
      "Tentative: \t1\n",
      "Rejected: \t3\n",
      "Iteration: \t36 / 100\n",
      "Confirmed: \t20\n",
      "Tentative: \t1\n",
      "Rejected: \t3\n",
      "Iteration: \t37 / 100\n",
      "Confirmed: \t20\n",
      "Tentative: \t1\n",
      "Rejected: \t3\n",
      "Iteration: \t38 / 100\n",
      "Confirmed: \t20\n",
      "Tentative: \t1\n",
      "Rejected: \t3\n",
      "Iteration: \t39 / 100\n",
      "Confirmed: \t20\n",
      "Tentative: \t1\n",
      "Rejected: \t3\n",
      "Iteration: \t40 / 100\n",
      "Confirmed: \t20\n",
      "Tentative: \t1\n",
      "Rejected: \t3\n",
      "Iteration: \t41 / 100\n",
      "Confirmed: \t20\n",
      "Tentative: \t1\n",
      "Rejected: \t3\n",
      "Iteration: \t42 / 100\n",
      "Confirmed: \t20\n",
      "Tentative: \t1\n",
      "Rejected: \t3\n",
      "Iteration: \t43 / 100\n",
      "Confirmed: \t20\n",
      "Tentative: \t1\n",
      "Rejected: \t3\n",
      "Iteration: \t44 / 100\n",
      "Confirmed: \t20\n",
      "Tentative: \t1\n",
      "Rejected: \t3\n",
      "Iteration: \t45 / 100\n",
      "Confirmed: \t20\n",
      "Tentative: \t1\n",
      "Rejected: \t3\n",
      "Iteration: \t46 / 100\n",
      "Confirmed: \t20\n",
      "Tentative: \t1\n",
      "Rejected: \t3\n",
      "Iteration: \t47 / 100\n",
      "Confirmed: \t20\n",
      "Tentative: \t1\n",
      "Rejected: \t3\n",
      "Iteration: \t48 / 100\n",
      "Confirmed: \t20\n",
      "Tentative: \t1\n",
      "Rejected: \t3\n",
      "Iteration: \t49 / 100\n",
      "Confirmed: \t20\n",
      "Tentative: \t1\n",
      "Rejected: \t3\n",
      "Iteration: \t50 / 100\n",
      "Confirmed: \t20\n",
      "Tentative: \t1\n",
      "Rejected: \t3\n",
      "Iteration: \t51 / 100\n",
      "Confirmed: \t20\n",
      "Tentative: \t1\n",
      "Rejected: \t3\n",
      "Iteration: \t52 / 100\n",
      "Confirmed: \t20\n",
      "Tentative: \t1\n",
      "Rejected: \t3\n",
      "Iteration: \t53 / 100\n",
      "Confirmed: \t20\n",
      "Tentative: \t1\n",
      "Rejected: \t3\n",
      "Iteration: \t54 / 100\n",
      "Confirmed: \t20\n",
      "Tentative: \t1\n",
      "Rejected: \t3\n",
      "Iteration: \t55 / 100\n",
      "Confirmed: \t20\n",
      "Tentative: \t1\n",
      "Rejected: \t3\n",
      "Iteration: \t56 / 100\n",
      "Confirmed: \t20\n",
      "Tentative: \t1\n",
      "Rejected: \t3\n",
      "Iteration: \t57 / 100\n",
      "Confirmed: \t20\n",
      "Tentative: \t1\n",
      "Rejected: \t3\n",
      "Iteration: \t58 / 100\n",
      "Confirmed: \t20\n",
      "Tentative: \t1\n",
      "Rejected: \t3\n",
      "Iteration: \t59 / 100\n",
      "Confirmed: \t20\n",
      "Tentative: \t1\n",
      "Rejected: \t3\n",
      "Iteration: \t60 / 100\n",
      "Confirmed: \t20\n",
      "Tentative: \t1\n",
      "Rejected: \t3\n",
      "Iteration: \t61 / 100\n",
      "Confirmed: \t20\n",
      "Tentative: \t1\n",
      "Rejected: \t3\n",
      "Iteration: \t62 / 100\n",
      "Confirmed: \t20\n",
      "Tentative: \t1\n",
      "Rejected: \t3\n",
      "Iteration: \t63 / 100\n",
      "Confirmed: \t20\n",
      "Tentative: \t1\n",
      "Rejected: \t3\n",
      "Iteration: \t64 / 100\n",
      "Confirmed: \t20\n",
      "Tentative: \t1\n",
      "Rejected: \t3\n",
      "Iteration: \t65 / 100\n",
      "Confirmed: \t20\n",
      "Tentative: \t1\n",
      "Rejected: \t3\n",
      "Iteration: \t66 / 100\n",
      "Confirmed: \t20\n",
      "Tentative: \t1\n",
      "Rejected: \t3\n",
      "Iteration: \t67 / 100\n",
      "Confirmed: \t20\n",
      "Tentative: \t1\n",
      "Rejected: \t3\n",
      "Iteration: \t68 / 100\n",
      "Confirmed: \t20\n",
      "Tentative: \t1\n",
      "Rejected: \t3\n",
      "Iteration: \t69 / 100\n",
      "Confirmed: \t20\n",
      "Tentative: \t1\n",
      "Rejected: \t3\n",
      "Iteration: \t70 / 100\n",
      "Confirmed: \t20\n",
      "Tentative: \t1\n",
      "Rejected: \t3\n",
      "Iteration: \t71 / 100\n",
      "Confirmed: \t20\n",
      "Tentative: \t1\n",
      "Rejected: \t3\n",
      "Iteration: \t72 / 100\n",
      "Confirmed: \t20\n",
      "Tentative: \t1\n",
      "Rejected: \t3\n",
      "Iteration: \t73 / 100\n",
      "Confirmed: \t20\n",
      "Tentative: \t1\n",
      "Rejected: \t3\n",
      "Iteration: \t74 / 100\n",
      "Confirmed: \t20\n",
      "Tentative: \t1\n",
      "Rejected: \t3\n",
      "Iteration: \t75 / 100\n",
      "Confirmed: \t20\n",
      "Tentative: \t1\n",
      "Rejected: \t3\n",
      "Iteration: \t76 / 100\n",
      "Confirmed: \t20\n",
      "Tentative: \t1\n",
      "Rejected: \t3\n",
      "Iteration: \t77 / 100\n",
      "Confirmed: \t20\n",
      "Tentative: \t1\n",
      "Rejected: \t3\n",
      "Iteration: \t78 / 100\n",
      "Confirmed: \t20\n",
      "Tentative: \t1\n",
      "Rejected: \t3\n",
      "Iteration: \t79 / 100\n",
      "Confirmed: \t20\n",
      "Tentative: \t1\n",
      "Rejected: \t3\n",
      "Iteration: \t80 / 100\n",
      "Confirmed: \t20\n",
      "Tentative: \t1\n",
      "Rejected: \t3\n",
      "Iteration: \t81 / 100\n",
      "Confirmed: \t20\n",
      "Tentative: \t1\n",
      "Rejected: \t3\n",
      "Iteration: \t82 / 100\n",
      "Confirmed: \t20\n",
      "Tentative: \t1\n",
      "Rejected: \t3\n",
      "Iteration: \t83 / 100\n",
      "Confirmed: \t20\n",
      "Tentative: \t1\n",
      "Rejected: \t3\n",
      "Iteration: \t84 / 100\n",
      "Confirmed: \t20\n",
      "Tentative: \t1\n",
      "Rejected: \t3\n",
      "Iteration: \t85 / 100\n",
      "Confirmed: \t20\n",
      "Tentative: \t1\n",
      "Rejected: \t3\n",
      "Iteration: \t86 / 100\n",
      "Confirmed: \t20\n",
      "Tentative: \t1\n",
      "Rejected: \t3\n",
      "Iteration: \t87 / 100\n",
      "Confirmed: \t20\n",
      "Tentative: \t1\n",
      "Rejected: \t3\n",
      "Iteration: \t88 / 100\n",
      "Confirmed: \t20\n",
      "Tentative: \t1\n",
      "Rejected: \t3\n",
      "Iteration: \t89 / 100\n",
      "Confirmed: \t20\n",
      "Tentative: \t1\n",
      "Rejected: \t3\n",
      "Iteration: \t90 / 100\n",
      "Confirmed: \t20\n",
      "Tentative: \t1\n",
      "Rejected: \t3\n",
      "Iteration: \t91 / 100\n",
      "Confirmed: \t20\n",
      "Tentative: \t1\n",
      "Rejected: \t3\n",
      "Iteration: \t92 / 100\n",
      "Confirmed: \t20\n",
      "Tentative: \t1\n",
      "Rejected: \t3\n",
      "Iteration: \t93 / 100\n",
      "Confirmed: \t20\n",
      "Tentative: \t1\n",
      "Rejected: \t3\n",
      "Iteration: \t94 / 100\n",
      "Confirmed: \t20\n",
      "Tentative: \t1\n",
      "Rejected: \t3\n",
      "Iteration: \t95 / 100\n",
      "Confirmed: \t20\n",
      "Tentative: \t1\n",
      "Rejected: \t3\n",
      "Iteration: \t96 / 100\n",
      "Confirmed: \t20\n",
      "Tentative: \t1\n",
      "Rejected: \t3\n",
      "Iteration: \t97 / 100\n",
      "Confirmed: \t20\n",
      "Tentative: \t1\n",
      "Rejected: \t3\n",
      "Iteration: \t98 / 100\n",
      "Confirmed: \t20\n",
      "Tentative: \t1\n",
      "Rejected: \t3\n",
      "Iteration: \t99 / 100\n",
      "Confirmed: \t20\n",
      "Tentative: \t1\n",
      "Rejected: \t3\n",
      "\n",
      "\n",
      "BorutaPy finished running.\n",
      "\n",
      "Iteration: \t100 / 100\n",
      "Confirmed: \t20\n",
      "Tentative: \t1\n",
      "Rejected: \t3\n"
     ]
    },
    {
     "data": {
      "text/plain": [
       "BorutaPy(estimator=RandomForestClassifier(class_weight='balanced', max_depth=5,\n",
       "                                          n_estimators=129, n_jobs=-1,\n",
       "                                          random_state=RandomState(MT19937) at 0x22C26BDDD08),\n",
       "         n_estimators='auto',\n",
       "         random_state=RandomState(MT19937) at 0x22C26BDDD08, verbose=2)"
      ]
     },
     "execution_count": 23,
     "metadata": {},
     "output_type": "execute_result"
    }
   ],
   "source": [
    "from sklearn.ensemble import RandomForestClassifier\n",
    "rf = RandomForestClassifier(n_jobs=-1, class_weight='balanced', max_depth=5, random_state=42)\n",
    "rf.fit(X_train, y_train)\n",
    "\n",
    "from boruta import BorutaPy\n",
    "boruta_selector = BorutaPy(rf, n_estimators='auto', verbose=2, random_state=1)\n",
    "\n",
    "# find all relevant features\n",
    "boruta_selector.fit(np.array(X_train), np.array(y_train))"
   ]
  },
  {
   "cell_type": "code",
   "execution_count": 24,
   "metadata": {},
   "outputs": [
    {
     "name": "stdout",
     "output_type": "stream",
     "text": [
      "Selected Features:  [ True  True  True  True  True False  True False False  True  True  True\n",
      "  True  True  True  True  True  True  True  True False  True  True  True]\n",
      "----------------------------------------------------------------------------\n",
      "Ranking:  [1 1 1 1 1 2 1 3 5 1 1 1 1 1 1 1 1 1 1 1 4 1 1 1]\n",
      "----------------------------------------------------------------------------\n",
      "No. of significant features:  20\n"
     ]
    }
   ],
   "source": [
    "# check selected features\n",
    "print(\"Selected Features: \", boruta_selector.support_)\n",
    "\n",
    "print ('----------------------------------------------------------------------------')\n",
    " \n",
    "# check ranking of features\n",
    "print(\"Ranking: \", boruta_selector.ranking_)\n",
    "\n",
    "print ('----------------------------------------------------------------------------')\n",
    "\n",
    "print(\"No. of significant features: \", boruta_selector.n_features_)"
   ]
  },
  {
   "cell_type": "code",
   "execution_count": 25,
   "metadata": {},
   "outputs": [
    {
     "name": "stdout",
     "output_type": "stream",
     "text": [
      "features in the green area: ['age', 'blood_pressure', 'specific_gravity', 'albumin', 'sugar', 'pus_cell', 'blood_glucose_random', 'blood_urea', 'serum_creatinine', 'sodium', 'potassium', 'haemoglobin', 'packed_cell_volume', 'white_blood_cell_count', 'red_blood_cell_count', 'hypertension', 'diabetes_mellitus', 'appetite', 'pedal_edema', 'anemia']\n",
      "============================================================================================================================================================================================================\n",
      "features in the blue area: ['red_blood_cells']\n"
     ]
    }
   ],
   "source": [
    "green_area = X.columns[boruta_selector.support_].to_list()\n",
    "blue_area = X.columns[boruta_selector.support_weak_].to_list()\n",
    "\n",
    "print ('features in the green area:', green_area)\n",
    "\n",
    "print ('============================================================================================================================================================================================================')\n",
    "\n",
    "print ('features in the blue area:', blue_area)"
   ]
  },
  {
   "cell_type": "code",
   "execution_count": 26,
   "metadata": {},
   "outputs": [
    {
     "data": {
      "text/html": [
       "<div>\n",
       "<style scoped>\n",
       "    .dataframe tbody tr th:only-of-type {\n",
       "        vertical-align: middle;\n",
       "    }\n",
       "\n",
       "    .dataframe tbody tr th {\n",
       "        vertical-align: top;\n",
       "    }\n",
       "\n",
       "    .dataframe thead th {\n",
       "        text-align: right;\n",
       "    }\n",
       "</style>\n",
       "<table border=\"1\" class=\"dataframe\">\n",
       "  <thead>\n",
       "    <tr style=\"text-align: right;\">\n",
       "      <th></th>\n",
       "      <th>Feature</th>\n",
       "      <th>Ranking</th>\n",
       "    </tr>\n",
       "  </thead>\n",
       "  <tbody>\n",
       "    <tr>\n",
       "      <th>0</th>\n",
       "      <td>age</td>\n",
       "      <td>1</td>\n",
       "    </tr>\n",
       "    <tr>\n",
       "      <th>1</th>\n",
       "      <td>blood_pressure</td>\n",
       "      <td>1</td>\n",
       "    </tr>\n",
       "    <tr>\n",
       "      <th>2</th>\n",
       "      <td>specific_gravity</td>\n",
       "      <td>1</td>\n",
       "    </tr>\n",
       "    <tr>\n",
       "      <th>3</th>\n",
       "      <td>albumin</td>\n",
       "      <td>1</td>\n",
       "    </tr>\n",
       "    <tr>\n",
       "      <th>4</th>\n",
       "      <td>sugar</td>\n",
       "      <td>1</td>\n",
       "    </tr>\n",
       "    <tr>\n",
       "      <th>6</th>\n",
       "      <td>pus_cell</td>\n",
       "      <td>1</td>\n",
       "    </tr>\n",
       "    <tr>\n",
       "      <th>9</th>\n",
       "      <td>blood_glucose_random</td>\n",
       "      <td>1</td>\n",
       "    </tr>\n",
       "    <tr>\n",
       "      <th>10</th>\n",
       "      <td>blood_urea</td>\n",
       "      <td>1</td>\n",
       "    </tr>\n",
       "    <tr>\n",
       "      <th>11</th>\n",
       "      <td>serum_creatinine</td>\n",
       "      <td>1</td>\n",
       "    </tr>\n",
       "    <tr>\n",
       "      <th>12</th>\n",
       "      <td>sodium</td>\n",
       "      <td>1</td>\n",
       "    </tr>\n",
       "    <tr>\n",
       "      <th>13</th>\n",
       "      <td>potassium</td>\n",
       "      <td>1</td>\n",
       "    </tr>\n",
       "    <tr>\n",
       "      <th>14</th>\n",
       "      <td>haemoglobin</td>\n",
       "      <td>1</td>\n",
       "    </tr>\n",
       "    <tr>\n",
       "      <th>15</th>\n",
       "      <td>packed_cell_volume</td>\n",
       "      <td>1</td>\n",
       "    </tr>\n",
       "    <tr>\n",
       "      <th>16</th>\n",
       "      <td>white_blood_cell_count</td>\n",
       "      <td>1</td>\n",
       "    </tr>\n",
       "    <tr>\n",
       "      <th>17</th>\n",
       "      <td>red_blood_cell_count</td>\n",
       "      <td>1</td>\n",
       "    </tr>\n",
       "  </tbody>\n",
       "</table>\n",
       "</div>"
      ],
      "text/plain": [
       "                   Feature  Ranking\n",
       "0                      age        1\n",
       "1           blood_pressure        1\n",
       "2         specific_gravity        1\n",
       "3                  albumin        1\n",
       "4                    sugar        1\n",
       "6                 pus_cell        1\n",
       "9     blood_glucose_random        1\n",
       "10              blood_urea        1\n",
       "11        serum_creatinine        1\n",
       "12                  sodium        1\n",
       "13               potassium        1\n",
       "14             haemoglobin        1\n",
       "15      packed_cell_volume        1\n",
       "16  white_blood_cell_count        1\n",
       "17    red_blood_cell_count        1"
      ]
     },
     "execution_count": 26,
     "metadata": {},
     "output_type": "execute_result"
    }
   ],
   "source": [
    "# Let's visualise it better in the form of a table\n",
    "selected_boruta_features = pd.DataFrame({'Feature':list(X.columns),\n",
    "                                      'Ranking':boruta_selector.ranking_})\n",
    "selected_boruta_features.sort_values(by='Ranking')\n",
    "selected_boruta_features = selected_boruta_features[selected_boruta_features['Ranking'] < 16]\n",
    "top15 = selected_boruta_features.nsmallest(15,'Ranking')\n",
    "top15 "
   ]
  },
  {
   "cell_type": "code",
   "execution_count": 27,
   "metadata": {},
   "outputs": [
    {
     "data": {
      "text/plain": [
       "array(['age', 'blood_pressure', 'specific_gravity', 'albumin', 'sugar',\n",
       "       'pus_cell', 'blood_glucose_random', 'blood_urea',\n",
       "       'serum_creatinine', 'sodium', 'potassium', 'haemoglobin',\n",
       "       'packed_cell_volume', 'white_blood_cell_count',\n",
       "       'red_blood_cell_count'], dtype=object)"
      ]
     },
     "execution_count": 27,
     "metadata": {},
     "output_type": "execute_result"
    }
   ],
   "source": [
    "top15.Feature.values"
   ]
  },
  {
   "cell_type": "code",
   "execution_count": 28,
   "metadata": {},
   "outputs": [],
   "source": [
    "df = pd.read_csv('preprocessed_kidney_disease.csv', usecols = ['age', 'blood_pressure', 'specific_gravity', 'albumin', 'sugar',\n",
    "       'pus_cell', 'blood_glucose_random', 'blood_urea',\n",
    "       'serum_creatinine', 'sodium', 'potassium', 'haemoglobin',\n",
    "       'packed_cell_volume', 'white_blood_cell_count',\n",
    "       'red_blood_cell_count', 'classification'])\n",
    "\n",
    "X = df.drop('classification', axis = 1) \n",
    "y = df['classification']\n",
    "\n",
    "X_train, X_test, y_train, y_test = train_test_split(X, y, test_size=0.25, random_state =0)\n",
    "\n",
    "from sklearn.preprocessing import StandardScaler\n",
    "sc = StandardScaler()\n",
    "X_train = sc.fit_transform(X_train)\n",
    "X_test = sc.transform(X_test)"
   ]
  },
  {
   "cell_type": "code",
   "execution_count": 29,
   "metadata": {},
   "outputs": [
    {
     "data": {
      "text/html": [
       "<div>\n",
       "<style scoped>\n",
       "    .dataframe tbody tr th:only-of-type {\n",
       "        vertical-align: middle;\n",
       "    }\n",
       "\n",
       "    .dataframe tbody tr th {\n",
       "        vertical-align: top;\n",
       "    }\n",
       "\n",
       "    .dataframe thead th {\n",
       "        text-align: right;\n",
       "    }\n",
       "</style>\n",
       "<table border=\"1\" class=\"dataframe\">\n",
       "  <thead>\n",
       "    <tr style=\"text-align: right;\">\n",
       "      <th></th>\n",
       "      <th>Algorithm</th>\n",
       "      <th>ROC_AUC</th>\n",
       "      <th>PR_AUC</th>\n",
       "      <th>Precision</th>\n",
       "      <th>Recall</th>\n",
       "      <th>F1_Train</th>\n",
       "      <th>F1_Test</th>\n",
       "      <th>Accuracy</th>\n",
       "    </tr>\n",
       "  </thead>\n",
       "  <tbody>\n",
       "    <tr>\n",
       "      <th>0</th>\n",
       "      <td>RandomForestClassifier</td>\n",
       "      <td>1.0</td>\n",
       "      <td>1.0</td>\n",
       "      <td>1.0</td>\n",
       "      <td>1.0</td>\n",
       "      <td>1.0</td>\n",
       "      <td>1.0</td>\n",
       "      <td>1.0</td>\n",
       "    </tr>\n",
       "  </tbody>\n",
       "</table>\n",
       "</div>"
      ],
      "text/plain": [
       "                Algorithm  ROC_AUC  PR_AUC  Precision  Recall  F1_Train  \\\n",
       "0  RandomForestClassifier      1.0     1.0        1.0     1.0       1.0   \n",
       "\n",
       "   F1_Test  Accuracy  \n",
       "0      1.0       1.0  "
      ]
     },
     "execution_count": 29,
     "metadata": {},
     "output_type": "execute_result"
    }
   ],
   "source": [
    "models = [RandomForestClassifier(random_state = 42)]\n",
    "model_names=['RandomForestClassifier']\n",
    "model_comparison(models, model_names)"
   ]
  },
  {
   "cell_type": "code",
   "execution_count": 30,
   "metadata": {},
   "outputs": [
    {
     "name": "stdout",
     "output_type": "stream",
     "text": [
      "---------------------------------------------------------------\n"
     ]
    },
    {
     "data": {
      "image/png": "[encoded data removed]",
      "text/plain": [
       "<Figure size 432x288 with 2 Axes>"
      ]
     },
     "metadata": {},
     "output_type": "display_data"
    },
    {
     "name": "stdout",
     "output_type": "stream",
     "text": [
      "TP: 62, FP: 0, TN: 38, FN: 0\n",
      "---------------------------------------------------------------\n",
      "              precision    recall  f1-score   support\n",
      "\n",
      "           0      1.000     1.000     1.000        38\n",
      "           1      1.000     1.000     1.000        62\n",
      "\n",
      "    accuracy                          1.000       100\n",
      "   macro avg      1.000     1.000     1.000       100\n",
      "weighted avg      1.000     1.000     1.000       100\n",
      "\n",
      "---------------------------------------------------------------\n",
      "Recall Score: 1.0\n",
      ".\n",
      "Macro Average of Recall Score: 1.0\n",
      "Weighted Average of Recall Score: 1.0\n",
      "---------------------------------------------------------------\n"
     ]
    },
    {
     "data": {
      "image/png": "[encoded data removed]",
      "text/plain": [
       "<Figure size 576x288 with 1 Axes>"
      ]
     },
     "metadata": {},
     "output_type": "display_data"
    },
    {
     "data": {
      "image/png": "[encoded data removed]",
      "text/plain": [
       "<Figure size 576x288 with 1 Axes>"
      ]
     },
     "metadata": {},
     "output_type": "display_data"
    }
   ],
   "source": [
    "models = [RandomForestClassifier(random_state = 42)]\n",
    "roc_pr_cm(models)"
   ]
  },
  {
   "cell_type": "markdown",
   "metadata": {},
   "source": [
    "## (d) Permutation Feature Importance"
   ]
  },
  {
   "cell_type": "code",
   "execution_count": 31,
   "metadata": {},
   "outputs": [],
   "source": [
    "df = pd.read_csv('preprocessed_kidney_disease.csv')\n",
    "df.drop('Unnamed: 0', axis=1, inplace = True)\n",
    "\n",
    "X = df.drop('classification', axis = 1) \n",
    "y = df['classification']\n",
    "\n",
    "X_train, X_test, y_train, y_test = train_test_split(X, y, test_size=0.25, random_state =0)"
   ]
  },
  {
   "cell_type": "code",
   "execution_count": 32,
   "metadata": {},
   "outputs": [
    {
     "name": "stdout",
     "output_type": "stream",
     "text": [
      "Feature: 0, Score: 0.00000\n",
      "Feature: 1, Score: 0.00000\n",
      "Feature: 2, Score: 0.00480\n",
      "Feature: 3, Score: 0.00000\n",
      "Feature: 4, Score: 0.00000\n",
      "Feature: 5, Score: 0.00000\n",
      "Feature: 6, Score: 0.00000\n",
      "Feature: 7, Score: 0.00000\n",
      "Feature: 8, Score: 0.00000\n",
      "Feature: 9, Score: 0.00000\n",
      "Feature: 10, Score: 0.00000\n",
      "Feature: 11, Score: 0.00560\n",
      "Feature: 12, Score: 0.00000\n",
      "Feature: 13, Score: 0.00000\n",
      "Feature: 14, Score: 0.00400\n",
      "Feature: 15, Score: 0.00000\n",
      "Feature: 16, Score: 0.00000\n",
      "Feature: 17, Score: 0.00000\n",
      "Feature: 18, Score: 0.00000\n",
      "Feature: 19, Score: 0.00000\n",
      "Feature: 20, Score: 0.00000\n",
      "Feature: 21, Score: 0.00000\n",
      "Feature: 22, Score: 0.00000\n",
      "Feature: 23, Score: 0.00000\n"
     ]
    },
    {
     "data": {
      "image/png": "[encoded data removed]",
      "text/plain": [
       "<Figure size 576x396 with 1 Axes>"
      ]
     },
     "metadata": {},
     "output_type": "display_data"
    }
   ],
   "source": [
    "from sklearn.inspection import permutation_importance\n",
    "\n",
    "model = RandomForestClassifier(random_state=42)\n",
    "model.fit(X_train, y_train)\n",
    "# perform permutation importance\n",
    "results = permutation_importance(model, X, y, scoring='recall')\n",
    "# get importance\n",
    "importance = results.importances_mean\n",
    "\n",
    "# summarize feature importance\n",
    "for i,v in enumerate(importance):\n",
    "    print('Feature: %0d, Score: %.5f' % (i,v))\n",
    "\n",
    "    # plot feature importance\n",
    "plt.bar([x for x in range(len(importance))], importance)\n",
    "plt.xlabel('Features')\n",
    "plt.xlabel('Importance')\n",
    "plt.title(\"Permutation Feature Importance of RandomForest \")\n",
    "plt.show()"
   ]
  },
  {
   "cell_type": "code",
   "execution_count": 33,
   "metadata": {},
   "outputs": [
    {
     "name": "stdout",
     "output_type": "stream",
     "text": [
      "Selected features: ['serum_creatinine' 'specific_gravity' 'haemoglobin' 'appetite'\n",
      " 'coronary_artery_disease' 'diabetes_mellitus' 'hypertension'\n",
      " 'red_blood_cell_count' 'white_blood_cell_count' 'packed_cell_volume'\n",
      " 'potassium' 'sodium' 'age' 'blood_urea' 'blood_glucose_random']\n"
     ]
    }
   ],
   "source": [
    "import warnings\n",
    "warnings.filterwarnings('ignore')\n",
    "\n",
    "idx_features = (-importance).argsort()[:15]\n",
    "name_features = np.array(X_train.columns.to_list())[idx_features]\n",
    "print('Selected features: {}'.format(name_features))"
   ]
  },
  {
   "cell_type": "code",
   "execution_count": 34,
   "metadata": {},
   "outputs": [],
   "source": [
    "df = pd.read_csv('preprocessed_kidney_disease.csv', usecols = ['serum_creatinine', 'specific_gravity', 'haemoglobin', 'appetite',\n",
    " 'coronary_artery_disease', 'diabetes_mellitus', 'hypertension',\n",
    " 'red_blood_cell_count', 'white_blood_cell_count', 'packed_cell_volume',\n",
    " 'potassium', 'sodium', 'age', 'blood_urea', 'blood_glucose_random' , 'classification'])\n",
    "\n",
    "X = df.drop('classification', axis = 1) \n",
    "y = df['classification']\n",
    "\n",
    "X_train, X_test, y_train, y_test = train_test_split(X, y, test_size=0.25, random_state =0)\n",
    "\n",
    "from sklearn.preprocessing import StandardScaler\n",
    "sc = StandardScaler()\n",
    "X_train = sc.fit_transform(X_train)\n",
    "X_test = sc.transform(X_test)"
   ]
  },
  {
   "cell_type": "code",
   "execution_count": 35,
   "metadata": {},
   "outputs": [
    {
     "data": {
      "text/html": [
       "<div>\n",
       "<style scoped>\n",
       "    .dataframe tbody tr th:only-of-type {\n",
       "        vertical-align: middle;\n",
       "    }\n",
       "\n",
       "    .dataframe tbody tr th {\n",
       "        vertical-align: top;\n",
       "    }\n",
       "\n",
       "    .dataframe thead th {\n",
       "        text-align: right;\n",
       "    }\n",
       "</style>\n",
       "<table border=\"1\" class=\"dataframe\">\n",
       "  <thead>\n",
       "    <tr style=\"text-align: right;\">\n",
       "      <th></th>\n",
       "      <th>Algorithm</th>\n",
       "      <th>ROC_AUC</th>\n",
       "      <th>PR_AUC</th>\n",
       "      <th>Precision</th>\n",
       "      <th>Recall</th>\n",
       "      <th>F1_Train</th>\n",
       "      <th>F1_Test</th>\n",
       "      <th>Accuracy</th>\n",
       "    </tr>\n",
       "  </thead>\n",
       "  <tbody>\n",
       "    <tr>\n",
       "      <th>0</th>\n",
       "      <td>RandomForestClassifier</td>\n",
       "      <td>0.991935</td>\n",
       "      <td>0.999742</td>\n",
       "      <td>0.983871</td>\n",
       "      <td>1.0</td>\n",
       "      <td>1.0</td>\n",
       "      <td>0.99187</td>\n",
       "      <td>0.99</td>\n",
       "    </tr>\n",
       "  </tbody>\n",
       "</table>\n",
       "</div>"
      ],
      "text/plain": [
       "                Algorithm   ROC_AUC    PR_AUC  Precision  Recall  F1_Train  \\\n",
       "0  RandomForestClassifier  0.991935  0.999742   0.983871     1.0       1.0   \n",
       "\n",
       "   F1_Test  Accuracy  \n",
       "0  0.99187      0.99  "
      ]
     },
     "execution_count": 35,
     "metadata": {},
     "output_type": "execute_result"
    }
   ],
   "source": [
    "models = [RandomForestClassifier(random_state = 42)]\n",
    "model_names=['RandomForestClassifier']\n",
    "model_comparison(models, model_names)"
   ]
  },
  {
   "cell_type": "code",
   "execution_count": 36,
   "metadata": {},
   "outputs": [
    {
     "name": "stdout",
     "output_type": "stream",
     "text": [
      "---------------------------------------------------------------\n"
     ]
    },
    {
     "data": {
      "image/png": "[encoded data removed]",
      "text/plain": [
       "<Figure size 432x288 with 2 Axes>"
      ]
     },
     "metadata": {},
     "output_type": "display_data"
    },
    {
     "name": "stdout",
     "output_type": "stream",
     "text": [
      "TP: 61, FP: 0, TN: 38, FN: 1\n",
      "---------------------------------------------------------------\n",
      "              precision    recall  f1-score   support\n",
      "\n",
      "           0      0.974     1.000     0.987        38\n",
      "           1      1.000     0.984     0.992        62\n",
      "\n",
      "    accuracy                          0.990       100\n",
      "   macro avg      0.987     0.992     0.989       100\n",
      "weighted avg      0.990     0.990     0.990       100\n",
      "\n",
      "---------------------------------------------------------------\n",
      "Recall Score: 0.9839\n",
      ".\n",
      "Macro Average of Recall Score: 0.9919\n",
      "Weighted Average of Recall Score: 0.99\n",
      "---------------------------------------------------------------\n"
     ]
    },
    {
     "data": {
      "image/png": "[encoded data removed]",
      "text/plain": [
       "<Figure size 576x288 with 1 Axes>"
      ]
     },
     "metadata": {},
     "output_type": "display_data"
    },
    {
     "data": {
      "image/png": "[encoded data removed]",
      "text/plain": [
       "<Figure size 576x288 with 1 Axes>"
      ]
     },
     "metadata": {},
     "output_type": "display_data"
    }
   ],
   "source": [
    "models = [RandomForestClassifier(random_state = 42)]\n",
    "roc_pr_cm(models)"
   ]
  },
  {
   "cell_type": "markdown",
   "metadata": {},
   "source": [
    "## (e) Feature Importance using RandomForestClassifier"
   ]
  },
  {
   "cell_type": "code",
   "execution_count": 37,
   "metadata": {},
   "outputs": [],
   "source": [
    "df = pd.read_csv('preprocessed_kidney_disease.csv')\n",
    "df.drop('Unnamed: 0', axis=1, inplace = True)\n",
    "\n",
    "X = df.drop('classification', axis = 1) \n",
    "y = df['classification']\n",
    "\n",
    "X_train, X_test, y_train, y_test = train_test_split(X, y, test_size=0.25, random_state =0)\n",
    "\n",
    "from sklearn.preprocessing import StandardScaler\n",
    "sc = StandardScaler()\n",
    "X_train = sc.fit_transform(X_train)\n",
    "X_test = sc.transform(X_test)"
   ]
  },
  {
   "cell_type": "code",
   "execution_count": 38,
   "metadata": {},
   "outputs": [
    {
     "data": {
      "image/png": "[encoded data removed]",
      "text/plain": [
       "<Figure size 1440x576 with 1 Axes>"
      ]
     },
     "metadata": {},
     "output_type": "display_data"
    }
   ],
   "source": [
    "model = RandomForestClassifier(random_state=42)\n",
    "# fit the model\n",
    "model.fit(X_train, y_train)\n",
    "# get importance\n",
    "importance = model.feature_importances_\n",
    "\n",
    "feature_imp = pd.DataFrame(sorted(zip(model.feature_importances_, X.columns), reverse=True), columns=['Value','Feature'])\n",
    "feature_imp\n",
    "\n",
    "top15 = feature_imp.nlargest(15,'Value')\n",
    "\n",
    "plt.figure(figsize=(20, 8))\n",
    "sns.barplot(x=\"Value\", y=\"Feature\", data=top15.sort_values(by=\"Value\", ascending=False))\n",
    "plt.title('RandomForestClassifier Features (avg over folds)')\n",
    "plt.tight_layout()\n",
    "plt.show()"
   ]
  },
  {
   "cell_type": "code",
   "execution_count": 39,
   "metadata": {},
   "outputs": [
    {
     "data": {
      "text/plain": [
       "['serum_creatinine',\n",
       " 'packed_cell_volume',\n",
       " 'haemoglobin',\n",
       " 'specific_gravity',\n",
       " 'albumin',\n",
       " 'diabetes_mellitus',\n",
       " 'hypertension',\n",
       " 'sodium',\n",
       " 'red_blood_cell_count',\n",
       " 'blood_glucose_random',\n",
       " 'blood_urea',\n",
       " 'potassium',\n",
       " 'age',\n",
       " 'white_blood_cell_count',\n",
       " 'appetite']"
      ]
     },
     "execution_count": 39,
     "metadata": {},
     "output_type": "execute_result"
    }
   ],
   "source": [
    "rf_features = top15.Feature.to_list()\n",
    "rf_features"
   ]
  },
  {
   "cell_type": "code",
   "execution_count": 40,
   "metadata": {},
   "outputs": [],
   "source": [
    "df = pd.read_csv('preprocessed_kidney_disease.csv', usecols = ['serum_creatinine',\n",
    " 'packed_cell_volume',\n",
    " 'haemoglobin',\n",
    " 'specific_gravity',\n",
    " 'albumin',\n",
    " 'diabetes_mellitus',\n",
    " 'hypertension',\n",
    " 'sodium',\n",
    " 'red_blood_cell_count',\n",
    " 'blood_glucose_random',\n",
    " 'blood_urea',\n",
    " 'potassium',\n",
    " 'age',\n",
    " 'white_blood_cell_count',\n",
    " 'appetite', 'classification'])\n",
    "\n",
    "X = df.drop('classification', axis = 1) \n",
    "y = df['classification']\n",
    "\n",
    "X_train, X_test, y_train, y_test = train_test_split(X, y, test_size=0.25, random_state =0)\n",
    "\n",
    "from sklearn.preprocessing import StandardScaler\n",
    "sc = StandardScaler()\n",
    "X_train = sc.fit_transform(X_train)\n",
    "X_test = sc.transform(X_test)"
   ]
  },
  {
   "cell_type": "code",
   "execution_count": 41,
   "metadata": {},
   "outputs": [
    {
     "data": {
      "text/html": [
       "<div>\n",
       "<style scoped>\n",
       "    .dataframe tbody tr th:only-of-type {\n",
       "        vertical-align: middle;\n",
       "    }\n",
       "\n",
       "    .dataframe tbody tr th {\n",
       "        vertical-align: top;\n",
       "    }\n",
       "\n",
       "    .dataframe thead th {\n",
       "        text-align: right;\n",
       "    }\n",
       "</style>\n",
       "<table border=\"1\" class=\"dataframe\">\n",
       "  <thead>\n",
       "    <tr style=\"text-align: right;\">\n",
       "      <th></th>\n",
       "      <th>Algorithm</th>\n",
       "      <th>ROC_AUC</th>\n",
       "      <th>PR_AUC</th>\n",
       "      <th>Precision</th>\n",
       "      <th>Recall</th>\n",
       "      <th>F1_Train</th>\n",
       "      <th>F1_Test</th>\n",
       "      <th>Accuracy</th>\n",
       "    </tr>\n",
       "  </thead>\n",
       "  <tbody>\n",
       "    <tr>\n",
       "      <th>0</th>\n",
       "      <td>RandomForestClassifier</td>\n",
       "      <td>1.0</td>\n",
       "      <td>1.0</td>\n",
       "      <td>1.0</td>\n",
       "      <td>1.0</td>\n",
       "      <td>1.0</td>\n",
       "      <td>1.0</td>\n",
       "      <td>1.0</td>\n",
       "    </tr>\n",
       "  </tbody>\n",
       "</table>\n",
       "</div>"
      ],
      "text/plain": [
       "                Algorithm  ROC_AUC  PR_AUC  Precision  Recall  F1_Train  \\\n",
       "0  RandomForestClassifier      1.0     1.0        1.0     1.0       1.0   \n",
       "\n",
       "   F1_Test  Accuracy  \n",
       "0      1.0       1.0  "
      ]
     },
     "execution_count": 41,
     "metadata": {},
     "output_type": "execute_result"
    }
   ],
   "source": [
    "models = [RandomForestClassifier(random_state = 42)]\n",
    "model_names=['RandomForestClassifier']\n",
    "model_comparison(models, model_names)"
   ]
  },
  {
   "cell_type": "code",
   "execution_count": 42,
   "metadata": {},
   "outputs": [
    {
     "name": "stdout",
     "output_type": "stream",
     "text": [
      "---------------------------------------------------------------\n"
     ]
    },
    {
     "data": {
      "image/png": "[encoded data removed]",
      "text/plain": [
       "<Figure size 432x288 with 2 Axes>"
      ]
     },
     "metadata": {},
     "output_type": "display_data"
    },
    {
     "name": "stdout",
     "output_type": "stream",
     "text": [
      "TP: 62, FP: 0, TN: 38, FN: 0\n",
      "---------------------------------------------------------------\n",
      "              precision    recall  f1-score   support\n",
      "\n",
      "           0      1.000     1.000     1.000        38\n",
      "           1      1.000     1.000     1.000        62\n",
      "\n",
      "    accuracy                          1.000       100\n",
      "   macro avg      1.000     1.000     1.000       100\n",
      "weighted avg      1.000     1.000     1.000       100\n",
      "\n",
      "---------------------------------------------------------------\n",
      "Recall Score: 1.0\n",
      ".\n",
      "Macro Average of Recall Score: 1.0\n",
      "Weighted Average of Recall Score: 1.0\n",
      "---------------------------------------------------------------\n"
     ]
    },
    {
     "data": {
      "image/png": "[encoded data removed]",
      "text/plain": [
       "<Figure size 576x288 with 1 Axes>"
      ]
     },
     "metadata": {},
     "output_type": "display_data"
    },
    {
     "data": {
      "image/png": "[encoded data removed]",
      "text/plain": [
       "<Figure size 576x288 with 1 Axes>"
      ]
     },
     "metadata": {},
     "output_type": "display_data"
    }
   ],
   "source": [
    "models = [RandomForestClassifier(random_state = 42)]\n",
    "roc_pr_cm(models)"
   ]
  },
  {
   "cell_type": "markdown",
   "metadata": {},
   "source": [
    "## (f) Feature Importance using XGBoostClassifier"
   ]
  },
  {
   "cell_type": "code",
   "execution_count": 43,
   "metadata": {},
   "outputs": [],
   "source": [
    "df = pd.read_csv('preprocessed_kidney_disease.csv')\n",
    "df.drop('Unnamed: 0', axis=1, inplace = True)\n",
    "\n",
    "X = df.drop('classification', axis = 1) \n",
    "y = df['classification']\n",
    "\n",
    "X_train, X_test, y_train, y_test = train_test_split(X, y, test_size=0.25, random_state =0)\n",
    "\n",
    "from sklearn.preprocessing import StandardScaler\n",
    "sc = StandardScaler()\n",
    "X_train = sc.fit_transform(X_train)\n",
    "X_test = sc.transform(X_test)"
   ]
  },
  {
   "cell_type": "code",
   "execution_count": 44,
   "metadata": {},
   "outputs": [
    {
     "data": {
      "image/png": "[encoded data removed]",
      "text/plain": [
       "<Figure size 1440x576 with 1 Axes>"
      ]
     },
     "metadata": {},
     "output_type": "display_data"
    }
   ],
   "source": [
    "model = XGBClassifier(random_state=42)\n",
    "# fit the model\n",
    "model.fit(X_train, y_train)\n",
    "# get importance\n",
    "importance = model.feature_importances_\n",
    "\n",
    "feature_imp = pd.DataFrame(sorted(zip(model.feature_importances_, X.columns), reverse=True), columns=['Value','Feature'])\n",
    "feature_imp\n",
    "\n",
    "top15 = feature_imp.nlargest(15,'Value')\n",
    "\n",
    "plt.figure(figsize=(20, 8))\n",
    "sns.barplot(x=\"Value\", y=\"Feature\", data=top15.sort_values(by=\"Value\", ascending=False))\n",
    "plt.title('XGBClassifier Features (avg over folds)')\n",
    "plt.tight_layout()\n",
    "plt.show()"
   ]
  },
  {
   "cell_type": "code",
   "execution_count": 45,
   "metadata": {},
   "outputs": [
    {
     "data": {
      "text/plain": [
       "['serum_creatinine',\n",
       " 'specific_gravity',\n",
       " 'packed_cell_volume',\n",
       " 'hypertension',\n",
       " 'haemoglobin',\n",
       " 'albumin',\n",
       " 'diabetes_mellitus',\n",
       " 'red_blood_cell_count',\n",
       " 'sodium',\n",
       " 'potassium',\n",
       " 'white_blood_cell_count',\n",
       " 'blood_glucose_random',\n",
       " 'blood_pressure',\n",
       " 'sugar',\n",
       " 'red_blood_cells']"
      ]
     },
     "execution_count": 45,
     "metadata": {},
     "output_type": "execute_result"
    }
   ],
   "source": [
    "xgb_features = top15.Feature.to_list()\n",
    "xgb_features"
   ]
  },
  {
   "cell_type": "code",
   "execution_count": 46,
   "metadata": {},
   "outputs": [],
   "source": [
    "df = pd.read_csv('preprocessed_kidney_disease.csv', usecols = ['serum_creatinine',\n",
    " 'specific_gravity',\n",
    " 'packed_cell_volume',\n",
    " 'hypertension',\n",
    " 'haemoglobin',\n",
    " 'albumin',\n",
    " 'diabetes_mellitus',\n",
    " 'red_blood_cell_count',\n",
    " 'sodium',\n",
    " 'potassium',\n",
    " 'white_blood_cell_count',\n",
    " 'blood_glucose_random',\n",
    " 'blood_pressure',\n",
    " 'sugar',\n",
    " 'red_blood_cells', 'classification'])\n",
    "\n",
    "X = df.drop('classification', axis = 1) \n",
    "y = df['classification']\n",
    "\n",
    "X_train, X_test, y_train, y_test = train_test_split(X, y, test_size=0.25, random_state =0)\n",
    "\n",
    "from sklearn.preprocessing import StandardScaler\n",
    "sc = StandardScaler()\n",
    "X_train = sc.fit_transform(X_train)\n",
    "X_test = sc.transform(X_test)"
   ]
  },
  {
   "cell_type": "code",
   "execution_count": 47,
   "metadata": {},
   "outputs": [
    {
     "data": {
      "text/html": [
       "<div>\n",
       "<style scoped>\n",
       "    .dataframe tbody tr th:only-of-type {\n",
       "        vertical-align: middle;\n",
       "    }\n",
       "\n",
       "    .dataframe tbody tr th {\n",
       "        vertical-align: top;\n",
       "    }\n",
       "\n",
       "    .dataframe thead th {\n",
       "        text-align: right;\n",
       "    }\n",
       "</style>\n",
       "<table border=\"1\" class=\"dataframe\">\n",
       "  <thead>\n",
       "    <tr style=\"text-align: right;\">\n",
       "      <th></th>\n",
       "      <th>Algorithm</th>\n",
       "      <th>ROC_AUC</th>\n",
       "      <th>PR_AUC</th>\n",
       "      <th>Precision</th>\n",
       "      <th>Recall</th>\n",
       "      <th>F1_Train</th>\n",
       "      <th>F1_Test</th>\n",
       "      <th>Accuracy</th>\n",
       "    </tr>\n",
       "  </thead>\n",
       "  <tbody>\n",
       "    <tr>\n",
       "      <th>0</th>\n",
       "      <td>RandomForestClassifier</td>\n",
       "      <td>0.991935</td>\n",
       "      <td>1.0</td>\n",
       "      <td>0.983871</td>\n",
       "      <td>1.0</td>\n",
       "      <td>1.0</td>\n",
       "      <td>0.99187</td>\n",
       "      <td>0.99</td>\n",
       "    </tr>\n",
       "  </tbody>\n",
       "</table>\n",
       "</div>"
      ],
      "text/plain": [
       "                Algorithm   ROC_AUC  PR_AUC  Precision  Recall  F1_Train  \\\n",
       "0  RandomForestClassifier  0.991935     1.0   0.983871     1.0       1.0   \n",
       "\n",
       "   F1_Test  Accuracy  \n",
       "0  0.99187      0.99  "
      ]
     },
     "execution_count": 47,
     "metadata": {},
     "output_type": "execute_result"
    }
   ],
   "source": [
    "models = [RandomForestClassifier(random_state = 42)]\n",
    "model_names=['RandomForestClassifier']\n",
    "model_comparison(models, model_names)"
   ]
  },
  {
   "cell_type": "code",
   "execution_count": 48,
   "metadata": {},
   "outputs": [
    {
     "name": "stdout",
     "output_type": "stream",
     "text": [
      "---------------------------------------------------------------\n"
     ]
    },
    {
     "data": {
      "image/png": "[encoded data removed]",
      "text/plain": [
       "<Figure size 432x288 with 2 Axes>"
      ]
     },
     "metadata": {},
     "output_type": "display_data"
    },
    {
     "name": "stdout",
     "output_type": "stream",
     "text": [
      "TP: 61, FP: 0, TN: 38, FN: 1\n",
      "---------------------------------------------------------------\n",
      "              precision    recall  f1-score   support\n",
      "\n",
      "           0      0.974     1.000     0.987        38\n",
      "           1      1.000     0.984     0.992        62\n",
      "\n",
      "    accuracy                          0.990       100\n",
      "   macro avg      0.987     0.992     0.989       100\n",
      "weighted avg      0.990     0.990     0.990       100\n",
      "\n",
      "---------------------------------------------------------------\n",
      "Recall Score: 0.9839\n",
      ".\n",
      "Macro Average of Recall Score: 0.9919\n",
      "Weighted Average of Recall Score: 0.99\n",
      "---------------------------------------------------------------\n"
     ]
    },
    {
     "data": {
      "image/png": "[encoded data removed]",
      "text/plain": [
       "<Figure size 576x288 with 1 Axes>"
      ]
     },
     "metadata": {},
     "output_type": "display_data"
    },
    {
     "data": {
      "image/png": "[encoded data removed]",
      "text/plain": [
       "<Figure size 576x288 with 1 Axes>"
      ]
     },
     "metadata": {},
     "output_type": "display_data"
    }
   ],
   "source": [
    "models = [RandomForestClassifier(random_state = 42)]\n",
    "roc_pr_cm(models)"
   ]
  },
  {
   "cell_type": "markdown",
   "metadata": {},
   "source": [
    "## Conclusion\n",
    "\n",
    "#### (a) Feature selection using SelectFromModel and LassoCV\n",
    "- Recall Score: 1.0\n",
    "- Macro Average of Recall Score: 1.0\n",
    "- Weighted Average of Recall Score: 1.0\n",
    "\n",
    "#### (b) Feature Selection: RandomForest Recursive Feature Elimination\n",
    "- Recall Score: 1.0\n",
    "- Macro Average of Recall Score: 1.0\n",
    "- Weighted Average of Recall Score: 1.0\n",
    "\n",
    "#### (c) Feature Selection: RandomForest Boruta\n",
    "- Recall Score: 1.0\n",
    "- Macro Average of Recall Score: 1.0\n",
    "- Weighted Average of Recall Score: 1.0\n",
    "\n",
    "#### (d) Permutation Feature Importance\n",
    "- Recall Score: 0.9839\n",
    "- Macro Average of Recall Score: 0.9919\n",
    "- Weighted Average of Recall Score: 0.99\n",
    "\n",
    "#### (e) Feature Importance using RandomForestClassifier\n",
    "- Recall Score: 1.0\n",
    "- Macro Average of Recall Score: 1.0\n",
    "- Weighted Average of Recall Score: 1.0\n",
    "\n",
    "#### (f) Feature Importance using XGBoostClassifier\n",
    "- Recall Score: 0.9839\n",
    "- Macro Average of Recall Score: 0.9919\n",
    "- Weighted Average of Recall Score: 0.99\n",
    "\n",
    "### Selected Features: (e) Feature Importance using RandomForestClassifier\n",
    "['serum_creatinine',\n",
    " 'packed_cell_volume',\n",
    " 'haemoglobin',\n",
    " 'specific_gravity',\n",
    " 'albumin',\n",
    " 'diabetes_mellitus',\n",
    " 'hypertension',\n",
    " 'sodium',\n",
    " 'red_blood_cell_count',\n",
    " 'blood_glucose_random',\n",
    " 'blood_urea',\n",
    " 'potassium',\n",
    " 'age',\n",
    " 'white_blood_cell_count',\n",
    " 'appetite', 'classification']"
   ]
  }
 ],
 "metadata": {
  "kernelspec": {
   "display_name": "Python 3",
   "language": "python",
   "name": "python3"
  },
  "language_info": {
   "codemirror_mode": {
    "name": "ipython",
    "version": 3
   },
   "file_extension": ".py",
   "mimetype": "text/x-python",
   "name": "python",
   "nbconvert_exporter": "python",
   "pygments_lexer": "ipython3",
   "version": "3.7.6"
  }
 },
 "nbformat": 4,
 "nbformat_minor": 4
}
