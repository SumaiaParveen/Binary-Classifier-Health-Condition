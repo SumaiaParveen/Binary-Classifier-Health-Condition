{
 "cells": [
  {
   "cell_type": "markdown",
   "metadata": {},
   "source": [
    "# Part 3: Feature Selection"
   ]
  },
  {
   "cell_type": "markdown",
   "metadata": {},
   "source": [
    "## Import Libraries"
   ]
  },
  {
   "cell_type": "code",
   "execution_count": 1,
   "metadata": {},
   "outputs": [
    {
     "name": "stderr",
     "output_type": "stream",
     "text": [
      "\n",
      "Bad key \"text.kerning_factor\" on line 4 in\n",
      "C:\\Users\\sumai\\Anaconda3\\lib\\site-packages\\matplotlib\\mpl-data\\stylelib\\_classic_test_patch.mplstyle.\n",
      "You probably need to get an updated matplotlibrc file from\n",
      "https://github.com/matplotlib/matplotlib/blob/v3.1.3/matplotlibrc.template\n",
      "or from the matplotlib source distribution\n"
     ]
    }
   ],
   "source": [
    "import warnings\n",
    "warnings.filterwarnings('ignore')\n",
    "\n",
    "import pandas as pd\n",
    "import numpy as np\n",
    "import missingno as msno\n",
    "import matplotlib.pyplot as plt\n",
    "import seaborn as sns\n",
    "from scipy import stats \n",
    "\n",
    "# Modelling Algorithms\n",
    "from sklearn.tree import DecisionTreeClassifier\n",
    "from sklearn.ensemble import AdaBoostClassifier\n",
    "from sklearn.ensemble import BaggingClassifier \n",
    "from xgboost import XGBClassifier\n",
    "from catboost import CatBoostClassifier\n",
    "from sklearn.linear_model import LogisticRegression\n",
    "from sklearn.neighbors import KNeighborsClassifier\n",
    "from sklearn.naive_bayes import GaussianNB\n",
    "from sklearn.svm import SVC, LinearSVC\n",
    "from sklearn.ensemble import RandomForestClassifier , GradientBoostingClassifier\n",
    "from sklearn.discriminant_analysis import LinearDiscriminantAnalysis , QuadraticDiscriminantAnalysis\n",
    "from sklearn.ensemble import BaggingClassifier, RandomForestClassifier\n",
    "from catboost import CatBoostClassifier\n",
    "from sklearn.tree import ExtraTreeClassifier\n",
    "from lightgbm.sklearn import LGBMClassifier\n",
    "from sklearn.metrics import f1_score,accuracy_score, precision_score, recall_score, roc_curve, roc_auc_score, precision_recall_curve, auc\n",
    "from sklearn import metrics\n",
    "from sklearn.metrics import precision_recall_curve\n",
    "from sklearn.metrics import plot_precision_recall_curve\n",
    "from sklearn.metrics import average_precision_score, confusion_matrix\n",
    "import matplotlib.pyplot as plt\n",
    "from imblearn.ensemble import EasyEnsembleClassifier"
   ]
  },
  {
   "cell_type": "markdown",
   "metadata": {},
   "source": [
    "## Load Dataset\n",
    "\n",
    "Please see the link to know more about the dataset: https://archive.ics.uci.edu/ml/datasets/Cervical+cancer+%28Risk+Factors%29"
   ]
  },
  {
   "cell_type": "code",
   "execution_count": 2,
   "metadata": {},
   "outputs": [
    {
     "data": {
      "text/html": [
       "<div>\n",
       "<style scoped>\n",
       "    .dataframe tbody tr th:only-of-type {\n",
       "        vertical-align: middle;\n",
       "    }\n",
       "\n",
       "    .dataframe tbody tr th {\n",
       "        vertical-align: top;\n",
       "    }\n",
       "\n",
       "    .dataframe thead th {\n",
       "        text-align: right;\n",
       "    }\n",
       "</style>\n",
       "<table border=\"1\" class=\"dataframe\">\n",
       "  <thead>\n",
       "    <tr style=\"text-align: right;\">\n",
       "      <th></th>\n",
       "      <th>age</th>\n",
       "      <th>number_of_sexual_partners</th>\n",
       "      <th>first_sexual_intercourse</th>\n",
       "      <th>num_of_pregnancies</th>\n",
       "      <th>smokes</th>\n",
       "      <th>smokes_(years)</th>\n",
       "      <th>smokes_(packs_year)</th>\n",
       "      <th>hormonal_contraceptives</th>\n",
       "      <th>hormonal_contraceptives_(years)</th>\n",
       "      <th>iud</th>\n",
       "      <th>...</th>\n",
       "      <th>stds_aids</th>\n",
       "      <th>stds_hiv</th>\n",
       "      <th>stds_hepatitis_b</th>\n",
       "      <th>stds_hpv</th>\n",
       "      <th>stds_number_of_diagnosis</th>\n",
       "      <th>dx_cancer</th>\n",
       "      <th>dx_cin</th>\n",
       "      <th>dx_hpv</th>\n",
       "      <th>dx</th>\n",
       "      <th>citology</th>\n",
       "    </tr>\n",
       "  </thead>\n",
       "  <tbody>\n",
       "    <tr>\n",
       "      <th>0</th>\n",
       "      <td>18</td>\n",
       "      <td>4.0</td>\n",
       "      <td>15.0</td>\n",
       "      <td>1.0</td>\n",
       "      <td>0.0</td>\n",
       "      <td>0.0</td>\n",
       "      <td>0.0</td>\n",
       "      <td>0.0</td>\n",
       "      <td>0.0</td>\n",
       "      <td>0.0</td>\n",
       "      <td>...</td>\n",
       "      <td>0.0</td>\n",
       "      <td>0.0</td>\n",
       "      <td>0.0</td>\n",
       "      <td>0.0</td>\n",
       "      <td>0</td>\n",
       "      <td>0</td>\n",
       "      <td>0</td>\n",
       "      <td>0</td>\n",
       "      <td>0</td>\n",
       "      <td>0</td>\n",
       "    </tr>\n",
       "    <tr>\n",
       "      <th>1</th>\n",
       "      <td>15</td>\n",
       "      <td>1.0</td>\n",
       "      <td>14.0</td>\n",
       "      <td>1.0</td>\n",
       "      <td>0.0</td>\n",
       "      <td>0.0</td>\n",
       "      <td>0.0</td>\n",
       "      <td>0.0</td>\n",
       "      <td>0.0</td>\n",
       "      <td>0.0</td>\n",
       "      <td>...</td>\n",
       "      <td>0.0</td>\n",
       "      <td>0.0</td>\n",
       "      <td>0.0</td>\n",
       "      <td>0.0</td>\n",
       "      <td>0</td>\n",
       "      <td>0</td>\n",
       "      <td>0</td>\n",
       "      <td>0</td>\n",
       "      <td>0</td>\n",
       "      <td>0</td>\n",
       "    </tr>\n",
       "    <tr>\n",
       "      <th>2</th>\n",
       "      <td>34</td>\n",
       "      <td>1.0</td>\n",
       "      <td>19.0</td>\n",
       "      <td>1.0</td>\n",
       "      <td>0.0</td>\n",
       "      <td>0.0</td>\n",
       "      <td>0.0</td>\n",
       "      <td>0.0</td>\n",
       "      <td>0.0</td>\n",
       "      <td>0.0</td>\n",
       "      <td>...</td>\n",
       "      <td>0.0</td>\n",
       "      <td>0.0</td>\n",
       "      <td>0.0</td>\n",
       "      <td>0.0</td>\n",
       "      <td>0</td>\n",
       "      <td>0</td>\n",
       "      <td>0</td>\n",
       "      <td>0</td>\n",
       "      <td>0</td>\n",
       "      <td>0</td>\n",
       "    </tr>\n",
       "    <tr>\n",
       "      <th>3</th>\n",
       "      <td>52</td>\n",
       "      <td>5.0</td>\n",
       "      <td>16.0</td>\n",
       "      <td>4.0</td>\n",
       "      <td>1.0</td>\n",
       "      <td>37.0</td>\n",
       "      <td>37.0</td>\n",
       "      <td>1.0</td>\n",
       "      <td>3.0</td>\n",
       "      <td>0.0</td>\n",
       "      <td>...</td>\n",
       "      <td>0.0</td>\n",
       "      <td>0.0</td>\n",
       "      <td>0.0</td>\n",
       "      <td>0.0</td>\n",
       "      <td>0</td>\n",
       "      <td>1</td>\n",
       "      <td>0</td>\n",
       "      <td>1</td>\n",
       "      <td>0</td>\n",
       "      <td>0</td>\n",
       "    </tr>\n",
       "    <tr>\n",
       "      <th>4</th>\n",
       "      <td>46</td>\n",
       "      <td>3.0</td>\n",
       "      <td>21.0</td>\n",
       "      <td>4.0</td>\n",
       "      <td>0.0</td>\n",
       "      <td>0.0</td>\n",
       "      <td>0.0</td>\n",
       "      <td>1.0</td>\n",
       "      <td>15.0</td>\n",
       "      <td>0.0</td>\n",
       "      <td>...</td>\n",
       "      <td>0.0</td>\n",
       "      <td>0.0</td>\n",
       "      <td>0.0</td>\n",
       "      <td>0.0</td>\n",
       "      <td>0</td>\n",
       "      <td>0</td>\n",
       "      <td>0</td>\n",
       "      <td>0</td>\n",
       "      <td>0</td>\n",
       "      <td>0</td>\n",
       "    </tr>\n",
       "  </tbody>\n",
       "</table>\n",
       "<p>5 rows × 31 columns</p>\n",
       "</div>"
      ],
      "text/plain": [
       "   age  number_of_sexual_partners  first_sexual_intercourse  \\\n",
       "0   18                        4.0                      15.0   \n",
       "1   15                        1.0                      14.0   \n",
       "2   34                        1.0                      19.0   \n",
       "3   52                        5.0                      16.0   \n",
       "4   46                        3.0                      21.0   \n",
       "\n",
       "   num_of_pregnancies  smokes  smokes_(years)  smokes_(packs_year)  \\\n",
       "0                 1.0     0.0             0.0                  0.0   \n",
       "1                 1.0     0.0             0.0                  0.0   \n",
       "2                 1.0     0.0             0.0                  0.0   \n",
       "3                 4.0     1.0            37.0                 37.0   \n",
       "4                 4.0     0.0             0.0                  0.0   \n",
       "\n",
       "   hormonal_contraceptives  hormonal_contraceptives_(years)  iud  ...  \\\n",
       "0                      0.0                              0.0  0.0  ...   \n",
       "1                      0.0                              0.0  0.0  ...   \n",
       "2                      0.0                              0.0  0.0  ...   \n",
       "3                      1.0                              3.0  0.0  ...   \n",
       "4                      1.0                             15.0  0.0  ...   \n",
       "\n",
       "   stds_aids  stds_hiv  stds_hepatitis_b  stds_hpv  stds_number_of_diagnosis  \\\n",
       "0        0.0       0.0               0.0       0.0                         0   \n",
       "1        0.0       0.0               0.0       0.0                         0   \n",
       "2        0.0       0.0               0.0       0.0                         0   \n",
       "3        0.0       0.0               0.0       0.0                         0   \n",
       "4        0.0       0.0               0.0       0.0                         0   \n",
       "\n",
       "   dx_cancer  dx_cin  dx_hpv  dx  citology  \n",
       "0          0       0       0   0         0  \n",
       "1          0       0       0   0         0  \n",
       "2          0       0       0   0         0  \n",
       "3          1       0       1   0         0  \n",
       "4          0       0       0   0         0  \n",
       "\n",
       "[5 rows x 31 columns]"
      ]
     },
     "execution_count": 2,
     "metadata": {},
     "output_type": "execute_result"
    }
   ],
   "source": [
    "df = pd.read_csv('preprocessed_risk_factors_cervical_cancer.csv')\n",
    "df = df. drop('Unnamed: 0', axis=1)\n",
    "df.head()"
   ]
  },
  {
   "cell_type": "code",
   "execution_count": 3,
   "metadata": {},
   "outputs": [],
   "source": [
    "features = df.columns.to_list()"
   ]
  },
  {
   "cell_type": "markdown",
   "metadata": {},
   "source": [
    "## Split Input and Traget Variables"
   ]
  },
  {
   "cell_type": "code",
   "execution_count": 4,
   "metadata": {},
   "outputs": [],
   "source": [
    "X = df.drop('citology', axis = 1) \n",
    "y = df['citology']"
   ]
  },
  {
   "cell_type": "code",
   "execution_count": 5,
   "metadata": {},
   "outputs": [
    {
     "data": {
      "text/plain": [
       "Index(['age', 'number_of_sexual_partners', 'first_sexual_intercourse',\n",
       "       'num_of_pregnancies', 'smokes', 'smokes_(years)', 'smokes_(packs_year)',\n",
       "       'hormonal_contraceptives', 'hormonal_contraceptives_(years)', 'iud',\n",
       "       'iud_(years)', 'stds', 'stds_(number)', 'stds_condylomatosis',\n",
       "       'stds_cervical_condylomatosis', 'stds_vaginal_condylomatosis',\n",
       "       'stds_vulvo-perineal_condylomatosis', 'stds_syphilis',\n",
       "       'stds_pelvic_inflammatory_disease', 'stds_genital_herpes',\n",
       "       'stds_molluscum_contagiosum', 'stds_aids', 'stds_hiv',\n",
       "       'stds_hepatitis_b', 'stds_hpv', 'stds_number_of_diagnosis', 'dx_cancer',\n",
       "       'dx_cin', 'dx_hpv', 'dx'],\n",
       "      dtype='object')"
      ]
     },
     "execution_count": 5,
     "metadata": {},
     "output_type": "execute_result"
    }
   ],
   "source": [
    "X.columns"
   ]
  },
  {
   "cell_type": "markdown",
   "metadata": {},
   "source": [
    "## Train Test Split"
   ]
  },
  {
   "cell_type": "code",
   "execution_count": 6,
   "metadata": {},
   "outputs": [
    {
     "name": "stdout",
     "output_type": "stream",
     "text": [
      "Original shape of dataset: (858, 31)\n",
      "Shape of training dataset: (729, 30)\n",
      "Shape of testing dataset: (129, 30)\n"
     ]
    }
   ],
   "source": [
    "# train_test_split is used to split the dataset into test set and train set\n",
    "from sklearn.model_selection import train_test_split\n",
    "X_train, X_test, y_train, y_test = train_test_split(X, y, test_size=0.15, random_state =0)\n",
    "\n",
    "print(\"Original shape of dataset: {}\".format(df.shape))         # shape of original dataset\n",
    "print(\"Shape of training dataset: {}\".format(X_train.shape))      # shape of training dataset after split\n",
    "print(\"Shape of testing dataset: {}\".format(X_test.shape))        # shape of testing dataset after split"
   ]
  },
  {
   "cell_type": "markdown",
   "metadata": {},
   "source": [
    "## Defining all the functions"
   ]
  },
  {
   "cell_type": "markdown",
   "metadata": {},
   "source": [
    "#### Writing a function that returns the evaluation metrics as a DataFrame"
   ]
  },
  {
   "cell_type": "code",
   "execution_count": 7,
   "metadata": {},
   "outputs": [],
   "source": [
    "def model_comparison(models =[], model_names= []):\n",
    "    \n",
    "    acc = []\n",
    "    prec = []\n",
    "    recal = []\n",
    "    f1_train = []\n",
    "    f1_test = []\n",
    "    roc_auc = []\n",
    "    pr_auc = []\n",
    "    \n",
    "    for model in range(len(models)):\n",
    "        clf = models[model]\n",
    "        clf.fit(X_train, y_train)\n",
    "        y_hat = clf.predict(X_test)\n",
    "        y_hat_train = clf.predict(X_train) \n",
    "        pred_prob = clf.predict_proba(X_test)\n",
    "        precision, recall, _ = precision_recall_curve(y_test, pred_prob[:, 1], pos_label=1)\n",
    "\n",
    "        \n",
    "        f1_train.append(f1_score(y_hat_train, y_train))\n",
    "        f1_test.append(f1_score(y_hat, y_test))\n",
    "        acc.append(accuracy_score(y_hat, y_test))\n",
    "        prec.append(precision_score(y_hat, y_test))\n",
    "        recal.append(recall_score(y_hat, y_test))\n",
    "        roc_auc.append(roc_auc_score(y_test, y_hat))\n",
    "        pr_auc.append(auc(recall, precision))\n",
    "        \n",
    "    compare = pd.DataFrame({'Algorithm' : model_names , 'ROC_AUC': roc_auc, 'PR_AUC': pr_auc, 'Precision': prec, 'Recall': recal, 'F1_Train': f1_train, 'F1_Test': f1_test, 'Accuracy' : acc, })\n",
    "    return compare"
   ]
  },
  {
   "cell_type": "markdown",
   "metadata": {},
   "source": [
    "#### Writing a function returns Macro and Weighted average of Recall Score"
   ]
  },
  {
   "cell_type": "code",
   "execution_count": 8,
   "metadata": {},
   "outputs": [],
   "source": [
    "def macro_weighted(y_test, y_hat):\n",
    "    \n",
    "    rec = metrics.recall_score(y_test, y_hat)\n",
    "    print (\"Recall Score:\", round(rec, 4))\n",
    "    \n",
    "    print ('.')\n",
    "\n",
    "    rec_mac = metrics.recall_score(y_test, y_hat, average = 'macro')\n",
    "    print (\"Macro Average of Recall Score:\", round(rec_mac, 4))\n",
    "\n",
    "    rec_wei = metrics.recall_score(y_test, y_hat, average = 'weighted')\n",
    "    print (\"Weighted Average of Recall Score:\", round(rec_wei, 4))"
   ]
  },
  {
   "cell_type": "markdown",
   "metadata": {},
   "source": [
    "#### Writing a function returns Macro and Weighted average of Recall Score, Precision, and F1 Score"
   ]
  },
  {
   "cell_type": "code",
   "execution_count": 9,
   "metadata": {},
   "outputs": [],
   "source": [
    "def macro_weighted_prec_rec(y_test, y_hat):\n",
    "    \n",
    "    rec = metrics.recall_score(y_test, y_hat)\n",
    "    print (\"Recall Score:\", round(rec, 4))\n",
    "    \n",
    "    rec_mac = metrics.recall_score(y_test, y_hat, average = 'macro')\n",
    "    print (\"Macro Average of Recall Score:\", rec_mac)\n",
    "\n",
    "    rec_wei = metrics.recall_score(y_test, y_hat, average = 'weighted')\n",
    "    print (\"Weighted Average of Recall Score:\", rec_wei)\n",
    "    \n",
    "    prec_mac = metrics.precision_score(y_test, y_hat, average = 'macro')\n",
    "    print (\"Macro Average of Precision Score:\", prec_mac)\n",
    "\n",
    "    prec_wei = metrics.precision_score(y_test, y_hat, average = 'weighted')\n",
    "    print (\"Weighted Average of Precision Score:\", prec_wei)\n",
    "\n",
    "    f1_mac = metrics.f1_score(y_test, y_hat, average = 'macro')\n",
    "    print (\"Macro Average of F1 Score:\", f1_mac)\n",
    "\n",
    "    f1_wei = metrics.f1_score(y_test, y_hat, average = 'weighted')\n",
    "    print (\"Weighted Average of F1 Score:\", f1_wei)\n",
    "    \n",
    "    print ('.')\n",
    "    \n",
    "    acc = metrics.accuracy_score(y_test, y_hat)\n",
    "    print (\"Accuracy Score:\", acc) "
   ]
  },
  {
   "cell_type": "markdown",
   "metadata": {},
   "source": [
    "#### ROC_AUC, Precision Recall AUC and the Confusion Matrices"
   ]
  },
  {
   "cell_type": "code",
   "execution_count": 10,
   "metadata": {},
   "outputs": [],
   "source": [
    "def roc_pr_cm(models=[]):\n",
    "    \n",
    "    roc_auc = []\n",
    "    pr_auc = []\n",
    "\n",
    "    for model in range(len(models)):\n",
    "        clf = models[model]\n",
    "        clf.fit(X_train, y_train)\n",
    "        y_hat = clf.predict(X_test)\n",
    "        y_hat_train = clf.predict(X_train) \n",
    "    \n",
    "        # predict probabilities\n",
    "        pred_prob = clf.predict_proba(X_test)\n",
    "    \n",
    "        # Print the confusion matrix\n",
    "        print('---------------------------------------------------------------')\n",
    "        \n",
    "        data = confusion_matrix(y_test, y_hat)\n",
    "        df_cm = pd.DataFrame(data, columns=np.unique(y_test), index = np.unique(y_test))\n",
    "        df_cm.index.name = 'Actual'\n",
    "        df_cm.columns.name = 'Predicted'\n",
    "        plt.figure(figsize = (6, 4))\n",
    "        #sns.set(font_scale=1.4) #for label size\n",
    "        sns.heatmap(df_cm, cmap=\"Blues\", annot=True,annot_kws={\"size\": 12})# font size\n",
    "        plt.show()\n",
    "        \n",
    "        tn, fp, fn, tp = confusion_matrix(y_test, y_hat).ravel()\n",
    "        print (\"TP: {}, FP: {}, TN: {}, FN: {}\".format(tp, fp, tn, fn))\n",
    "\n",
    "        # Print the precision and recall, among other metrics\n",
    "        print('---------------------------------------------------------------')\n",
    "        print(metrics.classification_report(y_test, y_hat, digits=3))\n",
    "        \n",
    "        print('---------------------------------------------------------------')\n",
    "        \n",
    "        macro_weighted(y_test, y_hat)\n",
    "        \n",
    "        print('---------------------------------------------------------------')\n",
    "     \n",
    "        fpr, tpr, thresh = roc_curve(y_test, pred_prob[:, 1], pos_label=1)\n",
    "        roc_auc.append(roc_auc_score(y_test, y_hat))\n",
    "    \n",
    "        plt.style.use('seaborn')\n",
    "        plt.figure(figsize=(8, 4))\n",
    "        # plot roc curves\n",
    "        plt.plot(fpr, tpr, label = models[model])\n",
    "    \n",
    "        plt.title('ROC curve where AUC= {}'.format(roc_auc[model]))\n",
    "        plt.xlabel('False Positive Rate')\n",
    "        plt.ylabel('True Positive rate')\n",
    "\n",
    "        plt.legend(loc='best')\n",
    "        plt.savefig('ROC', dpi=300)\n",
    "        plt.show();\n",
    "    \n",
    "        # calculate model precision-recall curve\n",
    "        # precision, recall, _ = precision_recall_curve(y_hat , y_test)\n",
    "        precision, recall, _ = precision_recall_curve(y_test, pred_prob[:, 1], pos_label=1)\n",
    "        pr_auc.append(auc(recall, precision))\n",
    "    \n",
    "        # plot the model precision-recall curve\n",
    "        plt.style.use('seaborn')\n",
    "        plt.figure(figsize=(8, 4))\n",
    "        plt.plot(recall, precision, marker='.', label = models[model])\n",
    "        plt.title('Precision Recall curve AUC= {}'.format(pr_auc[model]))\n",
    "        plt.xlabel('Recall')\n",
    "        plt.ylabel('Precision')\n",
    "        plt.legend(loc='best')\n",
    "        plt.show()"
   ]
  },
  {
   "cell_type": "markdown",
   "metadata": {},
   "source": [
    "## (a) Feature selection using SelectFromModel and LassoCV"
   ]
  },
  {
   "cell_type": "code",
   "execution_count": 11,
   "metadata": {},
   "outputs": [],
   "source": [
    "df = pd.read_csv('preprocessed_risk_factors_cervical_cancer.csv')\n",
    "df = df. drop('Unnamed: 0', axis=1)\n",
    "\n",
    "X = df.drop('citology', axis = 1) \n",
    "y = df['citology']\n",
    "\n",
    "X_train, X_test, y_train, y_test = train_test_split(X, y, test_size=0.15, random_state =0)\n",
    "\n",
    "from sklearn.preprocessing import StandardScaler\n",
    "sc = StandardScaler()\n",
    "X_train = sc.fit_transform(X_train)\n",
    "X_test = sc.transform(X_test)"
   ]
  },
  {
   "cell_type": "code",
   "execution_count": 12,
   "metadata": {},
   "outputs": [
    {
     "data": {
      "image/png": "[encoded data removed]",
      "text/plain": [
       "<Figure size 432x288 with 1 Axes>"
      ]
     },
     "metadata": {
      "needs_background": "light"
     },
     "output_type": "display_data"
    },
    {
     "name": "stdout",
     "output_type": "stream",
     "text": [
      "Selected features: ['dx_hpv' 'dx_cancer' 'num_of_pregnancies' 'dx' 'iud_(years)' 'dx_cin'\n",
      " 'stds_number_of_diagnosis' 'stds_hpv' 'stds_hepatitis_b' 'stds_hiv'\n",
      " 'stds_aids' 'stds_molluscum_contagiosum' 'stds_genital_herpes'\n",
      " 'stds_pelvic_inflammatory_disease' 'stds_syphilis']\n"
     ]
    }
   ],
   "source": [
    "from sklearn.linear_model import LassoCV\n",
    "import warnings\n",
    "warnings.filterwarnings('ignore')\n",
    "\n",
    "clf = LassoCV(random_state=42).fit(X_train, y_train)\n",
    "importance = np.abs(clf.coef_)\n",
    "\n",
    "idx_features = (-importance).argsort()[:15]\n",
    "name_features = np.array(X.columns.to_list())[idx_features]\n",
    "\n",
    "# plot feature importance\n",
    "plt.bar([x for x in range(len(importance))], importance)\n",
    "plt.xlabel('Features')\n",
    "plt.ylabel('Importance')\n",
    "plt.title(\"Feature selection using SelectFromModel and LassoCV \")\n",
    "plt.show()\n",
    "\n",
    "print('Selected features: {}'.format(name_features))"
   ]
  },
  {
   "cell_type": "code",
   "execution_count": 13,
   "metadata": {},
   "outputs": [],
   "source": [
    "df = pd.read_csv('preprocessed_risk_factors_cervical_cancer.csv', usecols =['dx_hpv', 'dx_cancer', 'num_of_pregnancies', 'dx', 'iud_(years)', 'dx_cin',\n",
    " 'stds_number_of_diagnosis', 'stds_hpv', 'stds_hepatitis_b', 'stds_hiv',\n",
    " 'stds_aids', 'stds_molluscum_contagiosum', 'stds_genital_herpes',\n",
    " 'stds_pelvic_inflammatory_disease', 'stds_syphilis', 'citology'])\n",
    "\n",
    "X = df.drop('citology', axis = 1) \n",
    "y = df['citology']\n",
    "\n",
    "X_train, X_test, y_train, y_test = train_test_split(X, y, test_size=0.15, random_state =0)\n",
    "\n",
    "from sklearn.preprocessing import StandardScaler\n",
    "sc = StandardScaler()\n",
    "X_train = sc.fit_transform(X_train)\n",
    "X_test = sc.transform(X_test)"
   ]
  },
  {
   "cell_type": "code",
   "execution_count": 14,
   "metadata": {},
   "outputs": [
    {
     "data": {
      "text/html": [
       "<div>\n",
       "<style scoped>\n",
       "    .dataframe tbody tr th:only-of-type {\n",
       "        vertical-align: middle;\n",
       "    }\n",
       "\n",
       "    .dataframe tbody tr th {\n",
       "        vertical-align: top;\n",
       "    }\n",
       "\n",
       "    .dataframe thead th {\n",
       "        text-align: right;\n",
       "    }\n",
       "</style>\n",
       "<table border=\"1\" class=\"dataframe\">\n",
       "  <thead>\n",
       "    <tr style=\"text-align: right;\">\n",
       "      <th></th>\n",
       "      <th>Algorithm</th>\n",
       "      <th>ROC_AUC</th>\n",
       "      <th>PR_AUC</th>\n",
       "      <th>Precision</th>\n",
       "      <th>Recall</th>\n",
       "      <th>F1_Train</th>\n",
       "      <th>F1_Test</th>\n",
       "      <th>Accuracy</th>\n",
       "    </tr>\n",
       "  </thead>\n",
       "  <tbody>\n",
       "    <tr>\n",
       "      <th>0</th>\n",
       "      <td>EasyClassifier</td>\n",
       "      <td>0.466667</td>\n",
       "      <td>0.102997</td>\n",
       "      <td>0.666667</td>\n",
       "      <td>0.06383</td>\n",
       "      <td>0.121547</td>\n",
       "      <td>0.116505</td>\n",
       "      <td>0.294574</td>\n",
       "    </tr>\n",
       "  </tbody>\n",
       "</table>\n",
       "</div>"
      ],
      "text/plain": [
       "        Algorithm   ROC_AUC    PR_AUC  Precision   Recall  F1_Train   F1_Test  \\\n",
       "0  EasyClassifier  0.466667  0.102997   0.666667  0.06383  0.121547  0.116505   \n",
       "\n",
       "   Accuracy  \n",
       "0  0.294574  "
      ]
     },
     "execution_count": 14,
     "metadata": {},
     "output_type": "execute_result"
    }
   ],
   "source": [
    "models = [EasyEnsembleClassifier(random_state=25)]\n",
    "model_names=['EasyClassifier']\n",
    "model_comparison(models, model_names)"
   ]
  },
  {
   "cell_type": "code",
   "execution_count": 15,
   "metadata": {},
   "outputs": [
    {
     "name": "stdout",
     "output_type": "stream",
     "text": [
      "---------------------------------------------------------------\n"
     ]
    },
    {
     "data": {
      "image/png": "[encoded data removed]",
      "text/plain": [
       "<Figure size 432x288 with 2 Axes>"
      ]
     },
     "metadata": {
      "needs_background": "light"
     },
     "output_type": "display_data"
    },
    {
     "name": "stdout",
     "output_type": "stream",
     "text": [
      "TP: 6, FP: 88, TN: 32, FN: 3\n",
      "---------------------------------------------------------------\n",
      "              precision    recall  f1-score   support\n",
      "\n",
      "           0      0.914     0.267     0.413       120\n",
      "           1      0.064     0.667     0.117         9\n",
      "\n",
      "    accuracy                          0.295       129\n",
      "   macro avg      0.489     0.467     0.265       129\n",
      "weighted avg      0.855     0.295     0.392       129\n",
      "\n",
      "---------------------------------------------------------------\n",
      "Recall Score: 0.6667\n",
      ".\n",
      "Macro Average of Recall Score: 0.4667\n",
      "Weighted Average of Recall Score: 0.2946\n",
      "---------------------------------------------------------------\n"
     ]
    },
    {
     "data": {
      "image/png": "[encoded data removed]",
      "text/plain": [
       "<Figure size 576x288 with 1 Axes>"
      ]
     },
     "metadata": {},
     "output_type": "display_data"
    },
    {
     "data": {
      "image/png": "[encoded data removed]",
      "text/plain": [
       "<Figure size 576x288 with 1 Axes>"
      ]
     },
     "metadata": {},
     "output_type": "display_data"
    }
   ],
   "source": [
    "models = [EasyEnsembleClassifier(random_state=25)]\n",
    "roc_pr_cm(models)"
   ]
  },
  {
   "cell_type": "markdown",
   "metadata": {},
   "source": [
    "## (b) Feature Selection: RandomForest Recursive Feature Elimination"
   ]
  },
  {
   "cell_type": "code",
   "execution_count": 16,
   "metadata": {},
   "outputs": [],
   "source": [
    "df = pd.read_csv('preprocessed_risk_factors_cervical_cancer.csv', usecols = features)\n",
    "\n",
    "X = df.drop('citology', axis = 1) \n",
    "y = df['citology']\n",
    "\n",
    "X_train, X_test, y_train, y_test = train_test_split(X, y, test_size=0.15, random_state =0)\n",
    "\n",
    "from sklearn.preprocessing import StandardScaler\n",
    "sc = StandardScaler()\n",
    "X_train = sc.fit_transform(X_train)\n",
    "X_test = sc.transform(X_test)"
   ]
  },
  {
   "cell_type": "markdown",
   "metadata": {},
   "source": [
    "### sklearn.feature_selection.RFE"
   ]
  },
  {
   "cell_type": "code",
   "execution_count": 17,
   "metadata": {},
   "outputs": [
    {
     "name": "stdout",
     "output_type": "stream",
     "text": [
      "Num Features: 15\n",
      "-----------------------------------------------------------------------\n",
      "Selected Features: [ True  True  True  True False  True  True  True  True  True  True  True\n",
      "  True  True False False False False False False False False False False\n",
      " False False False False  True  True]\n",
      "-----------------------------------------------------------------------\n",
      "Feature Ranking: [ 1  1  1  1  2  1  1  1  1  1  1  1  1  1 14  8  7  6 12 11 15 16  5  9\n",
      " 10  4  3 13  1  1]\n"
     ]
    }
   ],
   "source": [
    "from sklearn.ensemble import RandomForestClassifier\n",
    "rf = RandomForestClassifier(random_state=42, n_estimators=100, criterion='entropy', max_depth=20, max_features='auto')\n",
    "\n",
    "from sklearn.feature_selection import RFE\n",
    "rfe = RFE(estimator=rf, n_features_to_select=15, step = 1)\n",
    "\n",
    "fit = rfe.fit(X_train, y_train)\n",
    "\n",
    "print(\"Num Features: %d\" % fit.n_features_)\n",
    "\n",
    "print('-----------------------------------------------------------------------')\n",
    "\n",
    "print(\"Selected Features: %s\" % fit.support_)\n",
    "\n",
    "print('-----------------------------------------------------------------------')\n",
    "\n",
    "print(\"Feature Ranking: %s\" % fit.ranking_)"
   ]
  },
  {
   "cell_type": "code",
   "execution_count": 18,
   "metadata": {},
   "outputs": [
    {
     "data": {
      "text/html": [
       "<div>\n",
       "<style scoped>\n",
       "    .dataframe tbody tr th:only-of-type {\n",
       "        vertical-align: middle;\n",
       "    }\n",
       "\n",
       "    .dataframe tbody tr th {\n",
       "        vertical-align: top;\n",
       "    }\n",
       "\n",
       "    .dataframe thead th {\n",
       "        text-align: right;\n",
       "    }\n",
       "</style>\n",
       "<table border=\"1\" class=\"dataframe\">\n",
       "  <thead>\n",
       "    <tr style=\"text-align: right;\">\n",
       "      <th></th>\n",
       "      <th>Feature</th>\n",
       "      <th>Ranking</th>\n",
       "    </tr>\n",
       "  </thead>\n",
       "  <tbody>\n",
       "    <tr>\n",
       "      <th>0</th>\n",
       "      <td>age</td>\n",
       "      <td>1</td>\n",
       "    </tr>\n",
       "    <tr>\n",
       "      <th>1</th>\n",
       "      <td>number_of_sexual_partners</td>\n",
       "      <td>1</td>\n",
       "    </tr>\n",
       "    <tr>\n",
       "      <th>2</th>\n",
       "      <td>first_sexual_intercourse</td>\n",
       "      <td>1</td>\n",
       "    </tr>\n",
       "    <tr>\n",
       "      <th>3</th>\n",
       "      <td>num_of_pregnancies</td>\n",
       "      <td>1</td>\n",
       "    </tr>\n",
       "    <tr>\n",
       "      <th>5</th>\n",
       "      <td>smokes_(years)</td>\n",
       "      <td>1</td>\n",
       "    </tr>\n",
       "    <tr>\n",
       "      <th>6</th>\n",
       "      <td>smokes_(packs_year)</td>\n",
       "      <td>1</td>\n",
       "    </tr>\n",
       "    <tr>\n",
       "      <th>7</th>\n",
       "      <td>hormonal_contraceptives</td>\n",
       "      <td>1</td>\n",
       "    </tr>\n",
       "    <tr>\n",
       "      <th>8</th>\n",
       "      <td>hormonal_contraceptives_(years)</td>\n",
       "      <td>1</td>\n",
       "    </tr>\n",
       "    <tr>\n",
       "      <th>9</th>\n",
       "      <td>iud</td>\n",
       "      <td>1</td>\n",
       "    </tr>\n",
       "    <tr>\n",
       "      <th>10</th>\n",
       "      <td>iud_(years)</td>\n",
       "      <td>1</td>\n",
       "    </tr>\n",
       "    <tr>\n",
       "      <th>11</th>\n",
       "      <td>stds</td>\n",
       "      <td>1</td>\n",
       "    </tr>\n",
       "    <tr>\n",
       "      <th>12</th>\n",
       "      <td>stds_(number)</td>\n",
       "      <td>1</td>\n",
       "    </tr>\n",
       "    <tr>\n",
       "      <th>13</th>\n",
       "      <td>stds_condylomatosis</td>\n",
       "      <td>1</td>\n",
       "    </tr>\n",
       "    <tr>\n",
       "      <th>28</th>\n",
       "      <td>dx_hpv</td>\n",
       "      <td>1</td>\n",
       "    </tr>\n",
       "    <tr>\n",
       "      <th>29</th>\n",
       "      <td>dx</td>\n",
       "      <td>1</td>\n",
       "    </tr>\n",
       "  </tbody>\n",
       "</table>\n",
       "</div>"
      ],
      "text/plain": [
       "                            Feature  Ranking\n",
       "0                               age        1\n",
       "1         number_of_sexual_partners        1\n",
       "2          first_sexual_intercourse        1\n",
       "3                num_of_pregnancies        1\n",
       "5                    smokes_(years)        1\n",
       "6               smokes_(packs_year)        1\n",
       "7           hormonal_contraceptives        1\n",
       "8   hormonal_contraceptives_(years)        1\n",
       "9                               iud        1\n",
       "10                      iud_(years)        1\n",
       "11                             stds        1\n",
       "12                    stds_(number)        1\n",
       "13              stds_condylomatosis        1\n",
       "28                           dx_hpv        1\n",
       "29                               dx        1"
      ]
     },
     "execution_count": 18,
     "metadata": {},
     "output_type": "execute_result"
    }
   ],
   "source": [
    "selected_rfe_features = pd.DataFrame({'Feature':list(X.columns),\n",
    "                                      'Ranking':rfe.ranking_})\n",
    "\n",
    "selected_rfe_features.sort_values(by='Ranking')\n",
    "selected_rfe_features = selected_rfe_features[selected_rfe_features['Ranking'] == 1]\n",
    "top15 = selected_rfe_features.nlargest(15,'Ranking')\n",
    "top15"
   ]
  },
  {
   "cell_type": "code",
   "execution_count": 19,
   "metadata": {},
   "outputs": [
    {
     "data": {
      "text/plain": [
       "array(['age', 'number_of_sexual_partners', 'first_sexual_intercourse',\n",
       "       'num_of_pregnancies', 'smokes_(years)', 'smokes_(packs_year)',\n",
       "       'hormonal_contraceptives', 'hormonal_contraceptives_(years)',\n",
       "       'iud', 'iud_(years)', 'stds', 'stds_(number)',\n",
       "       'stds_condylomatosis', 'dx_hpv', 'dx'], dtype=object)"
      ]
     },
     "execution_count": 19,
     "metadata": {},
     "output_type": "execute_result"
    }
   ],
   "source": [
    "top15.Feature.values"
   ]
  },
  {
   "cell_type": "code",
   "execution_count": 20,
   "metadata": {},
   "outputs": [],
   "source": [
    "df = pd.read_csv('preprocessed_risk_factors_cervical_cancer.csv', usecols = ['age', 'number_of_sexual_partners', 'first_sexual_intercourse',\n",
    "       'num_of_pregnancies', 'smokes_(years)', 'smokes_(packs_year)',\n",
    "       'hormonal_contraceptives', 'hormonal_contraceptives_(years)',\n",
    "       'iud', 'iud_(years)', 'stds', 'stds_(number)',\n",
    "       'stds_condylomatosis', 'dx_hpv', 'dx', 'citology'])\n",
    "\n",
    "X = df.drop('citology', axis = 1) \n",
    "y = df['citology']\n",
    "\n",
    "X_train, X_test, y_train, y_test = train_test_split(X, y, test_size=0.15, random_state =0)\n",
    "\n",
    "from sklearn.preprocessing import StandardScaler\n",
    "sc = StandardScaler()\n",
    "X_train = sc.fit_transform(X_train)\n",
    "X_test = sc.transform(X_test)"
   ]
  },
  {
   "cell_type": "code",
   "execution_count": 21,
   "metadata": {},
   "outputs": [
    {
     "data": {
      "text/html": [
       "<div>\n",
       "<style scoped>\n",
       "    .dataframe tbody tr th:only-of-type {\n",
       "        vertical-align: middle;\n",
       "    }\n",
       "\n",
       "    .dataframe tbody tr th {\n",
       "        vertical-align: top;\n",
       "    }\n",
       "\n",
       "    .dataframe thead th {\n",
       "        text-align: right;\n",
       "    }\n",
       "</style>\n",
       "<table border=\"1\" class=\"dataframe\">\n",
       "  <thead>\n",
       "    <tr style=\"text-align: right;\">\n",
       "      <th></th>\n",
       "      <th>Algorithm</th>\n",
       "      <th>ROC_AUC</th>\n",
       "      <th>PR_AUC</th>\n",
       "      <th>Precision</th>\n",
       "      <th>Recall</th>\n",
       "      <th>F1_Train</th>\n",
       "      <th>F1_Test</th>\n",
       "      <th>Accuracy</th>\n",
       "    </tr>\n",
       "  </thead>\n",
       "  <tbody>\n",
       "    <tr>\n",
       "      <th>0</th>\n",
       "      <td>EasyClassifier</td>\n",
       "      <td>0.544444</td>\n",
       "      <td>0.062625</td>\n",
       "      <td>0.555556</td>\n",
       "      <td>0.081967</td>\n",
       "      <td>0.175879</td>\n",
       "      <td>0.142857</td>\n",
       "      <td>0.534884</td>\n",
       "    </tr>\n",
       "  </tbody>\n",
       "</table>\n",
       "</div>"
      ],
      "text/plain": [
       "        Algorithm   ROC_AUC    PR_AUC  Precision    Recall  F1_Train  \\\n",
       "0  EasyClassifier  0.544444  0.062625   0.555556  0.081967  0.175879   \n",
       "\n",
       "    F1_Test  Accuracy  \n",
       "0  0.142857  0.534884  "
      ]
     },
     "execution_count": 21,
     "metadata": {},
     "output_type": "execute_result"
    }
   ],
   "source": [
    "models = [EasyEnsembleClassifier(random_state=25)]\n",
    "model_names=['EasyClassifier']\n",
    "model_comparison(models, model_names)"
   ]
  },
  {
   "cell_type": "code",
   "execution_count": 22,
   "metadata": {},
   "outputs": [
    {
     "name": "stdout",
     "output_type": "stream",
     "text": [
      "---------------------------------------------------------------\n"
     ]
    },
    {
     "data": {
      "image/png": "[encoded data removed]",
      "text/plain": [
       "<Figure size 432x288 with 2 Axes>"
      ]
     },
     "metadata": {},
     "output_type": "display_data"
    },
    {
     "name": "stdout",
     "output_type": "stream",
     "text": [
      "TP: 5, FP: 56, TN: 64, FN: 4\n",
      "---------------------------------------------------------------\n",
      "              precision    recall  f1-score   support\n",
      "\n",
      "           0      0.941     0.533     0.681       120\n",
      "           1      0.082     0.556     0.143         9\n",
      "\n",
      "    accuracy                          0.535       129\n",
      "   macro avg      0.512     0.544     0.412       129\n",
      "weighted avg      0.881     0.535     0.643       129\n",
      "\n",
      "---------------------------------------------------------------\n",
      "Recall Score: 0.5556\n",
      ".\n",
      "Macro Average of Recall Score: 0.5444\n",
      "Weighted Average of Recall Score: 0.5349\n",
      "---------------------------------------------------------------\n"
     ]
    },
    {
     "data": {
      "image/png": "[encoded data removed]",
      "text/plain": [
       "<Figure size 576x288 with 1 Axes>"
      ]
     },
     "metadata": {},
     "output_type": "display_data"
    },
    {
     "data": {
      "image/png": "[encoded data removed]",
      "text/plain": [
       "<Figure size 576x288 with 1 Axes>"
      ]
     },
     "metadata": {},
     "output_type": "display_data"
    }
   ],
   "source": [
    "models = [EasyEnsembleClassifier(random_state=25)]\n",
    "roc_pr_cm(models)"
   ]
  },
  {
   "cell_type": "markdown",
   "metadata": {},
   "source": [
    "## (c) Feature Selection: RandomForest Boruta"
   ]
  },
  {
   "cell_type": "code",
   "execution_count": 23,
   "metadata": {},
   "outputs": [],
   "source": [
    "df = pd.read_csv('preprocessed_risk_factors_cervical_cancer.csv', usecols = features)\n",
    "\n",
    "X = df.drop('citology', axis = 1) \n",
    "y = df['citology']\n",
    "\n",
    "X_train, X_test, y_train, y_test = train_test_split(X, y, test_size=0.15, random_state =0)\n",
    "\n",
    "from sklearn.preprocessing import StandardScaler\n",
    "sc = StandardScaler()\n",
    "X_train = sc.fit_transform(X_train)\n",
    "X_test = sc.transform(X_test)"
   ]
  },
  {
   "cell_type": "code",
   "execution_count": 24,
   "metadata": {},
   "outputs": [
    {
     "name": "stdout",
     "output_type": "stream",
     "text": [
      "Iteration: \t1 / 100\n",
      "Confirmed: \t0\n",
      "Tentative: \t30\n",
      "Rejected: \t0\n",
      "Iteration: \t2 / 100\n",
      "Confirmed: \t0\n",
      "Tentative: \t30\n",
      "Rejected: \t0\n",
      "Iteration: \t3 / 100\n",
      "Confirmed: \t0\n",
      "Tentative: \t30\n",
      "Rejected: \t0\n",
      "Iteration: \t4 / 100\n",
      "Confirmed: \t0\n",
      "Tentative: \t30\n",
      "Rejected: \t0\n",
      "Iteration: \t5 / 100\n",
      "Confirmed: \t0\n",
      "Tentative: \t30\n",
      "Rejected: \t0\n",
      "Iteration: \t6 / 100\n",
      "Confirmed: \t0\n",
      "Tentative: \t30\n",
      "Rejected: \t0\n",
      "Iteration: \t7 / 100\n",
      "Confirmed: \t0\n",
      "Tentative: \t30\n",
      "Rejected: \t0\n",
      "Iteration: \t8 / 100\n",
      "Confirmed: \t0\n",
      "Tentative: \t1\n",
      "Rejected: \t29\n",
      "Iteration: \t9 / 100\n",
      "Confirmed: \t0\n",
      "Tentative: \t1\n",
      "Rejected: \t29\n",
      "Iteration: \t10 / 100\n",
      "Confirmed: \t0\n",
      "Tentative: \t1\n",
      "Rejected: \t29\n",
      "Iteration: \t11 / 100\n",
      "Confirmed: \t0\n",
      "Tentative: \t1\n",
      "Rejected: \t29\n",
      "Iteration: \t12 / 100\n",
      "Confirmed: \t0\n",
      "Tentative: \t0\n",
      "Rejected: \t30\n",
      "\n",
      "\n",
      "BorutaPy finished running.\n",
      "\n",
      "Iteration: \t13 / 100\n",
      "Confirmed: \t0\n",
      "Tentative: \t0\n",
      "Rejected: \t30\n"
     ]
    },
    {
     "data": {
      "text/plain": [
       "BorutaPy(estimator=RandomForestClassifier(class_weight='balanced', max_depth=5,\n",
       "                                          n_estimators=28, n_jobs=-1,\n",
       "                                          random_state=RandomState(MT19937) at 0x2698F54DD08),\n",
       "         n_estimators='auto',\n",
       "         random_state=RandomState(MT19937) at 0x2698F54DD08, verbose=2)"
      ]
     },
     "execution_count": 24,
     "metadata": {},
     "output_type": "execute_result"
    }
   ],
   "source": [
    "from sklearn.ensemble import RandomForestClassifier\n",
    "rf = RandomForestClassifier(n_jobs=-1, class_weight='balanced', max_depth=5, random_state=42)\n",
    "rf.fit(X_train, y_train)\n",
    "\n",
    "from boruta import BorutaPy\n",
    "boruta_selector = BorutaPy(rf, n_estimators='auto', verbose=2, random_state=1)\n",
    "\n",
    "# find all relevant features\n",
    "boruta_selector.fit(np.array(X_train), np.array(y_train))"
   ]
  },
  {
   "cell_type": "code",
   "execution_count": 25,
   "metadata": {},
   "outputs": [
    {
     "name": "stdout",
     "output_type": "stream",
     "text": [
      "Selected Features:  [False False False False False False False False False False False False\n",
      " False False False False False False False False False False False False\n",
      " False False False False False False]\n",
      "----------------------------------------------------------------------------\n",
      "Ranking:  [ 2  6  5  3 18 12 11 15  4 13  8 19 14 17 27 29 20 16 23 27 27 30 20 25\n",
      " 23 22  9 31  6  9]\n",
      "----------------------------------------------------------------------------\n",
      "No. of significant features:  0\n"
     ]
    }
   ],
   "source": [
    "# check selected features\n",
    "print(\"Selected Features: \", boruta_selector.support_)\n",
    "\n",
    "print ('----------------------------------------------------------------------------')\n",
    " \n",
    "# check ranking of features\n",
    "print(\"Ranking: \", boruta_selector.ranking_)\n",
    "\n",
    "print ('----------------------------------------------------------------------------')\n",
    "\n",
    "print(\"No. of significant features: \", boruta_selector.n_features_)"
   ]
  },
  {
   "cell_type": "code",
   "execution_count": 26,
   "metadata": {},
   "outputs": [
    {
     "name": "stdout",
     "output_type": "stream",
     "text": [
      "features in the green area: []\n",
      "============================================================================================================================================================================================================\n",
      "features in the blue area: []\n"
     ]
    }
   ],
   "source": [
    "green_area = X.columns[boruta_selector.support_].to_list()\n",
    "blue_area = X.columns[boruta_selector.support_weak_].to_list()\n",
    "\n",
    "print ('features in the green area:', green_area)\n",
    "\n",
    "print ('============================================================================================================================================================================================================')\n",
    "\n",
    "print ('features in the blue area:', blue_area)"
   ]
  },
  {
   "cell_type": "code",
   "execution_count": 27,
   "metadata": {},
   "outputs": [
    {
     "data": {
      "text/html": [
       "<div>\n",
       "<style scoped>\n",
       "    .dataframe tbody tr th:only-of-type {\n",
       "        vertical-align: middle;\n",
       "    }\n",
       "\n",
       "    .dataframe tbody tr th {\n",
       "        vertical-align: top;\n",
       "    }\n",
       "\n",
       "    .dataframe thead th {\n",
       "        text-align: right;\n",
       "    }\n",
       "</style>\n",
       "<table border=\"1\" class=\"dataframe\">\n",
       "  <thead>\n",
       "    <tr style=\"text-align: right;\">\n",
       "      <th></th>\n",
       "      <th>Feature</th>\n",
       "      <th>Ranking</th>\n",
       "    </tr>\n",
       "  </thead>\n",
       "  <tbody>\n",
       "    <tr>\n",
       "      <th>0</th>\n",
       "      <td>age</td>\n",
       "      <td>2</td>\n",
       "    </tr>\n",
       "    <tr>\n",
       "      <th>3</th>\n",
       "      <td>num_of_pregnancies</td>\n",
       "      <td>3</td>\n",
       "    </tr>\n",
       "    <tr>\n",
       "      <th>8</th>\n",
       "      <td>hormonal_contraceptives_(years)</td>\n",
       "      <td>4</td>\n",
       "    </tr>\n",
       "    <tr>\n",
       "      <th>2</th>\n",
       "      <td>first_sexual_intercourse</td>\n",
       "      <td>5</td>\n",
       "    </tr>\n",
       "    <tr>\n",
       "      <th>1</th>\n",
       "      <td>number_of_sexual_partners</td>\n",
       "      <td>6</td>\n",
       "    </tr>\n",
       "    <tr>\n",
       "      <th>28</th>\n",
       "      <td>dx_hpv</td>\n",
       "      <td>6</td>\n",
       "    </tr>\n",
       "    <tr>\n",
       "      <th>10</th>\n",
       "      <td>iud_(years)</td>\n",
       "      <td>8</td>\n",
       "    </tr>\n",
       "    <tr>\n",
       "      <th>26</th>\n",
       "      <td>dx_cancer</td>\n",
       "      <td>9</td>\n",
       "    </tr>\n",
       "    <tr>\n",
       "      <th>29</th>\n",
       "      <td>dx</td>\n",
       "      <td>9</td>\n",
       "    </tr>\n",
       "    <tr>\n",
       "      <th>6</th>\n",
       "      <td>smokes_(packs_year)</td>\n",
       "      <td>11</td>\n",
       "    </tr>\n",
       "    <tr>\n",
       "      <th>5</th>\n",
       "      <td>smokes_(years)</td>\n",
       "      <td>12</td>\n",
       "    </tr>\n",
       "    <tr>\n",
       "      <th>9</th>\n",
       "      <td>iud</td>\n",
       "      <td>13</td>\n",
       "    </tr>\n",
       "    <tr>\n",
       "      <th>12</th>\n",
       "      <td>stds_(number)</td>\n",
       "      <td>14</td>\n",
       "    </tr>\n",
       "    <tr>\n",
       "      <th>7</th>\n",
       "      <td>hormonal_contraceptives</td>\n",
       "      <td>15</td>\n",
       "    </tr>\n",
       "  </tbody>\n",
       "</table>\n",
       "</div>"
      ],
      "text/plain": [
       "                            Feature  Ranking\n",
       "0                               age        2\n",
       "3                num_of_pregnancies        3\n",
       "8   hormonal_contraceptives_(years)        4\n",
       "2          first_sexual_intercourse        5\n",
       "1         number_of_sexual_partners        6\n",
       "28                           dx_hpv        6\n",
       "10                      iud_(years)        8\n",
       "26                        dx_cancer        9\n",
       "29                               dx        9\n",
       "6               smokes_(packs_year)       11\n",
       "5                    smokes_(years)       12\n",
       "9                               iud       13\n",
       "12                    stds_(number)       14\n",
       "7           hormonal_contraceptives       15"
      ]
     },
     "execution_count": 27,
     "metadata": {},
     "output_type": "execute_result"
    }
   ],
   "source": [
    "# Let's visualise it better in the form of a table\n",
    "selected_boruta_features = pd.DataFrame({'Feature':list(X.columns),\n",
    "                                      'Ranking':boruta_selector.ranking_})\n",
    "selected_boruta_features.sort_values(by='Ranking')\n",
    "selected_boruta_features = selected_boruta_features[selected_boruta_features['Ranking'] < 16]\n",
    "top15 = selected_boruta_features.nsmallest(15,'Ranking')\n",
    "top15 "
   ]
  },
  {
   "cell_type": "code",
   "execution_count": 28,
   "metadata": {},
   "outputs": [
    {
     "data": {
      "text/plain": [
       "array(['age', 'num_of_pregnancies', 'hormonal_contraceptives_(years)',\n",
       "       'first_sexual_intercourse', 'number_of_sexual_partners', 'dx_hpv',\n",
       "       'iud_(years)', 'dx_cancer', 'dx', 'smokes_(packs_year)',\n",
       "       'smokes_(years)', 'iud', 'stds_(number)',\n",
       "       'hormonal_contraceptives'], dtype=object)"
      ]
     },
     "execution_count": 28,
     "metadata": {},
     "output_type": "execute_result"
    }
   ],
   "source": [
    "top15.Feature.values"
   ]
  },
  {
   "cell_type": "code",
   "execution_count": 29,
   "metadata": {},
   "outputs": [],
   "source": [
    "df = pd.read_csv('preprocessed_risk_factors_cervical_cancer.csv', usecols = ['age', 'num_of_pregnancies', 'hormonal_contraceptives_(years)',\n",
    "       'first_sexual_intercourse', 'number_of_sexual_partners', 'dx_hpv',\n",
    "       'iud_(years)', 'dx_cancer', 'dx', 'smokes_(packs_year)',\n",
    "       'smokes_(years)', 'iud', 'stds_(number)',\n",
    "       'hormonal_contraceptives', 'citology'])\n",
    "\n",
    "X = df.drop('citology', axis = 1) \n",
    "y = df['citology']\n",
    "\n",
    "X_train, X_test, y_train, y_test = train_test_split(X, y, test_size=0.15, random_state =0)\n",
    "\n",
    "from sklearn.preprocessing import StandardScaler\n",
    "sc = StandardScaler()\n",
    "X_train = sc.fit_transform(X_train)\n",
    "X_test = sc.transform(X_test)"
   ]
  },
  {
   "cell_type": "code",
   "execution_count": 30,
   "metadata": {},
   "outputs": [
    {
     "data": {
      "text/html": [
       "<div>\n",
       "<style scoped>\n",
       "    .dataframe tbody tr th:only-of-type {\n",
       "        vertical-align: middle;\n",
       "    }\n",
       "\n",
       "    .dataframe tbody tr th {\n",
       "        vertical-align: top;\n",
       "    }\n",
       "\n",
       "    .dataframe thead th {\n",
       "        text-align: right;\n",
       "    }\n",
       "</style>\n",
       "<table border=\"1\" class=\"dataframe\">\n",
       "  <thead>\n",
       "    <tr style=\"text-align: right;\">\n",
       "      <th></th>\n",
       "      <th>Algorithm</th>\n",
       "      <th>ROC_AUC</th>\n",
       "      <th>PR_AUC</th>\n",
       "      <th>Precision</th>\n",
       "      <th>Recall</th>\n",
       "      <th>F1_Train</th>\n",
       "      <th>F1_Test</th>\n",
       "      <th>Accuracy</th>\n",
       "    </tr>\n",
       "  </thead>\n",
       "  <tbody>\n",
       "    <tr>\n",
       "      <th>0</th>\n",
       "      <td>EasyClassifier</td>\n",
       "      <td>0.484722</td>\n",
       "      <td>0.061208</td>\n",
       "      <td>0.444444</td>\n",
       "      <td>0.065574</td>\n",
       "      <td>0.176322</td>\n",
       "      <td>0.114286</td>\n",
       "      <td>0.51938</td>\n",
       "    </tr>\n",
       "  </tbody>\n",
       "</table>\n",
       "</div>"
      ],
      "text/plain": [
       "        Algorithm   ROC_AUC    PR_AUC  Precision    Recall  F1_Train  \\\n",
       "0  EasyClassifier  0.484722  0.061208   0.444444  0.065574  0.176322   \n",
       "\n",
       "    F1_Test  Accuracy  \n",
       "0  0.114286   0.51938  "
      ]
     },
     "execution_count": 30,
     "metadata": {},
     "output_type": "execute_result"
    }
   ],
   "source": [
    "models = [EasyEnsembleClassifier(random_state=25)]\n",
    "model_names=['EasyClassifier']\n",
    "model_comparison(models, model_names)"
   ]
  },
  {
   "cell_type": "code",
   "execution_count": 31,
   "metadata": {},
   "outputs": [
    {
     "name": "stdout",
     "output_type": "stream",
     "text": [
      "---------------------------------------------------------------\n"
     ]
    },
    {
     "data": {
      "image/png": "[encoded data removed]",
      "text/plain": [
       "<Figure size 432x288 with 2 Axes>"
      ]
     },
     "metadata": {},
     "output_type": "display_data"
    },
    {
     "name": "stdout",
     "output_type": "stream",
     "text": [
      "TP: 4, FP: 57, TN: 63, FN: 5\n",
      "---------------------------------------------------------------\n",
      "              precision    recall  f1-score   support\n",
      "\n",
      "           0      0.926     0.525     0.670       120\n",
      "           1      0.066     0.444     0.114         9\n",
      "\n",
      "    accuracy                          0.519       129\n",
      "   macro avg      0.496     0.485     0.392       129\n",
      "weighted avg      0.866     0.519     0.631       129\n",
      "\n",
      "---------------------------------------------------------------\n",
      "Recall Score: 0.4444\n",
      ".\n",
      "Macro Average of Recall Score: 0.4847\n",
      "Weighted Average of Recall Score: 0.5194\n",
      "---------------------------------------------------------------\n"
     ]
    },
    {
     "data": {
      "image/png": "[encoded data removed]",
      "text/plain": [
       "<Figure size 576x288 with 1 Axes>"
      ]
     },
     "metadata": {},
     "output_type": "display_data"
    },
    {
     "data": {
      "image/png": "[encoded data removed]",
      "text/plain": [
       "<Figure size 576x288 with 1 Axes>"
      ]
     },
     "metadata": {},
     "output_type": "display_data"
    }
   ],
   "source": [
    "models = [EasyEnsembleClassifier(random_state=25)]\n",
    "roc_pr_cm(models)"
   ]
  },
  {
   "cell_type": "markdown",
   "metadata": {},
   "source": [
    "## (d) Permutation Feature Importance"
   ]
  },
  {
   "cell_type": "code",
   "execution_count": 32,
   "metadata": {},
   "outputs": [],
   "source": [
    "df = pd.read_csv('preprocessed_risk_factors_cervical_cancer.csv', usecols = features)\n",
    "\n",
    "X = df.drop('citology', axis = 1) \n",
    "y = df['citology']\n",
    "\n",
    "X_train, X_test, y_train, y_test = train_test_split(X, y, test_size=0.15, random_state =0)"
   ]
  },
  {
   "cell_type": "code",
   "execution_count": 33,
   "metadata": {},
   "outputs": [
    {
     "name": "stdout",
     "output_type": "stream",
     "text": [
      "Feature: 0, Score: 0.52727\n",
      "Feature: 1, Score: 0.40455\n",
      "Feature: 2, Score: 0.47727\n",
      "Feature: 3, Score: 0.42273\n",
      "Feature: 4, Score: 0.07727\n",
      "Feature: 5, Score: 0.14091\n",
      "Feature: 6, Score: 0.16818\n",
      "Feature: 7, Score: 0.21818\n",
      "Feature: 8, Score: 0.46818\n",
      "Feature: 9, Score: 0.08636\n",
      "Feature: 10, Score: 0.11818\n",
      "Feature: 11, Score: 0.03182\n",
      "Feature: 12, Score: 0.06364\n",
      "Feature: 13, Score: 0.06364\n",
      "Feature: 14, Score: 0.00000\n",
      "Feature: 15, Score: 0.00000\n",
      "Feature: 16, Score: 0.02727\n",
      "Feature: 17, Score: 0.00455\n",
      "Feature: 18, Score: 0.00000\n",
      "Feature: 19, Score: 0.00000\n",
      "Feature: 20, Score: 0.00000\n",
      "Feature: 21, Score: 0.00000\n",
      "Feature: 22, Score: 0.02273\n",
      "Feature: 23, Score: 0.00000\n",
      "Feature: 24, Score: 0.00000\n",
      "Feature: 25, Score: 0.03636\n",
      "Feature: 26, Score: 0.08636\n",
      "Feature: 27, Score: 0.00000\n",
      "Feature: 28, Score: 0.08636\n",
      "Feature: 29, Score: 0.08636\n"
     ]
    },
    {
     "data": {
      "image/png": "[encoded data removed]",
      "text/plain": [
       "<Figure size 576x396 with 1 Axes>"
      ]
     },
     "metadata": {},
     "output_type": "display_data"
    }
   ],
   "source": [
    "from sklearn.inspection import permutation_importance\n",
    "\n",
    "model = RandomForestClassifier(random_state=42)\n",
    "model.fit(X_train, y_train)\n",
    "# perform permutation importance\n",
    "results = permutation_importance(model, X, y, scoring='recall')\n",
    "# get importance\n",
    "importance = results.importances_mean\n",
    "\n",
    "# summarize feature importance\n",
    "for i,v in enumerate(importance):\n",
    "    print('Feature: %0d, Score: %.5f' % (i,v))\n",
    "\n",
    "    # plot feature importance\n",
    "plt.bar([x for x in range(len(importance))], importance)\n",
    "plt.xlabel('Features')\n",
    "plt.xlabel('Importance')\n",
    "plt.title(\"Permutation Feature Importance of RandomForest \")\n",
    "plt.show()"
   ]
  },
  {
   "cell_type": "code",
   "execution_count": 34,
   "metadata": {},
   "outputs": [
    {
     "name": "stdout",
     "output_type": "stream",
     "text": [
      "Selected features: ['age' 'first_sexual_intercourse' 'hormonal_contraceptives_(years)'\n",
      " 'num_of_pregnancies' 'number_of_sexual_partners'\n",
      " 'hormonal_contraceptives' 'smokes_(packs_year)' 'smokes_(years)'\n",
      " 'iud_(years)' 'dx_cancer' 'dx_hpv' 'dx' 'iud' 'smokes'\n",
      " 'stds_condylomatosis']\n"
     ]
    }
   ],
   "source": [
    "import warnings\n",
    "warnings.filterwarnings('ignore')\n",
    "\n",
    "idx_features = (-importance).argsort()[:15]\n",
    "name_features = np.array(X_train.columns.to_list())[idx_features]\n",
    "print('Selected features: {}'.format(name_features))"
   ]
  },
  {
   "cell_type": "code",
   "execution_count": 35,
   "metadata": {},
   "outputs": [],
   "source": [
    "df = pd.read_csv('preprocessed_risk_factors_cervical_cancer.csv', usecols = ['first_sexual_intercourse', 'age', 'hormonal_contraceptives_(years)',\n",
    " 'num_of_pregnancies', 'number_of_sexual_partners',\n",
    " 'hormonal_contraceptives', 'smokes_(packs_year)', 'smokes_(years)',\n",
    " 'iud_(years)', 'dx_hpv', 'dx' ,'stds_(number)', 'dx_cancer', 'iud',\n",
    " 'stds_condylomatosis' , 'citology'])\n",
    "\n",
    "X = df.drop('citology', axis = 1) \n",
    "y = df['citology']\n",
    "\n",
    "X_train, X_test, y_train, y_test = train_test_split(X, y, test_size=0.15, random_state =0)\n",
    "\n",
    "from sklearn.preprocessing import StandardScaler\n",
    "sc = StandardScaler()\n",
    "X_train = sc.fit_transform(X_train)\n",
    "X_test = sc.transform(X_test)"
   ]
  },
  {
   "cell_type": "code",
   "execution_count": 36,
   "metadata": {},
   "outputs": [
    {
     "data": {
      "text/html": [
       "<div>\n",
       "<style scoped>\n",
       "    .dataframe tbody tr th:only-of-type {\n",
       "        vertical-align: middle;\n",
       "    }\n",
       "\n",
       "    .dataframe tbody tr th {\n",
       "        vertical-align: top;\n",
       "    }\n",
       "\n",
       "    .dataframe thead th {\n",
       "        text-align: right;\n",
       "    }\n",
       "</style>\n",
       "<table border=\"1\" class=\"dataframe\">\n",
       "  <thead>\n",
       "    <tr style=\"text-align: right;\">\n",
       "      <th></th>\n",
       "      <th>Algorithm</th>\n",
       "      <th>ROC_AUC</th>\n",
       "      <th>PR_AUC</th>\n",
       "      <th>Precision</th>\n",
       "      <th>Recall</th>\n",
       "      <th>F1_Train</th>\n",
       "      <th>F1_Test</th>\n",
       "      <th>Accuracy</th>\n",
       "    </tr>\n",
       "  </thead>\n",
       "  <tbody>\n",
       "    <tr>\n",
       "      <th>0</th>\n",
       "      <td>EasyClassifier</td>\n",
       "      <td>0.544444</td>\n",
       "      <td>0.062625</td>\n",
       "      <td>0.555556</td>\n",
       "      <td>0.081967</td>\n",
       "      <td>0.175879</td>\n",
       "      <td>0.142857</td>\n",
       "      <td>0.534884</td>\n",
       "    </tr>\n",
       "  </tbody>\n",
       "</table>\n",
       "</div>"
      ],
      "text/plain": [
       "        Algorithm   ROC_AUC    PR_AUC  Precision    Recall  F1_Train  \\\n",
       "0  EasyClassifier  0.544444  0.062625   0.555556  0.081967  0.175879   \n",
       "\n",
       "    F1_Test  Accuracy  \n",
       "0  0.142857  0.534884  "
      ]
     },
     "execution_count": 36,
     "metadata": {},
     "output_type": "execute_result"
    }
   ],
   "source": [
    "models = [EasyEnsembleClassifier(random_state=25)]\n",
    "model_names=['EasyClassifier']\n",
    "model_comparison(models, model_names)"
   ]
  },
  {
   "cell_type": "code",
   "execution_count": 37,
   "metadata": {},
   "outputs": [
    {
     "name": "stdout",
     "output_type": "stream",
     "text": [
      "---------------------------------------------------------------\n"
     ]
    },
    {
     "data": {
      "image/png": "[encoded data removed]",
      "text/plain": [
       "<Figure size 432x288 with 2 Axes>"
      ]
     },
     "metadata": {},
     "output_type": "display_data"
    },
    {
     "name": "stdout",
     "output_type": "stream",
     "text": [
      "TP: 5, FP: 56, TN: 64, FN: 4\n",
      "---------------------------------------------------------------\n",
      "              precision    recall  f1-score   support\n",
      "\n",
      "           0      0.941     0.533     0.681       120\n",
      "           1      0.082     0.556     0.143         9\n",
      "\n",
      "    accuracy                          0.535       129\n",
      "   macro avg      0.512     0.544     0.412       129\n",
      "weighted avg      0.881     0.535     0.643       129\n",
      "\n",
      "---------------------------------------------------------------\n",
      "Recall Score: 0.5556\n",
      ".\n",
      "Macro Average of Recall Score: 0.5444\n",
      "Weighted Average of Recall Score: 0.5349\n",
      "---------------------------------------------------------------\n"
     ]
    },
    {
     "data": {
      "image/png": "[encoded data removed]",
      "text/plain": [
       "<Figure size 576x288 with 1 Axes>"
      ]
     },
     "metadata": {},
     "output_type": "display_data"
    },
    {
     "data": {
      "image/png": "[encoded data removed]",
      "text/plain": [
       "<Figure size 576x288 with 1 Axes>"
      ]
     },
     "metadata": {},
     "output_type": "display_data"
    }
   ],
   "source": [
    "models = [EasyEnsembleClassifier(random_state=25)]\n",
    "roc_pr_cm(models)"
   ]
  },
  {
   "cell_type": "markdown",
   "metadata": {},
   "source": [
    "## (e) Feature Importance using RandomForestClassifier"
   ]
  },
  {
   "cell_type": "code",
   "execution_count": 38,
   "metadata": {},
   "outputs": [],
   "source": [
    "df = pd.read_csv('preprocessed_risk_factors_cervical_cancer.csv')\n",
    "df = df. drop('Unnamed: 0', axis=1)\n",
    "\n",
    "X = df.drop('citology', axis = 1) \n",
    "y = df['citology']\n",
    "\n",
    "X_train, X_test, y_train, y_test = train_test_split(X, y, test_size=0.15, random_state =0)\n",
    "\n",
    "from sklearn.preprocessing import StandardScaler\n",
    "sc = StandardScaler()\n",
    "X_train = sc.fit_transform(X_train)\n",
    "X_test = sc.transform(X_test)"
   ]
  },
  {
   "cell_type": "code",
   "execution_count": 39,
   "metadata": {},
   "outputs": [
    {
     "data": {
      "image/png": "[encoded data removed]",
      "text/plain": [
       "<Figure size 1440x576 with 1 Axes>"
      ]
     },
     "metadata": {},
     "output_type": "display_data"
    }
   ],
   "source": [
    "model = RandomForestClassifier(random_state=42)\n",
    "# fit the model\n",
    "model.fit(X_train, y_train)\n",
    "# get importance\n",
    "importance = model.feature_importances_\n",
    "\n",
    "feature_imp = pd.DataFrame(sorted(zip(model.feature_importances_, X.columns), reverse=True), columns=['Value','Feature'])\n",
    "feature_imp\n",
    "\n",
    "top15 = feature_imp.nlargest(15,'Value')\n",
    "\n",
    "plt.figure(figsize=(20, 8))\n",
    "sns.barplot(x=\"Value\", y=\"Feature\", data=top15.sort_values(by=\"Value\", ascending=False))\n",
    "plt.title('RandomForestClassifier Features (avg over folds)')\n",
    "plt.tight_layout()\n",
    "plt.show()"
   ]
  },
  {
   "cell_type": "code",
   "execution_count": 40,
   "metadata": {},
   "outputs": [
    {
     "data": {
      "text/plain": [
       "['age',\n",
       " 'first_sexual_intercourse',\n",
       " 'number_of_sexual_partners',\n",
       " 'hormonal_contraceptives_(years)',\n",
       " 'num_of_pregnancies',\n",
       " 'smokes_(packs_year)',\n",
       " 'smokes_(years)',\n",
       " 'hormonal_contraceptives',\n",
       " 'iud_(years)',\n",
       " 'iud',\n",
       " 'dx_hpv',\n",
       " 'stds_(number)',\n",
       " 'dx_cancer',\n",
       " 'dx',\n",
       " 'smokes']"
      ]
     },
     "execution_count": 40,
     "metadata": {},
     "output_type": "execute_result"
    }
   ],
   "source": [
    "rf_features = top15.Feature.to_list()\n",
    "rf_features"
   ]
  },
  {
   "cell_type": "code",
   "execution_count": 41,
   "metadata": {},
   "outputs": [],
   "source": [
    "df = pd.read_csv('preprocessed_risk_factors_cervical_cancer.csv', usecols = ['age',\n",
    " 'first_sexual_intercourse',\n",
    " 'number_of_sexual_partners',\n",
    " 'hormonal_contraceptives_(years)',\n",
    " 'num_of_pregnancies',\n",
    " 'smokes_(packs_year)',\n",
    " 'smokes_(years)',\n",
    " 'hormonal_contraceptives',\n",
    " 'iud_(years)',\n",
    " 'iud',\n",
    " 'dx_hpv',\n",
    " 'stds_(number)',\n",
    " 'dx_cancer',\n",
    " 'dx',\n",
    " 'smokes', 'citology'])\n",
    "\n",
    "X = df.drop('citology', axis = 1) \n",
    "y = df['citology']\n",
    "\n",
    "X_train, X_test, y_train, y_test = train_test_split(X, y, test_size=0.15, random_state =0)\n",
    "\n",
    "from sklearn.preprocessing import StandardScaler\n",
    "sc = StandardScaler()\n",
    "X_train = sc.fit_transform(X_train)\n",
    "X_test = sc.transform(X_test)"
   ]
  },
  {
   "cell_type": "code",
   "execution_count": 42,
   "metadata": {},
   "outputs": [
    {
     "data": {
      "text/html": [
       "<div>\n",
       "<style scoped>\n",
       "    .dataframe tbody tr th:only-of-type {\n",
       "        vertical-align: middle;\n",
       "    }\n",
       "\n",
       "    .dataframe tbody tr th {\n",
       "        vertical-align: top;\n",
       "    }\n",
       "\n",
       "    .dataframe thead th {\n",
       "        text-align: right;\n",
       "    }\n",
       "</style>\n",
       "<table border=\"1\" class=\"dataframe\">\n",
       "  <thead>\n",
       "    <tr style=\"text-align: right;\">\n",
       "      <th></th>\n",
       "      <th>Algorithm</th>\n",
       "      <th>ROC_AUC</th>\n",
       "      <th>PR_AUC</th>\n",
       "      <th>Precision</th>\n",
       "      <th>Recall</th>\n",
       "      <th>F1_Train</th>\n",
       "      <th>F1_Test</th>\n",
       "      <th>Accuracy</th>\n",
       "    </tr>\n",
       "  </thead>\n",
       "  <tbody>\n",
       "    <tr>\n",
       "      <th>0</th>\n",
       "      <td>EasyClassifier</td>\n",
       "      <td>0.540278</td>\n",
       "      <td>0.062389</td>\n",
       "      <td>0.555556</td>\n",
       "      <td>0.080645</td>\n",
       "      <td>0.175439</td>\n",
       "      <td>0.140845</td>\n",
       "      <td>0.527132</td>\n",
       "    </tr>\n",
       "  </tbody>\n",
       "</table>\n",
       "</div>"
      ],
      "text/plain": [
       "        Algorithm   ROC_AUC    PR_AUC  Precision    Recall  F1_Train  \\\n",
       "0  EasyClassifier  0.540278  0.062389   0.555556  0.080645  0.175439   \n",
       "\n",
       "    F1_Test  Accuracy  \n",
       "0  0.140845  0.527132  "
      ]
     },
     "execution_count": 42,
     "metadata": {},
     "output_type": "execute_result"
    }
   ],
   "source": [
    "models = [EasyEnsembleClassifier(random_state=25)]\n",
    "model_names=['EasyClassifier']\n",
    "model_comparison(models, model_names)"
   ]
  },
  {
   "cell_type": "code",
   "execution_count": 43,
   "metadata": {},
   "outputs": [
    {
     "name": "stdout",
     "output_type": "stream",
     "text": [
      "---------------------------------------------------------------\n"
     ]
    },
    {
     "data": {
      "image/png": "[encoded data removed]",
      "text/plain": [
       "<Figure size 432x288 with 2 Axes>"
      ]
     },
     "metadata": {},
     "output_type": "display_data"
    },
    {
     "name": "stdout",
     "output_type": "stream",
     "text": [
      "TP: 5, FP: 57, TN: 63, FN: 4\n",
      "---------------------------------------------------------------\n",
      "              precision    recall  f1-score   support\n",
      "\n",
      "           0      0.940     0.525     0.674       120\n",
      "           1      0.081     0.556     0.141         9\n",
      "\n",
      "    accuracy                          0.527       129\n",
      "   macro avg      0.510     0.540     0.407       129\n",
      "weighted avg      0.880     0.527     0.637       129\n",
      "\n",
      "---------------------------------------------------------------\n",
      "Recall Score: 0.5556\n",
      ".\n",
      "Macro Average of Recall Score: 0.5403\n",
      "Weighted Average of Recall Score: 0.5271\n",
      "---------------------------------------------------------------\n"
     ]
    },
    {
     "data": {
      "image/png": "[encoded data removed]",
      "text/plain": [
       "<Figure size 576x288 with 1 Axes>"
      ]
     },
     "metadata": {},
     "output_type": "display_data"
    },
    {
     "data": {
      "image/png": "[encoded data removed]",
      "text/plain": [
       "<Figure size 576x288 with 1 Axes>"
      ]
     },
     "metadata": {},
     "output_type": "display_data"
    }
   ],
   "source": [
    "models = [EasyEnsembleClassifier(random_state=25)]\n",
    "roc_pr_cm(models)"
   ]
  },
  {
   "cell_type": "markdown",
   "metadata": {},
   "source": [
    "## (f) Feature Importance using XGBoostClassifier"
   ]
  },
  {
   "cell_type": "code",
   "execution_count": 44,
   "metadata": {},
   "outputs": [],
   "source": [
    "df = pd.read_csv('preprocessed_risk_factors_cervical_cancer.csv')\n",
    "df = df. drop('Unnamed: 0', axis=1)\n",
    "\n",
    "X = df.drop('citology', axis = 1) \n",
    "y = df['citology']\n",
    "\n",
    "X_train, X_test, y_train, y_test = train_test_split(X, y, test_size=0.15, random_state =0)\n",
    "\n",
    "from sklearn.preprocessing import StandardScaler\n",
    "sc = StandardScaler()\n",
    "X_train = sc.fit_transform(X_train)\n",
    "X_test = sc.transform(X_test)"
   ]
  },
  {
   "cell_type": "code",
   "execution_count": 45,
   "metadata": {},
   "outputs": [
    {
     "data": {
      "image/png": "[encoded data removed]",
      "text/plain": [
       "<Figure size 1440x576 with 1 Axes>"
      ]
     },
     "metadata": {},
     "output_type": "display_data"
    }
   ],
   "source": [
    "model = XGBClassifier(random_state=42)\n",
    "# fit the model\n",
    "model.fit(X_train, y_train)\n",
    "# get importance\n",
    "importance = model.feature_importances_\n",
    "\n",
    "feature_imp = pd.DataFrame(sorted(zip(model.feature_importances_, X.columns), reverse=True), columns=['Value','Feature'])\n",
    "feature_imp\n",
    "\n",
    "top15 = feature_imp.nlargest(15,'Value')\n",
    "\n",
    "plt.figure(figsize=(20, 8))\n",
    "sns.barplot(x=\"Value\", y=\"Feature\", data=top15.sort_values(by=\"Value\", ascending=False))\n",
    "plt.title('XGBClassifier Features (avg over folds)')\n",
    "plt.tight_layout()\n",
    "plt.show()"
   ]
  },
  {
   "cell_type": "code",
   "execution_count": 46,
   "metadata": {},
   "outputs": [
    {
     "data": {
      "text/plain": [
       "['number_of_sexual_partners',\n",
       " 'first_sexual_intercourse',\n",
       " 'hormonal_contraceptives_(years)',\n",
       " 'age',\n",
       " 'smokes',\n",
       " 'smokes_(packs_year)',\n",
       " 'stds_number_of_diagnosis',\n",
       " 'smokes_(years)',\n",
       " 'dx_hpv',\n",
       " 'dx_cancer',\n",
       " 'iud_(years)',\n",
       " 'iud',\n",
       " 'num_of_pregnancies',\n",
       " 'dx',\n",
       " 'stds_syphilis']"
      ]
     },
     "execution_count": 46,
     "metadata": {},
     "output_type": "execute_result"
    }
   ],
   "source": [
    "xgb_features = top15.Feature.to_list()\n",
    "xgb_features"
   ]
  },
  {
   "cell_type": "code",
   "execution_count": 47,
   "metadata": {},
   "outputs": [],
   "source": [
    "df = pd.read_csv('preprocessed_risk_factors_cervical_cancer.csv', usecols = ['number_of_sexual_partners',\n",
    " 'first_sexual_intercourse',\n",
    " 'hormonal_contraceptives_(years)',\n",
    " 'age',\n",
    " 'smokes',\n",
    " 'smokes_(packs_year)',\n",
    " 'stds_number_of_diagnosis',\n",
    " 'smokes_(years)',\n",
    " 'dx_hpv',\n",
    " 'dx_cancer',\n",
    " 'iud_(years)',\n",
    " 'iud',\n",
    " 'num_of_pregnancies',\n",
    " 'dx',\n",
    " 'stds_syphilis', 'citology'])\n",
    "\n",
    "X = df.drop('citology', axis = 1) \n",
    "y = df['citology']\n",
    "\n",
    "X_train, X_test, y_train, y_test = train_test_split(X, y, test_size=0.15, random_state =0)\n",
    "\n",
    "from sklearn.preprocessing import StandardScaler\n",
    "sc = StandardScaler()\n",
    "X_train = sc.fit_transform(X_train)\n",
    "X_test = sc.transform(X_test)"
   ]
  },
  {
   "cell_type": "code",
   "execution_count": 48,
   "metadata": {},
   "outputs": [
    {
     "data": {
      "text/html": [
       "<div>\n",
       "<style scoped>\n",
       "    .dataframe tbody tr th:only-of-type {\n",
       "        vertical-align: middle;\n",
       "    }\n",
       "\n",
       "    .dataframe tbody tr th {\n",
       "        vertical-align: top;\n",
       "    }\n",
       "\n",
       "    .dataframe thead th {\n",
       "        text-align: right;\n",
       "    }\n",
       "</style>\n",
       "<table border=\"1\" class=\"dataframe\">\n",
       "  <thead>\n",
       "    <tr style=\"text-align: right;\">\n",
       "      <th></th>\n",
       "      <th>Algorithm</th>\n",
       "      <th>ROC_AUC</th>\n",
       "      <th>PR_AUC</th>\n",
       "      <th>Precision</th>\n",
       "      <th>Recall</th>\n",
       "      <th>F1_Train</th>\n",
       "      <th>F1_Test</th>\n",
       "      <th>Accuracy</th>\n",
       "    </tr>\n",
       "  </thead>\n",
       "  <tbody>\n",
       "    <tr>\n",
       "      <th>0</th>\n",
       "      <td>EasyClassifier</td>\n",
       "      <td>0.583333</td>\n",
       "      <td>0.07455</td>\n",
       "      <td>0.666667</td>\n",
       "      <td>0.090909</td>\n",
       "      <td>0.170732</td>\n",
       "      <td>0.16</td>\n",
       "      <td>0.511628</td>\n",
       "    </tr>\n",
       "  </tbody>\n",
       "</table>\n",
       "</div>"
      ],
      "text/plain": [
       "        Algorithm   ROC_AUC   PR_AUC  Precision    Recall  F1_Train  F1_Test  \\\n",
       "0  EasyClassifier  0.583333  0.07455   0.666667  0.090909  0.170732     0.16   \n",
       "\n",
       "   Accuracy  \n",
       "0  0.511628  "
      ]
     },
     "execution_count": 48,
     "metadata": {},
     "output_type": "execute_result"
    }
   ],
   "source": [
    "models = [EasyEnsembleClassifier(random_state=25)]\n",
    "model_names=['EasyClassifier']\n",
    "model_comparison(models, model_names)"
   ]
  },
  {
   "cell_type": "code",
   "execution_count": 49,
   "metadata": {},
   "outputs": [
    {
     "name": "stdout",
     "output_type": "stream",
     "text": [
      "---------------------------------------------------------------\n"
     ]
    },
    {
     "data": {
      "image/png": "[encoded data removed]",
      "text/plain": [
       "<Figure size 432x288 with 2 Axes>"
      ]
     },
     "metadata": {},
     "output_type": "display_data"
    },
    {
     "name": "stdout",
     "output_type": "stream",
     "text": [
      "TP: 6, FP: 60, TN: 60, FN: 3\n",
      "---------------------------------------------------------------\n",
      "              precision    recall  f1-score   support\n",
      "\n",
      "           0      0.952     0.500     0.656       120\n",
      "           1      0.091     0.667     0.160         9\n",
      "\n",
      "    accuracy                          0.512       129\n",
      "   macro avg      0.522     0.583     0.408       129\n",
      "weighted avg      0.892     0.512     0.621       129\n",
      "\n",
      "---------------------------------------------------------------\n",
      "Recall Score: 0.6667\n",
      ".\n",
      "Macro Average of Recall Score: 0.5833\n",
      "Weighted Average of Recall Score: 0.5116\n",
      "---------------------------------------------------------------\n"
     ]
    },
    {
     "data": {
      "image/png": "[encoded data removed]",
      "text/plain": [
       "<Figure size 576x288 with 1 Axes>"
      ]
     },
     "metadata": {},
     "output_type": "display_data"
    },
    {
     "data": {
      "image/png": "[encoded data removed]",
      "text/plain": [
       "<Figure size 576x288 with 1 Axes>"
      ]
     },
     "metadata": {},
     "output_type": "display_data"
    }
   ],
   "source": [
    "models = [EasyEnsembleClassifier(random_state=25)]\n",
    "roc_pr_cm(models)"
   ]
  },
  {
   "cell_type": "markdown",
   "metadata": {},
   "source": [
    "## Conclusion\n",
    "\n",
    "### Selected Features: (f) Feature Importance using XGBoostClassifier\n",
    "\n",
    "- Recall Score: 0.6667\n",
    "- Macro Average of Recall Score: 0.5833\n",
    "- Weighted Average of Recall Score: 0.5116\n",
    "\n",
    "\n",
    "['number_of_sexual_partners',\n",
    " 'first_sexual_intercourse',\n",
    " 'hormonal_contraceptives_(years)',\n",
    " 'age',\n",
    " 'smokes',\n",
    " 'smokes_(packs_year)',\n",
    " 'stds_number_of_diagnosis',\n",
    " 'smokes_(years)',\n",
    " 'dx_hpv',\n",
    " 'dx_cancer',\n",
    " 'iud_(years)',\n",
    " 'iud',\n",
    " 'num_of_pregnancies',\n",
    " 'dx',\n",
    " 'stds_syphilis', 'citology']"
   ]
  }
 ],
 "metadata": {
  "kernelspec": {
   "display_name": "Python 3",
   "language": "python",
   "name": "python3"
  },
  "language_info": {
   "codemirror_mode": {
    "name": "ipython",
    "version": 3
   },
   "file_extension": ".py",
   "mimetype": "text/x-python",
   "name": "python",
   "nbconvert_exporter": "python",
   "pygments_lexer": "ipython3",
   "version": "3.7.6"
  }
 },
 "nbformat": 4,
 "nbformat_minor": 4
}
