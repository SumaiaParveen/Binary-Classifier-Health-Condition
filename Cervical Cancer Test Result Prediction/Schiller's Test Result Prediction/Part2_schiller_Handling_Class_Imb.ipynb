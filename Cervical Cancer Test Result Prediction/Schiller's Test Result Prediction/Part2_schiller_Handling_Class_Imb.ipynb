{
 "cells": [
  {
   "cell_type": "markdown",
   "metadata": {},
   "source": [
    "# Part 2: Handling Imbalanced Class"
   ]
  },
  {
   "cell_type": "markdown",
   "metadata": {},
   "source": [
    "## Import Libraries"
   ]
  },
  {
   "cell_type": "code",
   "execution_count": 1,
   "metadata": {},
   "outputs": [
    {
     "name": "stderr",
     "output_type": "stream",
     "text": [
      "\n",
      "Bad key \"text.kerning_factor\" on line 4 in\n",
      "C:\\Users\\sumai\\Anaconda3\\lib\\site-packages\\matplotlib\\mpl-data\\stylelib\\_classic_test_patch.mplstyle.\n",
      "You probably need to get an updated matplotlibrc file from\n",
      "https://github.com/matplotlib/matplotlib/blob/v3.1.3/matplotlibrc.template\n",
      "or from the matplotlib source distribution\n"
     ]
    }
   ],
   "source": [
    "import warnings\n",
    "warnings.filterwarnings('ignore')\n",
    "\n",
    "import pandas as pd\n",
    "import numpy as np\n",
    "import missingno as msno\n",
    "import matplotlib.pyplot as plt\n",
    "import seaborn as sns\n",
    "from scipy import stats\n",
    "from sklearn.ensemble import RandomForestClassifier\n",
    "from sklearn.ensemble import BaggingClassifier \n",
    "from imblearn.ensemble import EasyEnsembleClassifier\n",
    "from sklearn.metrics import f1_score,accuracy_score, precision_score, recall_score, roc_curve, roc_auc_score, precision_recall_curve, auc\n",
    "from sklearn.metrics import accuracy_score, confusion_matrix, classification_report"
   ]
  },
  {
   "cell_type": "markdown",
   "metadata": {},
   "source": [
    "## Load Dataset\n",
    "\n",
    "Please see the link to know more about the dataset: https://archive.ics.uci.edu/ml/datasets/Cervical+cancer+%28Risk+Factors%29"
   ]
  },
  {
   "cell_type": "code",
   "execution_count": 2,
   "metadata": {},
   "outputs": [
    {
     "data": {
      "text/html": [
       "<div>\n",
       "<style scoped>\n",
       "    .dataframe tbody tr th:only-of-type {\n",
       "        vertical-align: middle;\n",
       "    }\n",
       "\n",
       "    .dataframe tbody tr th {\n",
       "        vertical-align: top;\n",
       "    }\n",
       "\n",
       "    .dataframe thead th {\n",
       "        text-align: right;\n",
       "    }\n",
       "</style>\n",
       "<table border=\"1\" class=\"dataframe\">\n",
       "  <thead>\n",
       "    <tr style=\"text-align: right;\">\n",
       "      <th></th>\n",
       "      <th>age</th>\n",
       "      <th>number_of_sexual_partners</th>\n",
       "      <th>first_sexual_intercourse</th>\n",
       "      <th>num_of_pregnancies</th>\n",
       "      <th>smokes</th>\n",
       "      <th>smokes_(years)</th>\n",
       "      <th>smokes_(packs_year)</th>\n",
       "      <th>hormonal_contraceptives</th>\n",
       "      <th>hormonal_contraceptives_(years)</th>\n",
       "      <th>iud</th>\n",
       "      <th>...</th>\n",
       "      <th>stds_aids</th>\n",
       "      <th>stds_hiv</th>\n",
       "      <th>stds_hepatitis_b</th>\n",
       "      <th>stds_hpv</th>\n",
       "      <th>stds_number_of_diagnosis</th>\n",
       "      <th>dx_cancer</th>\n",
       "      <th>dx_cin</th>\n",
       "      <th>dx_hpv</th>\n",
       "      <th>dx</th>\n",
       "      <th>schiller</th>\n",
       "    </tr>\n",
       "  </thead>\n",
       "  <tbody>\n",
       "    <tr>\n",
       "      <th>0</th>\n",
       "      <td>18</td>\n",
       "      <td>4.0</td>\n",
       "      <td>15.0</td>\n",
       "      <td>1.0</td>\n",
       "      <td>0.0</td>\n",
       "      <td>0.0</td>\n",
       "      <td>0.0</td>\n",
       "      <td>0.0</td>\n",
       "      <td>0.0</td>\n",
       "      <td>0.0</td>\n",
       "      <td>...</td>\n",
       "      <td>0.0</td>\n",
       "      <td>0.0</td>\n",
       "      <td>0.0</td>\n",
       "      <td>0.0</td>\n",
       "      <td>0</td>\n",
       "      <td>0</td>\n",
       "      <td>0</td>\n",
       "      <td>0</td>\n",
       "      <td>0</td>\n",
       "      <td>0</td>\n",
       "    </tr>\n",
       "    <tr>\n",
       "      <th>1</th>\n",
       "      <td>15</td>\n",
       "      <td>1.0</td>\n",
       "      <td>14.0</td>\n",
       "      <td>1.0</td>\n",
       "      <td>0.0</td>\n",
       "      <td>0.0</td>\n",
       "      <td>0.0</td>\n",
       "      <td>0.0</td>\n",
       "      <td>0.0</td>\n",
       "      <td>0.0</td>\n",
       "      <td>...</td>\n",
       "      <td>0.0</td>\n",
       "      <td>0.0</td>\n",
       "      <td>0.0</td>\n",
       "      <td>0.0</td>\n",
       "      <td>0</td>\n",
       "      <td>0</td>\n",
       "      <td>0</td>\n",
       "      <td>0</td>\n",
       "      <td>0</td>\n",
       "      <td>0</td>\n",
       "    </tr>\n",
       "    <tr>\n",
       "      <th>2</th>\n",
       "      <td>34</td>\n",
       "      <td>1.0</td>\n",
       "      <td>19.0</td>\n",
       "      <td>1.0</td>\n",
       "      <td>0.0</td>\n",
       "      <td>0.0</td>\n",
       "      <td>0.0</td>\n",
       "      <td>0.0</td>\n",
       "      <td>0.0</td>\n",
       "      <td>0.0</td>\n",
       "      <td>...</td>\n",
       "      <td>0.0</td>\n",
       "      <td>0.0</td>\n",
       "      <td>0.0</td>\n",
       "      <td>0.0</td>\n",
       "      <td>0</td>\n",
       "      <td>0</td>\n",
       "      <td>0</td>\n",
       "      <td>0</td>\n",
       "      <td>0</td>\n",
       "      <td>0</td>\n",
       "    </tr>\n",
       "    <tr>\n",
       "      <th>3</th>\n",
       "      <td>52</td>\n",
       "      <td>5.0</td>\n",
       "      <td>16.0</td>\n",
       "      <td>4.0</td>\n",
       "      <td>1.0</td>\n",
       "      <td>37.0</td>\n",
       "      <td>37.0</td>\n",
       "      <td>1.0</td>\n",
       "      <td>3.0</td>\n",
       "      <td>0.0</td>\n",
       "      <td>...</td>\n",
       "      <td>0.0</td>\n",
       "      <td>0.0</td>\n",
       "      <td>0.0</td>\n",
       "      <td>0.0</td>\n",
       "      <td>0</td>\n",
       "      <td>1</td>\n",
       "      <td>0</td>\n",
       "      <td>1</td>\n",
       "      <td>0</td>\n",
       "      <td>0</td>\n",
       "    </tr>\n",
       "    <tr>\n",
       "      <th>4</th>\n",
       "      <td>46</td>\n",
       "      <td>3.0</td>\n",
       "      <td>21.0</td>\n",
       "      <td>4.0</td>\n",
       "      <td>0.0</td>\n",
       "      <td>0.0</td>\n",
       "      <td>0.0</td>\n",
       "      <td>1.0</td>\n",
       "      <td>15.0</td>\n",
       "      <td>0.0</td>\n",
       "      <td>...</td>\n",
       "      <td>0.0</td>\n",
       "      <td>0.0</td>\n",
       "      <td>0.0</td>\n",
       "      <td>0.0</td>\n",
       "      <td>0</td>\n",
       "      <td>0</td>\n",
       "      <td>0</td>\n",
       "      <td>0</td>\n",
       "      <td>0</td>\n",
       "      <td>0</td>\n",
       "    </tr>\n",
       "  </tbody>\n",
       "</table>\n",
       "<p>5 rows × 31 columns</p>\n",
       "</div>"
      ],
      "text/plain": [
       "   age  number_of_sexual_partners  first_sexual_intercourse  \\\n",
       "0   18                        4.0                      15.0   \n",
       "1   15                        1.0                      14.0   \n",
       "2   34                        1.0                      19.0   \n",
       "3   52                        5.0                      16.0   \n",
       "4   46                        3.0                      21.0   \n",
       "\n",
       "   num_of_pregnancies  smokes  smokes_(years)  smokes_(packs_year)  \\\n",
       "0                 1.0     0.0             0.0                  0.0   \n",
       "1                 1.0     0.0             0.0                  0.0   \n",
       "2                 1.0     0.0             0.0                  0.0   \n",
       "3                 4.0     1.0            37.0                 37.0   \n",
       "4                 4.0     0.0             0.0                  0.0   \n",
       "\n",
       "   hormonal_contraceptives  hormonal_contraceptives_(years)  iud  ...  \\\n",
       "0                      0.0                              0.0  0.0  ...   \n",
       "1                      0.0                              0.0  0.0  ...   \n",
       "2                      0.0                              0.0  0.0  ...   \n",
       "3                      1.0                              3.0  0.0  ...   \n",
       "4                      1.0                             15.0  0.0  ...   \n",
       "\n",
       "   stds_aids  stds_hiv  stds_hepatitis_b  stds_hpv  stds_number_of_diagnosis  \\\n",
       "0        0.0       0.0               0.0       0.0                         0   \n",
       "1        0.0       0.0               0.0       0.0                         0   \n",
       "2        0.0       0.0               0.0       0.0                         0   \n",
       "3        0.0       0.0               0.0       0.0                         0   \n",
       "4        0.0       0.0               0.0       0.0                         0   \n",
       "\n",
       "   dx_cancer  dx_cin  dx_hpv  dx  schiller  \n",
       "0          0       0       0   0         0  \n",
       "1          0       0       0   0         0  \n",
       "2          0       0       0   0         0  \n",
       "3          1       0       1   0         0  \n",
       "4          0       0       0   0         0  \n",
       "\n",
       "[5 rows x 31 columns]"
      ]
     },
     "execution_count": 2,
     "metadata": {},
     "output_type": "execute_result"
    }
   ],
   "source": [
    "df = pd.read_csv('preprocessed_risk_factors_cervical_cancer.csv')\n",
    "df.drop('Unnamed: 0', axis=1, inplace=True)\n",
    "df.head()"
   ]
  },
  {
   "cell_type": "code",
   "execution_count": 3,
   "metadata": {},
   "outputs": [],
   "source": [
    "features = df.columns.to_list()"
   ]
  },
  {
   "cell_type": "markdown",
   "metadata": {},
   "source": [
    "## Split Input and Traget Variables"
   ]
  },
  {
   "cell_type": "code",
   "execution_count": 4,
   "metadata": {},
   "outputs": [],
   "source": [
    "X = df.drop('schiller', axis = 1) \n",
    "y = df['schiller']"
   ]
  },
  {
   "cell_type": "code",
   "execution_count": 5,
   "metadata": {},
   "outputs": [
    {
     "data": {
      "text/plain": [
       "Index(['age', 'number_of_sexual_partners', 'first_sexual_intercourse',\n",
       "       'num_of_pregnancies', 'smokes', 'smokes_(years)', 'smokes_(packs_year)',\n",
       "       'hormonal_contraceptives', 'hormonal_contraceptives_(years)', 'iud',\n",
       "       'iud_(years)', 'stds', 'stds_(number)', 'stds_condylomatosis',\n",
       "       'stds_cervical_condylomatosis', 'stds_vaginal_condylomatosis',\n",
       "       'stds_vulvo-perineal_condylomatosis', 'stds_syphilis',\n",
       "       'stds_pelvic_inflammatory_disease', 'stds_genital_herpes',\n",
       "       'stds_molluscum_contagiosum', 'stds_aids', 'stds_hiv',\n",
       "       'stds_hepatitis_b', 'stds_hpv', 'stds_number_of_diagnosis', 'dx_cancer',\n",
       "       'dx_cin', 'dx_hpv', 'dx'],\n",
       "      dtype='object')"
      ]
     },
     "execution_count": 5,
     "metadata": {},
     "output_type": "execute_result"
    }
   ],
   "source": [
    "X.columns"
   ]
  },
  {
   "cell_type": "markdown",
   "metadata": {},
   "source": [
    "## Train Test Split"
   ]
  },
  {
   "cell_type": "code",
   "execution_count": 6,
   "metadata": {},
   "outputs": [
    {
     "name": "stdout",
     "output_type": "stream",
     "text": [
      "Original shape of dataset: (858, 31)\n",
      "Shape of training dataset: (643, 30)\n",
      "Shape of testing dataset: (215, 30)\n"
     ]
    }
   ],
   "source": [
    "# train_test_split is used to split the dataset into test set and train set\n",
    "from sklearn.model_selection import train_test_split\n",
    "X_train, X_test, y_train, y_test = train_test_split(X, y, test_size=0.25, random_state =0)\n",
    "\n",
    "print(\"Original shape of dataset: {}\".format(df.shape))         # shape of original dataset\n",
    "print(\"Shape of training dataset: {}\".format(X_train.shape))      # shape of training dataset after split\n",
    "print(\"Shape of testing dataset: {}\".format(X_test.shape))        # shape of testing dataset after split"
   ]
  },
  {
   "cell_type": "markdown",
   "metadata": {},
   "source": [
    "### Defining function for later use"
   ]
  },
  {
   "cell_type": "code",
   "execution_count": 7,
   "metadata": {},
   "outputs": [],
   "source": [
    "def macro_weighted(y_test, y_hat):\n",
    "    \n",
    "    rec = recall_score(y_test, y_hat)\n",
    "    print (\"Recall Score:\", round(rec, 4))\n",
    "\n",
    "    rec_mac = recall_score(y_test, y_hat, average = 'macro')\n",
    "    print (\"Macro Average of Recall Score:\", round(rec_mac, 4))\n",
    "\n",
    "    rec_wei = recall_score(y_test, y_hat, average = 'weighted')\n",
    "    print (\"Weighted Average of Recall Score:\", round(rec_wei, 4))\n",
    "    \n",
    "    print ('------------------------------------------------------')\n",
    "    \n",
    "    prec_mac = precision_score(y_test, y_hat, average = 'macro')\n",
    "    print (\"Macro Average of Precision Score:\", round(prec_mac, 4))\n",
    "\n",
    "    prec_wei = precision_score(y_test, y_hat, average = 'weighted')\n",
    "    print (\"Weighted Average of Precision Score:\", round(prec_wei, 4))\n",
    "    \n",
    "    print ('------------------------------------------------------')\n",
    "\n",
    "    f1_mac = f1_score(y_test, y_hat, average = 'macro')\n",
    "    print (\"Macro Average of F1 Score:\", round(f1_mac, 4))\n",
    "\n",
    "    f1_wei = f1_score(y_test, y_hat, average = 'weighted')\n",
    "    print (\"Weighted Average of F1 Score:\", round(f1_wei, 4))"
   ]
  },
  {
   "cell_type": "code",
   "execution_count": 8,
   "metadata": {},
   "outputs": [],
   "source": [
    "def cm():\n",
    "    \n",
    "        print('---------------------------------------------------------------')\n",
    "        \n",
    "        data = confusion_matrix(y_test, y_hat)\n",
    "        df_cm = pd.DataFrame(data, columns=np.unique(y_test), index = np.unique(y_test))\n",
    "        df_cm.index.name = 'Actual'\n",
    "        df_cm.columns.name = 'Predicted'\n",
    "        plt.figure(figsize = (6, 4))\n",
    "        #sns.set(font_scale=1.4) #for label size\n",
    "        sns.heatmap(df_cm, cmap=\"Blues\", annot=True,annot_kws={\"size\": 12})# font size\n",
    "        plt.show()\n",
    "        \n",
    "        tn, fp, fn, tp = confusion_matrix(y_test, y_hat).ravel()\n",
    "        print (\"TP: {}, FP: {}, TN: {}, FN: {}\".format(tp, fp, tn, fn))"
   ]
  },
  {
   "cell_type": "code",
   "execution_count": 9,
   "metadata": {},
   "outputs": [],
   "source": [
    "def class_rep():\n",
    "        \n",
    "        # Print the precision and recall, among other metrics\n",
    "        print('---------------------------------------------------------------')\n",
    "        print(classification_report(y_test, y_hat, digits=3))"
   ]
  },
  {
   "cell_type": "markdown",
   "metadata": {},
   "source": [
    "### Handling Imbalanced Dataset"
   ]
  },
  {
   "cell_type": "code",
   "execution_count": 10,
   "metadata": {},
   "outputs": [
    {
     "data": {
      "text/plain": [
       "<matplotlib.axes._subplots.AxesSubplot at 0x21d2c550848>"
      ]
     },
     "execution_count": 10,
     "metadata": {},
     "output_type": "execute_result"
    },
    {
     "data": {
      "image/png": "[encoded data removed]",
      "text/plain": [
       "<Figure size 432x288 with 1 Axes>"
      ]
     },
     "metadata": {
      "needs_background": "light"
     },
     "output_type": "display_data"
    }
   ],
   "source": [
    "sns.countplot(df['schiller'], palette = \"Set3\")"
   ]
  },
  {
   "cell_type": "markdown",
   "metadata": {},
   "source": [
    "#### Resampling Techniques - Oversample Minority Class\n",
    "\n",
    "Oversampling can be defined as adding more copies of the minority class. In other words, we are creating artificial/synthetic data of the minority class (or group). Oversampling could be a good choice when you don’t have a lot of data to work with. We will use the resampling module from Scikit-Learn library to randomly create artificial samples of data from the minority class."
   ]
  },
  {
   "cell_type": "code",
   "execution_count": 11,
   "metadata": {},
   "outputs": [],
   "source": [
    "# 'resample' is located under sklearn.utils\n",
    "from sklearn.utils import resample\n",
    "\n",
    "# concatenate training data back together\n",
    "train_data = pd.concat([X_train, y_train], axis = 1)\n",
    "\n",
    "# separate minority and majority class\n",
    "not_cancer = train_data[train_data['schiller']==0]\n",
    "Cervical = train_data[train_data['schiller']==1]"
   ]
  },
  {
   "cell_type": "code",
   "execution_count": 12,
   "metadata": {},
   "outputs": [
    {
     "data": {
      "text/plain": [
       "<matplotlib.axes._subplots.AxesSubplot at 0x21d2cd15a48>"
      ]
     },
     "execution_count": 12,
     "metadata": {},
     "output_type": "execute_result"
    },
    {
     "data": {
      "image/png": "[encoded data removed]",
      "text/plain": [
       "<Figure size 432x288 with 1 Axes>"
      ]
     },
     "metadata": {
      "needs_background": "light"
     },
     "output_type": "display_data"
    }
   ],
   "source": [
    "# Unsample minority; we are oversampling the minority class to match the number of majority classs\n",
    "Cervical_oversampled = resample(Cervical,\n",
    "                           replace = True, # Sample with replacement\n",
    "                           n_samples = len(not_cancer), # Match number in majority class\n",
    "                           random_state=27)\n",
    "\n",
    "# combine majority and upsampled minority\n",
    "oversampled = pd.concat([not_cancer, Cervical_oversampled])\n",
    "sns.countplot(oversampled['schiller'], palette = \"Set2\")"
   ]
  },
  {
   "cell_type": "code",
   "execution_count": 13,
   "metadata": {},
   "outputs": [
    {
     "name": "stdout",
     "output_type": "stream",
     "text": [
      "Recall Score: 0.4\n",
      "Macro Average of Recall Score: 0.561\n",
      "Weighted Average of Recall Score: 0.707\n",
      "------------------------------------------------------\n",
      "Macro Average of Precision Score: 0.5133\n",
      "Weighted Average of Precision Score: 0.9194\n",
      "------------------------------------------------------\n",
      "Macro Average of F1 Score: 0.4686\n",
      "Weighted Average of F1 Score: 0.7914\n",
      "---------------------------------------------------------------\n"
     ]
    },
    {
     "data": {
      "image/png": "[encoded data removed]",
      "text/plain": [
       "<Figure size 432x288 with 2 Axes>"
      ]
     },
     "metadata": {
      "needs_background": "light"
     },
     "output_type": "display_data"
    },
    {
     "name": "stdout",
     "output_type": "stream",
     "text": [
      "TP: 4, FP: 57, TN: 148, FN: 6\n",
      "---------------------------------------------------------------\n",
      "              precision    recall  f1-score   support\n",
      "\n",
      "           0      0.961     0.722     0.825       205\n",
      "           1      0.066     0.400     0.113        10\n",
      "\n",
      "    accuracy                          0.707       215\n",
      "   macro avg      0.513     0.561     0.469       215\n",
      "weighted avg      0.919     0.707     0.791       215\n",
      "\n"
     ]
    }
   ],
   "source": [
    "X_train = oversampled.drop('schiller', axis = 1) \n",
    "y_train = oversampled['schiller']\n",
    "\n",
    "from sklearn.preprocessing import StandardScaler\n",
    "sc = StandardScaler()\n",
    "X_train = sc.fit_transform(X_train)\n",
    "X_test = sc.transform(X_test)\n",
    "\n",
    "model = EasyEnsembleClassifier(random_state = 25)\n",
    "model.fit(X_train, y_train)\n",
    "y_hat = model.predict(X_test)\n",
    "\n",
    "macro_weighted(y_test, y_hat)\n",
    "cm()\n",
    "class_rep()"
   ]
  },
  {
   "cell_type": "markdown",
   "metadata": {},
   "source": [
    "#### Generate Synthetic Samples: SMOTE\n",
    "\n",
    "Here we will use imblearn’s SMOTE or Synthetic Minority Oversampling Technique. SMOTE uses a nearest neighbors algorithm to generate new and synthetic data we can use for training our model. It’s important to generate the new samples only in the training set to ensure our model generalizes well to unseen data."
   ]
  },
  {
   "cell_type": "code",
   "execution_count": 14,
   "metadata": {},
   "outputs": [
    {
     "data": {
      "text/plain": [
       "<matplotlib.axes._subplots.AxesSubplot at 0x21d2cefab88>"
      ]
     },
     "execution_count": 14,
     "metadata": {},
     "output_type": "execute_result"
    },
    {
     "data": {
      "image/png": "[encoded data removed]",
      "text/plain": [
       "<Figure size 432x288 with 1 Axes>"
      ]
     },
     "metadata": {
      "needs_background": "light"
     },
     "output_type": "display_data"
    }
   ],
   "source": [
    "df = pd.read_csv('preprocessed_risk_factors_cervical_cancer.csv', usecols = features)\n",
    "\n",
    "X = df.drop('schiller', axis = 1) \n",
    "y = df['schiller']\n",
    "\n",
    "X_train, X_test, y_train, y_test = train_test_split(X, y, test_size=0.25, random_state =0)\n",
    "\n",
    "# import SMOTE \n",
    "from imblearn.over_sampling import SMOTE\n",
    "sm = SMOTE(random_state = 25, sampling_strategy='auto')   # again we are eqalizing both the classes\n",
    "\n",
    "# fit the sampling\n",
    "X_train, y_train = sm.fit_sample(X_train, y_train)\n",
    "np.unique(y_train, return_counts=True)     # Y_train is numpy array, so unique() functions returns the count of all the unique elements in the array\n",
    "\n",
    "from sklearn.preprocessing import StandardScaler\n",
    "sc = StandardScaler()\n",
    "X_train = sc.fit_transform(X_train)\n",
    "X_test = sc.transform(X_test)\n",
    "\n",
    "sns.countplot(y_train, palette = \"Set2\")"
   ]
  },
  {
   "cell_type": "code",
   "execution_count": 15,
   "metadata": {},
   "outputs": [
    {
     "name": "stdout",
     "output_type": "stream",
     "text": [
      "Recall Score: 0.1\n",
      "Macro Average of Recall Score: 0.5329\n",
      "Weighted Average of Recall Score: 0.9256\n",
      "------------------------------------------------------\n",
      "Macro Average of Precision Score: 0.5408\n",
      "Weighted Average of Precision Score: 0.9178\n",
      "------------------------------------------------------\n",
      "Macro Average of F1 Score: 0.5361\n",
      "Weighted Average of F1 Score: 0.9216\n",
      "---------------------------------------------------------------\n"
     ]
    },
    {
     "data": {
      "image/png": "[encoded data removed]",
      "text/plain": [
       "<Figure size 432x288 with 2 Axes>"
      ]
     },
     "metadata": {
      "needs_background": "light"
     },
     "output_type": "display_data"
    },
    {
     "name": "stdout",
     "output_type": "stream",
     "text": [
      "TP: 1, FP: 7, TN: 198, FN: 9\n",
      "---------------------------------------------------------------\n",
      "              precision    recall  f1-score   support\n",
      "\n",
      "           0      0.957     0.966     0.961       205\n",
      "           1      0.125     0.100     0.111        10\n",
      "\n",
      "    accuracy                          0.926       215\n",
      "   macro avg      0.541     0.533     0.536       215\n",
      "weighted avg      0.918     0.926     0.922       215\n",
      "\n"
     ]
    }
   ],
   "source": [
    "model = EasyEnsembleClassifier(random_state = 25)\n",
    "model.fit(X_train, y_train)\n",
    "y_hat = model.predict(X_test)\n",
    "\n",
    "macro_weighted(y_test, y_hat)\n",
    "cm()\n",
    "class_rep()"
   ]
  },
  {
   "cell_type": "markdown",
   "metadata": {},
   "source": [
    "#### SMOTETomek"
   ]
  },
  {
   "cell_type": "code",
   "execution_count": 16,
   "metadata": {},
   "outputs": [],
   "source": [
    "df = pd.read_csv('preprocessed_risk_factors_cervical_cancer.csv', usecols = features)\n",
    "\n",
    "X = df.drop('schiller', axis = 1) \n",
    "y = df['schiller']\n",
    "\n",
    "X_train, X_test, y_train, y_test = train_test_split(X, y, test_size=0.25, random_state =0)\n",
    "\n",
    "from sklearn.preprocessing import StandardScaler\n",
    "sc = StandardScaler()\n",
    "X_train = sc.fit_transform(X_train)\n",
    "X_test = sc.transform(X_test)"
   ]
  },
  {
   "cell_type": "code",
   "execution_count": 17,
   "metadata": {},
   "outputs": [
    {
     "name": "stdout",
     "output_type": "stream",
     "text": [
      "The number of classes before fit Counter({0: 579, 1: 64})\n",
      "The number of classes after fit Counter({0: 568, 1: 539})\n"
     ]
    },
    {
     "data": {
      "text/plain": [
       "<matplotlib.axes._subplots.AxesSubplot at 0x21d2cf5ea08>"
      ]
     },
     "execution_count": 17,
     "metadata": {},
     "output_type": "execute_result"
    },
    {
     "data": {
      "image/png": "[encoded data removed]",
      "text/plain": [
       "<Figure size 432x288 with 1 Axes>"
      ]
     },
     "metadata": {
      "needs_background": "light"
     },
     "output_type": "display_data"
    }
   ],
   "source": [
    "from imblearn.combine import SMOTETomek\n",
    "from collections import Counter\n",
    "smot = SMOTETomek(0.95)\n",
    "X_train_ns, y_train_ns = smot.fit_sample(X_train, y_train)\n",
    "print(\"The number of classes before fit {}\".format(Counter(y_train)))\n",
    "print(\"The number of classes after fit {}\".format(Counter(y_train_ns)))\n",
    "\n",
    "sns.countplot(y_train_ns, palette = \"Set1\")"
   ]
  },
  {
   "cell_type": "code",
   "execution_count": 18,
   "metadata": {},
   "outputs": [
    {
     "name": "stdout",
     "output_type": "stream",
     "text": [
      "Recall Score: 0.0\n",
      "Macro Average of Recall Score: 0.4659\n",
      "Weighted Average of Recall Score: 0.8884\n",
      "------------------------------------------------------\n",
      "Macro Average of Precision Score: 0.4751\n",
      "Weighted Average of Precision Score: 0.9061\n",
      "------------------------------------------------------\n",
      "Macro Average of F1 Score: 0.4704\n",
      "Weighted Average of F1 Score: 0.8971\n",
      "---------------------------------------------------------------\n"
     ]
    },
    {
     "data": {
      "image/png": "[encoded data removed]",
      "text/plain": [
       "<Figure size 432x288 with 2 Axes>"
      ]
     },
     "metadata": {
      "needs_background": "light"
     },
     "output_type": "display_data"
    },
    {
     "name": "stdout",
     "output_type": "stream",
     "text": [
      "TP: 0, FP: 14, TN: 191, FN: 10\n",
      "---------------------------------------------------------------\n",
      "              precision    recall  f1-score   support\n",
      "\n",
      "           0      0.950     0.932     0.941       205\n",
      "           1      0.000     0.000     0.000        10\n",
      "\n",
      "    accuracy                          0.888       215\n",
      "   macro avg      0.475     0.466     0.470       215\n",
      "weighted avg      0.906     0.888     0.897       215\n",
      "\n"
     ]
    }
   ],
   "source": [
    "model = EasyEnsembleClassifier(random_state = 25)\n",
    "model.fit(X_train_ns, y_train_ns)\n",
    "y_hat = model.predict(X_test)\n",
    "\n",
    "macro_weighted(y_test, y_hat)\n",
    "cm()\n",
    "class_rep()"
   ]
  },
  {
   "cell_type": "markdown",
   "metadata": {},
   "source": [
    "### How does the EasyEnsemble Classifier perform itself?"
   ]
  },
  {
   "cell_type": "code",
   "execution_count": 19,
   "metadata": {},
   "outputs": [
    {
     "data": {
      "text/plain": [
       "<matplotlib.axes._subplots.AxesSubplot at 0x21d2d062bc8>"
      ]
     },
     "execution_count": 19,
     "metadata": {},
     "output_type": "execute_result"
    },
    {
     "data": {
      "image/png": "[encoded data removed]",
      "text/plain": [
       "<Figure size 432x288 with 1 Axes>"
      ]
     },
     "metadata": {
      "needs_background": "light"
     },
     "output_type": "display_data"
    }
   ],
   "source": [
    "df = pd.read_csv('preprocessed_risk_factors_cervical_cancer.csv', usecols = features)\n",
    "\n",
    "X = df.drop('schiller', axis = 1) \n",
    "y = df['schiller']\n",
    "\n",
    "X_train, X_test, y_train, y_test = train_test_split(X, y, test_size=0.25, random_state =0)\n",
    "\n",
    "from sklearn.preprocessing import StandardScaler\n",
    "sc = StandardScaler()\n",
    "X_train = sc.fit_transform(X_train)\n",
    "X_test = sc.transform(X_test)\n",
    "\n",
    "sns.countplot(y_train, palette = \"Set3\")"
   ]
  },
  {
   "cell_type": "code",
   "execution_count": 20,
   "metadata": {},
   "outputs": [
    {
     "name": "stdout",
     "output_type": "stream",
     "text": [
      "Recall Score: 0.6\n",
      "Macro Average of Recall Score: 0.6073\n",
      "Weighted Average of Recall Score: 0.614\n",
      "------------------------------------------------------\n",
      "Macro Average of Precision Score: 0.5199\n",
      "Weighted Average of Precision Score: 0.9274\n",
      "------------------------------------------------------\n",
      "Macro Average of F1 Score: 0.4393\n",
      "Weighted Average of F1 Score: 0.7231\n",
      "---------------------------------------------------------------\n"
     ]
    },
    {
     "data": {
      "image/png": "[encoded data removed]",
      "text/plain": [
       "<Figure size 432x288 with 2 Axes>"
      ]
     },
     "metadata": {
      "needs_background": "light"
     },
     "output_type": "display_data"
    },
    {
     "name": "stdout",
     "output_type": "stream",
     "text": [
      "TP: 6, FP: 79, TN: 126, FN: 4\n",
      "---------------------------------------------------------------\n",
      "              precision    recall  f1-score   support\n",
      "\n",
      "           0      0.969     0.615     0.752       205\n",
      "           1      0.071     0.600     0.126        10\n",
      "\n",
      "    accuracy                          0.614       215\n",
      "   macro avg      0.520     0.607     0.439       215\n",
      "weighted avg      0.927     0.614     0.723       215\n",
      "\n"
     ]
    }
   ],
   "source": [
    "model = EasyEnsembleClassifier(random_state = 25)\n",
    "model.fit(X_train, y_train)\n",
    "y_hat = model.predict(X_test)\n",
    "\n",
    "macro_weighted(y_test, y_hat)\n",
    "cm()\n",
    "class_rep()"
   ]
  },
  {
   "cell_type": "code",
   "execution_count": 21,
   "metadata": {},
   "outputs": [
    {
     "data": {
      "image/png": "[encoded data removed]",
      "text/plain": [
       "<Figure size 432x288 with 1 Axes>"
      ]
     },
     "metadata": {},
     "output_type": "display_data"
    }
   ],
   "source": [
    "from mlxtend.plotting import plot_learning_curves\n",
    "plot_learning_curves(X_train, y_train, X_test, y_test, model)\n",
    "plt.show()"
   ]
  },
  {
   "cell_type": "markdown",
   "metadata": {},
   "source": [
    "### We will not create any synthetic sample in this dataset. Instead we will use EasyEnsemble Classifier. "
   ]
  },
  {
   "cell_type": "markdown",
   "metadata": {},
   "source": [
    "##### Let's try to find the threshold that corresponds to highest f1 score and thus find the best model. Please refer to https://towardsdatascience.com/beyond-accuracy-precision-and-recall-3da06bea9f6c."
   ]
  },
  {
   "cell_type": "code",
   "execution_count": 22,
   "metadata": {},
   "outputs": [],
   "source": [
    "# Let's change test size and see the difference\n",
    "test_size = list(np.arange(0.15, 0.41, 0.01))\n",
    "\n",
    "# Let's create a list of threshold value ranging from 0 to 1.\n",
    "threshold = list(np.arange(0.0, 1, 0.039))"
   ]
  },
  {
   "cell_type": "code",
   "execution_count": 23,
   "metadata": {},
   "outputs": [
    {
     "data": {
      "text/html": [
       "<div>\n",
       "<style scoped>\n",
       "    .dataframe tbody tr th:only-of-type {\n",
       "        vertical-align: middle;\n",
       "    }\n",
       "\n",
       "    .dataframe tbody tr th {\n",
       "        vertical-align: top;\n",
       "    }\n",
       "\n",
       "    .dataframe thead th {\n",
       "        text-align: right;\n",
       "    }\n",
       "</style>\n",
       "<table border=\"1\" class=\"dataframe\">\n",
       "  <thead>\n",
       "    <tr style=\"text-align: right;\">\n",
       "      <th></th>\n",
       "      <th>threshold</th>\n",
       "      <th>tp</th>\n",
       "      <th>fp</th>\n",
       "      <th>tn</th>\n",
       "      <th>fn</th>\n",
       "    </tr>\n",
       "  </thead>\n",
       "  <tbody>\n",
       "    <tr>\n",
       "      <th>0</th>\n",
       "      <td>0.000</td>\n",
       "      <td>4</td>\n",
       "      <td>46</td>\n",
       "      <td>76</td>\n",
       "      <td>3</td>\n",
       "    </tr>\n",
       "    <tr>\n",
       "      <th>1</th>\n",
       "      <td>0.039</td>\n",
       "      <td>5</td>\n",
       "      <td>55</td>\n",
       "      <td>76</td>\n",
       "      <td>2</td>\n",
       "    </tr>\n",
       "    <tr>\n",
       "      <th>2</th>\n",
       "      <td>0.078</td>\n",
       "      <td>4</td>\n",
       "      <td>55</td>\n",
       "      <td>83</td>\n",
       "      <td>4</td>\n",
       "    </tr>\n",
       "    <tr>\n",
       "      <th>3</th>\n",
       "      <td>0.117</td>\n",
       "      <td>5</td>\n",
       "      <td>55</td>\n",
       "      <td>91</td>\n",
       "      <td>4</td>\n",
       "    </tr>\n",
       "    <tr>\n",
       "      <th>4</th>\n",
       "      <td>0.156</td>\n",
       "      <td>4</td>\n",
       "      <td>61</td>\n",
       "      <td>94</td>\n",
       "      <td>5</td>\n",
       "    </tr>\n",
       "    <tr>\n",
       "      <th>5</th>\n",
       "      <td>0.195</td>\n",
       "      <td>5</td>\n",
       "      <td>68</td>\n",
       "      <td>95</td>\n",
       "      <td>4</td>\n",
       "    </tr>\n",
       "    <tr>\n",
       "      <th>6</th>\n",
       "      <td>0.234</td>\n",
       "      <td>3</td>\n",
       "      <td>63</td>\n",
       "      <td>109</td>\n",
       "      <td>6</td>\n",
       "    </tr>\n",
       "    <tr>\n",
       "      <th>7</th>\n",
       "      <td>0.273</td>\n",
       "      <td>5</td>\n",
       "      <td>84</td>\n",
       "      <td>96</td>\n",
       "      <td>4</td>\n",
       "    </tr>\n",
       "    <tr>\n",
       "      <th>8</th>\n",
       "      <td>0.312</td>\n",
       "      <td>5</td>\n",
       "      <td>80</td>\n",
       "      <td>108</td>\n",
       "      <td>5</td>\n",
       "    </tr>\n",
       "    <tr>\n",
       "      <th>9</th>\n",
       "      <td>0.351</td>\n",
       "      <td>5</td>\n",
       "      <td>91</td>\n",
       "      <td>105</td>\n",
       "      <td>5</td>\n",
       "    </tr>\n",
       "    <tr>\n",
       "      <th>10</th>\n",
       "      <td>0.390</td>\n",
       "      <td>6</td>\n",
       "      <td>79</td>\n",
       "      <td>126</td>\n",
       "      <td>4</td>\n",
       "    </tr>\n",
       "    <tr>\n",
       "      <th>11</th>\n",
       "      <td>0.429</td>\n",
       "      <td>6</td>\n",
       "      <td>89</td>\n",
       "      <td>124</td>\n",
       "      <td>5</td>\n",
       "    </tr>\n",
       "    <tr>\n",
       "      <th>12</th>\n",
       "      <td>0.468</td>\n",
       "      <td>6</td>\n",
       "      <td>91</td>\n",
       "      <td>128</td>\n",
       "      <td>7</td>\n",
       "    </tr>\n",
       "    <tr>\n",
       "      <th>13</th>\n",
       "      <td>0.507</td>\n",
       "      <td>7</td>\n",
       "      <td>109</td>\n",
       "      <td>118</td>\n",
       "      <td>7</td>\n",
       "    </tr>\n",
       "    <tr>\n",
       "      <th>14</th>\n",
       "      <td>0.546</td>\n",
       "      <td>8</td>\n",
       "      <td>99</td>\n",
       "      <td>136</td>\n",
       "      <td>6</td>\n",
       "    </tr>\n",
       "    <tr>\n",
       "      <th>15</th>\n",
       "      <td>0.585</td>\n",
       "      <td>9</td>\n",
       "      <td>98</td>\n",
       "      <td>144</td>\n",
       "      <td>7</td>\n",
       "    </tr>\n",
       "    <tr>\n",
       "      <th>16</th>\n",
       "      <td>0.624</td>\n",
       "      <td>9</td>\n",
       "      <td>124</td>\n",
       "      <td>124</td>\n",
       "      <td>9</td>\n",
       "    </tr>\n",
       "    <tr>\n",
       "      <th>17</th>\n",
       "      <td>0.663</td>\n",
       "      <td>13</td>\n",
       "      <td>126</td>\n",
       "      <td>131</td>\n",
       "      <td>5</td>\n",
       "    </tr>\n",
       "    <tr>\n",
       "      <th>18</th>\n",
       "      <td>0.702</td>\n",
       "      <td>11</td>\n",
       "      <td>122</td>\n",
       "      <td>142</td>\n",
       "      <td>9</td>\n",
       "    </tr>\n",
       "    <tr>\n",
       "      <th>19</th>\n",
       "      <td>0.741</td>\n",
       "      <td>12</td>\n",
       "      <td>116</td>\n",
       "      <td>155</td>\n",
       "      <td>9</td>\n",
       "    </tr>\n",
       "    <tr>\n",
       "      <th>20</th>\n",
       "      <td>0.780</td>\n",
       "      <td>12</td>\n",
       "      <td>113</td>\n",
       "      <td>166</td>\n",
       "      <td>10</td>\n",
       "    </tr>\n",
       "    <tr>\n",
       "      <th>21</th>\n",
       "      <td>0.819</td>\n",
       "      <td>12</td>\n",
       "      <td>118</td>\n",
       "      <td>169</td>\n",
       "      <td>10</td>\n",
       "    </tr>\n",
       "    <tr>\n",
       "      <th>22</th>\n",
       "      <td>0.858</td>\n",
       "      <td>15</td>\n",
       "      <td>138</td>\n",
       "      <td>158</td>\n",
       "      <td>7</td>\n",
       "    </tr>\n",
       "    <tr>\n",
       "      <th>23</th>\n",
       "      <td>0.897</td>\n",
       "      <td>13</td>\n",
       "      <td>150</td>\n",
       "      <td>153</td>\n",
       "      <td>11</td>\n",
       "    </tr>\n",
       "    <tr>\n",
       "      <th>24</th>\n",
       "      <td>0.936</td>\n",
       "      <td>14</td>\n",
       "      <td>135</td>\n",
       "      <td>176</td>\n",
       "      <td>10</td>\n",
       "    </tr>\n",
       "    <tr>\n",
       "      <th>25</th>\n",
       "      <td>0.975</td>\n",
       "      <td>16</td>\n",
       "      <td>152</td>\n",
       "      <td>166</td>\n",
       "      <td>10</td>\n",
       "    </tr>\n",
       "  </tbody>\n",
       "</table>\n",
       "</div>"
      ],
      "text/plain": [
       "    threshold  tp   fp   tn  fn\n",
       "0       0.000   4   46   76   3\n",
       "1       0.039   5   55   76   2\n",
       "2       0.078   4   55   83   4\n",
       "3       0.117   5   55   91   4\n",
       "4       0.156   4   61   94   5\n",
       "5       0.195   5   68   95   4\n",
       "6       0.234   3   63  109   6\n",
       "7       0.273   5   84   96   4\n",
       "8       0.312   5   80  108   5\n",
       "9       0.351   5   91  105   5\n",
       "10      0.390   6   79  126   4\n",
       "11      0.429   6   89  124   5\n",
       "12      0.468   6   91  128   7\n",
       "13      0.507   7  109  118   7\n",
       "14      0.546   8   99  136   6\n",
       "15      0.585   9   98  144   7\n",
       "16      0.624   9  124  124   9\n",
       "17      0.663  13  126  131   5\n",
       "18      0.702  11  122  142   9\n",
       "19      0.741  12  116  155   9\n",
       "20      0.780  12  113  166  10\n",
       "21      0.819  12  118  169  10\n",
       "22      0.858  15  138  158   7\n",
       "23      0.897  13  150  153  11\n",
       "24      0.936  14  135  176  10\n",
       "25      0.975  16  152  166  10"
      ]
     },
     "execution_count": 23,
     "metadata": {},
     "output_type": "execute_result"
    }
   ],
   "source": [
    "# Now, let's append the threshol and tp, tn, fp, fn values in a DataFrame\n",
    "\n",
    "tp = []\n",
    "fp = []\n",
    "tn = []\n",
    "fn = []\n",
    "    \n",
    "for tt in test_size:\n",
    "\n",
    "    X_train, X_test, y_train, y_test = train_test_split(X, y, test_size= tt, random_state =0)\n",
    "    \n",
    "    sc = StandardScaler()\n",
    "    X_train = sc.fit_transform(X_train)\n",
    "    X_test = sc.transform(X_test)\n",
    "    \n",
    "    model = EasyEnsembleClassifier(random_state = 25)\n",
    "    model.fit(X_train, y_train)\n",
    "    y_hat = model.predict(X_test)\n",
    "        \n",
    "    tn.append(confusion_matrix(y_test, y_hat).ravel()[0]) \n",
    "    fp.append(confusion_matrix(y_test, y_hat).ravel()[1])\n",
    "    fn.append(confusion_matrix(y_test, y_hat).ravel()[2])\n",
    "    tp.append(confusion_matrix(y_test, y_hat).ravel()[3])\n",
    "    \n",
    "results = pd.DataFrame({'threshold': threshold, 'tp' : tp , 'fp': fp, 'tn': tn, 'fn': fn})\n",
    "results"
   ]
  },
  {
   "cell_type": "code",
   "execution_count": 24,
   "metadata": {},
   "outputs": [],
   "source": [
    "def calculate_metrics(results):\n",
    "    roc = pd.DataFrame(index = results['threshold'], columns=['recall', 'precision', 'f1', 'tpr', 'fpr'])\n",
    "    \n",
    "    for i in results.iterrows():\n",
    "        t, tp, fp, tn, fn = i[1]\n",
    "        tp + fp + tn + fn == 129\n",
    "        \n",
    "        recall = tp / (tp + fn)\n",
    "        \n",
    "        if tp == fp == 0:\n",
    "            precision = 0\n",
    "            true_positive_rate = 0\n",
    "        \n",
    "        else:\n",
    "            precision = tp / (tp + fp)\n",
    "            true_positive_rate = tp / (tp + fn)\n",
    "            \n",
    "        if precision == recall == 0:\n",
    "            f1 = 0\n",
    "        else:\n",
    "            f1 = 2 * (precision * recall) / (precision + recall)\n",
    "        \n",
    "        \n",
    "        false_positive_rate = fp / (fp + tn)\n",
    "        \n",
    "        roc.loc[t, 'recall'] = recall\n",
    "        roc.loc[t, 'precision'] = precision\n",
    "        roc.loc[t, 'f1'] = f1\n",
    "        roc.loc[t, 'tpr'] = true_positive_rate\n",
    "        roc.loc[t, 'fpr'] = false_positive_rate\n",
    "    \n",
    "    return roc"
   ]
  },
  {
   "cell_type": "code",
   "execution_count": 25,
   "metadata": {},
   "outputs": [
    {
     "data": {
      "text/html": [
       "<div>\n",
       "<style scoped>\n",
       "    .dataframe tbody tr th:only-of-type {\n",
       "        vertical-align: middle;\n",
       "    }\n",
       "\n",
       "    .dataframe tbody tr th {\n",
       "        vertical-align: top;\n",
       "    }\n",
       "\n",
       "    .dataframe thead th {\n",
       "        text-align: right;\n",
       "    }\n",
       "</style>\n",
       "<table border=\"1\" class=\"dataframe\">\n",
       "  <thead>\n",
       "    <tr style=\"text-align: right;\">\n",
       "      <th></th>\n",
       "      <th>threshold</th>\n",
       "      <th>recall</th>\n",
       "      <th>precision</th>\n",
       "      <th>f1</th>\n",
       "      <th>tpr</th>\n",
       "      <th>fpr</th>\n",
       "    </tr>\n",
       "  </thead>\n",
       "  <tbody>\n",
       "    <tr>\n",
       "      <th>0</th>\n",
       "      <td>0.000</td>\n",
       "      <td>0.571429</td>\n",
       "      <td>0.08</td>\n",
       "      <td>0.140351</td>\n",
       "      <td>0.571429</td>\n",
       "      <td>0.377049</td>\n",
       "    </tr>\n",
       "    <tr>\n",
       "      <th>1</th>\n",
       "      <td>0.039</td>\n",
       "      <td>0.714286</td>\n",
       "      <td>0.0833333</td>\n",
       "      <td>0.149254</td>\n",
       "      <td>0.714286</td>\n",
       "      <td>0.419847</td>\n",
       "    </tr>\n",
       "    <tr>\n",
       "      <th>2</th>\n",
       "      <td>0.078</td>\n",
       "      <td>0.5</td>\n",
       "      <td>0.0677966</td>\n",
       "      <td>0.119403</td>\n",
       "      <td>0.5</td>\n",
       "      <td>0.398551</td>\n",
       "    </tr>\n",
       "    <tr>\n",
       "      <th>3</th>\n",
       "      <td>0.117</td>\n",
       "      <td>0.555556</td>\n",
       "      <td>0.0833333</td>\n",
       "      <td>0.144928</td>\n",
       "      <td>0.555556</td>\n",
       "      <td>0.376712</td>\n",
       "    </tr>\n",
       "    <tr>\n",
       "      <th>4</th>\n",
       "      <td>0.156</td>\n",
       "      <td>0.444444</td>\n",
       "      <td>0.0615385</td>\n",
       "      <td>0.108108</td>\n",
       "      <td>0.444444</td>\n",
       "      <td>0.393548</td>\n",
       "    </tr>\n",
       "    <tr>\n",
       "      <th>5</th>\n",
       "      <td>0.195</td>\n",
       "      <td>0.555556</td>\n",
       "      <td>0.0684932</td>\n",
       "      <td>0.121951</td>\n",
       "      <td>0.555556</td>\n",
       "      <td>0.417178</td>\n",
       "    </tr>\n",
       "    <tr>\n",
       "      <th>6</th>\n",
       "      <td>0.234</td>\n",
       "      <td>0.333333</td>\n",
       "      <td>0.0454545</td>\n",
       "      <td>0.08</td>\n",
       "      <td>0.333333</td>\n",
       "      <td>0.366279</td>\n",
       "    </tr>\n",
       "    <tr>\n",
       "      <th>7</th>\n",
       "      <td>0.273</td>\n",
       "      <td>0.555556</td>\n",
       "      <td>0.0561798</td>\n",
       "      <td>0.102041</td>\n",
       "      <td>0.555556</td>\n",
       "      <td>0.466667</td>\n",
       "    </tr>\n",
       "    <tr>\n",
       "      <th>8</th>\n",
       "      <td>0.312</td>\n",
       "      <td>0.5</td>\n",
       "      <td>0.0588235</td>\n",
       "      <td>0.105263</td>\n",
       "      <td>0.5</td>\n",
       "      <td>0.425532</td>\n",
       "    </tr>\n",
       "    <tr>\n",
       "      <th>9</th>\n",
       "      <td>0.351</td>\n",
       "      <td>0.5</td>\n",
       "      <td>0.0520833</td>\n",
       "      <td>0.0943396</td>\n",
       "      <td>0.5</td>\n",
       "      <td>0.464286</td>\n",
       "    </tr>\n",
       "    <tr>\n",
       "      <th>10</th>\n",
       "      <td>0.390</td>\n",
       "      <td>0.6</td>\n",
       "      <td>0.0705882</td>\n",
       "      <td>0.126316</td>\n",
       "      <td>0.6</td>\n",
       "      <td>0.385366</td>\n",
       "    </tr>\n",
       "    <tr>\n",
       "      <th>11</th>\n",
       "      <td>0.429</td>\n",
       "      <td>0.545455</td>\n",
       "      <td>0.0631579</td>\n",
       "      <td>0.113208</td>\n",
       "      <td>0.545455</td>\n",
       "      <td>0.41784</td>\n",
       "    </tr>\n",
       "    <tr>\n",
       "      <th>12</th>\n",
       "      <td>0.468</td>\n",
       "      <td>0.461538</td>\n",
       "      <td>0.0618557</td>\n",
       "      <td>0.109091</td>\n",
       "      <td>0.461538</td>\n",
       "      <td>0.415525</td>\n",
       "    </tr>\n",
       "    <tr>\n",
       "      <th>13</th>\n",
       "      <td>0.507</td>\n",
       "      <td>0.5</td>\n",
       "      <td>0.0603448</td>\n",
       "      <td>0.107692</td>\n",
       "      <td>0.5</td>\n",
       "      <td>0.480176</td>\n",
       "    </tr>\n",
       "    <tr>\n",
       "      <th>14</th>\n",
       "      <td>0.546</td>\n",
       "      <td>0.571429</td>\n",
       "      <td>0.0747664</td>\n",
       "      <td>0.132231</td>\n",
       "      <td>0.571429</td>\n",
       "      <td>0.421277</td>\n",
       "    </tr>\n",
       "    <tr>\n",
       "      <th>15</th>\n",
       "      <td>0.585</td>\n",
       "      <td>0.5625</td>\n",
       "      <td>0.0841121</td>\n",
       "      <td>0.146341</td>\n",
       "      <td>0.5625</td>\n",
       "      <td>0.404959</td>\n",
       "    </tr>\n",
       "    <tr>\n",
       "      <th>16</th>\n",
       "      <td>0.624</td>\n",
       "      <td>0.5</td>\n",
       "      <td>0.0676692</td>\n",
       "      <td>0.119205</td>\n",
       "      <td>0.5</td>\n",
       "      <td>0.5</td>\n",
       "    </tr>\n",
       "    <tr>\n",
       "      <th>17</th>\n",
       "      <td>0.663</td>\n",
       "      <td>0.722222</td>\n",
       "      <td>0.0935252</td>\n",
       "      <td>0.165605</td>\n",
       "      <td>0.722222</td>\n",
       "      <td>0.490272</td>\n",
       "    </tr>\n",
       "    <tr>\n",
       "      <th>18</th>\n",
       "      <td>0.702</td>\n",
       "      <td>0.55</td>\n",
       "      <td>0.0827068</td>\n",
       "      <td>0.143791</td>\n",
       "      <td>0.55</td>\n",
       "      <td>0.462121</td>\n",
       "    </tr>\n",
       "    <tr>\n",
       "      <th>19</th>\n",
       "      <td>0.741</td>\n",
       "      <td>0.571429</td>\n",
       "      <td>0.09375</td>\n",
       "      <td>0.161074</td>\n",
       "      <td>0.571429</td>\n",
       "      <td>0.428044</td>\n",
       "    </tr>\n",
       "    <tr>\n",
       "      <th>20</th>\n",
       "      <td>0.780</td>\n",
       "      <td>0.545455</td>\n",
       "      <td>0.096</td>\n",
       "      <td>0.163265</td>\n",
       "      <td>0.545455</td>\n",
       "      <td>0.405018</td>\n",
       "    </tr>\n",
       "    <tr>\n",
       "      <th>21</th>\n",
       "      <td>0.819</td>\n",
       "      <td>0.545455</td>\n",
       "      <td>0.0923077</td>\n",
       "      <td>0.157895</td>\n",
       "      <td>0.545455</td>\n",
       "      <td>0.41115</td>\n",
       "    </tr>\n",
       "    <tr>\n",
       "      <th>22</th>\n",
       "      <td>0.858</td>\n",
       "      <td>0.681818</td>\n",
       "      <td>0.0980392</td>\n",
       "      <td>0.171429</td>\n",
       "      <td>0.681818</td>\n",
       "      <td>0.466216</td>\n",
       "    </tr>\n",
       "    <tr>\n",
       "      <th>23</th>\n",
       "      <td>0.897</td>\n",
       "      <td>0.541667</td>\n",
       "      <td>0.0797546</td>\n",
       "      <td>0.139037</td>\n",
       "      <td>0.541667</td>\n",
       "      <td>0.49505</td>\n",
       "    </tr>\n",
       "    <tr>\n",
       "      <th>24</th>\n",
       "      <td>0.936</td>\n",
       "      <td>0.583333</td>\n",
       "      <td>0.0939597</td>\n",
       "      <td>0.16185</td>\n",
       "      <td>0.583333</td>\n",
       "      <td>0.434084</td>\n",
       "    </tr>\n",
       "    <tr>\n",
       "      <th>25</th>\n",
       "      <td>0.975</td>\n",
       "      <td>0.615385</td>\n",
       "      <td>0.0952381</td>\n",
       "      <td>0.164948</td>\n",
       "      <td>0.615385</td>\n",
       "      <td>0.477987</td>\n",
       "    </tr>\n",
       "  </tbody>\n",
       "</table>\n",
       "</div>"
      ],
      "text/plain": [
       "    threshold    recall  precision         f1       tpr       fpr\n",
       "0       0.000  0.571429       0.08   0.140351  0.571429  0.377049\n",
       "1       0.039  0.714286  0.0833333   0.149254  0.714286  0.419847\n",
       "2       0.078       0.5  0.0677966   0.119403       0.5  0.398551\n",
       "3       0.117  0.555556  0.0833333   0.144928  0.555556  0.376712\n",
       "4       0.156  0.444444  0.0615385   0.108108  0.444444  0.393548\n",
       "5       0.195  0.555556  0.0684932   0.121951  0.555556  0.417178\n",
       "6       0.234  0.333333  0.0454545       0.08  0.333333  0.366279\n",
       "7       0.273  0.555556  0.0561798   0.102041  0.555556  0.466667\n",
       "8       0.312       0.5  0.0588235   0.105263       0.5  0.425532\n",
       "9       0.351       0.5  0.0520833  0.0943396       0.5  0.464286\n",
       "10      0.390       0.6  0.0705882   0.126316       0.6  0.385366\n",
       "11      0.429  0.545455  0.0631579   0.113208  0.545455   0.41784\n",
       "12      0.468  0.461538  0.0618557   0.109091  0.461538  0.415525\n",
       "13      0.507       0.5  0.0603448   0.107692       0.5  0.480176\n",
       "14      0.546  0.571429  0.0747664   0.132231  0.571429  0.421277\n",
       "15      0.585    0.5625  0.0841121   0.146341    0.5625  0.404959\n",
       "16      0.624       0.5  0.0676692   0.119205       0.5       0.5\n",
       "17      0.663  0.722222  0.0935252   0.165605  0.722222  0.490272\n",
       "18      0.702      0.55  0.0827068   0.143791      0.55  0.462121\n",
       "19      0.741  0.571429    0.09375   0.161074  0.571429  0.428044\n",
       "20      0.780  0.545455      0.096   0.163265  0.545455  0.405018\n",
       "21      0.819  0.545455  0.0923077   0.157895  0.545455   0.41115\n",
       "22      0.858  0.681818  0.0980392   0.171429  0.681818  0.466216\n",
       "23      0.897  0.541667  0.0797546   0.139037  0.541667   0.49505\n",
       "24      0.936  0.583333  0.0939597    0.16185  0.583333  0.434084\n",
       "25      0.975  0.615385  0.0952381   0.164948  0.615385  0.477987"
      ]
     },
     "execution_count": 25,
     "metadata": {},
     "output_type": "execute_result"
    }
   ],
   "source": [
    "roc = calculate_metrics(results)\n",
    "roc.reset_index()"
   ]
  },
  {
   "cell_type": "markdown",
   "metadata": {},
   "source": [
    "#### Best F1 score: 0.165605 and 0.164948; thus, test size becomes could be either 0.32 or 0.40.\n",
    "#### But we want to choose a model with smallest False Negative Rate i.e., fn = 2 where f1 = 0.149254. Thus, test size could also be 0.16.\n",
    "### Let's check.."
   ]
  },
  {
   "cell_type": "code",
   "execution_count": 26,
   "metadata": {},
   "outputs": [
    {
     "data": {
      "image/png": "[encoded data removed]",
      "text/plain": [
       "<Figure size 576x396 with 1 Axes>"
      ]
     },
     "metadata": {},
     "output_type": "display_data"
    },
    {
     "data": {
      "image/png": "[encoded data removed]",
      "text/plain": [
       "<Figure size 576x396 with 1 Axes>"
      ]
     },
     "metadata": {},
     "output_type": "display_data"
    },
    {
     "data": {
      "image/png": "[encoded data removed]",
      "text/plain": [
       "<Figure size 576x396 with 1 Axes>"
      ]
     },
     "metadata": {},
     "output_type": "display_data"
    }
   ],
   "source": [
    "test_size = [0.16, 0.32, .40]\n",
    "\n",
    "for t in test_size:\n",
    "    \n",
    "    df = pd.read_csv('preprocessed_risk_factors_cervical_cancer.csv', usecols = features)\n",
    "    X = df.drop('schiller', axis = 1) \n",
    "    y = df['schiller']\n",
    "\n",
    "    X_train, X_test, y_train, y_test = train_test_split(X, y, test_size = t, random_state =0)\n",
    "    \n",
    "    from sklearn.preprocessing import StandardScaler\n",
    "    sc = StandardScaler()\n",
    "    X_train = sc.fit_transform(X_train)\n",
    "    X_test = sc.transform(X_test)\n",
    "\n",
    "    classes = [1, 0]\n",
    "\n",
    "    from yellowbrick.classifier import ClassPredictionError\n",
    "    visualizer = ClassPredictionError(EasyEnsembleClassifier(random_state = 25), classes=classes)\n",
    "\n",
    "    # Fit the training data to the visualizer\n",
    "    visualizer.fit(X_train, y_train)\n",
    "\n",
    "    # Evaluate the model on the test data\n",
    "    visualizer.score(X_test, y_test)\n",
    "\n",
    "    # Draw visualization\n",
    "    visualizer.show()"
   ]
  },
  {
   "cell_type": "markdown",
   "metadata": {},
   "source": [
    "### We choose test_size  = 0.16"
   ]
  },
  {
   "cell_type": "code",
   "execution_count": 27,
   "metadata": {},
   "outputs": [
    {
     "name": "stdout",
     "output_type": "stream",
     "text": [
      "Recall Score: 0.7143\n",
      "Macro Average of Recall Score: 0.6472\n",
      "Weighted Average of Recall Score: 0.587\n",
      "------------------------------------------------------\n",
      "Macro Average of Precision Score: 0.5288\n",
      "Weighted Average of Precision Score: 0.9292\n",
      "------------------------------------------------------\n",
      "Macro Average of F1 Score: 0.4383\n",
      "Weighted Average of F1 Score: 0.698\n",
      "---------------------------------------------------------------\n"
     ]
    },
    {
     "data": {
      "image/png": "[encoded data removed]",
      "text/plain": [
       "<Figure size 432x288 with 2 Axes>"
      ]
     },
     "metadata": {},
     "output_type": "display_data"
    },
    {
     "name": "stdout",
     "output_type": "stream",
     "text": [
      "TP: 5, FP: 55, TN: 76, FN: 2\n",
      "---------------------------------------------------------------\n",
      "              precision    recall  f1-score   support\n",
      "\n",
      "           0      0.974     0.580     0.727       131\n",
      "           1      0.083     0.714     0.149         7\n",
      "\n",
      "    accuracy                          0.587       138\n",
      "   macro avg      0.529     0.647     0.438       138\n",
      "weighted avg      0.929     0.587     0.698       138\n",
      "\n"
     ]
    }
   ],
   "source": [
    "df = pd.read_csv('preprocessed_risk_factors_cervical_cancer.csv', usecols = features)\n",
    "\n",
    "X = df.drop('schiller', axis = 1) \n",
    "y = df['schiller']\n",
    "\n",
    "X_train, X_test, y_train, y_test = train_test_split(X, y, test_size=0.16, random_state =0)\n",
    "\n",
    "from sklearn.preprocessing import StandardScaler\n",
    "sc = StandardScaler()\n",
    "X_train = sc.fit_transform(X_train)\n",
    "X_test = sc.transform(X_test)\n",
    "\n",
    "model = EasyEnsembleClassifier(random_state = 25)\n",
    "model.fit(X_train, y_train)\n",
    "y_hat = model.predict(X_test)\n",
    "\n",
    "macro_weighted(y_test, y_hat)\n",
    "cm()\n",
    "class_rep()"
   ]
  }
 ],
 "metadata": {
  "kernelspec": {
   "display_name": "Python 3",
   "language": "python",
   "name": "python3"
  },
  "language_info": {
   "codemirror_mode": {
    "name": "ipython",
    "version": 3
   },
   "file_extension": ".py",
   "mimetype": "text/x-python",
   "name": "python",
   "nbconvert_exporter": "python",
   "pygments_lexer": "ipython3",
   "version": "3.7.6"
  }
 },
 "nbformat": 4,
 "nbformat_minor": 4
}
