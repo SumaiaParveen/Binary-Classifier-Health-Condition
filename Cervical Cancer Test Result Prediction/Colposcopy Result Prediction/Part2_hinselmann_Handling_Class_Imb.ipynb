{
 "cells": [
  {
   "cell_type": "markdown",
   "metadata": {},
   "source": [
    "# Part 2: Handling Imbalanced Class"
   ]
  },
  {
   "cell_type": "markdown",
   "metadata": {},
   "source": [
    "## Import Libraries"
   ]
  },
  {
   "cell_type": "code",
   "execution_count": 1,
   "metadata": {},
   "outputs": [
    {
     "name": "stderr",
     "output_type": "stream",
     "text": [
      "\n",
      "Bad key \"text.kerning_factor\" on line 4 in\n",
      "C:\\Users\\sumai\\Anaconda3\\lib\\site-packages\\matplotlib\\mpl-data\\stylelib\\_classic_test_patch.mplstyle.\n",
      "You probably need to get an updated matplotlibrc file from\n",
      "https://github.com/matplotlib/matplotlib/blob/v3.1.3/matplotlibrc.template\n",
      "or from the matplotlib source distribution\n"
     ]
    }
   ],
   "source": [
    "import warnings\n",
    "warnings.filterwarnings('ignore')\n",
    "\n",
    "import pandas as pd\n",
    "import numpy as np\n",
    "import missingno as msno\n",
    "import matplotlib.pyplot as plt\n",
    "import seaborn as sns\n",
    "from scipy import stats\n",
    "from sklearn.ensemble import RandomForestClassifier\n",
    "from sklearn.ensemble import BaggingClassifier \n",
    "from imblearn.ensemble import EasyEnsembleClassifier\n",
    "from sklearn.metrics import f1_score,accuracy_score, precision_score, recall_score, roc_curve, roc_auc_score, precision_recall_curve, auc\n",
    "from sklearn.metrics import accuracy_score, confusion_matrix, classification_report"
   ]
  },
  {
   "cell_type": "markdown",
   "metadata": {},
   "source": [
    "## Load Dataset\n",
    "\n",
    "Please see the link to know more about the dataset: https://archive.ics.uci.edu/ml/datasets/Cervical+cancer+%28Risk+Factors%29"
   ]
  },
  {
   "cell_type": "code",
   "execution_count": 2,
   "metadata": {},
   "outputs": [
    {
     "data": {
      "text/html": [
       "<div>\n",
       "<style scoped>\n",
       "    .dataframe tbody tr th:only-of-type {\n",
       "        vertical-align: middle;\n",
       "    }\n",
       "\n",
       "    .dataframe tbody tr th {\n",
       "        vertical-align: top;\n",
       "    }\n",
       "\n",
       "    .dataframe thead th {\n",
       "        text-align: right;\n",
       "    }\n",
       "</style>\n",
       "<table border=\"1\" class=\"dataframe\">\n",
       "  <thead>\n",
       "    <tr style=\"text-align: right;\">\n",
       "      <th></th>\n",
       "      <th>age</th>\n",
       "      <th>number_of_sexual_partners</th>\n",
       "      <th>first_sexual_intercourse</th>\n",
       "      <th>num_of_pregnancies</th>\n",
       "      <th>smokes</th>\n",
       "      <th>smokes_(years)</th>\n",
       "      <th>smokes_(packs_year)</th>\n",
       "      <th>hormonal_contraceptives</th>\n",
       "      <th>hormonal_contraceptives_(years)</th>\n",
       "      <th>iud</th>\n",
       "      <th>...</th>\n",
       "      <th>stds_aids</th>\n",
       "      <th>stds_hiv</th>\n",
       "      <th>stds_hepatitis_b</th>\n",
       "      <th>stds_hpv</th>\n",
       "      <th>stds_number_of_diagnosis</th>\n",
       "      <th>dx_cancer</th>\n",
       "      <th>dx_cin</th>\n",
       "      <th>dx_hpv</th>\n",
       "      <th>dx</th>\n",
       "      <th>hinselmann</th>\n",
       "    </tr>\n",
       "  </thead>\n",
       "  <tbody>\n",
       "    <tr>\n",
       "      <th>0</th>\n",
       "      <td>18</td>\n",
       "      <td>4.0</td>\n",
       "      <td>15.0</td>\n",
       "      <td>1.0</td>\n",
       "      <td>0.0</td>\n",
       "      <td>0.0</td>\n",
       "      <td>0.0</td>\n",
       "      <td>0.0</td>\n",
       "      <td>0.0</td>\n",
       "      <td>0.0</td>\n",
       "      <td>...</td>\n",
       "      <td>0.0</td>\n",
       "      <td>0.0</td>\n",
       "      <td>0.0</td>\n",
       "      <td>0.0</td>\n",
       "      <td>0</td>\n",
       "      <td>0</td>\n",
       "      <td>0</td>\n",
       "      <td>0</td>\n",
       "      <td>0</td>\n",
       "      <td>0</td>\n",
       "    </tr>\n",
       "    <tr>\n",
       "      <th>1</th>\n",
       "      <td>15</td>\n",
       "      <td>1.0</td>\n",
       "      <td>14.0</td>\n",
       "      <td>1.0</td>\n",
       "      <td>0.0</td>\n",
       "      <td>0.0</td>\n",
       "      <td>0.0</td>\n",
       "      <td>0.0</td>\n",
       "      <td>0.0</td>\n",
       "      <td>0.0</td>\n",
       "      <td>...</td>\n",
       "      <td>0.0</td>\n",
       "      <td>0.0</td>\n",
       "      <td>0.0</td>\n",
       "      <td>0.0</td>\n",
       "      <td>0</td>\n",
       "      <td>0</td>\n",
       "      <td>0</td>\n",
       "      <td>0</td>\n",
       "      <td>0</td>\n",
       "      <td>0</td>\n",
       "    </tr>\n",
       "    <tr>\n",
       "      <th>2</th>\n",
       "      <td>34</td>\n",
       "      <td>1.0</td>\n",
       "      <td>19.0</td>\n",
       "      <td>1.0</td>\n",
       "      <td>0.0</td>\n",
       "      <td>0.0</td>\n",
       "      <td>0.0</td>\n",
       "      <td>0.0</td>\n",
       "      <td>0.0</td>\n",
       "      <td>0.0</td>\n",
       "      <td>...</td>\n",
       "      <td>0.0</td>\n",
       "      <td>0.0</td>\n",
       "      <td>0.0</td>\n",
       "      <td>0.0</td>\n",
       "      <td>0</td>\n",
       "      <td>0</td>\n",
       "      <td>0</td>\n",
       "      <td>0</td>\n",
       "      <td>0</td>\n",
       "      <td>0</td>\n",
       "    </tr>\n",
       "    <tr>\n",
       "      <th>3</th>\n",
       "      <td>52</td>\n",
       "      <td>5.0</td>\n",
       "      <td>16.0</td>\n",
       "      <td>4.0</td>\n",
       "      <td>1.0</td>\n",
       "      <td>37.0</td>\n",
       "      <td>37.0</td>\n",
       "      <td>1.0</td>\n",
       "      <td>3.0</td>\n",
       "      <td>0.0</td>\n",
       "      <td>...</td>\n",
       "      <td>0.0</td>\n",
       "      <td>0.0</td>\n",
       "      <td>0.0</td>\n",
       "      <td>0.0</td>\n",
       "      <td>0</td>\n",
       "      <td>1</td>\n",
       "      <td>0</td>\n",
       "      <td>1</td>\n",
       "      <td>0</td>\n",
       "      <td>0</td>\n",
       "    </tr>\n",
       "    <tr>\n",
       "      <th>4</th>\n",
       "      <td>46</td>\n",
       "      <td>3.0</td>\n",
       "      <td>21.0</td>\n",
       "      <td>4.0</td>\n",
       "      <td>0.0</td>\n",
       "      <td>0.0</td>\n",
       "      <td>0.0</td>\n",
       "      <td>1.0</td>\n",
       "      <td>15.0</td>\n",
       "      <td>0.0</td>\n",
       "      <td>...</td>\n",
       "      <td>0.0</td>\n",
       "      <td>0.0</td>\n",
       "      <td>0.0</td>\n",
       "      <td>0.0</td>\n",
       "      <td>0</td>\n",
       "      <td>0</td>\n",
       "      <td>0</td>\n",
       "      <td>0</td>\n",
       "      <td>0</td>\n",
       "      <td>0</td>\n",
       "    </tr>\n",
       "  </tbody>\n",
       "</table>\n",
       "<p>5 rows × 31 columns</p>\n",
       "</div>"
      ],
      "text/plain": [
       "   age  number_of_sexual_partners  first_sexual_intercourse  \\\n",
       "0   18                        4.0                      15.0   \n",
       "1   15                        1.0                      14.0   \n",
       "2   34                        1.0                      19.0   \n",
       "3   52                        5.0                      16.0   \n",
       "4   46                        3.0                      21.0   \n",
       "\n",
       "   num_of_pregnancies  smokes  smokes_(years)  smokes_(packs_year)  \\\n",
       "0                 1.0     0.0             0.0                  0.0   \n",
       "1                 1.0     0.0             0.0                  0.0   \n",
       "2                 1.0     0.0             0.0                  0.0   \n",
       "3                 4.0     1.0            37.0                 37.0   \n",
       "4                 4.0     0.0             0.0                  0.0   \n",
       "\n",
       "   hormonal_contraceptives  hormonal_contraceptives_(years)  iud  ...  \\\n",
       "0                      0.0                              0.0  0.0  ...   \n",
       "1                      0.0                              0.0  0.0  ...   \n",
       "2                      0.0                              0.0  0.0  ...   \n",
       "3                      1.0                              3.0  0.0  ...   \n",
       "4                      1.0                             15.0  0.0  ...   \n",
       "\n",
       "   stds_aids  stds_hiv  stds_hepatitis_b  stds_hpv  stds_number_of_diagnosis  \\\n",
       "0        0.0       0.0               0.0       0.0                         0   \n",
       "1        0.0       0.0               0.0       0.0                         0   \n",
       "2        0.0       0.0               0.0       0.0                         0   \n",
       "3        0.0       0.0               0.0       0.0                         0   \n",
       "4        0.0       0.0               0.0       0.0                         0   \n",
       "\n",
       "   dx_cancer  dx_cin  dx_hpv  dx  hinselmann  \n",
       "0          0       0       0   0           0  \n",
       "1          0       0       0   0           0  \n",
       "2          0       0       0   0           0  \n",
       "3          1       0       1   0           0  \n",
       "4          0       0       0   0           0  \n",
       "\n",
       "[5 rows x 31 columns]"
      ]
     },
     "execution_count": 2,
     "metadata": {},
     "output_type": "execute_result"
    }
   ],
   "source": [
    "df = pd.read_csv('preprocessed_risk_factors_cervical_cancer.csv')\n",
    "df.drop('Unnamed: 0', axis=1, inplace=True)\n",
    "df.head()"
   ]
  },
  {
   "cell_type": "code",
   "execution_count": 3,
   "metadata": {},
   "outputs": [],
   "source": [
    "features = df.columns.to_list()"
   ]
  },
  {
   "cell_type": "markdown",
   "metadata": {},
   "source": [
    "## Split Input and Traget Variables"
   ]
  },
  {
   "cell_type": "code",
   "execution_count": 4,
   "metadata": {},
   "outputs": [],
   "source": [
    "X = df.drop('hinselmann', axis = 1) \n",
    "y = df['hinselmann']"
   ]
  },
  {
   "cell_type": "code",
   "execution_count": 5,
   "metadata": {},
   "outputs": [
    {
     "data": {
      "text/plain": [
       "Index(['age', 'number_of_sexual_partners', 'first_sexual_intercourse',\n",
       "       'num_of_pregnancies', 'smokes', 'smokes_(years)', 'smokes_(packs_year)',\n",
       "       'hormonal_contraceptives', 'hormonal_contraceptives_(years)', 'iud',\n",
       "       'iud_(years)', 'stds', 'stds_(number)', 'stds_condylomatosis',\n",
       "       'stds_cervical_condylomatosis', 'stds_vaginal_condylomatosis',\n",
       "       'stds_vulvo-perineal_condylomatosis', 'stds_syphilis',\n",
       "       'stds_pelvic_inflammatory_disease', 'stds_genital_herpes',\n",
       "       'stds_molluscum_contagiosum', 'stds_aids', 'stds_hiv',\n",
       "       'stds_hepatitis_b', 'stds_hpv', 'stds_number_of_diagnosis', 'dx_cancer',\n",
       "       'dx_cin', 'dx_hpv', 'dx'],\n",
       "      dtype='object')"
      ]
     },
     "execution_count": 5,
     "metadata": {},
     "output_type": "execute_result"
    }
   ],
   "source": [
    "X.columns"
   ]
  },
  {
   "cell_type": "markdown",
   "metadata": {},
   "source": [
    "## Train Test Split"
   ]
  },
  {
   "cell_type": "code",
   "execution_count": 6,
   "metadata": {},
   "outputs": [
    {
     "name": "stdout",
     "output_type": "stream",
     "text": [
      "Original shape of dataset: (858, 31)\n",
      "Shape of training dataset: (643, 30)\n",
      "Shape of testing dataset: (215, 30)\n"
     ]
    }
   ],
   "source": [
    "# train_test_split is used to split the dataset into test set and train set\n",
    "from sklearn.model_selection import train_test_split\n",
    "X_train, X_test, y_train, y_test = train_test_split(X, y, test_size=0.25, random_state =0)\n",
    "\n",
    "print(\"Original shape of dataset: {}\".format(df.shape))         # shape of original dataset\n",
    "print(\"Shape of training dataset: {}\".format(X_train.shape))      # shape of training dataset after split\n",
    "print(\"Shape of testing dataset: {}\".format(X_test.shape))        # shape of testing dataset after split"
   ]
  },
  {
   "cell_type": "markdown",
   "metadata": {},
   "source": [
    "### Defining function for later use"
   ]
  },
  {
   "cell_type": "code",
   "execution_count": 7,
   "metadata": {},
   "outputs": [],
   "source": [
    "def macro_weighted(y_test, y_hat):\n",
    "    \n",
    "    rec = recall_score(y_test, y_hat)\n",
    "    print (\"Recall Score:\", round(rec, 4))\n",
    "\n",
    "    rec_mac = recall_score(y_test, y_hat, average = 'macro')\n",
    "    print (\"Macro Average of Recall Score:\", round(rec_mac, 4))\n",
    "\n",
    "    rec_wei = recall_score(y_test, y_hat, average = 'weighted')\n",
    "    print (\"Weighted Average of Recall Score:\", round(rec_wei, 4))\n",
    "    \n",
    "    print ('------------------------------------------------------')\n",
    "    \n",
    "    prec_mac = precision_score(y_test, y_hat, average = 'macro')\n",
    "    print (\"Macro Average of Precision Score:\", round(prec_mac, 4))\n",
    "\n",
    "    prec_wei = precision_score(y_test, y_hat, average = 'weighted')\n",
    "    print (\"Weighted Average of Precision Score:\", round(prec_wei, 4))\n",
    "    \n",
    "    print ('------------------------------------------------------')\n",
    "\n",
    "    f1_mac = f1_score(y_test, y_hat, average = 'macro')\n",
    "    print (\"Macro Average of F1 Score:\", round(f1_mac, 4))\n",
    "\n",
    "    f1_wei = f1_score(y_test, y_hat, average = 'weighted')\n",
    "    print (\"Weighted Average of F1 Score:\", round(f1_wei, 4))"
   ]
  },
  {
   "cell_type": "code",
   "execution_count": 8,
   "metadata": {},
   "outputs": [],
   "source": [
    "def cm():\n",
    "    \n",
    "        print('---------------------------------------------------------------')\n",
    "        \n",
    "        data = confusion_matrix(y_test, y_hat)\n",
    "        df_cm = pd.DataFrame(data, columns=np.unique(y_test), index = np.unique(y_test))\n",
    "        df_cm.index.name = 'Actual'\n",
    "        df_cm.columns.name = 'Predicted'\n",
    "        plt.figure(figsize = (6, 4))\n",
    "        #sns.set(font_scale=1.4) #for label size\n",
    "        sns.heatmap(df_cm, cmap=\"Blues\", annot=True,annot_kws={\"size\": 12})# font size\n",
    "        plt.show()\n",
    "        \n",
    "        tn, fp, fn, tp = confusion_matrix(y_test, y_hat).ravel()\n",
    "        print (\"TP: {}, FP: {}, TN: {}, FN: {}\".format(tp, fp, tn, fn))"
   ]
  },
  {
   "cell_type": "code",
   "execution_count": 9,
   "metadata": {},
   "outputs": [],
   "source": [
    "def class_rep():\n",
    "        \n",
    "        # Print the precision and recall, among other metrics\n",
    "        print('---------------------------------------------------------------')\n",
    "        print(classification_report(y_test, y_hat, digits=3))"
   ]
  },
  {
   "cell_type": "markdown",
   "metadata": {},
   "source": [
    "### Handling Imbalanced Dataset"
   ]
  },
  {
   "cell_type": "code",
   "execution_count": 10,
   "metadata": {},
   "outputs": [
    {
     "data": {
      "text/plain": [
       "<matplotlib.axes._subplots.AxesSubplot at 0x207bce703c8>"
      ]
     },
     "execution_count": 10,
     "metadata": {},
     "output_type": "execute_result"
    },
    {
     "data": {
      "image/png": "[encoded data removed]",
      "text/plain": [
       "<Figure size 432x288 with 1 Axes>"
      ]
     },
     "metadata": {
      "needs_background": "light"
     },
     "output_type": "display_data"
    }
   ],
   "source": [
    "sns.countplot(df['hinselmann'], palette = \"Set3\")"
   ]
  },
  {
   "cell_type": "markdown",
   "metadata": {},
   "source": [
    "#### Resampling Techniques - Oversample Minority Class\n",
    "\n",
    "Oversampling can be defined as adding more copies of the minority class. In other words, we are creating artificial/synthetic data of the minority class (or group). Oversampling could be a good choice when you don’t have a lot of data to work with. We will use the resampling module from Scikit-Learn library to randomly create artificial samples of data from the minority class."
   ]
  },
  {
   "cell_type": "code",
   "execution_count": 11,
   "metadata": {},
   "outputs": [],
   "source": [
    "# 'resample' is located under sklearn.utils\n",
    "from sklearn.utils import resample\n",
    "\n",
    "# concatenate training data back together\n",
    "train_data = pd.concat([X_train, y_train], axis = 1)\n",
    "\n",
    "# separate minority and majority class\n",
    "not_cancer = train_data[train_data['hinselmann']==0]\n",
    "Cervical = train_data[train_data['hinselmann']==1]"
   ]
  },
  {
   "cell_type": "code",
   "execution_count": 12,
   "metadata": {},
   "outputs": [
    {
     "data": {
      "text/plain": [
       "<matplotlib.axes._subplots.AxesSubplot at 0x207bd5ff808>"
      ]
     },
     "execution_count": 12,
     "metadata": {},
     "output_type": "execute_result"
    },
    {
     "data": {
      "image/png": "[encoded data removed]",
      "text/plain": [
       "<Figure size 432x288 with 1 Axes>"
      ]
     },
     "metadata": {
      "needs_background": "light"
     },
     "output_type": "display_data"
    }
   ],
   "source": [
    "# Unsample minority; we are oversampling the minority class to match the number of majority classs\n",
    "Cervical_oversampled = resample(Cervical,\n",
    "                           replace = True, # Sample with replacement\n",
    "                           n_samples = len(not_cancer), # Match number in majority class\n",
    "                           random_state=27)\n",
    "\n",
    "# combine majority and upsampled minority\n",
    "oversampled = pd.concat([not_cancer, Cervical_oversampled])\n",
    "sns.countplot(oversampled['hinselmann'], palette = \"Set2\")"
   ]
  },
  {
   "cell_type": "code",
   "execution_count": 13,
   "metadata": {},
   "outputs": [
    {
     "name": "stdout",
     "output_type": "stream",
     "text": [
      "Recall Score: 0.3333\n",
      "Macro Average of Recall Score: 0.5605\n",
      "Weighted Average of Recall Score: 0.7814\n",
      "------------------------------------------------------\n",
      "Macro Average of Precision Score: 0.505\n",
      "Weighted Average of Precision Score: 0.9747\n",
      "------------------------------------------------------\n",
      "Macro Average of F1 Score: 0.4587\n",
      "Weighted Average of F1 Score: 0.865\n",
      "---------------------------------------------------------------\n"
     ]
    },
    {
     "data": {
      "image/png": "[encoded data removed]",
      "text/plain": [
       "<Figure size 432x288 with 2 Axes>"
      ]
     },
     "metadata": {
      "needs_background": "light"
     },
     "output_type": "display_data"
    },
    {
     "name": "stdout",
     "output_type": "stream",
     "text": [
      "TP: 1, FP: 45, TN: 167, FN: 2\n",
      "---------------------------------------------------------------\n",
      "              precision    recall  f1-score   support\n",
      "\n",
      "           0      0.988     0.788     0.877       212\n",
      "           1      0.022     0.333     0.041         3\n",
      "\n",
      "    accuracy                          0.781       215\n",
      "   macro avg      0.505     0.561     0.459       215\n",
      "weighted avg      0.975     0.781     0.865       215\n",
      "\n"
     ]
    }
   ],
   "source": [
    "X_train = oversampled.drop('hinselmann', axis = 1) \n",
    "y_train = oversampled['hinselmann']\n",
    "\n",
    "from sklearn.preprocessing import StandardScaler\n",
    "sc = StandardScaler()\n",
    "X_train = sc.fit_transform(X_train)\n",
    "X_test = sc.transform(X_test)\n",
    "\n",
    "model = EasyEnsembleClassifier(random_state = 25)\n",
    "model.fit(X_train, y_train)\n",
    "y_hat = model.predict(X_test)\n",
    "\n",
    "macro_weighted(y_test, y_hat)\n",
    "cm()\n",
    "class_rep()"
   ]
  },
  {
   "cell_type": "markdown",
   "metadata": {},
   "source": [
    "#### Generate Synthetic Samples: SMOTE\n",
    "\n",
    "Here we will use imblearn’s SMOTE or Synthetic Minority Oversampling Technique. SMOTE uses a nearest neighbors algorithm to generate new and synthetic data we can use for training our model. It’s important to generate the new samples only in the training set to ensure our model generalizes well to unseen data."
   ]
  },
  {
   "cell_type": "code",
   "execution_count": 14,
   "metadata": {},
   "outputs": [
    {
     "data": {
      "text/plain": [
       "<matplotlib.axes._subplots.AxesSubplot at 0x207bd636388>"
      ]
     },
     "execution_count": 14,
     "metadata": {},
     "output_type": "execute_result"
    },
    {
     "data": {
      "image/png": "[encoded data removed]",
      "text/plain": [
       "<Figure size 432x288 with 1 Axes>"
      ]
     },
     "metadata": {
      "needs_background": "light"
     },
     "output_type": "display_data"
    }
   ],
   "source": [
    "df = pd.read_csv('preprocessed_risk_factors_cervical_cancer.csv', usecols = features)\n",
    "\n",
    "X = df.drop('hinselmann', axis = 1) \n",
    "y = df['hinselmann']\n",
    "\n",
    "X_train, X_test, y_train, y_test = train_test_split(X, y, test_size=0.25, random_state =0)\n",
    "\n",
    "# import SMOTE \n",
    "from imblearn.over_sampling import SMOTE\n",
    "sm = SMOTE(random_state = 25, sampling_strategy='auto')   # again we are eqalizing both the classes\n",
    "\n",
    "# fit the sampling\n",
    "X_train, y_train = sm.fit_sample(X_train, y_train)\n",
    "np.unique(y_train, return_counts=True)     # Y_train is numpy array, so unique() functions returns the count of all the unique elements in the array\n",
    "\n",
    "from sklearn.preprocessing import StandardScaler\n",
    "sc = StandardScaler()\n",
    "X_train = sc.fit_transform(X_train)\n",
    "X_test = sc.transform(X_test)\n",
    "\n",
    "sns.countplot(y_train, palette = \"Set2\")"
   ]
  },
  {
   "cell_type": "code",
   "execution_count": 15,
   "metadata": {},
   "outputs": [
    {
     "name": "stdout",
     "output_type": "stream",
     "text": [
      "Recall Score: 0.0\n",
      "Macro Average of Recall Score: 0.4764\n",
      "Weighted Average of Recall Score: 0.9395\n",
      "------------------------------------------------------\n",
      "Macro Average of Precision Score: 0.4927\n",
      "Weighted Average of Precision Score: 0.9716\n",
      "------------------------------------------------------\n",
      "Macro Average of F1 Score: 0.4844\n",
      "Weighted Average of F1 Score: 0.9553\n",
      "---------------------------------------------------------------\n"
     ]
    },
    {
     "data": {
      "image/png": "[encoded data removed]",
      "text/plain": [
       "<Figure size 432x288 with 2 Axes>"
      ]
     },
     "metadata": {
      "needs_background": "light"
     },
     "output_type": "display_data"
    },
    {
     "name": "stdout",
     "output_type": "stream",
     "text": [
      "TP: 0, FP: 10, TN: 202, FN: 3\n",
      "---------------------------------------------------------------\n",
      "              precision    recall  f1-score   support\n",
      "\n",
      "           0      0.985     0.953     0.969       212\n",
      "           1      0.000     0.000     0.000         3\n",
      "\n",
      "    accuracy                          0.940       215\n",
      "   macro avg      0.493     0.476     0.484       215\n",
      "weighted avg      0.972     0.940     0.955       215\n",
      "\n"
     ]
    }
   ],
   "source": [
    "model = EasyEnsembleClassifier(random_state = 25)\n",
    "model.fit(X_train, y_train)\n",
    "y_hat = model.predict(X_test)\n",
    "\n",
    "macro_weighted(y_test, y_hat)\n",
    "cm()\n",
    "class_rep()"
   ]
  },
  {
   "cell_type": "markdown",
   "metadata": {},
   "source": [
    "#### SMOTETomek"
   ]
  },
  {
   "cell_type": "code",
   "execution_count": 16,
   "metadata": {},
   "outputs": [],
   "source": [
    "df = pd.read_csv('preprocessed_risk_factors_cervical_cancer.csv', usecols = features)\n",
    "\n",
    "X = df.drop('hinselmann', axis = 1) \n",
    "y = df['hinselmann']\n",
    "\n",
    "X_train, X_test, y_train, y_test = train_test_split(X, y, test_size=0.25, random_state =0)\n",
    "\n",
    "from sklearn.preprocessing import StandardScaler\n",
    "sc = StandardScaler()\n",
    "X_train = sc.fit_transform(X_train)\n",
    "X_test = sc.transform(X_test)"
   ]
  },
  {
   "cell_type": "code",
   "execution_count": 17,
   "metadata": {},
   "outputs": [
    {
     "name": "stdout",
     "output_type": "stream",
     "text": [
      "The number of classes before fit Counter({0: 611, 1: 32})\n",
      "The number of classes after fit Counter({0: 605, 1: 574})\n"
     ]
    },
    {
     "data": {
      "text/plain": [
       "<matplotlib.axes._subplots.AxesSubplot at 0x207bd848108>"
      ]
     },
     "execution_count": 17,
     "metadata": {},
     "output_type": "execute_result"
    },
    {
     "data": {
      "image/png": "[encoded data removed]",
      "text/plain": [
       "<Figure size 432x288 with 1 Axes>"
      ]
     },
     "metadata": {
      "needs_background": "light"
     },
     "output_type": "display_data"
    }
   ],
   "source": [
    "from imblearn.combine import SMOTETomek\n",
    "from collections import Counter\n",
    "smot = SMOTETomek(0.95)\n",
    "X_train_ns, y_train_ns = smot.fit_sample(X_train, y_train)\n",
    "print(\"The number of classes before fit {}\".format(Counter(y_train)))\n",
    "print(\"The number of classes after fit {}\".format(Counter(y_train_ns)))\n",
    "\n",
    "sns.countplot(y_train_ns, palette = \"Set1\")"
   ]
  },
  {
   "cell_type": "code",
   "execution_count": 18,
   "metadata": {},
   "outputs": [
    {
     "name": "stdout",
     "output_type": "stream",
     "text": [
      "Recall Score: 0.0\n",
      "Macro Average of Recall Score: 0.4811\n",
      "Weighted Average of Recall Score: 0.9488\n",
      "------------------------------------------------------\n",
      "Macro Average of Precision Score: 0.4928\n",
      "Weighted Average of Precision Score: 0.9718\n",
      "------------------------------------------------------\n",
      "Macro Average of F1 Score: 0.4869\n",
      "Weighted Average of F1 Score: 0.9602\n",
      "---------------------------------------------------------------\n"
     ]
    },
    {
     "data": {
      "image/png": "[encoded data removed]",
      "text/plain": [
       "<Figure size 432x288 with 2 Axes>"
      ]
     },
     "metadata": {
      "needs_background": "light"
     },
     "output_type": "display_data"
    },
    {
     "name": "stdout",
     "output_type": "stream",
     "text": [
      "TP: 0, FP: 8, TN: 204, FN: 3\n",
      "---------------------------------------------------------------\n",
      "              precision    recall  f1-score   support\n",
      "\n",
      "           0      0.986     0.962     0.974       212\n",
      "           1      0.000     0.000     0.000         3\n",
      "\n",
      "    accuracy                          0.949       215\n",
      "   macro avg      0.493     0.481     0.487       215\n",
      "weighted avg      0.972     0.949     0.960       215\n",
      "\n"
     ]
    }
   ],
   "source": [
    "model = EasyEnsembleClassifier(random_state = 25)\n",
    "model.fit(X_train_ns, y_train_ns)\n",
    "y_hat = model.predict(X_test)\n",
    "\n",
    "macro_weighted(y_test, y_hat)\n",
    "cm()\n",
    "class_rep()"
   ]
  },
  {
   "cell_type": "markdown",
   "metadata": {},
   "source": [
    "### How does the EasyEnsemble Classifier perform itself?"
   ]
  },
  {
   "cell_type": "code",
   "execution_count": 19,
   "metadata": {},
   "outputs": [
    {
     "data": {
      "text/plain": [
       "<matplotlib.axes._subplots.AxesSubplot at 0x207bd94e1c8>"
      ]
     },
     "execution_count": 19,
     "metadata": {},
     "output_type": "execute_result"
    },
    {
     "data": {
      "image/png": "[encoded data removed]",
      "text/plain": [
       "<Figure size 432x288 with 1 Axes>"
      ]
     },
     "metadata": {
      "needs_background": "light"
     },
     "output_type": "display_data"
    }
   ],
   "source": [
    "df = pd.read_csv('preprocessed_risk_factors_cervical_cancer.csv', usecols = features)\n",
    "\n",
    "X = df.drop('hinselmann', axis = 1) \n",
    "y = df['hinselmann']\n",
    "\n",
    "X_train, X_test, y_train, y_test = train_test_split(X, y, test_size=0.25, random_state =0)\n",
    "\n",
    "from sklearn.preprocessing import StandardScaler\n",
    "sc = StandardScaler()\n",
    "X_train = sc.fit_transform(X_train)\n",
    "X_test = sc.transform(X_test)\n",
    "\n",
    "sns.countplot(y_train, palette = \"Set3\")"
   ]
  },
  {
   "cell_type": "code",
   "execution_count": 20,
   "metadata": {},
   "outputs": [
    {
     "name": "stdout",
     "output_type": "stream",
     "text": [
      "Recall Score: 1.0\n",
      "Macro Average of Recall Score: 0.7783\n",
      "Weighted Average of Recall Score: 0.5628\n",
      "------------------------------------------------------\n",
      "Macro Average of Precision Score: 0.5155\n",
      "Weighted Average of Precision Score: 0.9865\n",
      "------------------------------------------------------\n",
      "Macro Average of F1 Score: 0.3876\n",
      "Weighted Average of F1 Score: 0.706\n",
      "---------------------------------------------------------------\n"
     ]
    },
    {
     "data": {
      "image/png": "[encoded data removed]",
      "text/plain": [
       "<Figure size 432x288 with 2 Axes>"
      ]
     },
     "metadata": {
      "needs_background": "light"
     },
     "output_type": "display_data"
    },
    {
     "name": "stdout",
     "output_type": "stream",
     "text": [
      "TP: 3, FP: 94, TN: 118, FN: 0\n",
      "---------------------------------------------------------------\n",
      "              precision    recall  f1-score   support\n",
      "\n",
      "           0      1.000     0.557     0.715       212\n",
      "           1      0.031     1.000     0.060         3\n",
      "\n",
      "    accuracy                          0.563       215\n",
      "   macro avg      0.515     0.778     0.388       215\n",
      "weighted avg      0.986     0.563     0.706       215\n",
      "\n"
     ]
    }
   ],
   "source": [
    "model = EasyEnsembleClassifier(random_state = 25)\n",
    "model.fit(X_train, y_train)\n",
    "y_hat = model.predict(X_test)\n",
    "\n",
    "macro_weighted(y_test, y_hat)\n",
    "cm()\n",
    "class_rep()"
   ]
  },
  {
   "cell_type": "code",
   "execution_count": 21,
   "metadata": {},
   "outputs": [
    {
     "data": {
      "image/png": "[encoded data removed]",
      "text/plain": [
       "<Figure size 432x288 with 1 Axes>"
      ]
     },
     "metadata": {},
     "output_type": "display_data"
    }
   ],
   "source": [
    "from mlxtend.plotting import plot_learning_curves\n",
    "plot_learning_curves(X_train, y_train, X_test, y_test, model)\n",
    "plt.show()"
   ]
  },
  {
   "cell_type": "markdown",
   "metadata": {},
   "source": [
    "### We will not create any synthetic sample in this dataset. Instead we will use EasyEnsemble Classifier. "
   ]
  },
  {
   "cell_type": "markdown",
   "metadata": {},
   "source": [
    "##### Let's try to find the threshold that corresponds to highest f1 score and thus find the best model. Please refer to https://towardsdatascience.com/beyond-accuracy-precision-and-recall-3da06bea9f6c."
   ]
  },
  {
   "cell_type": "code",
   "execution_count": 22,
   "metadata": {},
   "outputs": [],
   "source": [
    "# Let's change test size and see the difference\n",
    "test_size = list(np.arange(0.15, 0.41, 0.01))\n",
    "\n",
    "# Let's create a list of threshold value ranging from 0 to 1.\n",
    "threshold = list(np.arange(0.0, 1, 0.039))"
   ]
  },
  {
   "cell_type": "code",
   "execution_count": 23,
   "metadata": {},
   "outputs": [
    {
     "data": {
      "text/html": [
       "<div>\n",
       "<style scoped>\n",
       "    .dataframe tbody tr th:only-of-type {\n",
       "        vertical-align: middle;\n",
       "    }\n",
       "\n",
       "    .dataframe tbody tr th {\n",
       "        vertical-align: top;\n",
       "    }\n",
       "\n",
       "    .dataframe thead th {\n",
       "        text-align: right;\n",
       "    }\n",
       "</style>\n",
       "<table border=\"1\" class=\"dataframe\">\n",
       "  <thead>\n",
       "    <tr style=\"text-align: right;\">\n",
       "      <th></th>\n",
       "      <th>threshold</th>\n",
       "      <th>tp</th>\n",
       "      <th>fp</th>\n",
       "      <th>tn</th>\n",
       "      <th>fn</th>\n",
       "    </tr>\n",
       "  </thead>\n",
       "  <tbody>\n",
       "    <tr>\n",
       "      <th>0</th>\n",
       "      <td>0.000</td>\n",
       "      <td>1</td>\n",
       "      <td>47</td>\n",
       "      <td>80</td>\n",
       "      <td>1</td>\n",
       "    </tr>\n",
       "    <tr>\n",
       "      <th>1</th>\n",
       "      <td>0.039</td>\n",
       "      <td>2</td>\n",
       "      <td>72</td>\n",
       "      <td>64</td>\n",
       "      <td>0</td>\n",
       "    </tr>\n",
       "    <tr>\n",
       "      <th>2</th>\n",
       "      <td>0.078</td>\n",
       "      <td>2</td>\n",
       "      <td>66</td>\n",
       "      <td>78</td>\n",
       "      <td>0</td>\n",
       "    </tr>\n",
       "    <tr>\n",
       "      <th>3</th>\n",
       "      <td>0.117</td>\n",
       "      <td>2</td>\n",
       "      <td>60</td>\n",
       "      <td>93</td>\n",
       "      <td>0</td>\n",
       "    </tr>\n",
       "    <tr>\n",
       "      <th>4</th>\n",
       "      <td>0.156</td>\n",
       "      <td>1</td>\n",
       "      <td>63</td>\n",
       "      <td>99</td>\n",
       "      <td>1</td>\n",
       "    </tr>\n",
       "    <tr>\n",
       "      <th>5</th>\n",
       "      <td>0.195</td>\n",
       "      <td>2</td>\n",
       "      <td>66</td>\n",
       "      <td>104</td>\n",
       "      <td>0</td>\n",
       "    </tr>\n",
       "    <tr>\n",
       "      <th>6</th>\n",
       "      <td>0.234</td>\n",
       "      <td>2</td>\n",
       "      <td>84</td>\n",
       "      <td>95</td>\n",
       "      <td>0</td>\n",
       "    </tr>\n",
       "    <tr>\n",
       "      <th>7</th>\n",
       "      <td>0.273</td>\n",
       "      <td>2</td>\n",
       "      <td>76</td>\n",
       "      <td>111</td>\n",
       "      <td>0</td>\n",
       "    </tr>\n",
       "    <tr>\n",
       "      <th>8</th>\n",
       "      <td>0.312</td>\n",
       "      <td>3</td>\n",
       "      <td>93</td>\n",
       "      <td>102</td>\n",
       "      <td>0</td>\n",
       "    </tr>\n",
       "    <tr>\n",
       "      <th>9</th>\n",
       "      <td>0.351</td>\n",
       "      <td>3</td>\n",
       "      <td>92</td>\n",
       "      <td>111</td>\n",
       "      <td>0</td>\n",
       "    </tr>\n",
       "    <tr>\n",
       "      <th>10</th>\n",
       "      <td>0.390</td>\n",
       "      <td>3</td>\n",
       "      <td>94</td>\n",
       "      <td>118</td>\n",
       "      <td>0</td>\n",
       "    </tr>\n",
       "    <tr>\n",
       "      <th>11</th>\n",
       "      <td>0.429</td>\n",
       "      <td>1</td>\n",
       "      <td>79</td>\n",
       "      <td>141</td>\n",
       "      <td>3</td>\n",
       "    </tr>\n",
       "    <tr>\n",
       "      <th>12</th>\n",
       "      <td>0.468</td>\n",
       "      <td>3</td>\n",
       "      <td>93</td>\n",
       "      <td>135</td>\n",
       "      <td>1</td>\n",
       "    </tr>\n",
       "    <tr>\n",
       "      <th>13</th>\n",
       "      <td>0.507</td>\n",
       "      <td>3</td>\n",
       "      <td>107</td>\n",
       "      <td>130</td>\n",
       "      <td>1</td>\n",
       "    </tr>\n",
       "    <tr>\n",
       "      <th>14</th>\n",
       "      <td>0.546</td>\n",
       "      <td>3</td>\n",
       "      <td>113</td>\n",
       "      <td>132</td>\n",
       "      <td>1</td>\n",
       "    </tr>\n",
       "    <tr>\n",
       "      <th>15</th>\n",
       "      <td>0.585</td>\n",
       "      <td>4</td>\n",
       "      <td>118</td>\n",
       "      <td>134</td>\n",
       "      <td>2</td>\n",
       "    </tr>\n",
       "    <tr>\n",
       "      <th>16</th>\n",
       "      <td>0.624</td>\n",
       "      <td>5</td>\n",
       "      <td>120</td>\n",
       "      <td>140</td>\n",
       "      <td>1</td>\n",
       "    </tr>\n",
       "    <tr>\n",
       "      <th>17</th>\n",
       "      <td>0.663</td>\n",
       "      <td>6</td>\n",
       "      <td>137</td>\n",
       "      <td>132</td>\n",
       "      <td>0</td>\n",
       "    </tr>\n",
       "    <tr>\n",
       "      <th>18</th>\n",
       "      <td>0.702</td>\n",
       "      <td>4</td>\n",
       "      <td>140</td>\n",
       "      <td>137</td>\n",
       "      <td>3</td>\n",
       "    </tr>\n",
       "    <tr>\n",
       "      <th>19</th>\n",
       "      <td>0.741</td>\n",
       "      <td>6</td>\n",
       "      <td>121</td>\n",
       "      <td>164</td>\n",
       "      <td>1</td>\n",
       "    </tr>\n",
       "    <tr>\n",
       "      <th>20</th>\n",
       "      <td>0.780</td>\n",
       "      <td>6</td>\n",
       "      <td>157</td>\n",
       "      <td>137</td>\n",
       "      <td>1</td>\n",
       "    </tr>\n",
       "    <tr>\n",
       "      <th>21</th>\n",
       "      <td>0.819</td>\n",
       "      <td>7</td>\n",
       "      <td>166</td>\n",
       "      <td>136</td>\n",
       "      <td>0</td>\n",
       "    </tr>\n",
       "    <tr>\n",
       "      <th>22</th>\n",
       "      <td>0.858</td>\n",
       "      <td>5</td>\n",
       "      <td>151</td>\n",
       "      <td>160</td>\n",
       "      <td>2</td>\n",
       "    </tr>\n",
       "    <tr>\n",
       "      <th>23</th>\n",
       "      <td>0.897</td>\n",
       "      <td>7</td>\n",
       "      <td>196</td>\n",
       "      <td>123</td>\n",
       "      <td>1</td>\n",
       "    </tr>\n",
       "    <tr>\n",
       "      <th>24</th>\n",
       "      <td>0.936</td>\n",
       "      <td>8</td>\n",
       "      <td>178</td>\n",
       "      <td>149</td>\n",
       "      <td>0</td>\n",
       "    </tr>\n",
       "    <tr>\n",
       "      <th>25</th>\n",
       "      <td>0.975</td>\n",
       "      <td>7</td>\n",
       "      <td>159</td>\n",
       "      <td>175</td>\n",
       "      <td>3</td>\n",
       "    </tr>\n",
       "  </tbody>\n",
       "</table>\n",
       "</div>"
      ],
      "text/plain": [
       "    threshold  tp   fp   tn  fn\n",
       "0       0.000   1   47   80   1\n",
       "1       0.039   2   72   64   0\n",
       "2       0.078   2   66   78   0\n",
       "3       0.117   2   60   93   0\n",
       "4       0.156   1   63   99   1\n",
       "5       0.195   2   66  104   0\n",
       "6       0.234   2   84   95   0\n",
       "7       0.273   2   76  111   0\n",
       "8       0.312   3   93  102   0\n",
       "9       0.351   3   92  111   0\n",
       "10      0.390   3   94  118   0\n",
       "11      0.429   1   79  141   3\n",
       "12      0.468   3   93  135   1\n",
       "13      0.507   3  107  130   1\n",
       "14      0.546   3  113  132   1\n",
       "15      0.585   4  118  134   2\n",
       "16      0.624   5  120  140   1\n",
       "17      0.663   6  137  132   0\n",
       "18      0.702   4  140  137   3\n",
       "19      0.741   6  121  164   1\n",
       "20      0.780   6  157  137   1\n",
       "21      0.819   7  166  136   0\n",
       "22      0.858   5  151  160   2\n",
       "23      0.897   7  196  123   1\n",
       "24      0.936   8  178  149   0\n",
       "25      0.975   7  159  175   3"
      ]
     },
     "execution_count": 23,
     "metadata": {},
     "output_type": "execute_result"
    }
   ],
   "source": [
    "# Now, let's append the threshol and tp, tn, fp, fn values in a DataFrame\n",
    "\n",
    "tp = []\n",
    "fp = []\n",
    "tn = []\n",
    "fn = []\n",
    "    \n",
    "for tt in test_size:\n",
    "\n",
    "    X_train, X_test, y_train, y_test = train_test_split(X, y, test_size= tt, random_state =0)\n",
    "    \n",
    "    sc = StandardScaler()\n",
    "    X_train = sc.fit_transform(X_train)\n",
    "    X_test = sc.transform(X_test)\n",
    "    \n",
    "    model = EasyEnsembleClassifier(random_state = 25)\n",
    "    model.fit(X_train, y_train)\n",
    "    y_hat = model.predict(X_test)\n",
    "        \n",
    "    tn.append(confusion_matrix(y_test, y_hat).ravel()[0]) \n",
    "    fp.append(confusion_matrix(y_test, y_hat).ravel()[1])\n",
    "    fn.append(confusion_matrix(y_test, y_hat).ravel()[2])\n",
    "    tp.append(confusion_matrix(y_test, y_hat).ravel()[3])\n",
    "    \n",
    "results = pd.DataFrame({'threshold': threshold, 'tp' : tp , 'fp': fp, 'tn': tn, 'fn': fn})\n",
    "results"
   ]
  },
  {
   "cell_type": "code",
   "execution_count": 24,
   "metadata": {},
   "outputs": [],
   "source": [
    "def calculate_metrics(results):\n",
    "    roc = pd.DataFrame(index = results['threshold'], columns=['recall', 'precision', 'f1', 'tpr', 'fpr'])\n",
    "    \n",
    "    for i in results.iterrows():\n",
    "        t, tp, fp, tn, fn = i[1]\n",
    "        tp + fp + tn + fn == 129\n",
    "        \n",
    "        recall = tp / (tp + fn)\n",
    "        \n",
    "        if tp == fp == 0:\n",
    "            precision = 0\n",
    "            true_positive_rate = 0\n",
    "        \n",
    "        else:\n",
    "            precision = tp / (tp + fp)\n",
    "            true_positive_rate = tp / (tp + fn)\n",
    "            \n",
    "        if precision == recall == 0:\n",
    "            f1 = 0\n",
    "        else:\n",
    "            f1 = 2 * (precision * recall) / (precision + recall)\n",
    "        \n",
    "        \n",
    "        false_positive_rate = fp / (fp + tn)\n",
    "        \n",
    "        roc.loc[t, 'recall'] = recall\n",
    "        roc.loc[t, 'precision'] = precision\n",
    "        roc.loc[t, 'f1'] = f1\n",
    "        roc.loc[t, 'tpr'] = true_positive_rate\n",
    "        roc.loc[t, 'fpr'] = false_positive_rate\n",
    "    \n",
    "    return roc"
   ]
  },
  {
   "cell_type": "code",
   "execution_count": 25,
   "metadata": {},
   "outputs": [
    {
     "data": {
      "text/html": [
       "<div>\n",
       "<style scoped>\n",
       "    .dataframe tbody tr th:only-of-type {\n",
       "        vertical-align: middle;\n",
       "    }\n",
       "\n",
       "    .dataframe tbody tr th {\n",
       "        vertical-align: top;\n",
       "    }\n",
       "\n",
       "    .dataframe thead th {\n",
       "        text-align: right;\n",
       "    }\n",
       "</style>\n",
       "<table border=\"1\" class=\"dataframe\">\n",
       "  <thead>\n",
       "    <tr style=\"text-align: right;\">\n",
       "      <th></th>\n",
       "      <th>threshold</th>\n",
       "      <th>recall</th>\n",
       "      <th>precision</th>\n",
       "      <th>f1</th>\n",
       "      <th>tpr</th>\n",
       "      <th>fpr</th>\n",
       "    </tr>\n",
       "  </thead>\n",
       "  <tbody>\n",
       "    <tr>\n",
       "      <th>0</th>\n",
       "      <td>0.000</td>\n",
       "      <td>0.5</td>\n",
       "      <td>0.0208333</td>\n",
       "      <td>0.04</td>\n",
       "      <td>0.5</td>\n",
       "      <td>0.370079</td>\n",
       "    </tr>\n",
       "    <tr>\n",
       "      <th>1</th>\n",
       "      <td>0.039</td>\n",
       "      <td>1</td>\n",
       "      <td>0.027027</td>\n",
       "      <td>0.0526316</td>\n",
       "      <td>1</td>\n",
       "      <td>0.529412</td>\n",
       "    </tr>\n",
       "    <tr>\n",
       "      <th>2</th>\n",
       "      <td>0.078</td>\n",
       "      <td>1</td>\n",
       "      <td>0.0294118</td>\n",
       "      <td>0.0571429</td>\n",
       "      <td>1</td>\n",
       "      <td>0.458333</td>\n",
       "    </tr>\n",
       "    <tr>\n",
       "      <th>3</th>\n",
       "      <td>0.117</td>\n",
       "      <td>1</td>\n",
       "      <td>0.0322581</td>\n",
       "      <td>0.0625</td>\n",
       "      <td>1</td>\n",
       "      <td>0.392157</td>\n",
       "    </tr>\n",
       "    <tr>\n",
       "      <th>4</th>\n",
       "      <td>0.156</td>\n",
       "      <td>0.5</td>\n",
       "      <td>0.015625</td>\n",
       "      <td>0.030303</td>\n",
       "      <td>0.5</td>\n",
       "      <td>0.388889</td>\n",
       "    </tr>\n",
       "    <tr>\n",
       "      <th>5</th>\n",
       "      <td>0.195</td>\n",
       "      <td>1</td>\n",
       "      <td>0.0294118</td>\n",
       "      <td>0.0571429</td>\n",
       "      <td>1</td>\n",
       "      <td>0.388235</td>\n",
       "    </tr>\n",
       "    <tr>\n",
       "      <th>6</th>\n",
       "      <td>0.234</td>\n",
       "      <td>1</td>\n",
       "      <td>0.0232558</td>\n",
       "      <td>0.0454545</td>\n",
       "      <td>1</td>\n",
       "      <td>0.469274</td>\n",
       "    </tr>\n",
       "    <tr>\n",
       "      <th>7</th>\n",
       "      <td>0.273</td>\n",
       "      <td>1</td>\n",
       "      <td>0.025641</td>\n",
       "      <td>0.05</td>\n",
       "      <td>1</td>\n",
       "      <td>0.406417</td>\n",
       "    </tr>\n",
       "    <tr>\n",
       "      <th>8</th>\n",
       "      <td>0.312</td>\n",
       "      <td>1</td>\n",
       "      <td>0.03125</td>\n",
       "      <td>0.0606061</td>\n",
       "      <td>1</td>\n",
       "      <td>0.476923</td>\n",
       "    </tr>\n",
       "    <tr>\n",
       "      <th>9</th>\n",
       "      <td>0.351</td>\n",
       "      <td>1</td>\n",
       "      <td>0.0315789</td>\n",
       "      <td>0.0612245</td>\n",
       "      <td>1</td>\n",
       "      <td>0.453202</td>\n",
       "    </tr>\n",
       "    <tr>\n",
       "      <th>10</th>\n",
       "      <td>0.390</td>\n",
       "      <td>1</td>\n",
       "      <td>0.0309278</td>\n",
       "      <td>0.06</td>\n",
       "      <td>1</td>\n",
       "      <td>0.443396</td>\n",
       "    </tr>\n",
       "    <tr>\n",
       "      <th>11</th>\n",
       "      <td>0.429</td>\n",
       "      <td>0.25</td>\n",
       "      <td>0.0125</td>\n",
       "      <td>0.0238095</td>\n",
       "      <td>0.25</td>\n",
       "      <td>0.359091</td>\n",
       "    </tr>\n",
       "    <tr>\n",
       "      <th>12</th>\n",
       "      <td>0.468</td>\n",
       "      <td>0.75</td>\n",
       "      <td>0.03125</td>\n",
       "      <td>0.06</td>\n",
       "      <td>0.75</td>\n",
       "      <td>0.407895</td>\n",
       "    </tr>\n",
       "    <tr>\n",
       "      <th>13</th>\n",
       "      <td>0.507</td>\n",
       "      <td>0.75</td>\n",
       "      <td>0.0272727</td>\n",
       "      <td>0.0526316</td>\n",
       "      <td>0.75</td>\n",
       "      <td>0.451477</td>\n",
       "    </tr>\n",
       "    <tr>\n",
       "      <th>14</th>\n",
       "      <td>0.546</td>\n",
       "      <td>0.75</td>\n",
       "      <td>0.0258621</td>\n",
       "      <td>0.05</td>\n",
       "      <td>0.75</td>\n",
       "      <td>0.461224</td>\n",
       "    </tr>\n",
       "    <tr>\n",
       "      <th>15</th>\n",
       "      <td>0.585</td>\n",
       "      <td>0.666667</td>\n",
       "      <td>0.0327869</td>\n",
       "      <td>0.0625</td>\n",
       "      <td>0.666667</td>\n",
       "      <td>0.468254</td>\n",
       "    </tr>\n",
       "    <tr>\n",
       "      <th>16</th>\n",
       "      <td>0.624</td>\n",
       "      <td>0.833333</td>\n",
       "      <td>0.04</td>\n",
       "      <td>0.0763359</td>\n",
       "      <td>0.833333</td>\n",
       "      <td>0.461538</td>\n",
       "    </tr>\n",
       "    <tr>\n",
       "      <th>17</th>\n",
       "      <td>0.663</td>\n",
       "      <td>1</td>\n",
       "      <td>0.041958</td>\n",
       "      <td>0.0805369</td>\n",
       "      <td>1</td>\n",
       "      <td>0.509294</td>\n",
       "    </tr>\n",
       "    <tr>\n",
       "      <th>18</th>\n",
       "      <td>0.702</td>\n",
       "      <td>0.571429</td>\n",
       "      <td>0.0277778</td>\n",
       "      <td>0.0529801</td>\n",
       "      <td>0.571429</td>\n",
       "      <td>0.505415</td>\n",
       "    </tr>\n",
       "    <tr>\n",
       "      <th>19</th>\n",
       "      <td>0.741</td>\n",
       "      <td>0.857143</td>\n",
       "      <td>0.0472441</td>\n",
       "      <td>0.0895522</td>\n",
       "      <td>0.857143</td>\n",
       "      <td>0.424561</td>\n",
       "    </tr>\n",
       "    <tr>\n",
       "      <th>20</th>\n",
       "      <td>0.780</td>\n",
       "      <td>0.857143</td>\n",
       "      <td>0.0368098</td>\n",
       "      <td>0.0705882</td>\n",
       "      <td>0.857143</td>\n",
       "      <td>0.534014</td>\n",
       "    </tr>\n",
       "    <tr>\n",
       "      <th>21</th>\n",
       "      <td>0.819</td>\n",
       "      <td>1</td>\n",
       "      <td>0.0404624</td>\n",
       "      <td>0.0777778</td>\n",
       "      <td>1</td>\n",
       "      <td>0.549669</td>\n",
       "    </tr>\n",
       "    <tr>\n",
       "      <th>22</th>\n",
       "      <td>0.858</td>\n",
       "      <td>0.714286</td>\n",
       "      <td>0.0320513</td>\n",
       "      <td>0.0613497</td>\n",
       "      <td>0.714286</td>\n",
       "      <td>0.485531</td>\n",
       "    </tr>\n",
       "    <tr>\n",
       "      <th>23</th>\n",
       "      <td>0.897</td>\n",
       "      <td>0.875</td>\n",
       "      <td>0.0344828</td>\n",
       "      <td>0.0663507</td>\n",
       "      <td>0.875</td>\n",
       "      <td>0.61442</td>\n",
       "    </tr>\n",
       "    <tr>\n",
       "      <th>24</th>\n",
       "      <td>0.936</td>\n",
       "      <td>1</td>\n",
       "      <td>0.0430108</td>\n",
       "      <td>0.0824742</td>\n",
       "      <td>1</td>\n",
       "      <td>0.544343</td>\n",
       "    </tr>\n",
       "    <tr>\n",
       "      <th>25</th>\n",
       "      <td>0.975</td>\n",
       "      <td>0.7</td>\n",
       "      <td>0.0421687</td>\n",
       "      <td>0.0795455</td>\n",
       "      <td>0.7</td>\n",
       "      <td>0.476048</td>\n",
       "    </tr>\n",
       "  </tbody>\n",
       "</table>\n",
       "</div>"
      ],
      "text/plain": [
       "    threshold    recall  precision         f1       tpr       fpr\n",
       "0       0.000       0.5  0.0208333       0.04       0.5  0.370079\n",
       "1       0.039         1   0.027027  0.0526316         1  0.529412\n",
       "2       0.078         1  0.0294118  0.0571429         1  0.458333\n",
       "3       0.117         1  0.0322581     0.0625         1  0.392157\n",
       "4       0.156       0.5   0.015625   0.030303       0.5  0.388889\n",
       "5       0.195         1  0.0294118  0.0571429         1  0.388235\n",
       "6       0.234         1  0.0232558  0.0454545         1  0.469274\n",
       "7       0.273         1   0.025641       0.05         1  0.406417\n",
       "8       0.312         1    0.03125  0.0606061         1  0.476923\n",
       "9       0.351         1  0.0315789  0.0612245         1  0.453202\n",
       "10      0.390         1  0.0309278       0.06         1  0.443396\n",
       "11      0.429      0.25     0.0125  0.0238095      0.25  0.359091\n",
       "12      0.468      0.75    0.03125       0.06      0.75  0.407895\n",
       "13      0.507      0.75  0.0272727  0.0526316      0.75  0.451477\n",
       "14      0.546      0.75  0.0258621       0.05      0.75  0.461224\n",
       "15      0.585  0.666667  0.0327869     0.0625  0.666667  0.468254\n",
       "16      0.624  0.833333       0.04  0.0763359  0.833333  0.461538\n",
       "17      0.663         1   0.041958  0.0805369         1  0.509294\n",
       "18      0.702  0.571429  0.0277778  0.0529801  0.571429  0.505415\n",
       "19      0.741  0.857143  0.0472441  0.0895522  0.857143  0.424561\n",
       "20      0.780  0.857143  0.0368098  0.0705882  0.857143  0.534014\n",
       "21      0.819         1  0.0404624  0.0777778         1  0.549669\n",
       "22      0.858  0.714286  0.0320513  0.0613497  0.714286  0.485531\n",
       "23      0.897     0.875  0.0344828  0.0663507     0.875   0.61442\n",
       "24      0.936         1  0.0430108  0.0824742         1  0.544343\n",
       "25      0.975       0.7  0.0421687  0.0795455       0.7  0.476048"
      ]
     },
     "execution_count": 25,
     "metadata": {},
     "output_type": "execute_result"
    }
   ],
   "source": [
    "roc = calculate_metrics(results)\n",
    "roc.reset_index()"
   ]
  },
  {
   "cell_type": "markdown",
   "metadata": {},
   "source": [
    "#### Best F1 score: 0.0895522 and 0.0824742; thus, test size becomes could be either 0.34 or 0.39.\n",
    "#### But we want to choose a model with smallest False Negative Rate i.e., fn = 0 where f1 = 0.0805369. Thus, test size could also be 0.32. Let's also try 0.16.\n",
    "### Let's check.."
   ]
  },
  {
   "cell_type": "code",
   "execution_count": 26,
   "metadata": {},
   "outputs": [
    {
     "data": {
      "image/png": "[encoded data removed]",
      "text/plain": [
       "<Figure size 576x396 with 1 Axes>"
      ]
     },
     "metadata": {},
     "output_type": "display_data"
    },
    {
     "data": {
      "image/png": "[encoded data removed]",
      "text/plain": [
       "<Figure size 576x396 with 1 Axes>"
      ]
     },
     "metadata": {},
     "output_type": "display_data"
    },
    {
     "data": {
      "image/png": "[encoded data removed]",
      "text/plain": [
       "<Figure size 576x396 with 1 Axes>"
      ]
     },
     "metadata": {},
     "output_type": "display_data"
    },
    {
     "data": {
      "image/png": "[encoded data removed]",
      "text/plain": [
       "<Figure size 576x396 with 1 Axes>"
      ]
     },
     "metadata": {},
     "output_type": "display_data"
    }
   ],
   "source": [
    "test_size = [0.16, 0.32, 0.34, 0.39]\n",
    "\n",
    "for t in test_size:\n",
    "    \n",
    "    df = pd.read_csv('preprocessed_risk_factors_cervical_cancer.csv', usecols = features)\n",
    "    X = df.drop('hinselmann', axis = 1) \n",
    "    y = df['hinselmann']\n",
    "\n",
    "    X_train, X_test, y_train, y_test = train_test_split(X, y, test_size = t, random_state =0)\n",
    "    \n",
    "    from sklearn.preprocessing import StandardScaler\n",
    "    sc = StandardScaler()\n",
    "    X_train = sc.fit_transform(X_train)\n",
    "    X_test = sc.transform(X_test)\n",
    "\n",
    "    classes = [1, 0]\n",
    "\n",
    "    from yellowbrick.classifier import ClassPredictionError\n",
    "    visualizer = ClassPredictionError(EasyEnsembleClassifier(random_state = 25), classes=classes)\n",
    "\n",
    "    # Fit the training data to the visualizer\n",
    "    visualizer.fit(X_train, y_train)\n",
    "\n",
    "    # Evaluate the model on the test data\n",
    "    visualizer.score(X_test, y_test)\n",
    "\n",
    "    # Draw visualization\n",
    "    visualizer.show()"
   ]
  },
  {
   "cell_type": "markdown",
   "metadata": {},
   "source": [
    "### We choose test_size  = 0.34"
   ]
  },
  {
   "cell_type": "code",
   "execution_count": 27,
   "metadata": {},
   "outputs": [
    {
     "name": "stdout",
     "output_type": "stream",
     "text": [
      "Recall Score: 0.8571\n",
      "Macro Average of Recall Score: 0.7163\n",
      "Weighted Average of Recall Score: 0.5822\n",
      "------------------------------------------------------\n",
      "Macro Average of Precision Score: 0.5206\n",
      "Weighted Average of Precision Score: 0.9712\n",
      "------------------------------------------------------\n",
      "Macro Average of F1 Score: 0.4092\n",
      "Weighted Average of F1 Score: 0.7136\n",
      "---------------------------------------------------------------\n"
     ]
    },
    {
     "data": {
      "image/png": "[encoded data removed]",
      "text/plain": [
       "<Figure size 432x288 with 2 Axes>"
      ]
     },
     "metadata": {},
     "output_type": "display_data"
    },
    {
     "name": "stdout",
     "output_type": "stream",
     "text": [
      "TP: 6, FP: 121, TN: 164, FN: 1\n",
      "---------------------------------------------------------------\n",
      "              precision    recall  f1-score   support\n",
      "\n",
      "           0      0.994     0.575     0.729       285\n",
      "           1      0.047     0.857     0.090         7\n",
      "\n",
      "    accuracy                          0.582       292\n",
      "   macro avg      0.521     0.716     0.409       292\n",
      "weighted avg      0.971     0.582     0.714       292\n",
      "\n"
     ]
    }
   ],
   "source": [
    "df = pd.read_csv('preprocessed_risk_factors_cervical_cancer.csv', usecols = features)\n",
    "\n",
    "X = df.drop('hinselmann', axis = 1) \n",
    "y = df['hinselmann']\n",
    "\n",
    "X_train, X_test, y_train, y_test = train_test_split(X, y, test_size=0.34, random_state =0)\n",
    "\n",
    "from sklearn.preprocessing import StandardScaler\n",
    "sc = StandardScaler()\n",
    "X_train = sc.fit_transform(X_train)\n",
    "X_test = sc.transform(X_test)\n",
    "\n",
    "model = EasyEnsembleClassifier(random_state = 25)\n",
    "model.fit(X_train, y_train)\n",
    "y_hat = model.predict(X_test)\n",
    "\n",
    "macro_weighted(y_test, y_hat)\n",
    "cm()\n",
    "class_rep()"
   ]
  }
 ],
 "metadata": {
  "kernelspec": {
   "display_name": "Python 3",
   "language": "python",
   "name": "python3"
  },
  "language_info": {
   "codemirror_mode": {
    "name": "ipython",
    "version": 3
   },
   "file_extension": ".py",
   "mimetype": "text/x-python",
   "name": "python",
   "nbconvert_exporter": "python",
   "pygments_lexer": "ipython3",
   "version": "3.7.6"
  }
 },
 "nbformat": 4,
 "nbformat_minor": 4
}
