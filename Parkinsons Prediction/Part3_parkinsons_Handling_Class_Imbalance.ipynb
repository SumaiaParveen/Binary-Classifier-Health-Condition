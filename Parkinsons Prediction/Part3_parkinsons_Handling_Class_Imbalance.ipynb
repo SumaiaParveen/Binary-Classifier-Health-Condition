{
 "cells": [
  {
   "cell_type": "markdown",
   "metadata": {},
   "source": [
    "# Part 3: Handling Imbalanced Class"
   ]
  },
  {
   "cell_type": "markdown",
   "metadata": {},
   "source": [
    "## Import Libraries"
   ]
  },
  {
   "cell_type": "code",
   "execution_count": 1,
   "metadata": {},
   "outputs": [
    {
     "name": "stderr",
     "output_type": "stream",
     "text": [
      "\n",
      "Bad key \"text.kerning_factor\" on line 4 in\n",
      "C:\\Users\\sumai\\Anaconda3\\lib\\site-packages\\matplotlib\\mpl-data\\stylelib\\_classic_test_patch.mplstyle.\n",
      "You probably need to get an updated matplotlibrc file from\n",
      "https://github.com/matplotlib/matplotlib/blob/v3.1.3/matplotlibrc.template\n",
      "or from the matplotlib source distribution\n"
     ]
    }
   ],
   "source": [
    "import warnings\n",
    "warnings.filterwarnings('ignore')\n",
    "\n",
    "import pandas as pd\n",
    "import numpy as np\n",
    "import missingno as msno\n",
    "import matplotlib.pyplot as plt\n",
    "import seaborn as sns\n",
    "from scipy import stats\n",
    "from lightgbm.sklearn import LGBMClassifier\n",
    "from sklearn.metrics import f1_score,accuracy_score, precision_score, recall_score, roc_curve, roc_auc_score, precision_recall_curve, auc\n",
    "from sklearn.metrics import accuracy_score, confusion_matrix, classification_report"
   ]
  },
  {
   "cell_type": "markdown",
   "metadata": {},
   "source": [
    "## Load Dataset\n",
    "\n",
    "Please see the link to know more about the dataset: https://archive.ics.uci.edu/ml/datasets/Parkinson%27s+Disease+Classification#"
   ]
  },
  {
   "cell_type": "code",
   "execution_count": 2,
   "metadata": {},
   "outputs": [
    {
     "data": {
      "text/html": [
       "<div>\n",
       "<style scoped>\n",
       "    .dataframe tbody tr th:only-of-type {\n",
       "        vertical-align: middle;\n",
       "    }\n",
       "\n",
       "    .dataframe tbody tr th {\n",
       "        vertical-align: top;\n",
       "    }\n",
       "\n",
       "    .dataframe thead th {\n",
       "        text-align: right;\n",
       "    }\n",
       "</style>\n",
       "<table border=\"1\" class=\"dataframe\">\n",
       "  <thead>\n",
       "    <tr style=\"text-align: right;\">\n",
       "      <th></th>\n",
       "      <th>gender</th>\n",
       "      <th>ppe</th>\n",
       "      <th>dfa</th>\n",
       "      <th>rpde</th>\n",
       "      <th>numpulses</th>\n",
       "      <th>numperiodspulses</th>\n",
       "      <th>meanperiodpulses</th>\n",
       "      <th>stddevperiodpulses</th>\n",
       "      <th>locpctjitter</th>\n",
       "      <th>locabsjitter</th>\n",
       "      <th>...</th>\n",
       "      <th>tqwt_kurtosisvalue_dec_28</th>\n",
       "      <th>tqwt_kurtosisvalue_dec_29</th>\n",
       "      <th>tqwt_kurtosisvalue_dec_30</th>\n",
       "      <th>tqwt_kurtosisvalue_dec_31</th>\n",
       "      <th>tqwt_kurtosisvalue_dec_32</th>\n",
       "      <th>tqwt_kurtosisvalue_dec_33</th>\n",
       "      <th>tqwt_kurtosisvalue_dec_34</th>\n",
       "      <th>tqwt_kurtosisvalue_dec_35</th>\n",
       "      <th>tqwt_kurtosisvalue_dec_36</th>\n",
       "      <th>class</th>\n",
       "    </tr>\n",
       "  </thead>\n",
       "  <tbody>\n",
       "    <tr>\n",
       "      <th>0</th>\n",
       "      <td>1</td>\n",
       "      <td>0.85247</td>\n",
       "      <td>0.71826</td>\n",
       "      <td>0.57227</td>\n",
       "      <td>240</td>\n",
       "      <td>239</td>\n",
       "      <td>0.008064</td>\n",
       "      <td>0.000087</td>\n",
       "      <td>0.00218</td>\n",
       "      <td>0.000018</td>\n",
       "      <td>...</td>\n",
       "      <td>1.5620</td>\n",
       "      <td>2.6445</td>\n",
       "      <td>3.8686</td>\n",
       "      <td>4.2105</td>\n",
       "      <td>5.1221</td>\n",
       "      <td>4.4625</td>\n",
       "      <td>2.6202</td>\n",
       "      <td>3.0004</td>\n",
       "      <td>18.9405</td>\n",
       "      <td>1</td>\n",
       "    </tr>\n",
       "    <tr>\n",
       "      <th>1</th>\n",
       "      <td>1</td>\n",
       "      <td>0.76686</td>\n",
       "      <td>0.69481</td>\n",
       "      <td>0.53966</td>\n",
       "      <td>234</td>\n",
       "      <td>233</td>\n",
       "      <td>0.008258</td>\n",
       "      <td>0.000073</td>\n",
       "      <td>0.00195</td>\n",
       "      <td>0.000016</td>\n",
       "      <td>...</td>\n",
       "      <td>1.5589</td>\n",
       "      <td>3.6107</td>\n",
       "      <td>23.5155</td>\n",
       "      <td>14.1962</td>\n",
       "      <td>11.0261</td>\n",
       "      <td>9.5082</td>\n",
       "      <td>6.5245</td>\n",
       "      <td>6.3431</td>\n",
       "      <td>45.1780</td>\n",
       "      <td>1</td>\n",
       "    </tr>\n",
       "    <tr>\n",
       "      <th>2</th>\n",
       "      <td>1</td>\n",
       "      <td>0.85083</td>\n",
       "      <td>0.67604</td>\n",
       "      <td>0.58982</td>\n",
       "      <td>232</td>\n",
       "      <td>231</td>\n",
       "      <td>0.008340</td>\n",
       "      <td>0.000060</td>\n",
       "      <td>0.00176</td>\n",
       "      <td>0.000015</td>\n",
       "      <td>...</td>\n",
       "      <td>1.5643</td>\n",
       "      <td>2.3308</td>\n",
       "      <td>9.4959</td>\n",
       "      <td>10.7458</td>\n",
       "      <td>11.0177</td>\n",
       "      <td>4.8066</td>\n",
       "      <td>2.9199</td>\n",
       "      <td>3.1495</td>\n",
       "      <td>4.7666</td>\n",
       "      <td>1</td>\n",
       "    </tr>\n",
       "    <tr>\n",
       "      <th>3</th>\n",
       "      <td>0</td>\n",
       "      <td>0.41121</td>\n",
       "      <td>0.79672</td>\n",
       "      <td>0.59257</td>\n",
       "      <td>178</td>\n",
       "      <td>177</td>\n",
       "      <td>0.010858</td>\n",
       "      <td>0.000183</td>\n",
       "      <td>0.00419</td>\n",
       "      <td>0.000046</td>\n",
       "      <td>...</td>\n",
       "      <td>3.7805</td>\n",
       "      <td>3.5664</td>\n",
       "      <td>5.2558</td>\n",
       "      <td>14.0403</td>\n",
       "      <td>4.2235</td>\n",
       "      <td>4.6857</td>\n",
       "      <td>4.8460</td>\n",
       "      <td>6.2650</td>\n",
       "      <td>4.0603</td>\n",
       "      <td>1</td>\n",
       "    </tr>\n",
       "    <tr>\n",
       "      <th>4</th>\n",
       "      <td>0</td>\n",
       "      <td>0.32790</td>\n",
       "      <td>0.79782</td>\n",
       "      <td>0.53028</td>\n",
       "      <td>236</td>\n",
       "      <td>235</td>\n",
       "      <td>0.008162</td>\n",
       "      <td>0.002669</td>\n",
       "      <td>0.00535</td>\n",
       "      <td>0.000044</td>\n",
       "      <td>...</td>\n",
       "      <td>6.1727</td>\n",
       "      <td>5.8416</td>\n",
       "      <td>6.0805</td>\n",
       "      <td>5.7621</td>\n",
       "      <td>7.7817</td>\n",
       "      <td>11.6891</td>\n",
       "      <td>8.2103</td>\n",
       "      <td>5.0559</td>\n",
       "      <td>6.1164</td>\n",
       "      <td>1</td>\n",
       "    </tr>\n",
       "  </tbody>\n",
       "</table>\n",
       "<p>5 rows × 754 columns</p>\n",
       "</div>"
      ],
      "text/plain": [
       "   gender      ppe      dfa     rpde  numpulses  numperiodspulses  \\\n",
       "0       1  0.85247  0.71826  0.57227        240               239   \n",
       "1       1  0.76686  0.69481  0.53966        234               233   \n",
       "2       1  0.85083  0.67604  0.58982        232               231   \n",
       "3       0  0.41121  0.79672  0.59257        178               177   \n",
       "4       0  0.32790  0.79782  0.53028        236               235   \n",
       "\n",
       "   meanperiodpulses  stddevperiodpulses  locpctjitter  locabsjitter  ...  \\\n",
       "0          0.008064            0.000087       0.00218      0.000018  ...   \n",
       "1          0.008258            0.000073       0.00195      0.000016  ...   \n",
       "2          0.008340            0.000060       0.00176      0.000015  ...   \n",
       "3          0.010858            0.000183       0.00419      0.000046  ...   \n",
       "4          0.008162            0.002669       0.00535      0.000044  ...   \n",
       "\n",
       "   tqwt_kurtosisvalue_dec_28  tqwt_kurtosisvalue_dec_29  \\\n",
       "0                     1.5620                     2.6445   \n",
       "1                     1.5589                     3.6107   \n",
       "2                     1.5643                     2.3308   \n",
       "3                     3.7805                     3.5664   \n",
       "4                     6.1727                     5.8416   \n",
       "\n",
       "   tqwt_kurtosisvalue_dec_30  tqwt_kurtosisvalue_dec_31  \\\n",
       "0                     3.8686                     4.2105   \n",
       "1                    23.5155                    14.1962   \n",
       "2                     9.4959                    10.7458   \n",
       "3                     5.2558                    14.0403   \n",
       "4                     6.0805                     5.7621   \n",
       "\n",
       "   tqwt_kurtosisvalue_dec_32  tqwt_kurtosisvalue_dec_33  \\\n",
       "0                     5.1221                     4.4625   \n",
       "1                    11.0261                     9.5082   \n",
       "2                    11.0177                     4.8066   \n",
       "3                     4.2235                     4.6857   \n",
       "4                     7.7817                    11.6891   \n",
       "\n",
       "   tqwt_kurtosisvalue_dec_34  tqwt_kurtosisvalue_dec_35  \\\n",
       "0                     2.6202                     3.0004   \n",
       "1                     6.5245                     6.3431   \n",
       "2                     2.9199                     3.1495   \n",
       "3                     4.8460                     6.2650   \n",
       "4                     8.2103                     5.0559   \n",
       "\n",
       "   tqwt_kurtosisvalue_dec_36  class  \n",
       "0                    18.9405      1  \n",
       "1                    45.1780      1  \n",
       "2                     4.7666      1  \n",
       "3                     4.0603      1  \n",
       "4                     6.1164      1  \n",
       "\n",
       "[5 rows x 754 columns]"
      ]
     },
     "execution_count": 2,
     "metadata": {},
     "output_type": "execute_result"
    }
   ],
   "source": [
    "df = pd.read_csv('preprocessed_speech_features.csv')\n",
    "df = df. drop('Unnamed: 0', axis=1)\n",
    "df.columns = df.columns.str.lower()\n",
    "df.head()"
   ]
  },
  {
   "cell_type": "code",
   "execution_count": 3,
   "metadata": {},
   "outputs": [],
   "source": [
    "features = df.columns.to_list()"
   ]
  },
  {
   "cell_type": "markdown",
   "metadata": {},
   "source": [
    "## Split Input and Traget Variables"
   ]
  },
  {
   "cell_type": "code",
   "execution_count": 4,
   "metadata": {},
   "outputs": [],
   "source": [
    "X = df.drop('class', axis = 1) \n",
    "y = df['class']"
   ]
  },
  {
   "cell_type": "code",
   "execution_count": 5,
   "metadata": {},
   "outputs": [
    {
     "data": {
      "text/plain": [
       "Index(['gender', 'ppe', 'dfa', 'rpde', 'numpulses', 'numperiodspulses',\n",
       "       'meanperiodpulses', 'stddevperiodpulses', 'locpctjitter',\n",
       "       'locabsjitter',\n",
       "       ...\n",
       "       'tqwt_kurtosisvalue_dec_27', 'tqwt_kurtosisvalue_dec_28',\n",
       "       'tqwt_kurtosisvalue_dec_29', 'tqwt_kurtosisvalue_dec_30',\n",
       "       'tqwt_kurtosisvalue_dec_31', 'tqwt_kurtosisvalue_dec_32',\n",
       "       'tqwt_kurtosisvalue_dec_33', 'tqwt_kurtosisvalue_dec_34',\n",
       "       'tqwt_kurtosisvalue_dec_35', 'tqwt_kurtosisvalue_dec_36'],\n",
       "      dtype='object', length=753)"
      ]
     },
     "execution_count": 5,
     "metadata": {},
     "output_type": "execute_result"
    }
   ],
   "source": [
    "X.columns"
   ]
  },
  {
   "cell_type": "markdown",
   "metadata": {},
   "source": [
    "## Train Test Split"
   ]
  },
  {
   "cell_type": "code",
   "execution_count": 6,
   "metadata": {},
   "outputs": [
    {
     "name": "stdout",
     "output_type": "stream",
     "text": [
      "Original shape of dataset: (756, 754)\n",
      "Shape of training dataset: (567, 753)\n",
      "Shape of testing dataset: (189, 753)\n"
     ]
    }
   ],
   "source": [
    "# train_test_split is used to split the dataset into test set and train set\n",
    "from sklearn.model_selection import train_test_split\n",
    "X_train, X_test, y_train, y_test = train_test_split(X, y, test_size=0.25, random_state =0)\n",
    "\n",
    "print(\"Original shape of dataset: {}\".format(df.shape))         # shape of original dataset\n",
    "print(\"Shape of training dataset: {}\".format(X_train.shape))      # shape of training dataset after split\n",
    "print(\"Shape of testing dataset: {}\".format(X_test.shape))        # shape of testing dataset after split"
   ]
  },
  {
   "cell_type": "markdown",
   "metadata": {},
   "source": [
    "### Defining function for later use"
   ]
  },
  {
   "cell_type": "code",
   "execution_count": 7,
   "metadata": {},
   "outputs": [],
   "source": [
    "def macro_weighted(y_test, y_hat):\n",
    "    \n",
    "    rec = recall_score(y_test, y_hat)\n",
    "    print (\"Recall Score:\", round(rec, 4))\n",
    "\n",
    "    rec_mac = recall_score(y_test, y_hat, average = 'macro')\n",
    "    print (\"Macro Average of Recall Score:\", round(rec_mac, 4))\n",
    "\n",
    "    rec_wei = recall_score(y_test, y_hat, average = 'weighted')\n",
    "    print (\"Weighted Average of Recall Score:\", round(rec_wei, 4))\n",
    "    \n",
    "    print ('------------------------------------------------------')\n",
    "    \n",
    "    prec_mac = precision_score(y_test, y_hat, average = 'macro')\n",
    "    print (\"Macro Average of Precision Score:\", round(prec_mac, 4))\n",
    "\n",
    "    prec_wei = precision_score(y_test, y_hat, average = 'weighted')\n",
    "    print (\"Weighted Average of Precision Score:\", round(prec_wei, 4))\n",
    "    \n",
    "    print ('------------------------------------------------------')\n",
    "\n",
    "    f1_mac = f1_score(y_test, y_hat, average = 'macro')\n",
    "    print (\"Macro Average of F1 Score:\", round(f1_mac, 4))\n",
    "\n",
    "    f1_wei = f1_score(y_test, y_hat, average = 'weighted')\n",
    "    print (\"Weighted Average of F1 Score:\", round(f1_wei, 4))"
   ]
  },
  {
   "cell_type": "code",
   "execution_count": 8,
   "metadata": {},
   "outputs": [],
   "source": [
    "def cm():\n",
    "    \n",
    "        print('---------------------------------------------------------------')\n",
    "        \n",
    "        data = confusion_matrix(y_test, y_hat)\n",
    "        df_cm = pd.DataFrame(data, columns=np.unique(y_test), index = np.unique(y_test))\n",
    "        df_cm.index.name = 'Actual'\n",
    "        df_cm.columns.name = 'Predicted'\n",
    "        plt.figure(figsize = (6, 4))\n",
    "        #sns.set(font_scale=1.4) #for label size\n",
    "        sns.heatmap(df_cm, cmap=\"Blues\", annot=True,annot_kws={\"size\": 12})# font size\n",
    "        plt.show()\n",
    "        \n",
    "        tn, fp, fn, tp = confusion_matrix(y_test, y_hat).ravel()\n",
    "        print (\"TP: {}, FP: {}, TN: {}, FN: {}\".format(tp, fp, tn, fn))"
   ]
  },
  {
   "cell_type": "code",
   "execution_count": 9,
   "metadata": {},
   "outputs": [],
   "source": [
    "def class_rep():\n",
    "        \n",
    "        # Print the precision and recall, among other metrics\n",
    "        print('---------------------------------------------------------------')\n",
    "        print(classification_report(y_test, y_hat, digits=3))"
   ]
  },
  {
   "cell_type": "markdown",
   "metadata": {},
   "source": [
    "### Handling Imbalanced Dataset"
   ]
  },
  {
   "cell_type": "code",
   "execution_count": 10,
   "metadata": {},
   "outputs": [
    {
     "data": {
      "text/plain": [
       "<matplotlib.axes._subplots.AxesSubplot at 0x231e6827108>"
      ]
     },
     "execution_count": 10,
     "metadata": {},
     "output_type": "execute_result"
    },
    {
     "data": {
      "image/png": "[encoded data removed]",
      "text/plain": [
       "<Figure size 432x288 with 1 Axes>"
      ]
     },
     "metadata": {
      "needs_background": "light"
     },
     "output_type": "display_data"
    }
   ],
   "source": [
    "sns.countplot(df['class'], palette = \"Set3\")"
   ]
  },
  {
   "cell_type": "markdown",
   "metadata": {},
   "source": [
    "#### Resampling Techniques - Oversample Minority Class\n",
    "\n",
    "Oversampling can be defined as adding more copies of the minority class. In other words, we are creating artificial/synthetic data of the minority class (or group). Oversampling could be a good choice when you don’t have a lot of data to work with. We will use the resampling module from Scikit-Learn library to randomly create artificial samples of data from the minority class."
   ]
  },
  {
   "cell_type": "code",
   "execution_count": 11,
   "metadata": {},
   "outputs": [],
   "source": [
    "# 'resample' is located under sklearn.utils\n",
    "from sklearn.utils import resample\n",
    "\n",
    "# concatenate training data back together\n",
    "train_data = pd.concat([X_train, y_train], axis = 1)\n",
    "\n",
    "# separate minority and majority class\n",
    "not_par = train_data[train_data['class']==0]\n",
    "Parkinsons = train_data[train_data['class']==1]"
   ]
  },
  {
   "cell_type": "code",
   "execution_count": 12,
   "metadata": {},
   "outputs": [
    {
     "data": {
      "text/plain": [
       "<matplotlib.axes._subplots.AxesSubplot at 0x231e7cf5848>"
      ]
     },
     "execution_count": 12,
     "metadata": {},
     "output_type": "execute_result"
    },
    {
     "data": {
      "image/png": "[encoded data removed]",
      "text/plain": [
       "<Figure size 432x288 with 1 Axes>"
      ]
     },
     "metadata": {
      "needs_background": "light"
     },
     "output_type": "display_data"
    }
   ],
   "source": [
    "# we are oversampling the minority class to match the number of majority classs\n",
    "Parkinsons_oversampled = resample(not_par,\n",
    "                           replace = True, # Sample with replacement\n",
    "                           n_samples = len(Parkinsons), # Match number in majority class\n",
    "                           random_state=27)\n",
    "\n",
    "# combine majority and upsampled minority\n",
    "oversampled = pd.concat([Parkinsons, Parkinsons_oversampled])\n",
    "sns.countplot(oversampled['class'], palette = \"Set2\")"
   ]
  },
  {
   "cell_type": "code",
   "execution_count": 13,
   "metadata": {},
   "outputs": [
    {
     "name": "stdout",
     "output_type": "stream",
     "text": [
      "Recall Score: 0.9653\n",
      "Macro Average of Recall Score: 0.8382\n",
      "Weighted Average of Recall Score: 0.9048\n",
      "------------------------------------------------------\n",
      "Macro Average of Precision Score: 0.8897\n",
      "Weighted Average of Precision Score: 0.9027\n",
      "------------------------------------------------------\n",
      "Macro Average of F1 Score: 0.8598\n",
      "Weighted Average of F1 Score: 0.9014\n",
      "---------------------------------------------------------------\n"
     ]
    },
    {
     "data": {
      "image/png": "[encoded data removed]",
      "text/plain": [
       "<Figure size 432x288 with 2 Axes>"
      ]
     },
     "metadata": {
      "needs_background": "light"
     },
     "output_type": "display_data"
    },
    {
     "name": "stdout",
     "output_type": "stream",
     "text": [
      "TP: 139, FP: 13, TN: 32, FN: 5\n",
      "---------------------------------------------------------------\n",
      "              precision    recall  f1-score   support\n",
      "\n",
      "           0      0.865     0.711     0.780        45\n",
      "           1      0.914     0.965     0.939       144\n",
      "\n",
      "    accuracy                          0.905       189\n",
      "   macro avg      0.890     0.838     0.860       189\n",
      "weighted avg      0.903     0.905     0.901       189\n",
      "\n"
     ]
    }
   ],
   "source": [
    "X_train = oversampled.drop('class', axis = 1) \n",
    "y_train = oversampled['class']\n",
    "\n",
    "from sklearn.preprocessing import StandardScaler\n",
    "sc = StandardScaler()\n",
    "X_train = sc.fit_transform(X_train)\n",
    "X_test = sc.transform(X_test)\n",
    "\n",
    "model = LGBMClassifier(random_state = 42)\n",
    "model.fit(X_train, y_train)\n",
    "y_hat = model.predict(X_test)\n",
    "\n",
    "macro_weighted(y_test, y_hat)\n",
    "cm()\n",
    "class_rep()"
   ]
  },
  {
   "cell_type": "markdown",
   "metadata": {},
   "source": [
    "#### Generate Synthetic Samples: SMOTE\n",
    "\n",
    "Here we will use imblearn’s SMOTE or Synthetic Minority Oversampling Technique. SMOTE uses a nearest neighbors algorithm to generate new and synthetic data we can use for training our model. It’s important to generate the new samples only in the training set to ensure our model generalizes well to unseen data."
   ]
  },
  {
   "cell_type": "code",
   "execution_count": 14,
   "metadata": {},
   "outputs": [
    {
     "data": {
      "text/plain": [
       "<matplotlib.axes._subplots.AxesSubplot at 0x231e73d4748>"
      ]
     },
     "execution_count": 14,
     "metadata": {},
     "output_type": "execute_result"
    },
    {
     "data": {
      "image/png": "[encoded data removed]",
      "text/plain": [
       "<Figure size 432x288 with 1 Axes>"
      ]
     },
     "metadata": {
      "needs_background": "light"
     },
     "output_type": "display_data"
    }
   ],
   "source": [
    "df = pd.read_csv('preprocessed_speech_features.csv')\n",
    "df = df. drop('Unnamed: 0', axis=1)\n",
    "df.columns = df.columns.str.lower()\n",
    "\n",
    "X = df.drop('class', axis = 1) \n",
    "y = df['class']\n",
    "\n",
    "X_train, X_test, y_train, y_test = train_test_split(X, y, test_size=0.25, random_state =0)\n",
    "\n",
    "# import SMOTE \n",
    "from imblearn.over_sampling import SMOTE\n",
    "sm = SMOTE(random_state = 25, sampling_strategy='auto')   # again we are eqalizing both the classes\n",
    "\n",
    "# fit the sampling\n",
    "X_train, y_train = sm.fit_sample(X_train, y_train)\n",
    "np.unique(y_train, return_counts=True)     # Y_train is numpy array, so unique() functions returns the count of all the unique elements in the array\n",
    "\n",
    "from sklearn.preprocessing import StandardScaler\n",
    "sc = StandardScaler()\n",
    "X_train = sc.fit_transform(X_train)\n",
    "X_test = sc.transform(X_test)\n",
    "\n",
    "sns.countplot(y_train, palette = \"Set2\")"
   ]
  },
  {
   "cell_type": "code",
   "execution_count": 15,
   "metadata": {},
   "outputs": [
    {
     "name": "stdout",
     "output_type": "stream",
     "text": [
      "Recall Score: 0.9375\n",
      "Macro Average of Recall Score: 0.8688\n",
      "Weighted Average of Recall Score: 0.9048\n",
      "------------------------------------------------------\n",
      "Macro Average of Precision Score: 0.8688\n",
      "Weighted Average of Precision Score: 0.9048\n",
      "------------------------------------------------------\n",
      "Macro Average of F1 Score: 0.8688\n",
      "Weighted Average of F1 Score: 0.9048\n",
      "---------------------------------------------------------------\n"
     ]
    },
    {
     "data": {
      "image/png": "[encoded data removed]",
      "text/plain": [
       "<Figure size 432x288 with 2 Axes>"
      ]
     },
     "metadata": {
      "needs_background": "light"
     },
     "output_type": "display_data"
    },
    {
     "name": "stdout",
     "output_type": "stream",
     "text": [
      "TP: 135, FP: 9, TN: 36, FN: 9\n",
      "---------------------------------------------------------------\n",
      "              precision    recall  f1-score   support\n",
      "\n",
      "           0      0.800     0.800     0.800        45\n",
      "           1      0.938     0.938     0.938       144\n",
      "\n",
      "    accuracy                          0.905       189\n",
      "   macro avg      0.869     0.869     0.869       189\n",
      "weighted avg      0.905     0.905     0.905       189\n",
      "\n"
     ]
    }
   ],
   "source": [
    "model = LGBMClassifier(random_state = 42)\n",
    "model.fit(X_train, y_train)\n",
    "y_hat = model.predict(X_test)\n",
    "\n",
    "macro_weighted(y_test, y_hat)\n",
    "cm()\n",
    "class_rep()"
   ]
  },
  {
   "cell_type": "markdown",
   "metadata": {},
   "source": [
    "#### SMOTETomek"
   ]
  },
  {
   "cell_type": "code",
   "execution_count": 16,
   "metadata": {},
   "outputs": [],
   "source": [
    "df = pd.read_csv('preprocessed_speech_features.csv')\n",
    "df = df.drop('Unnamed: 0', axis=1)\n",
    "df.columns = df.columns.str.lower()\n",
    "\n",
    "X = df.drop('class', axis = 1) \n",
    "y = df['class']\n",
    "\n",
    "X_train, X_test, y_train, y_test = train_test_split(X, y, test_size=0.25, random_state =0)\n",
    "\n",
    "from sklearn.preprocessing import StandardScaler\n",
    "sc = StandardScaler()\n",
    "X_train = sc.fit_transform(X_train)\n",
    "X_test = sc.transform(X_test)"
   ]
  },
  {
   "cell_type": "code",
   "execution_count": 17,
   "metadata": {},
   "outputs": [
    {
     "name": "stdout",
     "output_type": "stream",
     "text": [
      "The number of classes before fit Counter({1: 420, 0: 147})\n",
      "The number of classes after fit Counter({1: 419, 0: 398})\n"
     ]
    },
    {
     "data": {
      "text/plain": [
       "<matplotlib.axes._subplots.AxesSubplot at 0x231e7458408>"
      ]
     },
     "execution_count": 17,
     "metadata": {},
     "output_type": "execute_result"
    },
    {
     "data": {
      "image/png": "[encoded data removed]",
      "text/plain": [
       "<Figure size 432x288 with 1 Axes>"
      ]
     },
     "metadata": {
      "needs_background": "light"
     },
     "output_type": "display_data"
    }
   ],
   "source": [
    "from imblearn.combine import SMOTETomek\n",
    "from collections import Counter\n",
    "smot = SMOTETomek(0.95)\n",
    "X_train_ns, y_train_ns = smot.fit_sample(X_train, y_train)\n",
    "print(\"The number of classes before fit {}\".format(Counter(y_train)))\n",
    "print(\"The number of classes after fit {}\".format(Counter(y_train_ns)))\n",
    "\n",
    "sns.countplot(y_train_ns, palette = \"Set1\")"
   ]
  },
  {
   "cell_type": "code",
   "execution_count": 18,
   "metadata": {},
   "outputs": [
    {
     "name": "stdout",
     "output_type": "stream",
     "text": [
      "Recall Score: 0.9306\n",
      "Macro Average of Recall Score: 0.8653\n",
      "Weighted Average of Recall Score: 0.8995\n",
      "------------------------------------------------------\n",
      "Macro Average of Precision Score: 0.8598\n",
      "Weighted Average of Precision Score: 0.9003\n",
      "------------------------------------------------------\n",
      "Macro Average of F1 Score: 0.8625\n",
      "Weighted Average of F1 Score: 0.8998\n",
      "---------------------------------------------------------------\n"
     ]
    },
    {
     "data": {
      "image/png": "[encoded data removed]",
      "text/plain": [
       "<Figure size 432x288 with 2 Axes>"
      ]
     },
     "metadata": {
      "needs_background": "light"
     },
     "output_type": "display_data"
    },
    {
     "name": "stdout",
     "output_type": "stream",
     "text": [
      "TP: 134, FP: 9, TN: 36, FN: 10\n",
      "---------------------------------------------------------------\n",
      "              precision    recall  f1-score   support\n",
      "\n",
      "           0      0.783     0.800     0.791        45\n",
      "           1      0.937     0.931     0.934       144\n",
      "\n",
      "    accuracy                          0.899       189\n",
      "   macro avg      0.860     0.865     0.863       189\n",
      "weighted avg      0.900     0.899     0.900       189\n",
      "\n"
     ]
    }
   ],
   "source": [
    "model = LGBMClassifier(random_state = 42)\n",
    "model.fit(X_train_ns, y_train_ns)\n",
    "y_hat = model.predict(X_test)\n",
    "\n",
    "macro_weighted(y_test, y_hat)\n",
    "cm()\n",
    "class_rep()"
   ]
  },
  {
   "cell_type": "markdown",
   "metadata": {},
   "source": [
    "### We will oversample the minority class in this dataset "
   ]
  },
  {
   "cell_type": "code",
   "execution_count": 19,
   "metadata": {},
   "outputs": [],
   "source": [
    "def ovsample(X_train, y_train):\n",
    "    \n",
    "    # 'resample' is located under sklearn.utils\n",
    "    from sklearn.utils import resample\n",
    "    \n",
    "    # concatenate training data back together\n",
    "    train_data = pd.concat([X_train, y_train], axis = 1)\n",
    "\n",
    "    # separate minority and majority class\n",
    "    not_par = train_data[train_data['class']==0]\n",
    "    Parkinsons = train_data[train_data['class']==1]\n",
    "\n",
    "    # we are oversampling the minority class to match the number of majority classs\n",
    "    Parkinsons_oversampled = resample(not_par,\n",
    "                           replace = True, # Sample with replacement\n",
    "                           n_samples = len(Parkinsons), # Match number in majority class\n",
    "                           random_state=27)\n",
    "\n",
    "    # combine majority and upsampled minority\n",
    "    oversampled = pd.concat([Parkinsons, Parkinsons_oversampled])\n",
    "\n",
    "    X_train_ov = oversampled.drop('class', axis = 1) \n",
    "    y_train_ov = oversampled['class']\n",
    "    \n",
    "    return X_train_ov, y_train_ov"
   ]
  },
  {
   "cell_type": "code",
   "execution_count": 20,
   "metadata": {},
   "outputs": [
    {
     "data": {
      "text/plain": [
       "<matplotlib.axes._subplots.AxesSubplot at 0x231e9074948>"
      ]
     },
     "execution_count": 20,
     "metadata": {},
     "output_type": "execute_result"
    },
    {
     "data": {
      "image/png": "[encoded data removed]",
      "text/plain": [
       "<Figure size 432x288 with 1 Axes>"
      ]
     },
     "metadata": {
      "needs_background": "light"
     },
     "output_type": "display_data"
    }
   ],
   "source": [
    "df = pd.read_csv('preprocessed_speech_features.csv')\n",
    "df = df.drop('Unnamed: 0', axis=1)\n",
    "df.columns = df.columns.str.lower()\n",
    "\n",
    "X = df.drop('class', axis = 1) \n",
    "y = df['class']\n",
    "\n",
    "X_train, X_test, y_train, y_test = train_test_split(X, y, test_size=0.25, random_state =0)\n",
    "\n",
    "X_train, y_train = ovsample(X_train, y_train)\n",
    "sns.countplot(y_train, palette='Set3')"
   ]
  },
  {
   "cell_type": "code",
   "execution_count": 21,
   "metadata": {},
   "outputs": [],
   "source": [
    "from sklearn.preprocessing import StandardScaler\n",
    "sc = StandardScaler()\n",
    "X_train = sc.fit_transform(X_train)\n",
    "X_test = sc.transform(X_test)\n",
    "\n",
    "model = LGBMClassifier(random_state = 42)\n",
    "model.fit(X_train, y_train)\n",
    "y_hat = model.predict(X_test)"
   ]
  },
  {
   "cell_type": "code",
   "execution_count": 22,
   "metadata": {},
   "outputs": [
    {
     "data": {
      "image/png": "[encoded data removed]",
      "text/plain": [
       "<Figure size 432x288 with 1 Axes>"
      ]
     },
     "metadata": {},
     "output_type": "display_data"
    }
   ],
   "source": [
    "from mlxtend.plotting import plot_learning_curves\n",
    "plot_learning_curves(X_train, y_train, X_test, y_test, model)\n",
    "plt.show()"
   ]
  },
  {
   "cell_type": "markdown",
   "metadata": {},
   "source": [
    "##### Let's try to find the threshold that corresponds to highest f1 score and thus find the best model. Please refer to https://towardsdatascience.com/beyond-accuracy-precision-and-recall-3da06bea9f6c."
   ]
  },
  {
   "cell_type": "code",
   "execution_count": 23,
   "metadata": {},
   "outputs": [],
   "source": [
    "# Let's change test size and see the difference\n",
    "test_size = list(np.arange(0.15, 0.41, 0.01))\n",
    "\n",
    "# Let's create a list of threshold value ranging from 0 to 1.\n",
    "threshold = list(np.arange(0.0, 1, 0.039))"
   ]
  },
  {
   "cell_type": "code",
   "execution_count": 24,
   "metadata": {},
   "outputs": [
    {
     "data": {
      "text/html": [
       "<div>\n",
       "<style scoped>\n",
       "    .dataframe tbody tr th:only-of-type {\n",
       "        vertical-align: middle;\n",
       "    }\n",
       "\n",
       "    .dataframe tbody tr th {\n",
       "        vertical-align: top;\n",
       "    }\n",
       "\n",
       "    .dataframe thead th {\n",
       "        text-align: right;\n",
       "    }\n",
       "</style>\n",
       "<table border=\"1\" class=\"dataframe\">\n",
       "  <thead>\n",
       "    <tr style=\"text-align: right;\">\n",
       "      <th></th>\n",
       "      <th>threshold</th>\n",
       "      <th>tp</th>\n",
       "      <th>fp</th>\n",
       "      <th>tn</th>\n",
       "      <th>fn</th>\n",
       "    </tr>\n",
       "  </thead>\n",
       "  <tbody>\n",
       "    <tr>\n",
       "      <th>0</th>\n",
       "      <td>0.000</td>\n",
       "      <td>83</td>\n",
       "      <td>10</td>\n",
       "      <td>17</td>\n",
       "      <td>4</td>\n",
       "    </tr>\n",
       "    <tr>\n",
       "      <th>1</th>\n",
       "      <td>0.039</td>\n",
       "      <td>86</td>\n",
       "      <td>11</td>\n",
       "      <td>19</td>\n",
       "      <td>5</td>\n",
       "    </tr>\n",
       "    <tr>\n",
       "      <th>2</th>\n",
       "      <td>0.078</td>\n",
       "      <td>94</td>\n",
       "      <td>10</td>\n",
       "      <td>21</td>\n",
       "      <td>4</td>\n",
       "    </tr>\n",
       "    <tr>\n",
       "      <th>3</th>\n",
       "      <td>0.117</td>\n",
       "      <td>99</td>\n",
       "      <td>11</td>\n",
       "      <td>23</td>\n",
       "      <td>4</td>\n",
       "    </tr>\n",
       "    <tr>\n",
       "      <th>4</th>\n",
       "      <td>0.156</td>\n",
       "      <td>106</td>\n",
       "      <td>10</td>\n",
       "      <td>24</td>\n",
       "      <td>4</td>\n",
       "    </tr>\n",
       "    <tr>\n",
       "      <th>5</th>\n",
       "      <td>0.195</td>\n",
       "      <td>111</td>\n",
       "      <td>10</td>\n",
       "      <td>28</td>\n",
       "      <td>3</td>\n",
       "    </tr>\n",
       "    <tr>\n",
       "      <th>6</th>\n",
       "      <td>0.234</td>\n",
       "      <td>115</td>\n",
       "      <td>11</td>\n",
       "      <td>27</td>\n",
       "      <td>6</td>\n",
       "    </tr>\n",
       "    <tr>\n",
       "      <th>7</th>\n",
       "      <td>0.273</td>\n",
       "      <td>123</td>\n",
       "      <td>11</td>\n",
       "      <td>28</td>\n",
       "      <td>5</td>\n",
       "    </tr>\n",
       "    <tr>\n",
       "      <th>8</th>\n",
       "      <td>0.312</td>\n",
       "      <td>129</td>\n",
       "      <td>12</td>\n",
       "      <td>28</td>\n",
       "      <td>5</td>\n",
       "    </tr>\n",
       "    <tr>\n",
       "      <th>9</th>\n",
       "      <td>0.351</td>\n",
       "      <td>134</td>\n",
       "      <td>11</td>\n",
       "      <td>32</td>\n",
       "      <td>5</td>\n",
       "    </tr>\n",
       "    <tr>\n",
       "      <th>10</th>\n",
       "      <td>0.390</td>\n",
       "      <td>138</td>\n",
       "      <td>13</td>\n",
       "      <td>32</td>\n",
       "      <td>7</td>\n",
       "    </tr>\n",
       "    <tr>\n",
       "      <th>11</th>\n",
       "      <td>0.429</td>\n",
       "      <td>143</td>\n",
       "      <td>12</td>\n",
       "      <td>34</td>\n",
       "      <td>8</td>\n",
       "    </tr>\n",
       "    <tr>\n",
       "      <th>12</th>\n",
       "      <td>0.468</td>\n",
       "      <td>152</td>\n",
       "      <td>15</td>\n",
       "      <td>34</td>\n",
       "      <td>4</td>\n",
       "    </tr>\n",
       "    <tr>\n",
       "      <th>13</th>\n",
       "      <td>0.507</td>\n",
       "      <td>155</td>\n",
       "      <td>14</td>\n",
       "      <td>38</td>\n",
       "      <td>5</td>\n",
       "    </tr>\n",
       "    <tr>\n",
       "      <th>14</th>\n",
       "      <td>0.546</td>\n",
       "      <td>156</td>\n",
       "      <td>16</td>\n",
       "      <td>39</td>\n",
       "      <td>9</td>\n",
       "    </tr>\n",
       "    <tr>\n",
       "      <th>15</th>\n",
       "      <td>0.585</td>\n",
       "      <td>160</td>\n",
       "      <td>16</td>\n",
       "      <td>41</td>\n",
       "      <td>10</td>\n",
       "    </tr>\n",
       "    <tr>\n",
       "      <th>16</th>\n",
       "      <td>0.624</td>\n",
       "      <td>171</td>\n",
       "      <td>15</td>\n",
       "      <td>43</td>\n",
       "      <td>6</td>\n",
       "    </tr>\n",
       "    <tr>\n",
       "      <th>17</th>\n",
       "      <td>0.663</td>\n",
       "      <td>176</td>\n",
       "      <td>16</td>\n",
       "      <td>43</td>\n",
       "      <td>7</td>\n",
       "    </tr>\n",
       "    <tr>\n",
       "      <th>18</th>\n",
       "      <td>0.702</td>\n",
       "      <td>182</td>\n",
       "      <td>16</td>\n",
       "      <td>45</td>\n",
       "      <td>7</td>\n",
       "    </tr>\n",
       "    <tr>\n",
       "      <th>19</th>\n",
       "      <td>0.741</td>\n",
       "      <td>186</td>\n",
       "      <td>15</td>\n",
       "      <td>47</td>\n",
       "      <td>10</td>\n",
       "    </tr>\n",
       "    <tr>\n",
       "      <th>20</th>\n",
       "      <td>0.780</td>\n",
       "      <td>190</td>\n",
       "      <td>16</td>\n",
       "      <td>49</td>\n",
       "      <td>10</td>\n",
       "    </tr>\n",
       "    <tr>\n",
       "      <th>21</th>\n",
       "      <td>0.819</td>\n",
       "      <td>196</td>\n",
       "      <td>18</td>\n",
       "      <td>49</td>\n",
       "      <td>10</td>\n",
       "    </tr>\n",
       "    <tr>\n",
       "      <th>22</th>\n",
       "      <td>0.858</td>\n",
       "      <td>204</td>\n",
       "      <td>21</td>\n",
       "      <td>47</td>\n",
       "      <td>8</td>\n",
       "    </tr>\n",
       "    <tr>\n",
       "      <th>23</th>\n",
       "      <td>0.897</td>\n",
       "      <td>207</td>\n",
       "      <td>21</td>\n",
       "      <td>47</td>\n",
       "      <td>13</td>\n",
       "    </tr>\n",
       "    <tr>\n",
       "      <th>24</th>\n",
       "      <td>0.936</td>\n",
       "      <td>214</td>\n",
       "      <td>19</td>\n",
       "      <td>51</td>\n",
       "      <td>11</td>\n",
       "    </tr>\n",
       "    <tr>\n",
       "      <th>25</th>\n",
       "      <td>0.975</td>\n",
       "      <td>223</td>\n",
       "      <td>22</td>\n",
       "      <td>48</td>\n",
       "      <td>10</td>\n",
       "    </tr>\n",
       "  </tbody>\n",
       "</table>\n",
       "</div>"
      ],
      "text/plain": [
       "    threshold   tp  fp  tn  fn\n",
       "0       0.000   83  10  17   4\n",
       "1       0.039   86  11  19   5\n",
       "2       0.078   94  10  21   4\n",
       "3       0.117   99  11  23   4\n",
       "4       0.156  106  10  24   4\n",
       "5       0.195  111  10  28   3\n",
       "6       0.234  115  11  27   6\n",
       "7       0.273  123  11  28   5\n",
       "8       0.312  129  12  28   5\n",
       "9       0.351  134  11  32   5\n",
       "10      0.390  138  13  32   7\n",
       "11      0.429  143  12  34   8\n",
       "12      0.468  152  15  34   4\n",
       "13      0.507  155  14  38   5\n",
       "14      0.546  156  16  39   9\n",
       "15      0.585  160  16  41  10\n",
       "16      0.624  171  15  43   6\n",
       "17      0.663  176  16  43   7\n",
       "18      0.702  182  16  45   7\n",
       "19      0.741  186  15  47  10\n",
       "20      0.780  190  16  49  10\n",
       "21      0.819  196  18  49  10\n",
       "22      0.858  204  21  47   8\n",
       "23      0.897  207  21  47  13\n",
       "24      0.936  214  19  51  11\n",
       "25      0.975  223  22  48  10"
      ]
     },
     "execution_count": 24,
     "metadata": {},
     "output_type": "execute_result"
    }
   ],
   "source": [
    "# Now, let's append the threshol and tp, tn, fp, fn values in a DataFrame\n",
    "\n",
    "tp = []\n",
    "fp = []\n",
    "tn = []\n",
    "fn = []\n",
    "    \n",
    "for tt in test_size:\n",
    "\n",
    "    X_train, X_test, y_train, y_test = train_test_split(X, y, test_size= tt, random_state =0)\n",
    "    \n",
    "    sc = StandardScaler()\n",
    "    X_train = sc.fit_transform(X_train)\n",
    "    X_test = sc.transform(X_test)\n",
    "    \n",
    "    model = LGBMClassifier(random_state = 42)\n",
    "    model.fit(X_train, y_train)\n",
    "    y_hat = model.predict(X_test)\n",
    "        \n",
    "    tn.append(confusion_matrix(y_test, y_hat).ravel()[0]) \n",
    "    fp.append(confusion_matrix(y_test, y_hat).ravel()[1])\n",
    "    fn.append(confusion_matrix(y_test, y_hat).ravel()[2])\n",
    "    tp.append(confusion_matrix(y_test, y_hat).ravel()[3])\n",
    "    \n",
    "results = pd.DataFrame({'threshold': threshold, 'tp' : tp , 'fp': fp, 'tn': tn, 'fn': fn})\n",
    "results"
   ]
  },
  {
   "cell_type": "code",
   "execution_count": 25,
   "metadata": {},
   "outputs": [],
   "source": [
    "def calculate_metrics(results):\n",
    "    roc = pd.DataFrame(index = results['threshold'], columns=['recall', 'precision', 'f1', 'tpr', 'fpr'])\n",
    "    \n",
    "    for i in results.iterrows():\n",
    "        t, tp, fp, tn, fn = i[1]\n",
    "        tp + fp + tn + fn == 129\n",
    "        \n",
    "        recall = tp / (tp + fn)\n",
    "        \n",
    "        if tp == fp == 0:\n",
    "            precision = 0\n",
    "            true_positive_rate = 0\n",
    "        \n",
    "        else:\n",
    "            precision = tp / (tp + fp)\n",
    "            true_positive_rate = tp / (tp + fn)\n",
    "            \n",
    "        if precision == recall == 0:\n",
    "            f1 = 0\n",
    "        else:\n",
    "            f1 = 2 * (precision * recall) / (precision + recall)\n",
    "        \n",
    "        \n",
    "        false_positive_rate = fp / (fp + tn)\n",
    "        \n",
    "        roc.loc[t, 'recall'] = recall\n",
    "        roc.loc[t, 'precision'] = precision\n",
    "        roc.loc[t, 'f1'] = f1\n",
    "        roc.loc[t, 'tpr'] = true_positive_rate\n",
    "        roc.loc[t, 'fpr'] = false_positive_rate\n",
    "    \n",
    "    return roc"
   ]
  },
  {
   "cell_type": "code",
   "execution_count": 26,
   "metadata": {},
   "outputs": [
    {
     "data": {
      "text/html": [
       "<div>\n",
       "<style scoped>\n",
       "    .dataframe tbody tr th:only-of-type {\n",
       "        vertical-align: middle;\n",
       "    }\n",
       "\n",
       "    .dataframe tbody tr th {\n",
       "        vertical-align: top;\n",
       "    }\n",
       "\n",
       "    .dataframe thead th {\n",
       "        text-align: right;\n",
       "    }\n",
       "</style>\n",
       "<table border=\"1\" class=\"dataframe\">\n",
       "  <thead>\n",
       "    <tr style=\"text-align: right;\">\n",
       "      <th></th>\n",
       "      <th>threshold</th>\n",
       "      <th>recall</th>\n",
       "      <th>precision</th>\n",
       "      <th>f1</th>\n",
       "      <th>tpr</th>\n",
       "      <th>fpr</th>\n",
       "    </tr>\n",
       "  </thead>\n",
       "  <tbody>\n",
       "    <tr>\n",
       "      <th>0</th>\n",
       "      <td>0.000</td>\n",
       "      <td>0.954023</td>\n",
       "      <td>0.892473</td>\n",
       "      <td>0.922222</td>\n",
       "      <td>0.954023</td>\n",
       "      <td>0.37037</td>\n",
       "    </tr>\n",
       "    <tr>\n",
       "      <th>1</th>\n",
       "      <td>0.039</td>\n",
       "      <td>0.945055</td>\n",
       "      <td>0.886598</td>\n",
       "      <td>0.914894</td>\n",
       "      <td>0.945055</td>\n",
       "      <td>0.366667</td>\n",
       "    </tr>\n",
       "    <tr>\n",
       "      <th>2</th>\n",
       "      <td>0.078</td>\n",
       "      <td>0.959184</td>\n",
       "      <td>0.903846</td>\n",
       "      <td>0.930693</td>\n",
       "      <td>0.959184</td>\n",
       "      <td>0.322581</td>\n",
       "    </tr>\n",
       "    <tr>\n",
       "      <th>3</th>\n",
       "      <td>0.117</td>\n",
       "      <td>0.961165</td>\n",
       "      <td>0.9</td>\n",
       "      <td>0.929577</td>\n",
       "      <td>0.961165</td>\n",
       "      <td>0.323529</td>\n",
       "    </tr>\n",
       "    <tr>\n",
       "      <th>4</th>\n",
       "      <td>0.156</td>\n",
       "      <td>0.963636</td>\n",
       "      <td>0.913793</td>\n",
       "      <td>0.938053</td>\n",
       "      <td>0.963636</td>\n",
       "      <td>0.294118</td>\n",
       "    </tr>\n",
       "    <tr>\n",
       "      <th>5</th>\n",
       "      <td>0.195</td>\n",
       "      <td>0.973684</td>\n",
       "      <td>0.917355</td>\n",
       "      <td>0.944681</td>\n",
       "      <td>0.973684</td>\n",
       "      <td>0.263158</td>\n",
       "    </tr>\n",
       "    <tr>\n",
       "      <th>6</th>\n",
       "      <td>0.234</td>\n",
       "      <td>0.950413</td>\n",
       "      <td>0.912698</td>\n",
       "      <td>0.931174</td>\n",
       "      <td>0.950413</td>\n",
       "      <td>0.289474</td>\n",
       "    </tr>\n",
       "    <tr>\n",
       "      <th>7</th>\n",
       "      <td>0.273</td>\n",
       "      <td>0.960938</td>\n",
       "      <td>0.91791</td>\n",
       "      <td>0.938931</td>\n",
       "      <td>0.960938</td>\n",
       "      <td>0.282051</td>\n",
       "    </tr>\n",
       "    <tr>\n",
       "      <th>8</th>\n",
       "      <td>0.312</td>\n",
       "      <td>0.962687</td>\n",
       "      <td>0.914894</td>\n",
       "      <td>0.938182</td>\n",
       "      <td>0.962687</td>\n",
       "      <td>0.3</td>\n",
       "    </tr>\n",
       "    <tr>\n",
       "      <th>9</th>\n",
       "      <td>0.351</td>\n",
       "      <td>0.964029</td>\n",
       "      <td>0.924138</td>\n",
       "      <td>0.943662</td>\n",
       "      <td>0.964029</td>\n",
       "      <td>0.255814</td>\n",
       "    </tr>\n",
       "    <tr>\n",
       "      <th>10</th>\n",
       "      <td>0.390</td>\n",
       "      <td>0.951724</td>\n",
       "      <td>0.913907</td>\n",
       "      <td>0.932432</td>\n",
       "      <td>0.951724</td>\n",
       "      <td>0.288889</td>\n",
       "    </tr>\n",
       "    <tr>\n",
       "      <th>11</th>\n",
       "      <td>0.429</td>\n",
       "      <td>0.94702</td>\n",
       "      <td>0.922581</td>\n",
       "      <td>0.934641</td>\n",
       "      <td>0.94702</td>\n",
       "      <td>0.26087</td>\n",
       "    </tr>\n",
       "    <tr>\n",
       "      <th>12</th>\n",
       "      <td>0.468</td>\n",
       "      <td>0.974359</td>\n",
       "      <td>0.91018</td>\n",
       "      <td>0.941176</td>\n",
       "      <td>0.974359</td>\n",
       "      <td>0.306122</td>\n",
       "    </tr>\n",
       "    <tr>\n",
       "      <th>13</th>\n",
       "      <td>0.507</td>\n",
       "      <td>0.96875</td>\n",
       "      <td>0.91716</td>\n",
       "      <td>0.942249</td>\n",
       "      <td>0.96875</td>\n",
       "      <td>0.269231</td>\n",
       "    </tr>\n",
       "    <tr>\n",
       "      <th>14</th>\n",
       "      <td>0.546</td>\n",
       "      <td>0.945455</td>\n",
       "      <td>0.906977</td>\n",
       "      <td>0.925816</td>\n",
       "      <td>0.945455</td>\n",
       "      <td>0.290909</td>\n",
       "    </tr>\n",
       "    <tr>\n",
       "      <th>15</th>\n",
       "      <td>0.585</td>\n",
       "      <td>0.941176</td>\n",
       "      <td>0.909091</td>\n",
       "      <td>0.924855</td>\n",
       "      <td>0.941176</td>\n",
       "      <td>0.280702</td>\n",
       "    </tr>\n",
       "    <tr>\n",
       "      <th>16</th>\n",
       "      <td>0.624</td>\n",
       "      <td>0.966102</td>\n",
       "      <td>0.919355</td>\n",
       "      <td>0.942149</td>\n",
       "      <td>0.966102</td>\n",
       "      <td>0.258621</td>\n",
       "    </tr>\n",
       "    <tr>\n",
       "      <th>17</th>\n",
       "      <td>0.663</td>\n",
       "      <td>0.961749</td>\n",
       "      <td>0.916667</td>\n",
       "      <td>0.938667</td>\n",
       "      <td>0.961749</td>\n",
       "      <td>0.271186</td>\n",
       "    </tr>\n",
       "    <tr>\n",
       "      <th>18</th>\n",
       "      <td>0.702</td>\n",
       "      <td>0.962963</td>\n",
       "      <td>0.919192</td>\n",
       "      <td>0.940568</td>\n",
       "      <td>0.962963</td>\n",
       "      <td>0.262295</td>\n",
       "    </tr>\n",
       "    <tr>\n",
       "      <th>19</th>\n",
       "      <td>0.741</td>\n",
       "      <td>0.94898</td>\n",
       "      <td>0.925373</td>\n",
       "      <td>0.937028</td>\n",
       "      <td>0.94898</td>\n",
       "      <td>0.241935</td>\n",
       "    </tr>\n",
       "    <tr>\n",
       "      <th>20</th>\n",
       "      <td>0.780</td>\n",
       "      <td>0.95</td>\n",
       "      <td>0.92233</td>\n",
       "      <td>0.935961</td>\n",
       "      <td>0.95</td>\n",
       "      <td>0.246154</td>\n",
       "    </tr>\n",
       "    <tr>\n",
       "      <th>21</th>\n",
       "      <td>0.819</td>\n",
       "      <td>0.951456</td>\n",
       "      <td>0.915888</td>\n",
       "      <td>0.933333</td>\n",
       "      <td>0.951456</td>\n",
       "      <td>0.268657</td>\n",
       "    </tr>\n",
       "    <tr>\n",
       "      <th>22</th>\n",
       "      <td>0.858</td>\n",
       "      <td>0.962264</td>\n",
       "      <td>0.906667</td>\n",
       "      <td>0.933638</td>\n",
       "      <td>0.962264</td>\n",
       "      <td>0.308824</td>\n",
       "    </tr>\n",
       "    <tr>\n",
       "      <th>23</th>\n",
       "      <td>0.897</td>\n",
       "      <td>0.940909</td>\n",
       "      <td>0.907895</td>\n",
       "      <td>0.924107</td>\n",
       "      <td>0.940909</td>\n",
       "      <td>0.308824</td>\n",
       "    </tr>\n",
       "    <tr>\n",
       "      <th>24</th>\n",
       "      <td>0.936</td>\n",
       "      <td>0.951111</td>\n",
       "      <td>0.918455</td>\n",
       "      <td>0.934498</td>\n",
       "      <td>0.951111</td>\n",
       "      <td>0.271429</td>\n",
       "    </tr>\n",
       "    <tr>\n",
       "      <th>25</th>\n",
       "      <td>0.975</td>\n",
       "      <td>0.957082</td>\n",
       "      <td>0.910204</td>\n",
       "      <td>0.933054</td>\n",
       "      <td>0.957082</td>\n",
       "      <td>0.314286</td>\n",
       "    </tr>\n",
       "  </tbody>\n",
       "</table>\n",
       "</div>"
      ],
      "text/plain": [
       "    threshold    recall precision        f1       tpr       fpr\n",
       "0       0.000  0.954023  0.892473  0.922222  0.954023   0.37037\n",
       "1       0.039  0.945055  0.886598  0.914894  0.945055  0.366667\n",
       "2       0.078  0.959184  0.903846  0.930693  0.959184  0.322581\n",
       "3       0.117  0.961165       0.9  0.929577  0.961165  0.323529\n",
       "4       0.156  0.963636  0.913793  0.938053  0.963636  0.294118\n",
       "5       0.195  0.973684  0.917355  0.944681  0.973684  0.263158\n",
       "6       0.234  0.950413  0.912698  0.931174  0.950413  0.289474\n",
       "7       0.273  0.960938   0.91791  0.938931  0.960938  0.282051\n",
       "8       0.312  0.962687  0.914894  0.938182  0.962687       0.3\n",
       "9       0.351  0.964029  0.924138  0.943662  0.964029  0.255814\n",
       "10      0.390  0.951724  0.913907  0.932432  0.951724  0.288889\n",
       "11      0.429   0.94702  0.922581  0.934641   0.94702   0.26087\n",
       "12      0.468  0.974359   0.91018  0.941176  0.974359  0.306122\n",
       "13      0.507   0.96875   0.91716  0.942249   0.96875  0.269231\n",
       "14      0.546  0.945455  0.906977  0.925816  0.945455  0.290909\n",
       "15      0.585  0.941176  0.909091  0.924855  0.941176  0.280702\n",
       "16      0.624  0.966102  0.919355  0.942149  0.966102  0.258621\n",
       "17      0.663  0.961749  0.916667  0.938667  0.961749  0.271186\n",
       "18      0.702  0.962963  0.919192  0.940568  0.962963  0.262295\n",
       "19      0.741   0.94898  0.925373  0.937028   0.94898  0.241935\n",
       "20      0.780      0.95   0.92233  0.935961      0.95  0.246154\n",
       "21      0.819  0.951456  0.915888  0.933333  0.951456  0.268657\n",
       "22      0.858  0.962264  0.906667  0.933638  0.962264  0.308824\n",
       "23      0.897  0.940909  0.907895  0.924107  0.940909  0.308824\n",
       "24      0.936  0.951111  0.918455  0.934498  0.951111  0.271429\n",
       "25      0.975  0.957082  0.910204  0.933054  0.957082  0.314286"
      ]
     },
     "execution_count": 26,
     "metadata": {},
     "output_type": "execute_result"
    }
   ],
   "source": [
    "roc = calculate_metrics(results)\n",
    "roc.reset_index()"
   ]
  },
  {
   "cell_type": "markdown",
   "metadata": {},
   "source": [
    "#### Best F1 score: 0.944681 and 0.943662; thus, test size could be either 0.20 or 0.24.\n",
    "### Let's check.."
   ]
  },
  {
   "cell_type": "code",
   "execution_count": 27,
   "metadata": {},
   "outputs": [
    {
     "data": {
      "image/png": "[encoded data removed]",
      "text/plain": [
       "<Figure size 576x396 with 1 Axes>"
      ]
     },
     "metadata": {},
     "output_type": "display_data"
    },
    {
     "data": {
      "image/png": "[encoded data removed]",
      "text/plain": [
       "<Figure size 576x396 with 1 Axes>"
      ]
     },
     "metadata": {},
     "output_type": "display_data"
    }
   ],
   "source": [
    "test_size = [0.20, 0.24]\n",
    "\n",
    "for t in test_size:\n",
    "    \n",
    "    df = pd.read_csv('preprocessed_speech_features.csv')\n",
    "    df = df. drop('Unnamed: 0', axis=1)\n",
    "    df.columns = df.columns.str.lower()\n",
    "\n",
    "    X = df.drop('class', axis = 1) \n",
    "    y = df['class']\n",
    "\n",
    "    X_train, X_test, y_train, y_test = train_test_split(X, y, test_size = t, random_state = 0)\n",
    "    \n",
    "    ## Oversampling the minor class\n",
    "    \n",
    "    ovsample(X_train, y_train)\n",
    "    \n",
    "    # standardizing the data\n",
    "    \n",
    "    from sklearn.preprocessing import StandardScaler\n",
    "    sc = StandardScaler()\n",
    "    X_train = sc.fit_transform(X_train)\n",
    "    X_test = sc.transform(X_test)\n",
    "\n",
    "    classes = [1, 0]\n",
    "\n",
    "    from yellowbrick.classifier import ClassPredictionError\n",
    "    visualizer = ClassPredictionError(LGBMClassifier(random_state = 42), classes=classes)\n",
    "\n",
    "    # Fit the training data to the visualizer\n",
    "    visualizer.fit(X_train, y_train)\n",
    "\n",
    "    # Evaluate the model on the test data\n",
    "    visualizer.score(X_test, y_test)\n",
    "\n",
    "    # Draw visualization\n",
    "    visualizer.show()"
   ]
  },
  {
   "cell_type": "markdown",
   "metadata": {},
   "source": [
    "### We choose test_size  = 0.20"
   ]
  },
  {
   "cell_type": "code",
   "execution_count": 28,
   "metadata": {},
   "outputs": [
    {
     "name": "stdout",
     "output_type": "stream",
     "text": [
      "Recall Score: 0.9737\n",
      "Macro Average of Recall Score: 0.8553\n",
      "Weighted Average of Recall Score: 0.9145\n",
      "------------------------------------------------------\n",
      "Macro Average of Precision Score: 0.9103\n",
      "Weighted Average of Precision Score: 0.9138\n",
      "------------------------------------------------------\n",
      "Macro Average of F1 Score: 0.8781\n",
      "Weighted Average of F1 Score: 0.9114\n",
      "---------------------------------------------------------------\n"
     ]
    },
    {
     "data": {
      "image/png": "[encoded data removed]",
      "text/plain": [
       "<Figure size 432x288 with 2 Axes>"
      ]
     },
     "metadata": {},
     "output_type": "display_data"
    },
    {
     "name": "stdout",
     "output_type": "stream",
     "text": [
      "TP: 111, FP: 10, TN: 28, FN: 3\n",
      "---------------------------------------------------------------\n",
      "              precision    recall  f1-score   support\n",
      "\n",
      "           0      0.903     0.737     0.812        38\n",
      "           1      0.917     0.974     0.945       114\n",
      "\n",
      "    accuracy                          0.914       152\n",
      "   macro avg      0.910     0.855     0.878       152\n",
      "weighted avg      0.914     0.914     0.911       152\n",
      "\n"
     ]
    }
   ],
   "source": [
    "df = pd.read_csv('preprocessed_speech_features.csv')\n",
    "df = df. drop('Unnamed: 0', axis=1)\n",
    "df.columns = df.columns.str.lower()\n",
    "\n",
    "X = df.drop('class', axis = 1) \n",
    "y = df['class']\n",
    "\n",
    "X_train, X_test, y_train, y_test = train_test_split(X, y, test_size=0.20, random_state =0)\n",
    "\n",
    "ovsample(X_train, y_train)\n",
    "\n",
    "from sklearn.preprocessing import StandardScaler\n",
    "sc = StandardScaler()\n",
    "X_train = sc.fit_transform(X_train)\n",
    "X_test = sc.transform(X_test)\n",
    "\n",
    "model = LGBMClassifier(random_state = 42)\n",
    "model.fit(X_train, y_train)\n",
    "y_hat = model.predict(X_test)\n",
    "\n",
    "macro_weighted(y_test, y_hat)\n",
    "cm()\n",
    "class_rep()"
   ]
  }
 ],
 "metadata": {
  "kernelspec": {
   "display_name": "Python 3",
   "language": "python",
   "name": "python3"
  },
  "language_info": {
   "codemirror_mode": {
    "name": "ipython",
    "version": 3
   },
   "file_extension": ".py",
   "mimetype": "text/x-python",
   "name": "python",
   "nbconvert_exporter": "python",
   "pygments_lexer": "ipython3",
   "version": "3.7.6"
  }
 },
 "nbformat": 4,
 "nbformat_minor": 4
}
